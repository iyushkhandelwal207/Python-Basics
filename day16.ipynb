{
 "cells": [
  {
   "cell_type": "code",
   "execution_count": 1,
   "id": "59113450-cac3-4d8f-ba66-5ffae71f0f68",
   "metadata": {},
   "outputs": [],
   "source": [
    "# error handling"
   ]
  },
  {
   "cell_type": "code",
   "execution_count": 13,
   "id": "60f765f8-b3a0-42b6-8dc5-a5f8cebc054b",
   "metadata": {},
   "outputs": [
    {
     "name": "stdout",
     "output_type": "stream",
     "text": [
      "* \n",
      "* * \n",
      "* * * \n",
      "* * * * \n"
     ]
    }
   ],
   "source": [
    "for i in range(0,4):\n",
    "    for j in range(0,i+1):\n",
    "        print(\"*\",end=\" \")\n",
    "    print()"
   ]
  },
  {
   "cell_type": "code",
   "execution_count": 15,
   "id": "dc6d1905-95f0-44b1-a3c8-287306a2942e",
   "metadata": {},
   "outputs": [
    {
     "name": "stdout",
     "output_type": "stream",
     "text": [
      "* * * * \n",
      "* * * \n",
      "* * \n",
      "* \n"
     ]
    }
   ],
   "source": [
    "for i in range(0,4):\n",
    "    for j in range(i,4):\n",
    "        print(\"*\",end=\" \")\n",
    "    print()"
   ]
  },
  {
   "cell_type": "code",
   "execution_count": 19,
   "id": "a8e9397a-8b40-4bb9-9407-1e5a54cd019e",
   "metadata": {},
   "outputs": [
    {
     "name": "stdout",
     "output_type": "stream",
     "text": [
      "* * * * \n",
      "  * * * \n",
      "    * * \n",
      "      * \n"
     ]
    }
   ],
   "source": [
    "for i in range(0,4):\n",
    "    for j in range(0,i):\n",
    "        print(\" \",end=\" \")\n",
    "    for j in range(i,4):\n",
    "        print(\"*\",end=\" \")\n",
    "    print()"
   ]
  },
  {
   "cell_type": "code",
   "execution_count": 55,
   "id": "823d250a-3cf0-462c-b364-aea2024c0145",
   "metadata": {},
   "outputs": [
    {
     "name": "stdout",
     "output_type": "stream",
     "text": [
      "* \n",
      "* * \n",
      "* * * \n",
      "* * * * \n"
     ]
    }
   ],
   "source": [
    "for i in range(0,4):\n",
    "    # for j in range(,i):\n",
    "    #     print(\" \",end=\" \")\n",
    "    for j in range(4,i):\n",
    "        print(\" \",end=\" \")\n",
    "    for j in range(0,i+1):\n",
    "        print(\"*\",end=\" \")\n",
    "    print()"
   ]
  },
  {
   "cell_type": "code",
   "execution_count": 57,
   "id": "587970ec-4271-43a7-b584-3d7a5574e6b7",
   "metadata": {},
   "outputs": [
    {
     "name": "stdout",
     "output_type": "stream",
     "text": [
      "here is a error name 'sam' is not defined please resolve this error\n",
      "25\n"
     ]
    }
   ],
   "source": [
    "try:\n",
    "    name=\"sam\"\n",
    "    print(sam)\n",
    "except NameError as E:\n",
    "    print(\"here is a error\",E,\"please resolve this error\")\n",
    "\n",
    "a=10\n",
    "b=15\n",
    "print(a+b)"
   ]
  },
  {
   "cell_type": "code",
   "execution_count": 25,
   "id": "bdb41de8-2936-49e0-8000-a9c45fdd6169",
   "metadata": {},
   "outputs": [
    {
     "data": {
      "text/plain": [
       "0.6666666666666666"
      ]
     },
     "execution_count": 25,
     "metadata": {},
     "output_type": "execute_result"
    }
   ],
   "source": [
    "a/b"
   ]
  },
  {
   "cell_type": "code",
   "execution_count": 27,
   "id": "9063062c-312b-40d2-928c-edde8d1be7f6",
   "metadata": {},
   "outputs": [
    {
     "ename": "ZeroDivisionError",
     "evalue": "division by zero",
     "output_type": "error",
     "traceback": [
      "\u001b[1;31m---------------------------------------------------------------------------\u001b[0m",
      "\u001b[1;31mZeroDivisionError\u001b[0m                         Traceback (most recent call last)",
      "Cell \u001b[1;32mIn[27], line 1\u001b[0m\n\u001b[1;32m----> 1\u001b[0m \u001b[38;5;241m45\u001b[39m\u001b[38;5;241m/\u001b[39m\u001b[38;5;241m0\u001b[39m\n",
      "\u001b[1;31mZeroDivisionError\u001b[0m: division by zero"
     ]
    }
   ],
   "source": [
    "45/0"
   ]
  },
  {
   "cell_type": "code",
   "execution_count": 33,
   "id": "2b46ff89-1750-4d4d-b1e6-31b415576fb7",
   "metadata": {},
   "outputs": [
    {
     "name": "stdin",
     "output_type": "stream",
     "text": [
      "enter a value: 2474\n",
      "eter b value: 0\n"
     ]
    },
    {
     "name": "stdout",
     "output_type": "stream",
     "text": [
      "division by zero not allowed division by zero\n"
     ]
    }
   ],
   "source": [
    "try:\n",
    "    a=int(input(\"enter a value:\"))\n",
    "    b=int(input(\"eter b value:\"))\n",
    "    div=a/b\n",
    "    print(div)\n",
    "except ZeroDivisionError as E:\n",
    "    print(\"division by zero not allowed\" ,E)"
   ]
  },
  {
   "cell_type": "code",
   "execution_count": 59,
   "id": "025f7f06-474b-4d6a-83ef-c4d5bf762549",
   "metadata": {},
   "outputs": [
    {
     "data": {
      "text/plain": [
       "\u001b[1;31mInit signature:\u001b[0m \u001b[0mNameError\u001b[0m\u001b[1;33m(\u001b[0m\u001b[0mself\u001b[0m\u001b[1;33m,\u001b[0m \u001b[1;33m/\u001b[0m\u001b[1;33m,\u001b[0m \u001b[1;33m*\u001b[0m\u001b[0margs\u001b[0m\u001b[1;33m,\u001b[0m \u001b[1;33m**\u001b[0m\u001b[0mkwargs\u001b[0m\u001b[1;33m)\u001b[0m\u001b[1;33m\u001b[0m\u001b[1;33m\u001b[0m\u001b[0m\n",
       "\u001b[1;31mDocstring:\u001b[0m      Name not found globally.\n",
       "\u001b[1;31mType:\u001b[0m           type\n",
       "\u001b[1;31mSubclasses:\u001b[0m     UnboundLocalError, NumExprClobberingError, UndefinedVariableError"
      ]
     },
     "metadata": {},
     "output_type": "display_data"
    }
   ],
   "source": [
    "NameError?"
   ]
  },
  {
   "cell_type": "code",
   "execution_count": 61,
   "id": "6bfea3b8-96d3-4e57-b965-7ecdb26ea1de",
   "metadata": {},
   "outputs": [
    {
     "data": {
      "text/plain": [
       "\u001b[1;31mInit signature:\u001b[0m \u001b[0mZeroDivisionError\u001b[0m\u001b[1;33m(\u001b[0m\u001b[0mself\u001b[0m\u001b[1;33m,\u001b[0m \u001b[1;33m/\u001b[0m\u001b[1;33m,\u001b[0m \u001b[1;33m*\u001b[0m\u001b[0margs\u001b[0m\u001b[1;33m,\u001b[0m \u001b[1;33m**\u001b[0m\u001b[0mkwargs\u001b[0m\u001b[1;33m)\u001b[0m\u001b[1;33m\u001b[0m\u001b[1;33m\u001b[0m\u001b[0m\n",
       "\u001b[1;31mDocstring:\u001b[0m      Second argument to a division or modulo operation was zero.\n",
       "\u001b[1;31mType:\u001b[0m           type\n",
       "\u001b[1;31mSubclasses:\u001b[0m     DivisionByZero, DivisionUndefined"
      ]
     },
     "metadata": {},
     "output_type": "display_data"
    }
   ],
   "source": [
    "ZeroDivisionError?"
   ]
  },
  {
   "cell_type": "code",
   "execution_count": 63,
   "id": "d7c88c18-db4e-4414-aba1-4488f244d8b7",
   "metadata": {},
   "outputs": [
    {
     "ename": "NameError",
     "evalue": "name 'kshr' is not defined",
     "output_type": "error",
     "traceback": [
      "\u001b[1;31m---------------------------------------------------------------------------\u001b[0m",
      "\u001b[1;31mNameError\u001b[0m                                 Traceback (most recent call last)",
      "Cell \u001b[1;32mIn[63], line 1\u001b[0m\n\u001b[1;32m----> 1\u001b[0m kshr\n",
      "\u001b[1;31mNameError\u001b[0m: name 'kshr' is not defined"
     ]
    }
   ],
   "source": []
  },
  {
   "cell_type": "code",
   "execution_count": 69,
   "id": "56f7d164-da4c-4ca7-9f38-99c54ddf5fa4",
   "metadata": {},
   "outputs": [
    {
     "ename": "SyntaxError",
     "evalue": "invalid syntax (4244293289.py, line 7)",
     "output_type": "error",
     "traceback": [
      "\u001b[1;36m  Cell \u001b[1;32mIn[69], line 7\u001b[1;36m\u001b[0m\n\u001b[1;33m    ----------------------------\u001b[0m\n\u001b[1;37m                                ^\u001b[0m\n\u001b[1;31mSyntaxError\u001b[0m\u001b[1;31m:\u001b[0m invalid syntax\n"
     ]
    }
   ],
   "source": [
    "name=\"sam\"\n",
    "print(sam)\n",
    "a=10\n",
    "b=25\n",
    "add=a+b\n",
    "print(add,type(add))\n",
    "# ----------------------------\n",
    "try:\n",
    "    name=\"sam\"\n",
    "    print(sam)\n",
    "\n",
    "except NameError as E:\n",
    "    print(\"Here is an error\",E,\"Please resolve this error\")\n",
    "\n",
    "a=10\n",
    "b=45\n",
    "add=a+b\n",
    "print(add)\n",
    "# ------------------------------\n",
    "try:\n",
    "    a=int(input(\"Enter the value of a:\"))\n",
    "    b=int(input(\"Enter the value of b:\"))\n",
    "    div=a/b\n",
    "    print(div)\n",
    "\n",
    "except ZeroDivisionError as E:\n",
    "    print(\"Here is an error\",E,\"Please resolve this error\")\n",
    "    \n",
    "name=\"mukesh\"\n",
    "add=a+b\n",
    "print(add)\n",
    "print(name)\n",
    "# ------------------------------------\n",
    "try:\n",
    "    a=int(input(\"Enter the value of a:\"))\n",
    "    b=int(input(\"Enter the value of b:\"))\n",
    "    div=a/b\n",
    "    print(div)\n",
    "\n",
    "except ZeroDivisionError as E:\n",
    "    print(\"Here is an error\",E,\"Please resolve this error\")\n",
    "    \n",
    "name=\"mukesh\"\n",
    "add=a+b\n",
    "print(add)\n",
    "print(name)\n",
    "# --------------------------------\n",
    "try:\n",
    "    a=int(input(\"Enter the value of a:\"))\n",
    "    b=int(input(\"Enter the value of b:\"))\n",
    "    div=a/b\n",
    "    print(div)\n",
    "\n",
    "except NameError as E:\n",
    "    print(\"Here is an error\",E,\"Please resolve this error\")\n",
    "    \n",
    "name=\"mukesh\"\n",
    "add=a+b\n",
    "print(add)\n",
    "print(name)\n",
    "# ----------------------------------\n",
    "try:\n",
    "    a=int(input(\"Enter the value of a:\"))\n",
    "    b=int(input(\"Enter the value of b:\"))\n",
    "    div=a/b\n",
    "    print(div)\n",
    "\n",
    "except Exception as E:\n",
    "    print(\"Here is an error\",E,\"Please resolve this error\")\n",
    "    \n",
    "finally:\n",
    "    if Exception==Exception:\n",
    "        print(\"Thank u\")\n",
    "name=\"mukesh\"\n",
    "add=a+b\n",
    "print(add)\n",
    "print(name)\n",
    "# -----------------------------\n",
    "try:\n",
    "    name=\"sam\"\n",
    "    print(sam)\n",
    "\n",
    "except Exception as E:\n",
    "    print(\"Here is an error\",E,\"Please resolve this error\")\n",
    "\n",
    "a=10\n",
    "b=45\n",
    "add=a+b\n",
    "print(add)\n",
    "# ------------------------------\n",
    "# try:\n",
    "#     name=\"sam\n",
    "#     print(sam)\n",
    "\n",
    "# except Exception as E:\n",
    "#     print(\"Here is an error\",E,\"Please resolve this error\")\n",
    "\n",
    "# a=10\n",
    "# b=45\n",
    "# add=a+b\n",
    "# print(add)"
   ]
  },
  {
   "cell_type": "code",
   "execution_count": 71,
   "id": "588b4bb6-6a59-4325-ad84-109479092937",
   "metadata": {},
   "outputs": [
    {
     "name": "stdout",
     "output_type": "stream",
     "text": [
      "x x x x x x \n",
      "x x x x x x \n",
      "x x x x x x \n",
      "x x x x x x \n",
      "x x x x x x \n",
      "x x x x x x \n"
     ]
    }
   ],
   "source": [
    "for i in range(6):\n",
    "    for j in range(6):\n",
    "        print(\"x\",end=\" \")\n",
    "    print()"
   ]
  },
  {
   "cell_type": "code",
   "execution_count": 87,
   "id": "bae3781d-e5b5-48b9-9035-2624ca9360b1",
   "metadata": {},
   "outputs": [
    {
     "name": "stdout",
     "output_type": "stream",
     "text": [
      "  * * * *   \n",
      "*         * \n",
      "*         * \n",
      "* * * * * * \n",
      "*         * \n",
      "*         * \n"
     ]
    }
   ],
   "source": [
    "for i in range(6):\n",
    "    for j in range(6):\n",
    "        if ((j == 0 or j == 5) and i != 0) or (i == 0 and j > 0 and j < 5) or (i == 3 and j > 0 and j < 5):\n",
    "            print(\"*\", end=\" \")\n",
    "        else:\n",
    "            print(\" \", end=\" \")\n",
    "    print()\n"
   ]
  },
  {
   "cell_type": "code",
   "execution_count": null,
   "id": "ad97182d-e219-4bbc-b6c0-6b5097f18492",
   "metadata": {},
   "outputs": [],
   "source": []
  }
 ],
 "metadata": {
  "kernelspec": {
   "display_name": "Python [conda env:base] *",
   "language": "python",
   "name": "conda-base-py"
  },
  "language_info": {
   "codemirror_mode": {
    "name": "ipython",
    "version": 3
   },
   "file_extension": ".py",
   "mimetype": "text/x-python",
   "name": "python",
   "nbconvert_exporter": "python",
   "pygments_lexer": "ipython3",
   "version": "3.12.7"
  }
 },
 "nbformat": 4,
 "nbformat_minor": 5
}
