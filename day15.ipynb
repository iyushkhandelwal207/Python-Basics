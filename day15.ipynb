{
 "cells": [
  {
   "cell_type": "code",
   "execution_count": null,
   "id": "24f7df80-2c63-49e1-b0ab-827fc913fa65",
   "metadata": {},
   "outputs": [],
   "source": [
    "pip install os-sys"
   ]
  },
  {
   "cell_type": "code",
   "execution_count": 1,
   "id": "ac5a5c89-7f89-473b-8afe-2fc4e347aee0",
   "metadata": {},
   "outputs": [],
   "source": [
    "import os"
   ]
  },
  {
   "cell_type": "code",
   "execution_count": 3,
   "id": "bf5e62ef-9d84-4b9c-861b-4e783e40e15b",
   "metadata": {},
   "outputs": [
    {
     "data": {
      "text/plain": [
       "'C:\\\\Users\\\\piyus\\\\Summer_Internship_Zeetron'"
      ]
     },
     "execution_count": 3,
     "metadata": {},
     "output_type": "execute_result"
    }
   ],
   "source": [
    "os.getcwd()"
   ]
  },
  {
   "cell_type": "code",
   "execution_count": 7,
   "id": "dc800155-4699-4004-b2df-6bb939afcd5a",
   "metadata": {},
   "outputs": [],
   "source": [
    "os.chdir(\"C:\\\\Users\\\\piyus\\\\OneDrive\\\\Documents\\\\Desktop\")"
   ]
  },
  {
   "cell_type": "code",
   "execution_count": 9,
   "id": "44fb5e9e-a8e0-4253-958e-cec45242b1f3",
   "metadata": {},
   "outputs": [
    {
     "data": {
      "text/plain": [
       "'C:\\\\Users\\\\piyus\\\\OneDrive\\\\Documents\\\\Desktop'"
      ]
     },
     "execution_count": 9,
     "metadata": {},
     "output_type": "execute_result"
    }
   ],
   "source": [
    "os.getcwd()"
   ]
  },
  {
   "cell_type": "code",
   "execution_count": 11,
   "id": "993e12cf-9e7b-4c76-b640-db414db7f24a",
   "metadata": {},
   "outputs": [],
   "source": [
    "os.mkdir(r\"iyushss\")"
   ]
  },
  {
   "cell_type": "code",
   "execution_count": 17,
   "id": "21cc005f-dc9a-403f-a0fb-db895cf3a11f",
   "metadata": {},
   "outputs": [],
   "source": [
    "os.makedirs(r\"C:\\Users\\piyus\\OneDrive\\Documents\\Desktop\\iyushss\\lih\\st\")"
   ]
  },
  {
   "cell_type": "code",
   "execution_count": 21,
   "id": "127dc6e7-3304-405e-aacb-04b03b4b4a73",
   "metadata": {},
   "outputs": [],
   "source": [
    "os.rmdir(r\"C:\\Users\\piyus\\OneDrive\\Documents\\Desktop\\iyushss\\lih\")"
   ]
  },
  {
   "cell_type": "code",
   "execution_count": 23,
   "id": "0ad26f98-3315-4414-9845-650a5cdedd60",
   "metadata": {},
   "outputs": [
    {
     "data": {
      "text/plain": [
       "['Arduino IDE.lnk',\n",
       " 'Blender 4.3.lnk',\n",
       " 'certificates',\n",
       " 'Cisco Packet Tracer.lnk',\n",
       " 'desktop.ini',\n",
       " 'Docker Desktop.lnk',\n",
       " 'GitHub Desktop.lnk',\n",
       " 'iyushss',\n",
       " 'kali-linux-2024.3-virtualbox-amd64',\n",
       " 'Microsoft 365.lnk',\n",
       " 'MinGW Installer.lnk',\n",
       " 'MongoDBCompass.lnk',\n",
       " 'piyush.jpg',\n",
       " 'Postman.lnk',\n",
       " 'Visual Studio Code.lnk',\n",
       " 'Zoom Workplace.lnk']"
      ]
     },
     "execution_count": 23,
     "metadata": {},
     "output_type": "execute_result"
    }
   ],
   "source": [
    "os.listdir(r\"C:\\Users\\piyus\\OneDrive\\Documents\\Desktop\")"
   ]
  },
  {
   "cell_type": "code",
   "execution_count": 25,
   "id": "91997ea1-d789-4947-8ff9-3ad2b3e0e84d",
   "metadata": {},
   "outputs": [],
   "source": [
    "x=os.listdir(r\"C:\\Users\\piyus\\OneDrive\\Documents\\Desktop\")"
   ]
  },
  {
   "cell_type": "code",
   "execution_count": 33,
   "id": "23d791b1-eddd-4786-94fd-7f8a6ab6294b",
   "metadata": {},
   "outputs": [
    {
     "name": "stdout",
     "output_type": "stream",
     "text": [
      "['Arduino IDE.lnk', 'Blender 4.3.lnk', 'Cisco Packet Tracer.lnk', 'Docker Desktop.lnk', 'GitHub Desktop.lnk', 'Microsoft 365.lnk', 'MinGW Installer.lnk', 'MongoDBCompass.lnk', 'Postman.lnk', 'Visual Studio Code.lnk', 'Zoom Workplace.lnk']\n"
     ]
    }
   ],
   "source": [
    "lnk=[]\n",
    "file=[]\n",
    "for k in x:\n",
    "    if k.endswith(\".lnk\"):\n",
    "        lnk.append(k)\n",
    "    else:\n",
    "        file.append(k)\n",
    "print(lnk)"
   ]
  },
  {
   "cell_type": "code",
   "execution_count": 35,
   "id": "356ad319-d4f8-48d7-b368-774924fa28e4",
   "metadata": {},
   "outputs": [],
   "source": [
    "# you have normal file special file and directory check this "
   ]
  },
  {
   "cell_type": "code",
   "execution_count": 37,
   "id": "63611566-1801-45c2-b0f0-42c48ed9f70a",
   "metadata": {},
   "outputs": [],
   "source": [
    "path=r\"C:\\Users\\piyus\\OneDrive\\Documents\\Desktop\""
   ]
  },
  {
   "cell_type": "code",
   "execution_count": 39,
   "id": "5e2dd13b-87dd-4d49-9b5d-a05e75f285ae",
   "metadata": {},
   "outputs": [
    {
     "name": "stdout",
     "output_type": "stream",
     "text": [
      "it is a directory\n"
     ]
    }
   ],
   "source": [
    "if os.path.isdir(path):\n",
    "    print(\"it is a directory\")\n",
    "elif os.path.isfile(path):\n",
    "    print(\"it is a file\")\n",
    "else:\n",
    "    print(\"it is a special file\")"
   ]
  },
  {
   "cell_type": "code",
   "execution_count": 41,
   "id": "bf95d99d-8fe4-4fda-8f09-7a90c16a2988",
   "metadata": {},
   "outputs": [],
   "source": [
    "os.mkdir(r\"C:\\Users\\piyus\\OneDrive\\Documents\\Desktop\\reskhs\")"
   ]
  },
  {
   "cell_type": "code",
   "execution_count": 55,
   "id": "d6ea7651-e21c-4171-b169-d857fd7721fb",
   "metadata": {},
   "outputs": [],
   "source": [
    "path1=r\"C:\\Users\\piyus\\OneDrive\\Documents\\Desktop\\reskhs\""
   ]
  },
  {
   "cell_type": "code",
   "execution_count": 57,
   "id": "741ce653-883b-43e7-9c23-7c01a244b7e4",
   "metadata": {},
   "outputs": [],
   "source": [
    "list=[\"chetan\",\"naresh\",\"ojaswita\"]\n",
    "for k in list:\n",
    "   path= os.path.join(path1,k)\n",
    "   os.mkdir(path)"
   ]
  },
  {
   "cell_type": "code",
   "execution_count": 59,
   "id": "5f4b2812-e906-4e81-b964-83f6382f3b4d",
   "metadata": {},
   "outputs": [
    {
     "name": "stdin",
     "output_type": "stream",
     "text": [
      "enter the directory names: p k s\n"
     ]
    }
   ],
   "source": [
    "# list=[\"chetan\",\"naresh\",\"ojaswita\"]\n",
    "list=input(\"enter the directory names:\").split()\n",
    "for k in list:\n",
    "   path= os.path.join(path1,k)\n",
    "   os.mkdir(path)"
   ]
  },
  {
   "cell_type": "code",
   "execution_count": 61,
   "id": "1fb923ca-bb84-4bfb-86e5-1c4dda0d8147",
   "metadata": {},
   "outputs": [],
   "source": [
    "#html page ko read karna he\n",
    "#html page bnana hai\n",
    "#open cv"
   ]
  },
  {
   "cell_type": "code",
   "execution_count": 63,
   "id": "6792228b-4127-421f-b2f4-7c99ccdc0a1b",
   "metadata": {},
   "outputs": [
    {
     "ename": "ModuleNotFoundError",
     "evalue": "No module named 'opencv'",
     "output_type": "error",
     "traceback": [
      "\u001b[1;31m---------------------------------------------------------------------------\u001b[0m",
      "\u001b[1;31mModuleNotFoundError\u001b[0m                       Traceback (most recent call last)",
      "Cell \u001b[1;32mIn[63], line 1\u001b[0m\n\u001b[1;32m----> 1\u001b[0m \u001b[38;5;28;01mimport\u001b[39;00m \u001b[38;5;21;01mopencv\u001b[39;00m\n",
      "\u001b[1;31mModuleNotFoundError\u001b[0m: No module named 'opencv'"
     ]
    }
   ],
   "source": [
    "import opencv"
   ]
  },
  {
   "cell_type": "code",
   "execution_count": 65,
   "id": "3030f3fd-37f1-4ca1-99eb-46258b414808",
   "metadata": {},
   "outputs": [
    {
     "name": "stdout",
     "output_type": "stream",
     "text": [
      "Requirement already satisfied: opencv-python in c:\\users\\piyus\\anaconda3\\lib\\site-packages (4.11.0.86)\n",
      "Requirement already satisfied: numpy>=1.21.2 in c:\\users\\piyus\\anaconda3\\lib\\site-packages (from opencv-python) (1.26.4)\n",
      "Note: you may need to restart the kernel to use updated packages.\n"
     ]
    }
   ],
   "source": [
    "pip install opencv-python"
   ]
  },
  {
   "cell_type": "code",
   "execution_count": 2,
   "id": "bfcc7430-4093-47eb-8b56-c729595e1f68",
   "metadata": {},
   "outputs": [],
   "source": [
    "import cv2 as cv"
   ]
  },
  {
   "cell_type": "code",
   "execution_count": null,
   "id": "ff27d21d-b319-4fc7-b3c5-be2ccf47c804",
   "metadata": {},
   "outputs": [],
   "source": [
    "img=cv.imread(r\"C:\\Users\\piyus\\OneDrive\\Documents\\Desktop\\piyush.jpg\")\n",
    "cv.imshow(\"piyush\",img)\n",
    "\n",
    "cv.waitKey(0)"
   ]
  },
  {
   "cell_type": "code",
   "execution_count": null,
   "id": "b5ed513f-3999-4406-8ae7-cb969815577c",
   "metadata": {},
   "outputs": [],
   "source": [
    "print(\"hello\")"
   ]
  },
  {
   "cell_type": "code",
   "execution_count": null,
   "id": "ba6a7dba-54d7-4832-b97e-7ea33f80bce9",
   "metadata": {},
   "outputs": [],
   "source": [
    "import cv2 as cv\n",
    "\n",
    "img = cv.imread(r\"C:\\Users\\piyus\\OneDrive\\Documents\\Desktop\\piyush.jpg\")\n",
    "\n",
    "if img is None:\n",
    "    print(\"Image not found or path is incorrect\")\n",
    "else:\n",
    "    cv.imshow(\"piyush\", img)\n",
    "    cv.waitKey(0)\n",
    "    # cv.destroyAllWindows()\n"
   ]
  },
  {
   "cell_type": "code",
   "execution_count": null,
   "id": "b1a00c32-fba2-4ce1-91ac-4f771b48b643",
   "metadata": {},
   "outputs": [],
   "source": []
  },
  {
   "cell_type": "code",
   "execution_count": null,
   "id": "a9c0ac65-25da-4716-b8c6-47db23ff2c41",
   "metadata": {},
   "outputs": [],
   "source": []
  },
  {
   "cell_type": "code",
   "execution_count": null,
   "id": "5f8818cd-313e-4a48-97f1-75f5485110fc",
   "metadata": {},
   "outputs": [],
   "source": []
  },
  {
   "cell_type": "code",
   "execution_count": null,
   "id": "5c1cb525-8425-4379-be27-5208d10e9f60",
   "metadata": {},
   "outputs": [],
   "source": []
  },
  {
   "cell_type": "code",
   "execution_count": null,
   "id": "ce2489db-aa28-49d2-acae-31d534159172",
   "metadata": {},
   "outputs": [],
   "source": []
  },
  {
   "cell_type": "code",
   "execution_count": null,
   "id": "c8a03e32-2707-4806-8237-5f3708e33ddd",
   "metadata": {},
   "outputs": [],
   "source": []
  },
  {
   "cell_type": "code",
   "execution_count": null,
   "id": "8830c67c-93b7-4343-a3fd-66c1b375d01b",
   "metadata": {},
   "outputs": [],
   "source": []
  },
  {
   "cell_type": "code",
   "execution_count": null,
   "id": "ada85f37-0993-4c79-8a15-ca84e2ee7b6d",
   "metadata": {},
   "outputs": [],
   "source": []
  },
  {
   "cell_type": "code",
   "execution_count": null,
   "id": "5909a1df-be8f-4268-9f55-d6de4759e444",
   "metadata": {},
   "outputs": [],
   "source": []
  },
  {
   "cell_type": "code",
   "execution_count": null,
   "id": "77584f69-1867-41fa-8a0b-bb6e5e2d425c",
   "metadata": {},
   "outputs": [],
   "source": []
  },
  {
   "cell_type": "code",
   "execution_count": null,
   "id": "8a7407d1-8f32-4499-90cc-88ec32e0d1b8",
   "metadata": {},
   "outputs": [],
   "source": []
  },
  {
   "cell_type": "code",
   "execution_count": null,
   "id": "3252a477-63dc-4f1e-93b9-c89fcc0fb490",
   "metadata": {},
   "outputs": [],
   "source": []
  },
  {
   "cell_type": "code",
   "execution_count": null,
   "id": "f908d1d5-2556-43ec-a5e8-a463d8ca27a1",
   "metadata": {},
   "outputs": [],
   "source": []
  },
  {
   "cell_type": "code",
   "execution_count": null,
   "id": "bc34c224-a9f6-4a1d-a872-61372e86651a",
   "metadata": {},
   "outputs": [],
   "source": []
  }
 ],
 "metadata": {
  "kernelspec": {
   "display_name": "Python [conda env:base] *",
   "language": "python",
   "name": "conda-base-py"
  },
  "language_info": {
   "codemirror_mode": {
    "name": "ipython",
    "version": 3
   },
   "file_extension": ".py",
   "mimetype": "text/x-python",
   "name": "python",
   "nbconvert_exporter": "python",
   "pygments_lexer": "ipython3",
   "version": "3.12.7"
  }
 },
 "nbformat": 4,
 "nbformat_minor": 5
}
