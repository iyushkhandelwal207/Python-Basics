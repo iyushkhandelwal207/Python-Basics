{
 "cells": [
  {
   "cell_type": "code",
   "execution_count": 4,
   "id": "64bfc671-57d1-48b4-b009-28fa710c5ac5",
   "metadata": {},
   "outputs": [
    {
     "name": "stdin",
     "output_type": "stream",
     "text": [
      "Enter the names: mahesh rajesh ram geeta monika ajay rahul deepak saloni ramesh\n"
     ]
    },
    {
     "name": "stdout",
     "output_type": "stream",
     "text": [
      "<filter object at 0x000001249E496470>\n"
     ]
    }
   ],
   "source": [
    "def data(name):\n",
    "    namelist=[\"ram\",\"ajay\",\"saloni\",\"geeta\",\"monika\",\"rekha\",\"rahul\"]\n",
    "    if name in namelist:\n",
    "        return True\n",
    "    else:\n",
    "        return False\n",
    "\n",
    "sequence=input(\"Enter the names:\").split()\n",
    "filtered=filter(data,sequence)\n",
    "print(filtered)"
   ]
  },
  {
   "cell_type": "code",
   "execution_count": 2,
   "id": "0eaeb69f-076d-4ffe-8607-5337c286740e",
   "metadata": {},
   "outputs": [
    {
     "data": {
      "text/plain": [
       "['ram', 'geeta', 'monika', 'ajay', 'rahul', 'saloni']"
      ]
     },
     "execution_count": 2,
     "metadata": {},
     "output_type": "execute_result"
    }
   ],
   "source": [
    "list(filtered)"
   ]
  },
  {
   "cell_type": "code",
   "execution_count": 3,
   "id": "e10115aa-3330-4aa3-9e5a-edfa30d2aaa5",
   "metadata": {},
   "outputs": [],
   "source": [
    "for k in filtered:\n",
    "    print(k)"
   ]
  },
  {
   "cell_type": "code",
   "execution_count": 5,
   "id": "c0ca82d6-c6da-43b6-84dc-e04a05c939a7",
   "metadata": {},
   "outputs": [
    {
     "name": "stdout",
     "output_type": "stream",
     "text": [
      "ram\n",
      "geeta\n",
      "monika\n",
      "ajay\n",
      "rahul\n",
      "saloni\n"
     ]
    }
   ],
   "source": [
    "for k in filtered:\n",
    "    print(k)"
   ]
  },
  {
   "cell_type": "code",
   "execution_count": 6,
   "id": "fa1e373b-2d48-468a-ab00-23fb16d82eba",
   "metadata": {},
   "outputs": [
    {
     "name": "stdout",
     "output_type": "stream",
     "text": [
      "[12, 11, 23, 34, 45, 5, 6, 56, 78, 89, 90, 33, 44, 564, 76, 87, 9, 4, 3, 2, 5, 6, 8] <class 'list'>\n"
     ]
    }
   ],
   "source": [
    "l=[12,11,23,34,45,5,6,56,78,89,90,33,44,564,76,87,9,4,3,2,5,6,8]\n",
    "print(l,type(l))"
   ]
  },
  {
   "cell_type": "code",
   "execution_count": 7,
   "id": "e5288742-7d77-433d-aeb3-817a8807bec3",
   "metadata": {},
   "outputs": [
    {
     "name": "stdout",
     "output_type": "stream",
     "text": [
      "Even list are: [12, 34, 6, 56, 78, 90, 44, 564, 76, 4, 2, 6, 8]\n",
      "Odd list are: [11, 23, 45, 5, 89, 33, 87, 9, 3, 5]\n"
     ]
    }
   ],
   "source": [
    "even=filter(lambda no:no%2==0,l)\n",
    "print(\"Even list are:\",list(even))\n",
    "odd=filter(lambda no:no%2!=0,l)\n",
    "print(\"Odd list are:\",list(odd))"
   ]
  },
  {
   "cell_type": "code",
   "execution_count": 8,
   "id": "90106e48-ebd1-415b-bc36-6b44f8ecd257",
   "metadata": {},
   "outputs": [
    {
     "name": "stdout",
     "output_type": "stream",
     "text": [
      "Teenager are: [12, 11, 5, 6, 9, 4, 3, 2, 5, 6, 8]\n",
      "Younger are: [23]\n",
      "Elder are: [34, 45, 56, 78, 89, 90, 33, 44, 564, 76, 87]\n"
     ]
    }
   ],
   "source": [
    "teen=filter(lambda x:x<18,l)\n",
    "print(\"Teenager are:\",list(teen))\n",
    "youn=filter(lambda x:x>=18 and x<=30,l)\n",
    "print(\"Younger are:\",list(youn))\n",
    "elder=filter(lambda x:x>30,l)\n",
    "print(\"Elder are:\",list(elder))"
   ]
  },
  {
   "cell_type": "code",
   "execution_count": 10,
   "id": "825dd3da-da26-4621-8dbb-304af0c20dc0",
   "metadata": {},
   "outputs": [
    {
     "name": "stdin",
     "output_type": "stream",
     "text": [
      "Enter the names: Naresh Geetanjali Monu Alka Ojaswita Ravi Tara\n",
      "Enter the dob: 1947 1951 1975 1976 2000 2002 1980\n",
      "Enter the status: GrandFather GrandMother Father Mother Daughter Son Aunty\n",
      "Enter the address: Ganganagar Ganganagar Ajmer Ajmer Delhi Bikaner Bangalore\n"
     ]
    }
   ],
   "source": [
    "name=input(\"Enter the names:\").split()\n",
    "dob=list(map(int,input(\"Enter the dob:\").split()))\n",
    "status=input(\"Enter the status:\").split()\n",
    "address=input(\"Enter the address:\").split()"
   ]
  },
  {
   "cell_type": "code",
   "execution_count": 11,
   "id": "d8de6ba0-3486-41fe-a419-e7555e4ef6ed",
   "metadata": {},
   "outputs": [
    {
     "name": "stdout",
     "output_type": "stream",
     "text": [
      "         Name   Dob       Status     Address\n",
      "0      Naresh  1947  GrandFather  Ganganagar\n",
      "1  Geetanjali  1951  GrandMother  Ganganagar\n",
      "2        Monu  1975       Father       Ajmer\n",
      "3        Alka  1976       Mother       Ajmer\n",
      "4    Ojaswita  2000     Daughter       Delhi\n",
      "5        Ravi  2002          Son     Bikaner\n",
      "6        Tara  1980        Aunty   Bangalore <class 'pandas.core.frame.DataFrame'>\n"
     ]
    }
   ],
   "source": [
    "data={\"Name\":name,\"Dob\":dob,\"Status\":status,\"Address\":address}\n",
    "import pandas as pd\n",
    "df=pd.DataFrame(data)\n",
    "print(df,type(df))"
   ]
  },
  {
   "cell_type": "code",
   "execution_count": 12,
   "id": "7eaefbd9-7381-48ef-bfb7-727b85139d26",
   "metadata": {},
   "outputs": [
    {
     "data": {
      "text/html": [
       "<div>\n",
       "<style scoped>\n",
       "    .dataframe tbody tr th:only-of-type {\n",
       "        vertical-align: middle;\n",
       "    }\n",
       "\n",
       "    .dataframe tbody tr th {\n",
       "        vertical-align: top;\n",
       "    }\n",
       "\n",
       "    .dataframe thead th {\n",
       "        text-align: right;\n",
       "    }\n",
       "</style>\n",
       "<table border=\"1\" class=\"dataframe\">\n",
       "  <thead>\n",
       "    <tr style=\"text-align: right;\">\n",
       "      <th></th>\n",
       "      <th>Name</th>\n",
       "      <th>Dob</th>\n",
       "      <th>Status</th>\n",
       "      <th>Address</th>\n",
       "    </tr>\n",
       "  </thead>\n",
       "  <tbody>\n",
       "    <tr>\n",
       "      <th>0</th>\n",
       "      <td>Naresh</td>\n",
       "      <td>1947</td>\n",
       "      <td>GrandFather</td>\n",
       "      <td>Ganganagar</td>\n",
       "    </tr>\n",
       "    <tr>\n",
       "      <th>1</th>\n",
       "      <td>Geetanjali</td>\n",
       "      <td>1951</td>\n",
       "      <td>GrandMother</td>\n",
       "      <td>Ganganagar</td>\n",
       "    </tr>\n",
       "    <tr>\n",
       "      <th>2</th>\n",
       "      <td>Monu</td>\n",
       "      <td>1975</td>\n",
       "      <td>Father</td>\n",
       "      <td>Ajmer</td>\n",
       "    </tr>\n",
       "    <tr>\n",
       "      <th>3</th>\n",
       "      <td>Alka</td>\n",
       "      <td>1976</td>\n",
       "      <td>Mother</td>\n",
       "      <td>Ajmer</td>\n",
       "    </tr>\n",
       "    <tr>\n",
       "      <th>4</th>\n",
       "      <td>Ojaswita</td>\n",
       "      <td>2000</td>\n",
       "      <td>Daughter</td>\n",
       "      <td>Delhi</td>\n",
       "    </tr>\n",
       "    <tr>\n",
       "      <th>5</th>\n",
       "      <td>Ravi</td>\n",
       "      <td>2002</td>\n",
       "      <td>Son</td>\n",
       "      <td>Bikaner</td>\n",
       "    </tr>\n",
       "    <tr>\n",
       "      <th>6</th>\n",
       "      <td>Tara</td>\n",
       "      <td>1980</td>\n",
       "      <td>Aunty</td>\n",
       "      <td>Bangalore</td>\n",
       "    </tr>\n",
       "  </tbody>\n",
       "</table>\n",
       "</div>"
      ],
      "text/plain": [
       "         Name   Dob       Status     Address\n",
       "0      Naresh  1947  GrandFather  Ganganagar\n",
       "1  Geetanjali  1951  GrandMother  Ganganagar\n",
       "2        Monu  1975       Father       Ajmer\n",
       "3        Alka  1976       Mother       Ajmer\n",
       "4    Ojaswita  2000     Daughter       Delhi\n",
       "5        Ravi  2002          Son     Bikaner\n",
       "6        Tara  1980        Aunty   Bangalore"
      ]
     },
     "execution_count": 12,
     "metadata": {},
     "output_type": "execute_result"
    }
   ],
   "source": [
    "df"
   ]
  },
  {
   "cell_type": "code",
   "execution_count": null,
   "id": "c7b344f6-ebbe-4bf7-923e-17d962ff1482",
   "metadata": {},
   "outputs": [],
   "source": []
  },
  {
   "cell_type": "code",
   "execution_count": 13,
   "id": "dbb93c6f-f2f2-4ebd-a7a0-dbfb0a48a72b",
   "metadata": {},
   "outputs": [
    {
     "data": {
      "text/plain": [
       "0    1947\n",
       "1    1951\n",
       "2    1975\n",
       "3    1976\n",
       "4    2000\n",
       "5    2002\n",
       "6    1980\n",
       "Name: Dob, dtype: int64"
      ]
     },
     "execution_count": 13,
     "metadata": {},
     "output_type": "execute_result"
    }
   ],
   "source": [
    "df[\"Dob\"]"
   ]
  },
  {
   "cell_type": "code",
   "execution_count": 14,
   "id": "e1daf37f-a26b-460f-9910-b955e51505d7",
   "metadata": {},
   "outputs": [],
   "source": [
    "df[\"Age\"]=df[\"Dob\"].apply(lambda x:2025-x)"
   ]
  },
  {
   "cell_type": "code",
   "execution_count": 15,
   "id": "ceea0503-6068-44cd-999a-75b339364511",
   "metadata": {},
   "outputs": [
    {
     "data": {
      "text/html": [
       "<div>\n",
       "<style scoped>\n",
       "    .dataframe tbody tr th:only-of-type {\n",
       "        vertical-align: middle;\n",
       "    }\n",
       "\n",
       "    .dataframe tbody tr th {\n",
       "        vertical-align: top;\n",
       "    }\n",
       "\n",
       "    .dataframe thead th {\n",
       "        text-align: right;\n",
       "    }\n",
       "</style>\n",
       "<table border=\"1\" class=\"dataframe\">\n",
       "  <thead>\n",
       "    <tr style=\"text-align: right;\">\n",
       "      <th></th>\n",
       "      <th>Name</th>\n",
       "      <th>Dob</th>\n",
       "      <th>Status</th>\n",
       "      <th>Address</th>\n",
       "      <th>Age</th>\n",
       "    </tr>\n",
       "  </thead>\n",
       "  <tbody>\n",
       "    <tr>\n",
       "      <th>0</th>\n",
       "      <td>Naresh</td>\n",
       "      <td>1947</td>\n",
       "      <td>GrandFather</td>\n",
       "      <td>Ganganagar</td>\n",
       "      <td>78</td>\n",
       "    </tr>\n",
       "    <tr>\n",
       "      <th>1</th>\n",
       "      <td>Geetanjali</td>\n",
       "      <td>1951</td>\n",
       "      <td>GrandMother</td>\n",
       "      <td>Ganganagar</td>\n",
       "      <td>74</td>\n",
       "    </tr>\n",
       "    <tr>\n",
       "      <th>2</th>\n",
       "      <td>Monu</td>\n",
       "      <td>1975</td>\n",
       "      <td>Father</td>\n",
       "      <td>Ajmer</td>\n",
       "      <td>50</td>\n",
       "    </tr>\n",
       "    <tr>\n",
       "      <th>3</th>\n",
       "      <td>Alka</td>\n",
       "      <td>1976</td>\n",
       "      <td>Mother</td>\n",
       "      <td>Ajmer</td>\n",
       "      <td>49</td>\n",
       "    </tr>\n",
       "    <tr>\n",
       "      <th>4</th>\n",
       "      <td>Ojaswita</td>\n",
       "      <td>2000</td>\n",
       "      <td>Daughter</td>\n",
       "      <td>Delhi</td>\n",
       "      <td>25</td>\n",
       "    </tr>\n",
       "    <tr>\n",
       "      <th>5</th>\n",
       "      <td>Ravi</td>\n",
       "      <td>2002</td>\n",
       "      <td>Son</td>\n",
       "      <td>Bikaner</td>\n",
       "      <td>23</td>\n",
       "    </tr>\n",
       "    <tr>\n",
       "      <th>6</th>\n",
       "      <td>Tara</td>\n",
       "      <td>1980</td>\n",
       "      <td>Aunty</td>\n",
       "      <td>Bangalore</td>\n",
       "      <td>45</td>\n",
       "    </tr>\n",
       "  </tbody>\n",
       "</table>\n",
       "</div>"
      ],
      "text/plain": [
       "         Name   Dob       Status     Address  Age\n",
       "0      Naresh  1947  GrandFather  Ganganagar   78\n",
       "1  Geetanjali  1951  GrandMother  Ganganagar   74\n",
       "2        Monu  1975       Father       Ajmer   50\n",
       "3        Alka  1976       Mother       Ajmer   49\n",
       "4    Ojaswita  2000     Daughter       Delhi   25\n",
       "5        Ravi  2002          Son     Bikaner   23\n",
       "6        Tara  1980        Aunty   Bangalore   45"
      ]
     },
     "execution_count": 15,
     "metadata": {},
     "output_type": "execute_result"
    }
   ],
   "source": [
    "df"
   ]
  },
  {
   "cell_type": "code",
   "execution_count": 16,
   "id": "fb8b4aa4-74c3-4673-a0dd-5b2154d0ac61",
   "metadata": {},
   "outputs": [
    {
     "data": {
      "text/plain": [
       "0    GrandFather\n",
       "1    GrandMother\n",
       "2         Father\n",
       "3         Mother\n",
       "4       Daughter\n",
       "5            Son\n",
       "6          Aunty\n",
       "Name: Status, dtype: object"
      ]
     },
     "execution_count": 16,
     "metadata": {},
     "output_type": "execute_result"
    }
   ],
   "source": [
    "df[\"Status\"]"
   ]
  },
  {
   "cell_type": "code",
   "execution_count": 17,
   "id": "d9ffe561-1282-4c84-98b2-435fdec50694",
   "metadata": {},
   "outputs": [],
   "source": [
    "df[\"Gender\"]=df[\"Status\"].apply(lambda x:\"Male\" if x==\"GrandFather\" or x==\"Father\" or x==\"Son\" else \"Female\")"
   ]
  },
  {
   "cell_type": "code",
   "execution_count": 18,
   "id": "b3464b4b-d57d-4865-b09e-d4c6d5cb193a",
   "metadata": {},
   "outputs": [
    {
     "data": {
      "text/html": [
       "<div>\n",
       "<style scoped>\n",
       "    .dataframe tbody tr th:only-of-type {\n",
       "        vertical-align: middle;\n",
       "    }\n",
       "\n",
       "    .dataframe tbody tr th {\n",
       "        vertical-align: top;\n",
       "    }\n",
       "\n",
       "    .dataframe thead th {\n",
       "        text-align: right;\n",
       "    }\n",
       "</style>\n",
       "<table border=\"1\" class=\"dataframe\">\n",
       "  <thead>\n",
       "    <tr style=\"text-align: right;\">\n",
       "      <th></th>\n",
       "      <th>Name</th>\n",
       "      <th>Dob</th>\n",
       "      <th>Status</th>\n",
       "      <th>Address</th>\n",
       "      <th>Age</th>\n",
       "      <th>Gender</th>\n",
       "    </tr>\n",
       "  </thead>\n",
       "  <tbody>\n",
       "    <tr>\n",
       "      <th>0</th>\n",
       "      <td>Naresh</td>\n",
       "      <td>1947</td>\n",
       "      <td>GrandFather</td>\n",
       "      <td>Ganganagar</td>\n",
       "      <td>78</td>\n",
       "      <td>Male</td>\n",
       "    </tr>\n",
       "    <tr>\n",
       "      <th>1</th>\n",
       "      <td>Geetanjali</td>\n",
       "      <td>1951</td>\n",
       "      <td>GrandMother</td>\n",
       "      <td>Ganganagar</td>\n",
       "      <td>74</td>\n",
       "      <td>Female</td>\n",
       "    </tr>\n",
       "    <tr>\n",
       "      <th>2</th>\n",
       "      <td>Monu</td>\n",
       "      <td>1975</td>\n",
       "      <td>Father</td>\n",
       "      <td>Ajmer</td>\n",
       "      <td>50</td>\n",
       "      <td>Male</td>\n",
       "    </tr>\n",
       "    <tr>\n",
       "      <th>3</th>\n",
       "      <td>Alka</td>\n",
       "      <td>1976</td>\n",
       "      <td>Mother</td>\n",
       "      <td>Ajmer</td>\n",
       "      <td>49</td>\n",
       "      <td>Female</td>\n",
       "    </tr>\n",
       "    <tr>\n",
       "      <th>4</th>\n",
       "      <td>Ojaswita</td>\n",
       "      <td>2000</td>\n",
       "      <td>Daughter</td>\n",
       "      <td>Delhi</td>\n",
       "      <td>25</td>\n",
       "      <td>Female</td>\n",
       "    </tr>\n",
       "    <tr>\n",
       "      <th>5</th>\n",
       "      <td>Ravi</td>\n",
       "      <td>2002</td>\n",
       "      <td>Son</td>\n",
       "      <td>Bikaner</td>\n",
       "      <td>23</td>\n",
       "      <td>Male</td>\n",
       "    </tr>\n",
       "    <tr>\n",
       "      <th>6</th>\n",
       "      <td>Tara</td>\n",
       "      <td>1980</td>\n",
       "      <td>Aunty</td>\n",
       "      <td>Bangalore</td>\n",
       "      <td>45</td>\n",
       "      <td>Female</td>\n",
       "    </tr>\n",
       "  </tbody>\n",
       "</table>\n",
       "</div>"
      ],
      "text/plain": [
       "         Name   Dob       Status     Address  Age  Gender\n",
       "0      Naresh  1947  GrandFather  Ganganagar   78    Male\n",
       "1  Geetanjali  1951  GrandMother  Ganganagar   74  Female\n",
       "2        Monu  1975       Father       Ajmer   50    Male\n",
       "3        Alka  1976       Mother       Ajmer   49  Female\n",
       "4    Ojaswita  2000     Daughter       Delhi   25  Female\n",
       "5        Ravi  2002          Son     Bikaner   23    Male\n",
       "6        Tara  1980        Aunty   Bangalore   45  Female"
      ]
     },
     "execution_count": 18,
     "metadata": {},
     "output_type": "execute_result"
    }
   ],
   "source": [
    "df"
   ]
  },
  {
   "cell_type": "code",
   "execution_count": 19,
   "id": "20ca872d-462c-48d1-ad50-7d26ec09ff29",
   "metadata": {},
   "outputs": [],
   "source": [
    "df[\"Gender\"]=df[\"Status\"].apply(lambda x:\"Male\" if x in (\"GrandFather\",\"Father\",\"Son\") else \"Female\")"
   ]
  },
  {
   "cell_type": "code",
   "execution_count": null,
   "id": "4980aead-91af-448c-9de0-5c258170bbdc",
   "metadata": {},
   "outputs": [],
   "source": []
  },
  {
   "cell_type": "code",
   "execution_count": 20,
   "id": "744bbc7d-7955-4565-9a80-1ec4181a9f09",
   "metadata": {},
   "outputs": [
    {
     "data": {
      "text/html": [
       "<div>\n",
       "<style scoped>\n",
       "    .dataframe tbody tr th:only-of-type {\n",
       "        vertical-align: middle;\n",
       "    }\n",
       "\n",
       "    .dataframe tbody tr th {\n",
       "        vertical-align: top;\n",
       "    }\n",
       "\n",
       "    .dataframe thead th {\n",
       "        text-align: right;\n",
       "    }\n",
       "</style>\n",
       "<table border=\"1\" class=\"dataframe\">\n",
       "  <thead>\n",
       "    <tr style=\"text-align: right;\">\n",
       "      <th></th>\n",
       "      <th>Name</th>\n",
       "      <th>Dob</th>\n",
       "      <th>Status</th>\n",
       "      <th>Address</th>\n",
       "      <th>Age</th>\n",
       "      <th>Gender</th>\n",
       "    </tr>\n",
       "  </thead>\n",
       "  <tbody>\n",
       "    <tr>\n",
       "      <th>0</th>\n",
       "      <td>Naresh</td>\n",
       "      <td>1947</td>\n",
       "      <td>GrandFather</td>\n",
       "      <td>Ganganagar</td>\n",
       "      <td>78</td>\n",
       "      <td>Male</td>\n",
       "    </tr>\n",
       "    <tr>\n",
       "      <th>1</th>\n",
       "      <td>Geetanjali</td>\n",
       "      <td>1951</td>\n",
       "      <td>GrandMother</td>\n",
       "      <td>Ganganagar</td>\n",
       "      <td>74</td>\n",
       "      <td>Female</td>\n",
       "    </tr>\n",
       "    <tr>\n",
       "      <th>2</th>\n",
       "      <td>Monu</td>\n",
       "      <td>1975</td>\n",
       "      <td>Father</td>\n",
       "      <td>Ajmer</td>\n",
       "      <td>50</td>\n",
       "      <td>Male</td>\n",
       "    </tr>\n",
       "    <tr>\n",
       "      <th>3</th>\n",
       "      <td>Alka</td>\n",
       "      <td>1976</td>\n",
       "      <td>Mother</td>\n",
       "      <td>Ajmer</td>\n",
       "      <td>49</td>\n",
       "      <td>Female</td>\n",
       "    </tr>\n",
       "    <tr>\n",
       "      <th>4</th>\n",
       "      <td>Ojaswita</td>\n",
       "      <td>2000</td>\n",
       "      <td>Daughter</td>\n",
       "      <td>Delhi</td>\n",
       "      <td>25</td>\n",
       "      <td>Female</td>\n",
       "    </tr>\n",
       "    <tr>\n",
       "      <th>5</th>\n",
       "      <td>Ravi</td>\n",
       "      <td>2002</td>\n",
       "      <td>Son</td>\n",
       "      <td>Bikaner</td>\n",
       "      <td>23</td>\n",
       "      <td>Male</td>\n",
       "    </tr>\n",
       "    <tr>\n",
       "      <th>6</th>\n",
       "      <td>Tara</td>\n",
       "      <td>1980</td>\n",
       "      <td>Aunty</td>\n",
       "      <td>Bangalore</td>\n",
       "      <td>45</td>\n",
       "      <td>Female</td>\n",
       "    </tr>\n",
       "  </tbody>\n",
       "</table>\n",
       "</div>"
      ],
      "text/plain": [
       "         Name   Dob       Status     Address  Age  Gender\n",
       "0      Naresh  1947  GrandFather  Ganganagar   78    Male\n",
       "1  Geetanjali  1951  GrandMother  Ganganagar   74  Female\n",
       "2        Monu  1975       Father       Ajmer   50    Male\n",
       "3        Alka  1976       Mother       Ajmer   49  Female\n",
       "4    Ojaswita  2000     Daughter       Delhi   25  Female\n",
       "5        Ravi  2002          Son     Bikaner   23    Male\n",
       "6        Tara  1980        Aunty   Bangalore   45  Female"
      ]
     },
     "execution_count": 20,
     "metadata": {},
     "output_type": "execute_result"
    }
   ],
   "source": [
    "df"
   ]
  },
  {
   "cell_type": "code",
   "execution_count": 24,
   "id": "6aa2fd8c-27d2-48d4-a7c3-f2fb49656444",
   "metadata": {},
   "outputs": [],
   "source": [
    "df[\"State\"]=df[\"Address\"].map(lambda x:\"Outofrajasthan\" if x in (\"Delhi\",\"Bangalore\") else \"Rajasthan\")"
   ]
  },
  {
   "cell_type": "code",
   "execution_count": 25,
   "id": "0b827fab-4624-4beb-915d-f35c1b215546",
   "metadata": {},
   "outputs": [
    {
     "data": {
      "text/html": [
       "<div>\n",
       "<style scoped>\n",
       "    .dataframe tbody tr th:only-of-type {\n",
       "        vertical-align: middle;\n",
       "    }\n",
       "\n",
       "    .dataframe tbody tr th {\n",
       "        vertical-align: top;\n",
       "    }\n",
       "\n",
       "    .dataframe thead th {\n",
       "        text-align: right;\n",
       "    }\n",
       "</style>\n",
       "<table border=\"1\" class=\"dataframe\">\n",
       "  <thead>\n",
       "    <tr style=\"text-align: right;\">\n",
       "      <th></th>\n",
       "      <th>Name</th>\n",
       "      <th>Dob</th>\n",
       "      <th>Status</th>\n",
       "      <th>Address</th>\n",
       "      <th>Age</th>\n",
       "      <th>Gender</th>\n",
       "      <th>State</th>\n",
       "    </tr>\n",
       "  </thead>\n",
       "  <tbody>\n",
       "    <tr>\n",
       "      <th>0</th>\n",
       "      <td>Naresh</td>\n",
       "      <td>1947</td>\n",
       "      <td>GrandFather</td>\n",
       "      <td>Ganganagar</td>\n",
       "      <td>78</td>\n",
       "      <td>Male</td>\n",
       "      <td>Rajasthan</td>\n",
       "    </tr>\n",
       "    <tr>\n",
       "      <th>1</th>\n",
       "      <td>Geetanjali</td>\n",
       "      <td>1951</td>\n",
       "      <td>GrandMother</td>\n",
       "      <td>Ganganagar</td>\n",
       "      <td>74</td>\n",
       "      <td>Female</td>\n",
       "      <td>Rajasthan</td>\n",
       "    </tr>\n",
       "    <tr>\n",
       "      <th>2</th>\n",
       "      <td>Monu</td>\n",
       "      <td>1975</td>\n",
       "      <td>Father</td>\n",
       "      <td>Ajmer</td>\n",
       "      <td>50</td>\n",
       "      <td>Male</td>\n",
       "      <td>Rajasthan</td>\n",
       "    </tr>\n",
       "    <tr>\n",
       "      <th>3</th>\n",
       "      <td>Alka</td>\n",
       "      <td>1976</td>\n",
       "      <td>Mother</td>\n",
       "      <td>Ajmer</td>\n",
       "      <td>49</td>\n",
       "      <td>Female</td>\n",
       "      <td>Rajasthan</td>\n",
       "    </tr>\n",
       "    <tr>\n",
       "      <th>4</th>\n",
       "      <td>Ojaswita</td>\n",
       "      <td>2000</td>\n",
       "      <td>Daughter</td>\n",
       "      <td>Delhi</td>\n",
       "      <td>25</td>\n",
       "      <td>Female</td>\n",
       "      <td>Outofrajasthan</td>\n",
       "    </tr>\n",
       "    <tr>\n",
       "      <th>5</th>\n",
       "      <td>Ravi</td>\n",
       "      <td>2002</td>\n",
       "      <td>Son</td>\n",
       "      <td>Bikaner</td>\n",
       "      <td>23</td>\n",
       "      <td>Male</td>\n",
       "      <td>Rajasthan</td>\n",
       "    </tr>\n",
       "    <tr>\n",
       "      <th>6</th>\n",
       "      <td>Tara</td>\n",
       "      <td>1980</td>\n",
       "      <td>Aunty</td>\n",
       "      <td>Bangalore</td>\n",
       "      <td>45</td>\n",
       "      <td>Female</td>\n",
       "      <td>Outofrajasthan</td>\n",
       "    </tr>\n",
       "  </tbody>\n",
       "</table>\n",
       "</div>"
      ],
      "text/plain": [
       "         Name   Dob       Status     Address  Age  Gender           State\n",
       "0      Naresh  1947  GrandFather  Ganganagar   78    Male       Rajasthan\n",
       "1  Geetanjali  1951  GrandMother  Ganganagar   74  Female       Rajasthan\n",
       "2        Monu  1975       Father       Ajmer   50    Male       Rajasthan\n",
       "3        Alka  1976       Mother       Ajmer   49  Female       Rajasthan\n",
       "4    Ojaswita  2000     Daughter       Delhi   25  Female  Outofrajasthan\n",
       "5        Ravi  2002          Son     Bikaner   23    Male       Rajasthan\n",
       "6        Tara  1980        Aunty   Bangalore   45  Female  Outofrajasthan"
      ]
     },
     "execution_count": 25,
     "metadata": {},
     "output_type": "execute_result"
    }
   ],
   "source": [
    "df"
   ]
  },
  {
   "cell_type": "code",
   "execution_count": 31,
   "id": "cb11e263-3f5d-4a6f-8c34-3d2e71db5df2",
   "metadata": {},
   "outputs": [],
   "source": [
    "per=lambda obt_marks=67,total_marks=100:print(round((obt_marks/total_marks)*100),\"%\")"
   ]
  },
  {
   "cell_type": "code",
   "execution_count": 33,
   "id": "281d4d47-9952-4755-a435-4a34f189d4ea",
   "metadata": {},
   "outputs": [
    {
     "name": "stdout",
     "output_type": "stream",
     "text": [
      "67 %\n"
     ]
    }
   ],
   "source": [
    "per()"
   ]
  },
  {
   "cell_type": "code",
   "execution_count": null,
   "id": "6cfa0008-bc28-42e6-b945-ab95346d0a9d",
   "metadata": {},
   "outputs": [],
   "source": []
  }
 ],
 "metadata": {
  "kernelspec": {
   "display_name": "Python [conda env:base] *",
   "language": "python",
   "name": "conda-base-py"
  },
  "language_info": {
   "codemirror_mode": {
    "name": "ipython",
    "version": 3
   },
   "file_extension": ".py",
   "mimetype": "text/x-python",
   "name": "python",
   "nbconvert_exporter": "python",
   "pygments_lexer": "ipython3",
   "version": "3.12.7"
  }
 },
 "nbformat": 4,
 "nbformat_minor": 5
}
