{
 "cells": [
  {
   "cell_type": "code",
   "execution_count": 1,
   "id": "ce8f8c2c-85f9-474d-a335-12049a9fc941",
   "metadata": {},
   "outputs": [],
   "source": [
    "#patterns"
   ]
  },
  {
   "cell_type": "code",
   "execution_count": 7,
   "id": "d97dfad5-6dd5-4df6-8ef7-090cc8d43776",
   "metadata": {},
   "outputs": [
    {
     "name": "stdout",
     "output_type": "stream",
     "text": [
      "* * * * * * \n",
      "* * * * * * \n",
      "* * * * * * \n",
      "* * * * * * \n",
      "* * * * * * \n",
      "* * * * * * \n"
     ]
    }
   ],
   "source": [
    "for row in range(6):\n",
    "    for col in range(6):\n",
    "        print(\"*\",end=\" \")\n",
    "    print()"
   ]
  },
  {
   "cell_type": "code",
   "execution_count": 13,
   "id": "8ee25390-014c-46dc-b3e2-39a7059752bb",
   "metadata": {},
   "outputs": [
    {
     "name": "stdout",
     "output_type": "stream",
     "text": [
      "  * * * *   \n",
      "*         * \n",
      "*         * \n",
      "* * * * * * \n",
      "*         * \n",
      "*         * \n"
     ]
    }
   ],
   "source": [
    "for row in range(6):\n",
    "    for col in range(6):\n",
    "        if((col==0 or col==5) and row!=0) or ((row==0 or row==3) and(col>0 and col<5)):\n",
    "            print(\"*\",end=\" \")\n",
    "        else:\n",
    "            print(\" \",end=\" \")\n",
    "    print()"
   ]
  },
  {
   "cell_type": "code",
   "execution_count": 27,
   "id": "8992e37c-2b29-416e-b3a9-00a0ede59cf1",
   "metadata": {},
   "outputs": [
    {
     "name": "stdout",
     "output_type": "stream",
     "text": [
      "* * * * * *   \n",
      "*         *   \n",
      "*         *   \n",
      "* * * * * *   \n",
      "*         *   \n",
      "*         *   \n",
      "* * * * * *   \n"
     ]
    }
   ],
   "source": [
    "for row in range(7):\n",
    "    for col in range(7):\n",
    "        if((col==0 or col==5) and (row!=0 or row !=6)) or ((row==0 or row==3 or row==6) and(col>0 and col<5)):\n",
    "            print(\"*\",end=\" \")\n",
    "        else:\n",
    "            print(\" \",end=\" \")\n",
    "    print()"
   ]
  },
  {
   "cell_type": "code",
   "execution_count": 35,
   "id": "06ea2388-cb22-4cc0-8a1c-d4166bc06f2e",
   "metadata": {},
   "outputs": [
    {
     "name": "stdout",
     "output_type": "stream",
     "text": [
      "  * * * *     \n",
      "*             \n",
      "*             \n",
      "*             \n",
      "*             \n",
      "*             \n",
      "  * * * *     \n"
     ]
    }
   ],
   "source": [
    "for row in range(7):\n",
    "    for col in range(7):\n",
    "        if((col==0 ) and (row!=0 and row !=6)) or ((row==0 or row==6) and(col>0 and col<5)):\n",
    "            print(\"*\",end=\" \")\n",
    "        else:\n",
    "            print(\" \",end=\" \")\n",
    "    print()"
   ]
  },
  {
   "cell_type": "code",
   "execution_count": 43,
   "id": "355c5916-cdb5-4213-9cae-2e456b22a526",
   "metadata": {},
   "outputs": [
    {
     "name": "stdout",
     "output_type": "stream",
     "text": [
      "  * * * *     \n",
      "*         *   \n",
      "*         *   \n",
      "*         *   \n",
      "*         *   \n",
      "*         *   \n",
      "  * * * *     \n"
     ]
    }
   ],
   "source": [
    "for row in range(7):\n",
    "    for col in range(7):\n",
    "        if((col==0 or col==5) and (row!=0 and row !=6)) or ((row==0  or row==6) and(col>0 and col<5)):\n",
    "            print(\"*\",end=\" \")\n",
    "        else:\n",
    "            print(\" \",end=\" \")\n",
    "    print()"
   ]
  },
  {
   "cell_type": "code",
   "execution_count": 49,
   "id": "e8dc60d4-a4e2-4e30-bdb5-00d60360a8a2",
   "metadata": {},
   "outputs": [
    {
     "name": "stdout",
     "output_type": "stream",
     "text": [
      "* * * * *     \n",
      "*             \n",
      "*             \n",
      "* * * * *     \n",
      "*             \n",
      "*             \n",
      "* * * * *     \n"
     ]
    }
   ],
   "source": [
    "for row in range(7):\n",
    "    for col in range(7):\n",
    "        if((col==0 ))  or ((row==0 or row==3 or row==6) and(col>0 and col<5)):\n",
    "            print(\"*\",end=\" \")\n",
    "        else:\n",
    "            print(\" \",end=\" \")\n",
    "    print()"
   ]
  },
  {
   "cell_type": "code",
   "execution_count": 51,
   "id": "770580b6-e8e8-4245-9eb9-4a8ea0c817de",
   "metadata": {},
   "outputs": [
    {
     "name": "stdout",
     "output_type": "stream",
     "text": [
      "* * * * *     \n",
      "*             \n",
      "*             \n",
      "* * * * *     \n",
      "*             \n",
      "*             \n",
      "*             \n"
     ]
    }
   ],
   "source": [
    "for row in range(7):\n",
    "    for col in range(7):\n",
    "        if((col==0 ))  or ((row==0 or row==3 ) and(col>0 and col<5)):\n",
    "            print(\"*\",end=\" \")\n",
    "        else:\n",
    "            print(\" \",end=\" \")\n",
    "    print()"
   ]
  },
  {
   "cell_type": "code",
   "execution_count": 101,
   "id": "94996b14-52c8-4a7d-b539-c0c3a3855eb5",
   "metadata": {
    "scrolled": true
   },
   "outputs": [
    {
     "name": "stdout",
     "output_type": "stream",
     "text": [
      "  * * * * *   \n",
      "*             \n",
      "*             \n",
      "*     * * * * \n",
      "*           * \n",
      "*           * \n",
      "  * * * * *   \n"
     ]
    }
   ],
   "source": [
    "for row in range(7):\n",
    "    for col in range(7):\n",
    "        if (row == 0 and col > 0 and col < 6) or  (row == 6 and col > 0 and col < 6) or (col == 0 and row > 0 and row < 6) or (row == 3 and col >= 3) or  (col == 6 and row >= 3 and row < 6):\n",
    "            print(\"*\", end=\" \")\n",
    "        else:\n",
    "            print(\" \", end=\" \")\n",
    "    print()\n"
   ]
  },
  {
   "cell_type": "code",
   "execution_count": 109,
   "id": "fe0e6a8e-d5a1-412e-a8f0-d3276b65d7a7",
   "metadata": {},
   "outputs": [
    {
     "name": "stdout",
     "output_type": "stream",
     "text": [
      "*           * \n",
      "*           * \n",
      "*           * \n",
      "* * * * * * * \n",
      "*           * \n",
      "*           * \n",
      "*           * \n"
     ]
    }
   ],
   "source": [
    "for row in range(7):\n",
    "    for col in range(7):\n",
    "        if(col==0 or col==6) or (row==3):\n",
    "            print(\"*\",end=\" \")\n",
    "        else:\n",
    "            print(\" \",end=\" \")\n",
    "    print()"
   ]
  },
  {
   "cell_type": "code",
   "execution_count": 115,
   "id": "e569795d-e202-4593-bce1-b0306e5888c6",
   "metadata": {},
   "outputs": [
    {
     "name": "stdout",
     "output_type": "stream",
     "text": [
      "* * * * * * * \n",
      "      *       \n",
      "      *       \n",
      "      *       \n",
      "      *       \n",
      "      *       \n",
      "* * * * * * * \n"
     ]
    }
   ],
   "source": [
    "for row in range(7):\n",
    "    for col in range(7):\n",
    "        if(row==0 or row==6 or col==3):\n",
    "            print(\"*\",end=\" \")\n",
    "        else:\n",
    "            print(\" \",end=\" \")\n",
    "    print()"
   ]
  },
  {
   "cell_type": "code",
   "execution_count": 133,
   "id": "a203c757-850c-453d-909e-dd8c1770f9c0",
   "metadata": {},
   "outputs": [
    {
     "name": "stdout",
     "output_type": "stream",
     "text": [
      "  * * * * *   \n",
      "      *       \n",
      "      *       \n",
      "      *       \n",
      "      *       \n",
      "*     *       \n",
      "* * *         \n"
     ]
    }
   ],
   "source": [
    "for row in range(7):\n",
    "    for col in range(7):\n",
    "        if (row == 0 and col > 0 and col < 6) or (col == 3 and row < 6) or (row == 6 and col > 0 and col < 3) or (col == 0 and row > 4):\n",
    "            print(\"*\", end=\" \")\n",
    "        else:\n",
    "            print(\" \", end=\" \")\n",
    "    print()"
   ]
  },
  {
   "cell_type": "code",
   "execution_count": 159,
   "id": "de7e89cf-2076-4f98-8a7d-eca6af5afcfe",
   "metadata": {},
   "outputs": [
    {
     "name": "stdout",
     "output_type": "stream",
     "text": [
      "*     *       \n",
      "*   *         \n",
      "* *           \n",
      "*             \n",
      "* *           \n",
      "*   *         \n",
      "*     *       \n"
     ]
    }
   ],
   "source": [
    "for row in range(7):\n",
    "    for col in range(7):\n",
    "        if col == 0 or row + col == 3 or row - col == 3:\n",
    "            print(\"*\", end=\" \")\n",
    "        else:\n",
    "            print(\" \", end=\" \")\n",
    "    print()\n"
   ]
  },
  {
   "cell_type": "code",
   "execution_count": 177,
   "id": "157a0dd2-6508-43d7-bc2f-4fe1c59d4275",
   "metadata": {},
   "outputs": [
    {
     "name": "stdout",
     "output_type": "stream",
     "text": [
      "*             \n",
      "*             \n",
      "*             \n",
      "*             \n",
      "*             \n",
      "*             \n",
      "* * * * * * * \n"
     ]
    }
   ],
   "source": [
    "for row in range(7):\n",
    "    for col in range(7):\n",
    "        if ((col==0 or row==6)):\n",
    "            print(\"*\", end=\" \")\n",
    "        else:\n",
    "            print(\" \", end=\" \")\n",
    "    print()\n"
   ]
  },
  {
   "cell_type": "code",
   "execution_count": 189,
   "id": "fc97f5b0-7e66-4a6a-acf2-da38bfa7a27a",
   "metadata": {},
   "outputs": [
    {
     "name": "stdout",
     "output_type": "stream",
     "text": [
      "*           * \n",
      "* *       * * \n",
      "*   *   *   * \n",
      "*     *     * \n",
      "*           * \n",
      "*           * \n",
      "*           * \n"
     ]
    }
   ],
   "source": [
    "for row in range(7):\n",
    "    for col in range(7):\n",
    "        if col == 0 or col == 6 or (row == col and col <= 3) or (row + col == 6 and col >= 3):\n",
    "            print(\"*\", end=\" \")\n",
    "        else:\n",
    "            print(\" \", end=\" \")\n",
    "    print()\n"
   ]
  },
  {
   "cell_type": "code",
   "execution_count": 193,
   "id": "212e6027-430f-4e07-804f-a54e170738b7",
   "metadata": {},
   "outputs": [
    {
     "name": "stdout",
     "output_type": "stream",
     "text": [
      "*           * \n",
      "* *         * \n",
      "*   *       * \n",
      "*     *     * \n",
      "*       *   * \n",
      "*         * * \n",
      "*           * \n"
     ]
    }
   ],
   "source": [
    "for row in range(7):\n",
    "    for col in range(7):\n",
    "        if col == 0 or col == 6 or row == col:\n",
    "            print(\"*\", end=\" \")\n",
    "        else:\n",
    "            print(\" \", end=\" \")\n",
    "    print()\n"
   ]
  },
  {
   "cell_type": "code",
   "execution_count": 217,
   "id": "1c4c2afb-131a-4a9c-bb1d-12f93612972f",
   "metadata": {},
   "outputs": [
    {
     "name": "stdout",
     "output_type": "stream",
     "text": [
      "  * * * * *   \n",
      "*           * \n",
      "*           * \n",
      "*           * \n",
      "*           * \n",
      "*           * \n",
      "  * * * * *   \n"
     ]
    }
   ],
   "source": [
    "for row in range(7):\n",
    "    for col in range(7):\n",
    "        if((row==0 or row==6 ) and (col !=0 and col!=6)) or ( col==0 or col==6 ) and ( row!=0 and row !=6 ):\n",
    "            print(\"*\",end=\" \")\n",
    "        else:\n",
    "            print(\" \", end=\" \")\n",
    "    print()\n"
   ]
  },
  {
   "cell_type": "code",
   "execution_count": 261,
   "id": "c0d88d6f-5407-4019-9b4c-2ceb2e6855d6",
   "metadata": {},
   "outputs": [
    {
     "name": "stdout",
     "output_type": "stream",
     "text": [
      "  * * * * *   \n",
      "*           * \n",
      "*           * \n",
      "* * * * * * * \n",
      "*             \n",
      "*             \n",
      "*             \n"
     ]
    }
   ],
   "source": [
    "for row in range(7):\n",
    "    for col in range(7):\n",
    "        if col == 0 and row!=0 or   (row==0 and col<6 and col>0) or (col==6 and row>0 and row<4) or (row==3 and col!=6):\n",
    "            print(\"*\", end=\" \")\n",
    "        else:\n",
    "            print(\" \", end=\" \")\n",
    "    print()\n"
   ]
  },
  {
   "cell_type": "code",
   "execution_count": 253,
   "id": "c487adc2-e2ac-447f-9c68-d36dd99da6b5",
   "metadata": {},
   "outputs": [
    {
     "name": "stdout",
     "output_type": "stream",
     "text": [
      "  * * * * *   \n",
      "*           * \n",
      "*           * \n",
      "* * * * * * * \n",
      "            * \n",
      "            * \n",
      "            * \n"
     ]
    }
   ],
   "source": [
    "for row in range(7):\n",
    "    for col in range(7):\n",
    "        if col==6 and row!=0 or ( row ==0 and col>0 and col<6) or (col==0 and row>0 and row<4) or ( row==3):\n",
    "            print(\"*\",end=\" \")\n",
    "        else:\n",
    "            print(\" \",end=\" \")\n",
    "    print()"
   ]
  },
  {
   "cell_type": "code",
   "execution_count": null,
   "id": "3ae38847-0a5e-4590-a323-059e3db01eef",
   "metadata": {},
   "outputs": [],
   "source": []
  },
  {
   "cell_type": "code",
   "execution_count": null,
   "id": "4a6d3e35-5af6-46cd-a1e8-1357fcdcabff",
   "metadata": {},
   "outputs": [],
   "source": []
  },
  {
   "cell_type": "code",
   "execution_count": 265,
   "id": "8b82984c-1ccf-4c62-8969-303444d1641b",
   "metadata": {},
   "outputs": [],
   "source": [
    "## OOPs in Python"
   ]
  },
  {
   "cell_type": "code",
   "execution_count": 267,
   "id": "842b744f-b5d4-40af-9d06-8fd365fc2c7e",
   "metadata": {},
   "outputs": [],
   "source": [
    "class car:\n",
    "    pass"
   ]
  },
  {
   "cell_type": "code",
   "execution_count": 269,
   "id": "e91aabc7-7837-420d-9a88-ab3b7a991c17",
   "metadata": {},
   "outputs": [],
   "source": [
    "obj=car()"
   ]
  },
  {
   "cell_type": "code",
   "execution_count": 271,
   "id": "09dbc53c-f426-48f1-9262-4f0fcaa4ec15",
   "metadata": {},
   "outputs": [],
   "source": [
    "class info:\n",
    "    a=10\n",
    "    b=20\n",
    "    "
   ]
  },
  {
   "cell_type": "code",
   "execution_count": 275,
   "id": "f8cfc2db-9e2f-4d6f-bc05-f454b0dc0c9b",
   "metadata": {},
   "outputs": [
    {
     "name": "stdout",
     "output_type": "stream",
     "text": [
      "10\n",
      "20\n"
     ]
    }
   ],
   "source": [
    "obj=info()\n",
    "print(obj.a)\n",
    "print(obj.b)"
   ]
  },
  {
   "cell_type": "code",
   "execution_count": 277,
   "id": "7ee4a75d-eddf-4b69-9a3c-7ca4b4ced803",
   "metadata": {},
   "outputs": [],
   "source": [
    "class info:\n",
    "    a=10\n",
    "    b=20\n",
    "    def add():\n",
    "        add=a+b\n",
    "        print(add)"
   ]
  },
  {
   "cell_type": "code",
   "execution_count": 300,
   "id": "05ee9782-675a-40cc-8231-f8c4550da7a1",
   "metadata": {},
   "outputs": [],
   "source": [
    "obj=info()"
   ]
  },
  {
   "cell_type": "code",
   "execution_count": 302,
   "id": "5ad8cb78-085d-45e6-a5c6-a75677e3f6c4",
   "metadata": {},
   "outputs": [
    {
     "data": {
      "text/plain": [
       "10"
      ]
     },
     "execution_count": 302,
     "metadata": {},
     "output_type": "execute_result"
    }
   ],
   "source": [
    "obj.a"
   ]
  },
  {
   "cell_type": "code",
   "execution_count": 304,
   "id": "d7ab28ad-61e9-42ee-9fba-f90fdad307e3",
   "metadata": {},
   "outputs": [
    {
     "data": {
      "text/plain": [
       "20"
      ]
     },
     "execution_count": 304,
     "metadata": {},
     "output_type": "execute_result"
    }
   ],
   "source": [
    "obj.b"
   ]
  },
  {
   "cell_type": "code",
   "execution_count": 326,
   "id": "4d5937c3-9770-4ec6-afcb-1510564c5b14",
   "metadata": {},
   "outputs": [],
   "source": [
    "class info:\n",
    "    a=10\n",
    "    b=20\n",
    "    def add(self):\n",
    "        add=self.a+self.b\n",
    "        return (add)\n",
    "    def sub(self,c=45,d=6.1):\n",
    "        sub=c-d\n",
    "        return sub"
   ]
  },
  {
   "cell_type": "code",
   "execution_count": 328,
   "id": "6b70177b-0f6d-43f8-8b90-97c47561290a",
   "metadata": {},
   "outputs": [
    {
     "data": {
      "text/plain": [
       "30"
      ]
     },
     "execution_count": 328,
     "metadata": {},
     "output_type": "execute_result"
    }
   ],
   "source": [
    "obj.add()"
   ]
  },
  {
   "cell_type": "code",
   "execution_count": 330,
   "id": "8f8895f3-9e95-4d64-aee7-bc4a75bdbc71",
   "metadata": {},
   "outputs": [
    {
     "ename": "AttributeError",
     "evalue": "'info' object has no attribute 'sub'",
     "output_type": "error",
     "traceback": [
      "\u001b[1;31m---------------------------------------------------------------------------\u001b[0m",
      "\u001b[1;31mAttributeError\u001b[0m                            Traceback (most recent call last)",
      "Cell \u001b[1;32mIn[330], line 1\u001b[0m\n\u001b[1;32m----> 1\u001b[0m obj\u001b[38;5;241m.\u001b[39msub()\n",
      "\u001b[1;31mAttributeError\u001b[0m: 'info' object has no attribute 'sub'"
     ]
    }
   ],
   "source": [
    "obj.sub()"
   ]
  },
  {
   "cell_type": "code",
   "execution_count": null,
   "id": "966f0ad0-a097-4716-bc41-177bb832c53d",
   "metadata": {},
   "outputs": [],
   "source": []
  },
  {
   "cell_type": "code",
   "execution_count": 340,
   "id": "6058d5f5-39b7-4ac5-9d2f-67acffaff661",
   "metadata": {},
   "outputs": [],
   "source": [
    "class a:\n",
    "    def add(self,a=10,b=45):\n",
    "        print(a+b)\n",
    "class b(a):\n",
    "    def add(self,a=10,b=46):\n",
    "        print(a+b)"
   ]
  },
  {
   "cell_type": "code",
   "execution_count": 342,
   "id": "7786d72d-c10b-4bc1-b620-8dddf02bef7c",
   "metadata": {},
   "outputs": [],
   "source": [
    "obj=b()"
   ]
  },
  {
   "cell_type": "code",
   "execution_count": 338,
   "id": "27cf6714-1d15-4862-a3a2-6b15cb639c89",
   "metadata": {},
   "outputs": [
    {
     "name": "stdout",
     "output_type": "stream",
     "text": [
      "56\n"
     ]
    }
   ],
   "source": [
    "obj.add()"
   ]
  },
  {
   "cell_type": "code",
   "execution_count": null,
   "id": "f2253b6f-49f6-4934-9812-8616a3c83b87",
   "metadata": {},
   "outputs": [],
   "source": []
  }
 ],
 "metadata": {
  "kernelspec": {
   "display_name": "Python [conda env:base] *",
   "language": "python",
   "name": "conda-base-py"
  },
  "language_info": {
   "codemirror_mode": {
    "name": "ipython",
    "version": 3
   },
   "file_extension": ".py",
   "mimetype": "text/x-python",
   "name": "python",
   "nbconvert_exporter": "python",
   "pygments_lexer": "ipython3",
   "version": "3.12.7"
  }
 },
 "nbformat": 4,
 "nbformat_minor": 5
}
