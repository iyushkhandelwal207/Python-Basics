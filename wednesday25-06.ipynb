{
 "cells": [
  {
   "cell_type": "code",
   "execution_count": 1,
   "id": "62193b2a-c6be-4b5d-abce-f17ea19f3561",
   "metadata": {},
   "outputs": [
    {
     "name": "stdout",
     "output_type": "stream",
     "text": [
      "{34, 67, (7+10j), 8.9, 56, 'ajay', 'ram'} <class 'set'>\n"
     ]
    }
   ],
   "source": [
    "s={34,56,67,34,56,\"ram\",\"ajay\",8.9,7+10j}\n",
    "print(s,type(s))"
   ]
  },
  {
   "cell_type": "code",
   "execution_count": 3,
   "id": "45a33c2d-9a98-45d4-9adb-3fb192acc9ed",
   "metadata": {},
   "outputs": [
    {
     "ename": "TypeError",
     "evalue": "'set' object is not subscriptable",
     "output_type": "error",
     "traceback": [
      "\u001b[1;31m---------------------------------------------------------------------------\u001b[0m",
      "\u001b[1;31mTypeError\u001b[0m                                 Traceback (most recent call last)",
      "Cell \u001b[1;32mIn[3], line 1\u001b[0m\n\u001b[1;32m----> 1\u001b[0m s[\u001b[38;5;241m2\u001b[39m]\n",
      "\u001b[1;31mTypeError\u001b[0m: 'set' object is not subscriptable"
     ]
    }
   ],
   "source": [
    "s[2]"
   ]
  },
  {
   "cell_type": "code",
   "execution_count": 5,
   "id": "2fe4dc00-dcb9-4fbd-8ac8-85ed003f6991",
   "metadata": {},
   "outputs": [
    {
     "data": {
      "text/plain": [
       "{(7+10j), 34, 56, 67, 8.9, 'ajay', 'ram'}"
      ]
     },
     "execution_count": 5,
     "metadata": {},
     "output_type": "execute_result"
    }
   ],
   "source": [
    "s"
   ]
  },
  {
   "cell_type": "code",
   "execution_count": 7,
   "id": "f5568628-e370-45d0-980c-a4f44fed539d",
   "metadata": {},
   "outputs": [
    {
     "name": "stdout",
     "output_type": "stream",
     "text": [
      "34\n",
      "67\n",
      "(7+10j)\n",
      "8.9\n",
      "56\n",
      "ajay\n",
      "ram\n"
     ]
    }
   ],
   "source": [
    "for k in s:\n",
    "    print(k)"
   ]
  },
  {
   "cell_type": "code",
   "execution_count": 5,
   "id": "d6872b1f-1a54-464c-8577-b9d42ab6450a",
   "metadata": {},
   "outputs": [
    {
     "name": "stdout",
     "output_type": "stream",
     "text": [
      "0\n",
      "1\n",
      "2\n",
      "3\n",
      "4\n",
      "5\n",
      "6\n"
     ]
    }
   ],
   "source": [
    "for k in range(len(s)):\n",
    "    print(k)"
   ]
  },
  {
   "cell_type": "code",
   "execution_count": 6,
   "id": "8efdb737-0c0f-47dd-a204-14f8f64879b7",
   "metadata": {},
   "outputs": [
    {
     "ename": "TypeError",
     "evalue": "'set' object is not subscriptable",
     "output_type": "error",
     "traceback": [
      "\u001b[1;31m---------------------------------------------------------------------------\u001b[0m",
      "\u001b[1;31mTypeError\u001b[0m                                 Traceback (most recent call last)",
      "Cell \u001b[1;32mIn[6], line 2\u001b[0m\n\u001b[0;32m      1\u001b[0m \u001b[38;5;28;01mfor\u001b[39;00m k \u001b[38;5;129;01min\u001b[39;00m \u001b[38;5;28mrange\u001b[39m(\u001b[38;5;28mlen\u001b[39m(s)):\n\u001b[1;32m----> 2\u001b[0m     \u001b[38;5;28mprint\u001b[39m(\u001b[43ms\u001b[49m\u001b[43m[\u001b[49m\u001b[43mk\u001b[49m\u001b[43m]\u001b[49m)\n",
      "\u001b[1;31mTypeError\u001b[0m: 'set' object is not subscriptable"
     ]
    }
   ],
   "source": [
    "for k in range(len(s)):\n",
    "    print(s[k])"
   ]
  },
  {
   "cell_type": "code",
   "execution_count": 17,
   "id": "77b61a24-082f-4d9d-81e4-ed561c127e8e",
   "metadata": {},
   "outputs": [
    {
     "data": {
      "text/plain": [
       "False"
      ]
     },
     "execution_count": 17,
     "metadata": {},
     "output_type": "execute_result"
    }
   ],
   "source": [
    "s1={78,89,67}\n",
    "s2={89,78,22}\n",
    "s1>s2"
   ]
  },
  {
   "cell_type": "code",
   "execution_count": 9,
   "id": "b894900a-5e88-4cc2-8913-19b40ad3aac2",
   "metadata": {},
   "outputs": [
    {
     "data": {
      "text/plain": [
       "{67, 78, 89}"
      ]
     },
     "execution_count": 9,
     "metadata": {},
     "output_type": "execute_result"
    }
   ],
   "source": [
    "s1"
   ]
  },
  {
   "cell_type": "code",
   "execution_count": 10,
   "id": "c5b5abec-70fc-4764-9f08-74a7493f6b6f",
   "metadata": {},
   "outputs": [
    {
     "data": {
      "text/plain": [
       "2339809742400"
      ]
     },
     "execution_count": 10,
     "metadata": {},
     "output_type": "execute_result"
    }
   ],
   "source": [
    "id(s1)"
   ]
  },
  {
   "cell_type": "code",
   "execution_count": 11,
   "id": "f7833787-581c-4500-835c-1a7992ea9cf4",
   "metadata": {},
   "outputs": [
    {
     "ename": "TypeError",
     "evalue": "unsupported operand type(s) for +: 'set' and 'set'",
     "output_type": "error",
     "traceback": [
      "\u001b[1;31m---------------------------------------------------------------------------\u001b[0m",
      "\u001b[1;31mTypeError\u001b[0m                                 Traceback (most recent call last)",
      "Cell \u001b[1;32mIn[11], line 1\u001b[0m\n\u001b[1;32m----> 1\u001b[0m \u001b[43ms1\u001b[49m\u001b[38;5;241;43m+\u001b[39;49m\u001b[43m{\u001b[49m\u001b[38;5;241;43m34\u001b[39;49m\u001b[43m}\u001b[49m\n",
      "\u001b[1;31mTypeError\u001b[0m: unsupported operand type(s) for +: 'set' and 'set'"
     ]
    }
   ],
   "source": [
    "s1+{34}"
   ]
  },
  {
   "cell_type": "code",
   "execution_count": 12,
   "id": "2eca9f39-ab01-495e-8142-6b2ea316a34a",
   "metadata": {},
   "outputs": [
    {
     "data": {
      "text/plain": [
       "{(7+10j), 34, 56, 67, 8.9, 'ajay', 'ram'}"
      ]
     },
     "execution_count": 12,
     "metadata": {},
     "output_type": "execute_result"
    }
   ],
   "source": [
    "s"
   ]
  },
  {
   "cell_type": "code",
   "execution_count": 13,
   "id": "eb39652d-80b9-4018-8a3e-453bd5eb297d",
   "metadata": {},
   "outputs": [
    {
     "data": {
      "text/plain": [
       "7"
      ]
     },
     "execution_count": 13,
     "metadata": {},
     "output_type": "execute_result"
    }
   ],
   "source": [
    "len(s)"
   ]
  },
  {
   "cell_type": "code",
   "execution_count": 14,
   "id": "fa00dd10-6eb2-4e7c-a0ef-db48f139542a",
   "metadata": {},
   "outputs": [
    {
     "ename": "AttributeError",
     "evalue": "'set' object has no attribute 'index'",
     "output_type": "error",
     "traceback": [
      "\u001b[1;31m---------------------------------------------------------------------------\u001b[0m",
      "\u001b[1;31mAttributeError\u001b[0m                            Traceback (most recent call last)",
      "Cell \u001b[1;32mIn[14], line 1\u001b[0m\n\u001b[1;32m----> 1\u001b[0m \u001b[43ms\u001b[49m\u001b[38;5;241;43m.\u001b[39;49m\u001b[43mindex\u001b[49m(\u001b[38;5;241m34\u001b[39m)\n",
      "\u001b[1;31mAttributeError\u001b[0m: 'set' object has no attribute 'index'"
     ]
    }
   ],
   "source": [
    "s.index(34)"
   ]
  },
  {
   "cell_type": "code",
   "execution_count": 15,
   "id": "bc9dd725-fd7c-4634-9af0-07f0fe43d8e9",
   "metadata": {},
   "outputs": [
    {
     "data": {
      "text/plain": [
       "2339803506368"
      ]
     },
     "execution_count": 15,
     "metadata": {},
     "output_type": "execute_result"
    }
   ],
   "source": [
    "id(s)"
   ]
  },
  {
   "cell_type": "code",
   "execution_count": 16,
   "id": "e3204cf1-f0e0-4e4a-ad10-dce41e6cd1f4",
   "metadata": {},
   "outputs": [
    {
     "data": {
      "text/plain": [
       "'ram'"
      ]
     },
     "execution_count": 16,
     "metadata": {},
     "output_type": "execute_result"
    }
   ],
   "source": [
    "s.pop()"
   ]
  },
  {
   "cell_type": "code",
   "execution_count": 17,
   "id": "4dd5669e-cb49-46b0-b92a-7847574bce25",
   "metadata": {},
   "outputs": [
    {
     "data": {
      "text/plain": [
       "{(7+10j), 34, 56, 67, 8.9, 'ajay'}"
      ]
     },
     "execution_count": 17,
     "metadata": {},
     "output_type": "execute_result"
    }
   ],
   "source": [
    "s"
   ]
  },
  {
   "cell_type": "code",
   "execution_count": 18,
   "id": "c3a278a4-9335-4a9f-892c-24825e1f8ce3",
   "metadata": {},
   "outputs": [
    {
     "ename": "TypeError",
     "evalue": "set.pop() takes no arguments (1 given)",
     "output_type": "error",
     "traceback": [
      "\u001b[1;31m---------------------------------------------------------------------------\u001b[0m",
      "\u001b[1;31mTypeError\u001b[0m                                 Traceback (most recent call last)",
      "Cell \u001b[1;32mIn[18], line 1\u001b[0m\n\u001b[1;32m----> 1\u001b[0m \u001b[43ms\u001b[49m\u001b[38;5;241;43m.\u001b[39;49m\u001b[43mpop\u001b[49m\u001b[43m(\u001b[49m\u001b[38;5;241;43m2\u001b[39;49m\u001b[43m)\u001b[49m\n",
      "\u001b[1;31mTypeError\u001b[0m: set.pop() takes no arguments (1 given)"
     ]
    }
   ],
   "source": [
    "s.pop(2)"
   ]
  },
  {
   "cell_type": "code",
   "execution_count": 19,
   "id": "f0d0885a-134a-40f1-9e9f-8c78aada1218",
   "metadata": {},
   "outputs": [
    {
     "data": {
      "text/plain": [
       "2339803506368"
      ]
     },
     "execution_count": 19,
     "metadata": {},
     "output_type": "execute_result"
    }
   ],
   "source": [
    "id(s)"
   ]
  },
  {
   "cell_type": "code",
   "execution_count": 20,
   "id": "78f88d10-db36-441f-a050-50399ab8eb5a",
   "metadata": {},
   "outputs": [],
   "source": [
    "s.remove(8.9)"
   ]
  },
  {
   "cell_type": "code",
   "execution_count": 21,
   "id": "77405188-a924-43ca-94fe-f5926e82cd4c",
   "metadata": {},
   "outputs": [
    {
     "data": {
      "text/plain": [
       "{(7+10j), 34, 56, 67, 'ajay'}"
      ]
     },
     "execution_count": 21,
     "metadata": {},
     "output_type": "execute_result"
    }
   ],
   "source": [
    "s"
   ]
  },
  {
   "cell_type": "code",
   "execution_count": 22,
   "id": "476b27ea-4597-47d1-b605-f62045972099",
   "metadata": {},
   "outputs": [
    {
     "data": {
      "text/plain": [
       "2339803506368"
      ]
     },
     "execution_count": 22,
     "metadata": {},
     "output_type": "execute_result"
    }
   ],
   "source": [
    "id(s)"
   ]
  },
  {
   "cell_type": "code",
   "execution_count": 23,
   "id": "86bebd2b-552b-463c-9dbe-43b72c273956",
   "metadata": {},
   "outputs": [],
   "source": [
    "s.discard(67)"
   ]
  },
  {
   "cell_type": "code",
   "execution_count": 24,
   "id": "7a36964b-c733-4ffa-b95c-e0e4ab9c4521",
   "metadata": {},
   "outputs": [
    {
     "data": {
      "text/plain": [
       "{(7+10j), 34, 56, 'ajay'}"
      ]
     },
     "execution_count": 24,
     "metadata": {},
     "output_type": "execute_result"
    }
   ],
   "source": [
    "s"
   ]
  },
  {
   "cell_type": "code",
   "execution_count": 25,
   "id": "b3bf7e35-b7fe-4cf9-aa1c-143f96bcdefe",
   "metadata": {},
   "outputs": [
    {
     "data": {
      "text/plain": [
       "2339803506368"
      ]
     },
     "execution_count": 25,
     "metadata": {},
     "output_type": "execute_result"
    }
   ],
   "source": [
    "id(s)"
   ]
  },
  {
   "cell_type": "code",
   "execution_count": 26,
   "id": "af1f347e-ff12-4fa7-9fd8-a1281b4bb2e6",
   "metadata": {},
   "outputs": [
    {
     "ename": "KeyError",
     "evalue": "500",
     "output_type": "error",
     "traceback": [
      "\u001b[1;31m---------------------------------------------------------------------------\u001b[0m",
      "\u001b[1;31mKeyError\u001b[0m                                  Traceback (most recent call last)",
      "Cell \u001b[1;32mIn[26], line 1\u001b[0m\n\u001b[1;32m----> 1\u001b[0m \u001b[43ms\u001b[49m\u001b[38;5;241;43m.\u001b[39;49m\u001b[43mremove\u001b[49m\u001b[43m(\u001b[49m\u001b[38;5;241;43m500\u001b[39;49m\u001b[43m)\u001b[49m\n",
      "\u001b[1;31mKeyError\u001b[0m: 500"
     ]
    }
   ],
   "source": [
    "s.remove(500)"
   ]
  },
  {
   "cell_type": "code",
   "execution_count": 27,
   "id": "828e8f31-5219-4a92-98b6-32802ca3c339",
   "metadata": {},
   "outputs": [],
   "source": [
    "s.discard(500)"
   ]
  },
  {
   "cell_type": "code",
   "execution_count": 28,
   "id": "7b4ff196-1705-4dc7-b02f-d8f67e5d486f",
   "metadata": {},
   "outputs": [
    {
     "data": {
      "text/plain": [
       "{(7+10j), 34, 56, 'ajay'}"
      ]
     },
     "execution_count": 28,
     "metadata": {},
     "output_type": "execute_result"
    }
   ],
   "source": [
    "s"
   ]
  },
  {
   "cell_type": "code",
   "execution_count": 29,
   "id": "1ee10ecb-dfd1-4a42-a353-564d7c10b3fc",
   "metadata": {},
   "outputs": [
    {
     "data": {
      "text/plain": [
       "2339803506368"
      ]
     },
     "execution_count": 29,
     "metadata": {},
     "output_type": "execute_result"
    }
   ],
   "source": [
    "id(s)"
   ]
  },
  {
   "cell_type": "code",
   "execution_count": 30,
   "id": "a832e37a-a3fe-49a2-a945-2508f1be8e72",
   "metadata": {},
   "outputs": [],
   "source": [
    "s.add(890)"
   ]
  },
  {
   "cell_type": "code",
   "execution_count": 31,
   "id": "0604e0c4-8fbf-4c35-9dcf-2167492e9242",
   "metadata": {},
   "outputs": [
    {
     "data": {
      "text/plain": [
       "{(7+10j), 34, 56, 890, 'ajay'}"
      ]
     },
     "execution_count": 31,
     "metadata": {},
     "output_type": "execute_result"
    }
   ],
   "source": [
    "s"
   ]
  },
  {
   "cell_type": "code",
   "execution_count": 32,
   "id": "2421215b-757d-463e-8cee-cac1d9c7bd41",
   "metadata": {},
   "outputs": [
    {
     "data": {
      "text/plain": [
       "2339803506368"
      ]
     },
     "execution_count": 32,
     "metadata": {},
     "output_type": "execute_result"
    }
   ],
   "source": [
    "id(s)"
   ]
  },
  {
   "cell_type": "code",
   "execution_count": 33,
   "id": "92c78b11-3f50-49f9-a9a6-fe99a83d9fa4",
   "metadata": {},
   "outputs": [],
   "source": [
    "s.add(34)"
   ]
  },
  {
   "cell_type": "code",
   "execution_count": 34,
   "id": "6a819b38-277e-47b9-84c7-68623190ac91",
   "metadata": {},
   "outputs": [
    {
     "data": {
      "text/plain": [
       "{(7+10j), 34, 56, 890, 'ajay'}"
      ]
     },
     "execution_count": 34,
     "metadata": {},
     "output_type": "execute_result"
    }
   ],
   "source": [
    "s"
   ]
  },
  {
   "cell_type": "code",
   "execution_count": 35,
   "id": "062946a1-800f-413c-bd7a-14bb10aea206",
   "metadata": {},
   "outputs": [
    {
     "data": {
      "text/plain": [
       "2339803506368"
      ]
     },
     "execution_count": 35,
     "metadata": {},
     "output_type": "execute_result"
    }
   ],
   "source": [
    "id(s)"
   ]
  },
  {
   "cell_type": "code",
   "execution_count": 36,
   "id": "37e5e39c-19c4-4df4-ac89-43da7a221ed1",
   "metadata": {},
   "outputs": [
    {
     "ename": "TypeError",
     "evalue": "set.add() takes exactly one argument (5 given)",
     "output_type": "error",
     "traceback": [
      "\u001b[1;31m---------------------------------------------------------------------------\u001b[0m",
      "\u001b[1;31mTypeError\u001b[0m                                 Traceback (most recent call last)",
      "Cell \u001b[1;32mIn[36], line 1\u001b[0m\n\u001b[1;32m----> 1\u001b[0m \u001b[43ms\u001b[49m\u001b[38;5;241;43m.\u001b[39;49m\u001b[43madd\u001b[49m\u001b[43m(\u001b[49m\u001b[38;5;241;43m78\u001b[39;49m\u001b[43m,\u001b[49m\u001b[38;5;241;43m56\u001b[39;49m\u001b[43m,\u001b[49m\u001b[38;5;241;43m1\u001b[39;49m\u001b[43m,\u001b[49m\u001b[38;5;241;43m2\u001b[39;49m\u001b[43m,\u001b[49m\u001b[38;5;241;43m3\u001b[39;49m\u001b[43m)\u001b[49m\n",
      "\u001b[1;31mTypeError\u001b[0m: set.add() takes exactly one argument (5 given)"
     ]
    }
   ],
   "source": [
    "s.add(78,56,1,2,3)"
   ]
  },
  {
   "cell_type": "code",
   "execution_count": 37,
   "id": "12d95db4-b78f-4320-ac06-336be510e1ab",
   "metadata": {},
   "outputs": [
    {
     "ename": "TypeError",
     "evalue": "unhashable type: 'set'",
     "output_type": "error",
     "traceback": [
      "\u001b[1;31m---------------------------------------------------------------------------\u001b[0m",
      "\u001b[1;31mTypeError\u001b[0m                                 Traceback (most recent call last)",
      "Cell \u001b[1;32mIn[37], line 1\u001b[0m\n\u001b[1;32m----> 1\u001b[0m \u001b[43ms\u001b[49m\u001b[38;5;241;43m.\u001b[39;49m\u001b[43madd\u001b[49m\u001b[43m(\u001b[49m\u001b[43m{\u001b[49m\u001b[38;5;241;43m78\u001b[39;49m\u001b[43m,\u001b[49m\u001b[38;5;241;43m56\u001b[39;49m\u001b[43m,\u001b[49m\u001b[38;5;241;43m1\u001b[39;49m\u001b[43m,\u001b[49m\u001b[38;5;241;43m2\u001b[39;49m\u001b[43m,\u001b[49m\u001b[38;5;241;43m3\u001b[39;49m\u001b[43m}\u001b[49m\u001b[43m)\u001b[49m\n",
      "\u001b[1;31mTypeError\u001b[0m: unhashable type: 'set'"
     ]
    }
   ],
   "source": [
    "s.add({78,56,1,2,3})"
   ]
  },
  {
   "cell_type": "code",
   "execution_count": 38,
   "id": "d450e783-1b52-4972-86ee-33b398617b68",
   "metadata": {},
   "outputs": [],
   "source": [
    "s.update({78,56,1,2,3})"
   ]
  },
  {
   "cell_type": "code",
   "execution_count": 39,
   "id": "4f67dcb7-5da9-4298-a33d-39226883b6dd",
   "metadata": {},
   "outputs": [
    {
     "data": {
      "text/plain": [
       "{(7+10j), 1, 2, 3, 34, 56, 78, 890, 'ajay'}"
      ]
     },
     "execution_count": 39,
     "metadata": {},
     "output_type": "execute_result"
    }
   ],
   "source": [
    "s"
   ]
  },
  {
   "cell_type": "code",
   "execution_count": 40,
   "id": "07fe6685-d665-40c7-b6b8-3d7adabd6c89",
   "metadata": {},
   "outputs": [
    {
     "data": {
      "text/plain": [
       "2339803506368"
      ]
     },
     "execution_count": 40,
     "metadata": {},
     "output_type": "execute_result"
    }
   ],
   "source": [
    "id(s)"
   ]
  },
  {
   "cell_type": "code",
   "execution_count": 41,
   "id": "f222608d-fe7c-4c9a-b7ba-96932e59af60",
   "metadata": {},
   "outputs": [
    {
     "data": {
      "text/plain": [
       "{67, 78, 89}"
      ]
     },
     "execution_count": 41,
     "metadata": {},
     "output_type": "execute_result"
    }
   ],
   "source": [
    "s1"
   ]
  },
  {
   "cell_type": "code",
   "execution_count": 42,
   "id": "c8c83dff-cd45-4c35-a938-7199a49c5ced",
   "metadata": {},
   "outputs": [],
   "source": [
    "s.update(s1)"
   ]
  },
  {
   "cell_type": "code",
   "execution_count": 43,
   "id": "35b43e83-030f-4537-bfcd-53838a5b97b4",
   "metadata": {},
   "outputs": [
    {
     "data": {
      "text/plain": [
       "{(7+10j), 1, 2, 3, 34, 56, 67, 78, 89, 890, 'ajay'}"
      ]
     },
     "execution_count": 43,
     "metadata": {},
     "output_type": "execute_result"
    }
   ],
   "source": [
    "s"
   ]
  },
  {
   "cell_type": "code",
   "execution_count": 44,
   "id": "528b4e58-d8a6-47a5-9659-d896615c760c",
   "metadata": {},
   "outputs": [
    {
     "data": {
      "text/plain": [
       "2339803506368"
      ]
     },
     "execution_count": 44,
     "metadata": {},
     "output_type": "execute_result"
    }
   ],
   "source": [
    "id(s)"
   ]
  },
  {
   "cell_type": "code",
   "execution_count": 45,
   "id": "0cc06f63-b95c-45bb-ad50-968b0b561aae",
   "metadata": {},
   "outputs": [
    {
     "data": {
      "text/plain": [
       "{67, 78, 89}"
      ]
     },
     "execution_count": 45,
     "metadata": {},
     "output_type": "execute_result"
    }
   ],
   "source": [
    "s1"
   ]
  },
  {
   "cell_type": "code",
   "execution_count": 46,
   "id": "5daac9a3-a74a-4461-a9f6-ad56052fecab",
   "metadata": {},
   "outputs": [],
   "source": [
    "s.clear()"
   ]
  },
  {
   "cell_type": "code",
   "execution_count": 47,
   "id": "b060c2e7-77be-4c98-b01d-f2e548e28f8b",
   "metadata": {},
   "outputs": [
    {
     "data": {
      "text/plain": [
       "set()"
      ]
     },
     "execution_count": 47,
     "metadata": {},
     "output_type": "execute_result"
    }
   ],
   "source": [
    "s"
   ]
  },
  {
   "cell_type": "code",
   "execution_count": 48,
   "id": "1d4a3f39-9053-408a-9c5a-781bf47129e0",
   "metadata": {},
   "outputs": [],
   "source": [
    "del s"
   ]
  },
  {
   "cell_type": "code",
   "execution_count": 49,
   "id": "1d21ef8a-4413-44fd-adb0-3d33b61cba6d",
   "metadata": {},
   "outputs": [
    {
     "ename": "NameError",
     "evalue": "name 's' is not defined",
     "output_type": "error",
     "traceback": [
      "\u001b[1;31m---------------------------------------------------------------------------\u001b[0m",
      "\u001b[1;31mNameError\u001b[0m                                 Traceback (most recent call last)",
      "Cell \u001b[1;32mIn[49], line 1\u001b[0m\n\u001b[1;32m----> 1\u001b[0m \u001b[43ms\u001b[49m\n",
      "\u001b[1;31mNameError\u001b[0m: name 's' is not defined"
     ]
    }
   ],
   "source": [
    "s"
   ]
  },
  {
   "cell_type": "code",
   "execution_count": 50,
   "id": "7545bc5c-14b5-4a4d-a5a5-973821585f0e",
   "metadata": {},
   "outputs": [
    {
     "data": {
      "text/plain": [
       "89"
      ]
     },
     "execution_count": 50,
     "metadata": {},
     "output_type": "execute_result"
    }
   ],
   "source": [
    "max(s1)"
   ]
  },
  {
   "cell_type": "code",
   "execution_count": 51,
   "id": "c2d55cb9-f542-41fe-9196-297a98466d3a",
   "metadata": {},
   "outputs": [
    {
     "data": {
      "text/plain": [
       "67"
      ]
     },
     "execution_count": 51,
     "metadata": {},
     "output_type": "execute_result"
    }
   ],
   "source": [
    "min(s1)"
   ]
  },
  {
   "cell_type": "code",
   "execution_count": 52,
   "id": "015aaedd-9cb8-4db2-9132-34e31326f07d",
   "metadata": {},
   "outputs": [
    {
     "data": {
      "text/plain": [
       "234"
      ]
     },
     "execution_count": 52,
     "metadata": {},
     "output_type": "execute_result"
    }
   ],
   "source": [
    "sum(s1)"
   ]
  },
  {
   "cell_type": "code",
   "execution_count": 53,
   "id": "a2aa5fc9-6abe-425c-974a-df74bb1e9024",
   "metadata": {},
   "outputs": [],
   "source": [
    "d={\"id\":101,\"Name\":\"Rudra\",\"Age\":19,\"Course\":\"Java\"}"
   ]
  },
  {
   "cell_type": "code",
   "execution_count": 54,
   "id": "b8aa6bd0-7cc2-49c8-9ad4-3b5968da65b8",
   "metadata": {},
   "outputs": [
    {
     "data": {
      "text/plain": [
       "2339809757376"
      ]
     },
     "execution_count": 54,
     "metadata": {},
     "output_type": "execute_result"
    }
   ],
   "source": [
    "id(d)"
   ]
  },
  {
   "cell_type": "code",
   "execution_count": 55,
   "id": "7c4d288d-2e11-4699-9b29-037d50bfb175",
   "metadata": {},
   "outputs": [
    {
     "data": {
      "text/plain": [
       "{'id': 101, 'Name': 'Rudra', 'Age': 19, 'Course': 'Java'}"
      ]
     },
     "execution_count": 55,
     "metadata": {},
     "output_type": "execute_result"
    }
   ],
   "source": [
    "d\n"
   ]
  },
  {
   "cell_type": "code",
   "execution_count": 56,
   "id": "e0c852d5-abcd-4413-a999-a76e07d729f5",
   "metadata": {},
   "outputs": [
    {
     "ename": "KeyError",
     "evalue": "0",
     "output_type": "error",
     "traceback": [
      "\u001b[1;31m---------------------------------------------------------------------------\u001b[0m",
      "\u001b[1;31mKeyError\u001b[0m                                  Traceback (most recent call last)",
      "Cell \u001b[1;32mIn[56], line 1\u001b[0m\n\u001b[1;32m----> 1\u001b[0m \u001b[43md\u001b[49m\u001b[43m[\u001b[49m\u001b[38;5;241;43m0\u001b[39;49m\u001b[43m]\u001b[49m\n",
      "\u001b[1;31mKeyError\u001b[0m: 0"
     ]
    }
   ],
   "source": [
    "d[0]"
   ]
  },
  {
   "cell_type": "code",
   "execution_count": 57,
   "id": "d83a2c39-713e-4248-ab96-531bd2c66abb",
   "metadata": {},
   "outputs": [
    {
     "data": {
      "text/plain": [
       "'Rudra'"
      ]
     },
     "execution_count": 57,
     "metadata": {},
     "output_type": "execute_result"
    }
   ],
   "source": [
    "d[\"Name\"]"
   ]
  },
  {
   "cell_type": "code",
   "execution_count": 58,
   "id": "2f0562e7-0a9f-4c0c-ae78-d57f2615fca1",
   "metadata": {},
   "outputs": [],
   "source": [
    "d[\"Name\"]=\"Ajay\""
   ]
  },
  {
   "cell_type": "code",
   "execution_count": 59,
   "id": "be8f2dfc-046c-4a21-9566-24e1bf25ae57",
   "metadata": {},
   "outputs": [
    {
     "data": {
      "text/plain": [
       "{'id': 101, 'Name': 'Ajay', 'Age': 19, 'Course': 'Java'}"
      ]
     },
     "execution_count": 59,
     "metadata": {},
     "output_type": "execute_result"
    }
   ],
   "source": [
    "d"
   ]
  },
  {
   "cell_type": "code",
   "execution_count": 60,
   "id": "deceedf1-e8b3-4d50-8b98-d984c8df5f5a",
   "metadata": {},
   "outputs": [
    {
     "data": {
      "text/plain": [
       "2339809757376"
      ]
     },
     "execution_count": 60,
     "metadata": {},
     "output_type": "execute_result"
    }
   ],
   "source": [
    "id(d)"
   ]
  },
  {
   "cell_type": "code",
   "execution_count": 61,
   "id": "f2033fff-48d9-4f7c-b30c-447c21519e9f",
   "metadata": {},
   "outputs": [
    {
     "data": {
      "text/plain": [
       "{'id': 101, 'Name': 'Ajay', 'Age': 19, 'Course': 'Java'}"
      ]
     },
     "execution_count": 61,
     "metadata": {},
     "output_type": "execute_result"
    }
   ],
   "source": [
    "d"
   ]
  },
  {
   "cell_type": "code",
   "execution_count": 62,
   "id": "652ce9f5-e2b1-42e0-b2b7-6273f98efaca",
   "metadata": {},
   "outputs": [],
   "source": [
    "d[\"Fees\"]=10000"
   ]
  },
  {
   "cell_type": "code",
   "execution_count": 63,
   "id": "449a3add-2df0-49de-9c36-7f0a3515fe00",
   "metadata": {},
   "outputs": [
    {
     "data": {
      "text/plain": [
       "{'id': 101, 'Name': 'Ajay', 'Age': 19, 'Course': 'Java', 'Fees': 10000}"
      ]
     },
     "execution_count": 63,
     "metadata": {},
     "output_type": "execute_result"
    }
   ],
   "source": [
    "d"
   ]
  },
  {
   "cell_type": "code",
   "execution_count": 64,
   "id": "e79e8e30-1b34-4a2e-98ce-34fa543ffa38",
   "metadata": {},
   "outputs": [
    {
     "data": {
      "text/plain": [
       "19"
      ]
     },
     "execution_count": 64,
     "metadata": {},
     "output_type": "execute_result"
    }
   ],
   "source": [
    "d[\"Age\"]"
   ]
  },
  {
   "cell_type": "code",
   "execution_count": 65,
   "id": "422aaa1f-5c96-4fb9-b0eb-1ecdec6254a3",
   "metadata": {},
   "outputs": [
    {
     "name": "stdout",
     "output_type": "stream",
     "text": [
      "id\n",
      "Name\n",
      "Age\n",
      "Course\n",
      "Fees\n"
     ]
    }
   ],
   "source": [
    "for k in d:\n",
    "    print(k)"
   ]
  },
  {
   "cell_type": "code",
   "execution_count": 67,
   "id": "e3534528-7538-4e15-9541-f03c2e43ed0b",
   "metadata": {},
   "outputs": [
    {
     "name": "stdout",
     "output_type": "stream",
     "text": [
      "id ----> 101\n",
      "Name ----> Ajay\n",
      "Age ----> 19\n",
      "Course ----> Java\n",
      "Fees ----> 10000\n"
     ]
    }
   ],
   "source": [
    "for k in d:\n",
    "    print(k,\"---->\",d[k])"
   ]
  },
  {
   "cell_type": "code",
   "execution_count": 68,
   "id": "a22beb22-4c40-4b54-8e99-8d12819e2546",
   "metadata": {},
   "outputs": [
    {
     "ename": "TypeError",
     "evalue": "'>' not supported between instances of 'dict' and 'dict'",
     "output_type": "error",
     "traceback": [
      "\u001b[1;31m---------------------------------------------------------------------------\u001b[0m",
      "\u001b[1;31mTypeError\u001b[0m                                 Traceback (most recent call last)",
      "Cell \u001b[1;32mIn[68], line 3\u001b[0m\n\u001b[0;32m      1\u001b[0m d1\u001b[38;5;241m=\u001b[39m{\u001b[38;5;124m\"\u001b[39m\u001b[38;5;124mid\u001b[39m\u001b[38;5;124m\"\u001b[39m:\u001b[38;5;241m108\u001b[39m}\n\u001b[0;32m      2\u001b[0m d2\u001b[38;5;241m=\u001b[39m{\u001b[38;5;124m\"\u001b[39m\u001b[38;5;124mid\u001b[39m\u001b[38;5;124m\"\u001b[39m:\u001b[38;5;241m110\u001b[39m}\n\u001b[1;32m----> 3\u001b[0m \u001b[43md1\u001b[49m\u001b[38;5;241;43m>\u001b[39;49m\u001b[43md2\u001b[49m\n",
      "\u001b[1;31mTypeError\u001b[0m: '>' not supported between instances of 'dict' and 'dict'"
     ]
    }
   ],
   "source": [
    "d1={\"id\":108}\n",
    "d2={\"id\":110}\n",
    "d1>d2"
   ]
  },
  {
   "cell_type": "code",
   "execution_count": 69,
   "id": "47df1881-ec8d-49a5-beb9-ad6b6efd23f4",
   "metadata": {},
   "outputs": [
    {
     "data": {
      "text/plain": [
       "5"
      ]
     },
     "execution_count": 69,
     "metadata": {},
     "output_type": "execute_result"
    }
   ],
   "source": [
    "len(d)"
   ]
  },
  {
   "cell_type": "code",
   "execution_count": 70,
   "id": "14f3f6d1-f202-4487-a4a1-c126ee512e71",
   "metadata": {},
   "outputs": [
    {
     "data": {
      "text/plain": [
       "{'id': 101, 'Name': 'Ajay', 'Age': 19, 'Course': 'Java', 'Fees': 10000}"
      ]
     },
     "execution_count": 70,
     "metadata": {},
     "output_type": "execute_result"
    }
   ],
   "source": [
    "d"
   ]
  },
  {
   "cell_type": "code",
   "execution_count": 71,
   "id": "a1380f9f-9d59-40ad-b41d-8fa833b91f5d",
   "metadata": {},
   "outputs": [
    {
     "data": {
      "text/plain": [
       "dict_keys(['id', 'Name', 'Age', 'Course', 'Fees'])"
      ]
     },
     "execution_count": 71,
     "metadata": {},
     "output_type": "execute_result"
    }
   ],
   "source": [
    "d.keys()"
   ]
  },
  {
   "cell_type": "code",
   "execution_count": 72,
   "id": "249e01a7-d29a-4a3c-8eac-b2fcdae73fb6",
   "metadata": {},
   "outputs": [
    {
     "name": "stdout",
     "output_type": "stream",
     "text": [
      "id\n",
      "Name\n",
      "Age\n",
      "Course\n",
      "Fees\n"
     ]
    }
   ],
   "source": [
    "for k in d.keys():\n",
    "    print(k)"
   ]
  },
  {
   "cell_type": "code",
   "execution_count": 73,
   "id": "e210728a-0947-48ad-aafb-4c7f2810fe13",
   "metadata": {},
   "outputs": [
    {
     "name": "stdout",
     "output_type": "stream",
     "text": [
      "101\n",
      "Ajay\n",
      "19\n",
      "Java\n",
      "10000\n"
     ]
    }
   ],
   "source": [
    "for k in d.values():\n",
    "    print(k)"
   ]
  },
  {
   "cell_type": "code",
   "execution_count": 75,
   "id": "9b3c5aa2-b5dc-424d-9624-d8648aa95478",
   "metadata": {},
   "outputs": [
    {
     "data": {
      "text/plain": [
       "dict_values([101, 'Ajay', 19, 'Java', 10000])"
      ]
     },
     "execution_count": 75,
     "metadata": {},
     "output_type": "execute_result"
    }
   ],
   "source": [
    "d.values()"
   ]
  },
  {
   "cell_type": "markdown",
   "id": "2a5e95f9-a568-4c66-b495-3cab8dccaa89",
   "metadata": {},
   "source": []
  },
  {
   "cell_type": "code",
   "execution_count": 76,
   "id": "ffd6c3fe-d297-45a3-b622-485ff2141a00",
   "metadata": {},
   "outputs": [
    {
     "data": {
      "text/plain": [
       "dict_items([('id', 101), ('Name', 'Ajay'), ('Age', 19), ('Course', 'Java'), ('Fees', 10000)])"
      ]
     },
     "execution_count": 76,
     "metadata": {},
     "output_type": "execute_result"
    }
   ],
   "source": [
    "d.items()"
   ]
  },
  {
   "cell_type": "code",
   "execution_count": 77,
   "id": "06aa7a4a-0cfa-417e-8c8b-0e434791f670",
   "metadata": {},
   "outputs": [
    {
     "name": "stdout",
     "output_type": "stream",
     "text": [
      "('id', 101)\n",
      "('Name', 'Ajay')\n",
      "('Age', 19)\n",
      "('Course', 'Java')\n",
      "('Fees', 10000)\n"
     ]
    }
   ],
   "source": [
    "for k in d.items():\n",
    "    print(k)"
   ]
  },
  {
   "cell_type": "code",
   "execution_count": 78,
   "id": "8c5320a0-8d2b-4062-9d85-02e566550ee5",
   "metadata": {},
   "outputs": [
    {
     "name": "stdout",
     "output_type": "stream",
     "text": [
      "id ----> 101\n",
      "Name ----> Ajay\n",
      "Age ----> 19\n",
      "Course ----> Java\n",
      "Fees ----> 10000\n"
     ]
    }
   ],
   "source": [
    "for k,j in d.items():\n",
    "    print(k,\"---->\",j)"
   ]
  },
  {
   "cell_type": "code",
   "execution_count": 79,
   "id": "41ba3063-74c4-499d-96f2-494931d6f977",
   "metadata": {},
   "outputs": [
    {
     "ename": "TypeError",
     "evalue": "pop expected at least 1 argument, got 0",
     "output_type": "error",
     "traceback": [
      "\u001b[1;31m---------------------------------------------------------------------------\u001b[0m",
      "\u001b[1;31mTypeError\u001b[0m                                 Traceback (most recent call last)",
      "Cell \u001b[1;32mIn[79], line 1\u001b[0m\n\u001b[1;32m----> 1\u001b[0m \u001b[43md\u001b[49m\u001b[38;5;241;43m.\u001b[39;49m\u001b[43mpop\u001b[49m\u001b[43m(\u001b[49m\u001b[43m)\u001b[49m\n",
      "\u001b[1;31mTypeError\u001b[0m: pop expected at least 1 argument, got 0"
     ]
    }
   ],
   "source": [
    "d.pop()"
   ]
  },
  {
   "cell_type": "code",
   "execution_count": 80,
   "id": "31aedb33-f7ac-4628-8fd1-87a5681033b8",
   "metadata": {},
   "outputs": [
    {
     "data": {
      "text/plain": [
       "2339809757376"
      ]
     },
     "execution_count": 80,
     "metadata": {},
     "output_type": "execute_result"
    }
   ],
   "source": [
    "id(d)"
   ]
  },
  {
   "cell_type": "code",
   "execution_count": 81,
   "id": "0a347e41-3240-4f34-92ae-dacc12110c6e",
   "metadata": {},
   "outputs": [
    {
     "data": {
      "text/plain": [
       "19"
      ]
     },
     "execution_count": 81,
     "metadata": {},
     "output_type": "execute_result"
    }
   ],
   "source": [
    "d.pop(\"Age\")"
   ]
  },
  {
   "cell_type": "code",
   "execution_count": 82,
   "id": "80bc8ec9-08ca-4d35-93fd-06a82c754530",
   "metadata": {},
   "outputs": [
    {
     "data": {
      "text/plain": [
       "{'id': 101, 'Name': 'Ajay', 'Course': 'Java', 'Fees': 10000}"
      ]
     },
     "execution_count": 82,
     "metadata": {},
     "output_type": "execute_result"
    }
   ],
   "source": [
    "d"
   ]
  },
  {
   "cell_type": "code",
   "execution_count": 83,
   "id": "9d187d0b-405f-4875-ab31-b77ff3b79821",
   "metadata": {},
   "outputs": [
    {
     "data": {
      "text/plain": [
       "2339809757376"
      ]
     },
     "execution_count": 83,
     "metadata": {},
     "output_type": "execute_result"
    }
   ],
   "source": [
    "id(d)"
   ]
  },
  {
   "cell_type": "code",
   "execution_count": 85,
   "id": "e0f45b52-cc3a-4c45-be7d-88f57cc1ca95",
   "metadata": {},
   "outputs": [
    {
     "data": {
      "text/plain": [
       "('Fees', 10000)"
      ]
     },
     "execution_count": 85,
     "metadata": {},
     "output_type": "execute_result"
    }
   ],
   "source": [
    "d.popitem()"
   ]
  },
  {
   "cell_type": "code",
   "execution_count": 86,
   "id": "2243f983-a392-4ab5-9745-77008380678b",
   "metadata": {},
   "outputs": [
    {
     "data": {
      "text/plain": [
       "{'id': 101, 'Name': 'Ajay', 'Course': 'Java'}"
      ]
     },
     "execution_count": 86,
     "metadata": {},
     "output_type": "execute_result"
    }
   ],
   "source": [
    "d"
   ]
  },
  {
   "cell_type": "code",
   "execution_count": 87,
   "id": "dabb8b95-1467-4ff0-8de2-5fd14dce834e",
   "metadata": {},
   "outputs": [
    {
     "data": {
      "text/plain": [
       "2339809757376"
      ]
     },
     "execution_count": 87,
     "metadata": {},
     "output_type": "execute_result"
    }
   ],
   "source": [
    "id(d)"
   ]
  },
  {
   "cell_type": "code",
   "execution_count": 88,
   "id": "c9af35d2-b31a-4a05-8680-5015227d9d5b",
   "metadata": {},
   "outputs": [
    {
     "data": {
      "text/plain": [
       "'id'"
      ]
     },
     "execution_count": 88,
     "metadata": {},
     "output_type": "execute_result"
    }
   ],
   "source": [
    "max(d)"
   ]
  },
  {
   "cell_type": "code",
   "execution_count": 89,
   "id": "01ad102e-7275-4327-8e93-b00d41331a50",
   "metadata": {},
   "outputs": [
    {
     "data": {
      "text/plain": [
       "'Course'"
      ]
     },
     "execution_count": 89,
     "metadata": {},
     "output_type": "execute_result"
    }
   ],
   "source": [
    "min(d)"
   ]
  },
  {
   "cell_type": "code",
   "execution_count": 90,
   "id": "997a9f86-2cff-4a03-8602-a54142f4fdab",
   "metadata": {},
   "outputs": [
    {
     "ename": "TypeError",
     "evalue": "unsupported operand type(s) for +: 'int' and 'str'",
     "output_type": "error",
     "traceback": [
      "\u001b[1;31m---------------------------------------------------------------------------\u001b[0m",
      "\u001b[1;31mTypeError\u001b[0m                                 Traceback (most recent call last)",
      "Cell \u001b[1;32mIn[90], line 1\u001b[0m\n\u001b[1;32m----> 1\u001b[0m \u001b[38;5;28;43msum\u001b[39;49m\u001b[43m(\u001b[49m\u001b[43md\u001b[49m\u001b[43m)\u001b[49m\n",
      "\u001b[1;31mTypeError\u001b[0m: unsupported operand type(s) for +: 'int' and 'str'"
     ]
    }
   ],
   "source": [
    "sum(d)"
   ]
  },
  {
   "cell_type": "code",
   "execution_count": 91,
   "id": "c31804ef-a608-4298-a394-8cf23cff5863",
   "metadata": {},
   "outputs": [
    {
     "data": {
      "text/plain": [
       "['Course', 'Name', 'id']"
      ]
     },
     "execution_count": 91,
     "metadata": {},
     "output_type": "execute_result"
    }
   ],
   "source": [
    "sorted(d)"
   ]
  },
  {
   "cell_type": "code",
   "execution_count": 92,
   "id": "e63bf142-58b9-4c2b-ba39-4bfc7716e67a",
   "metadata": {},
   "outputs": [],
   "source": [
    "d.clear()"
   ]
  },
  {
   "cell_type": "code",
   "execution_count": 93,
   "id": "9c325caf-6029-47ee-9419-75c1be390a2f",
   "metadata": {},
   "outputs": [
    {
     "data": {
      "text/plain": [
       "{}"
      ]
     },
     "execution_count": 93,
     "metadata": {},
     "output_type": "execute_result"
    }
   ],
   "source": [
    "d"
   ]
  },
  {
   "cell_type": "code",
   "execution_count": 94,
   "id": "48ee7726-56bf-4887-9f71-c7cf8cd8121c",
   "metadata": {},
   "outputs": [],
   "source": [
    "del d"
   ]
  },
  {
   "cell_type": "code",
   "execution_count": 95,
   "id": "8bd007ea-84c3-47b1-af5c-e5ad68fc675d",
   "metadata": {},
   "outputs": [
    {
     "ename": "NameError",
     "evalue": "name 'd' is not defined",
     "output_type": "error",
     "traceback": [
      "\u001b[1;31m---------------------------------------------------------------------------\u001b[0m",
      "\u001b[1;31mNameError\u001b[0m                                 Traceback (most recent call last)",
      "Cell \u001b[1;32mIn[95], line 1\u001b[0m\n\u001b[1;32m----> 1\u001b[0m \u001b[43md\u001b[49m\n",
      "\u001b[1;31mNameError\u001b[0m: name 'd' is not defined"
     ]
    }
   ],
   "source": [
    "d"
   ]
  },
  {
   "cell_type": "code",
   "execution_count": 96,
   "id": "2afe97c7-e2a3-45f6-8dc5-63846a8bc16f",
   "metadata": {},
   "outputs": [
    {
     "name": "stdout",
     "output_type": "stream",
     "text": [
      "(45, 67, 89, 88) <class 'tuple'>\n"
     ]
    }
   ],
   "source": [
    "t=(45,67,89,88)\n",
    "print(t,type(t))"
   ]
  },
  {
   "cell_type": "code",
   "execution_count": 97,
   "id": "b2ef7fbc-79a7-4ad8-bb01-7982401adb1d",
   "metadata": {},
   "outputs": [
    {
     "data": {
      "text/plain": [
       "45"
      ]
     },
     "execution_count": 97,
     "metadata": {},
     "output_type": "execute_result"
    }
   ],
   "source": [
    "t[0]"
   ]
  },
  {
   "cell_type": "code",
   "execution_count": 98,
   "id": "ec4280d6-491e-424f-bdab-349acee66f57",
   "metadata": {},
   "outputs": [
    {
     "ename": "TypeError",
     "evalue": "'tuple' object does not support item assignment",
     "output_type": "error",
     "traceback": [
      "\u001b[1;31m---------------------------------------------------------------------------\u001b[0m",
      "\u001b[1;31mTypeError\u001b[0m                                 Traceback (most recent call last)",
      "Cell \u001b[1;32mIn[98], line 1\u001b[0m\n\u001b[1;32m----> 1\u001b[0m \u001b[43mt\u001b[49m\u001b[43m[\u001b[49m\u001b[38;5;241;43m0\u001b[39;49m\u001b[43m]\u001b[49m\u001b[38;5;241m=\u001b[39m\u001b[38;5;241m99\u001b[39m\n",
      "\u001b[1;31mTypeError\u001b[0m: 'tuple' object does not support item assignment"
     ]
    }
   ],
   "source": [
    "t[0]=99"
   ]
  },
  {
   "cell_type": "code",
   "execution_count": 99,
   "id": "0e3b972a-06b6-4e4b-b306-1fc1973f188f",
   "metadata": {},
   "outputs": [
    {
     "data": {
      "text/plain": [
       "2339810195184"
      ]
     },
     "execution_count": 99,
     "metadata": {},
     "output_type": "execute_result"
    }
   ],
   "source": [
    "id(t)"
   ]
  },
  {
   "cell_type": "code",
   "execution_count": 100,
   "id": "cbf4f4a2-48f5-4927-baa2-1884bcd06d13",
   "metadata": {},
   "outputs": [],
   "source": [
    "a,b,c,d=t"
   ]
  },
  {
   "cell_type": "code",
   "execution_count": 101,
   "id": "bf5a0098-14d8-4b6b-906d-1e183f463cb0",
   "metadata": {},
   "outputs": [
    {
     "data": {
      "text/plain": [
       "45"
      ]
     },
     "execution_count": 101,
     "metadata": {},
     "output_type": "execute_result"
    }
   ],
   "source": [
    "a"
   ]
  },
  {
   "cell_type": "code",
   "execution_count": 102,
   "id": "46382671-dcac-440c-99b9-88868f9db918",
   "metadata": {},
   "outputs": [],
   "source": [
    "a=99"
   ]
  },
  {
   "cell_type": "code",
   "execution_count": 103,
   "id": "e9e2e037-8edf-46a9-aa70-673fa13c7226",
   "metadata": {},
   "outputs": [],
   "source": [
    "t=(a,b,c,d)"
   ]
  },
  {
   "cell_type": "code",
   "execution_count": 104,
   "id": "8a4e3df5-d8e9-487c-a164-4b4b0799b1d6",
   "metadata": {},
   "outputs": [
    {
     "data": {
      "text/plain": [
       "(99, 67, 89, 88)"
      ]
     },
     "execution_count": 104,
     "metadata": {},
     "output_type": "execute_result"
    }
   ],
   "source": [
    "t"
   ]
  },
  {
   "cell_type": "code",
   "execution_count": 105,
   "id": "f85b12a3-5d60-4640-9f60-2ec6d52f7d4d",
   "metadata": {},
   "outputs": [
    {
     "data": {
      "text/plain": [
       "2339810510464"
      ]
     },
     "execution_count": 105,
     "metadata": {},
     "output_type": "execute_result"
    }
   ],
   "source": [
    "id(t)"
   ]
  },
  {
   "cell_type": "code",
   "execution_count": 106,
   "id": "b2d634fe-d444-43d9-a974-57682ddd9827",
   "metadata": {},
   "outputs": [
    {
     "data": {
      "text/plain": [
       "(99, 67, 89, 88)"
      ]
     },
     "execution_count": 106,
     "metadata": {},
     "output_type": "execute_result"
    }
   ],
   "source": [
    "t"
   ]
  },
  {
   "cell_type": "code",
   "execution_count": 107,
   "id": "50839b4a-aca7-4d67-aead-bf72c28fe5a3",
   "metadata": {},
   "outputs": [
    {
     "data": {
      "text/plain": [
       "89"
      ]
     },
     "execution_count": 107,
     "metadata": {},
     "output_type": "execute_result"
    }
   ],
   "source": [
    "t[2]"
   ]
  },
  {
   "cell_type": "code",
   "execution_count": 108,
   "id": "cdbf89f1-13ca-4ea3-8bc8-b797bc4232a7",
   "metadata": {},
   "outputs": [
    {
     "ename": "TypeError",
     "evalue": "'tuple' object does not support item assignment",
     "output_type": "error",
     "traceback": [
      "\u001b[1;31m---------------------------------------------------------------------------\u001b[0m",
      "\u001b[1;31mTypeError\u001b[0m                                 Traceback (most recent call last)",
      "Cell \u001b[1;32mIn[108], line 1\u001b[0m\n\u001b[1;32m----> 1\u001b[0m \u001b[43mt\u001b[49m\u001b[43m[\u001b[49m\u001b[38;5;241;43m2\u001b[39;49m\u001b[43m]\u001b[49m\u001b[38;5;241m=\u001b[39m\u001b[38;5;241m900\u001b[39m\n",
      "\u001b[1;31mTypeError\u001b[0m: 'tuple' object does not support item assignment"
     ]
    }
   ],
   "source": [
    "t[2]=900"
   ]
  },
  {
   "cell_type": "code",
   "execution_count": 109,
   "id": "c3b59ff5-99d5-451c-b4eb-2eefadb73b28",
   "metadata": {},
   "outputs": [
    {
     "data": {
      "text/plain": [
       "(99, 67, 900, 88)"
      ]
     },
     "execution_count": 109,
     "metadata": {},
     "output_type": "execute_result"
    }
   ],
   "source": [
    "l=list(t)\n",
    "l[2]=900\n",
    "t=tuple(l)\n",
    "t"
   ]
  },
  {
   "cell_type": "code",
   "execution_count": 110,
   "id": "826d56c3-84d8-4c70-af5a-5db2f4616998",
   "metadata": {},
   "outputs": [
    {
     "data": {
      "text/plain": [
       "2339811414224"
      ]
     },
     "execution_count": 110,
     "metadata": {},
     "output_type": "execute_result"
    }
   ],
   "source": [
    "id(t)"
   ]
  },
  {
   "cell_type": "code",
   "execution_count": 111,
   "id": "6e5af14a-f0f0-48be-8d7b-17bf55f0dfde",
   "metadata": {},
   "outputs": [
    {
     "name": "stdin",
     "output_type": "stream",
     "text": [
      "Enter the no: 67,78,89,90\n"
     ]
    },
    {
     "name": "stdout",
     "output_type": "stream",
     "text": [
      "67,78,89,90 <class 'str'>\n"
     ]
    }
   ],
   "source": [
    "t=input(\"Enter the no:\")\n",
    "print(t,type(t))"
   ]
  },
  {
   "cell_type": "code",
   "execution_count": 112,
   "id": "0ec5cde2-c5eb-4d77-9667-d2b6f75b291a",
   "metadata": {},
   "outputs": [
    {
     "name": "stdin",
     "output_type": "stream",
     "text": [
      "Enter the no: 23,34,56,67\n"
     ]
    },
    {
     "name": "stdout",
     "output_type": "stream",
     "text": [
      "('2', '3', ',', '3', '4', ',', '5', '6', ',', '6', '7') <class 'tuple'>\n"
     ]
    }
   ],
   "source": [
    "t=tuple(input(\"Enter the no:\"))\n",
    "print(t,type(t))"
   ]
  },
  {
   "cell_type": "code",
   "execution_count": 113,
   "id": "f1a8f264-3196-4647-a4d3-d0bc8967fcd1",
   "metadata": {},
   "outputs": [
    {
     "name": "stdout",
     "output_type": "stream",
     "text": [
      "(89,) <class 'tuple'>\n"
     ]
    }
   ],
   "source": [
    "a=89,\n",
    "print(a,type(a))"
   ]
  },
  {
   "cell_type": "code",
   "execution_count": 114,
   "id": "72273ce7-f8af-4b9e-8bdd-e6c53a7411f9",
   "metadata": {},
   "outputs": [
    {
     "name": "stdin",
     "output_type": "stream",
     "text": [
      "Enter the no: 67,89,23,34\n"
     ]
    },
    {
     "name": "stdout",
     "output_type": "stream",
     "text": [
      "(67, 89, 23, 34) <class 'tuple'>\n"
     ]
    }
   ],
   "source": [
    "t=eval(input(\"Enter the no:\"))\n",
    "print(t,type(t))"
   ]
  },
  {
   "cell_type": "code",
   "execution_count": 115,
   "id": "fb17a4ab-ae19-48b4-9299-7f7bd8d26bd5",
   "metadata": {},
   "outputs": [
    {
     "name": "stdin",
     "output_type": "stream",
     "text": [
      "Enter the no: 67,\"ram\",22,9.8,7+10j\n"
     ]
    },
    {
     "name": "stdout",
     "output_type": "stream",
     "text": [
      "(67, 'ram', 22, 9.8, (7+10j)) <class 'tuple'>\n"
     ]
    }
   ],
   "source": [
    "t=eval(input(\"Enter the no:\"))\n",
    "print(t,type(t))"
   ]
  },
  {
   "cell_type": "code",
   "execution_count": null,
   "id": "025f0d20-9f4f-4a2e-8811-19cf8a1ef89c",
   "metadata": {},
   "outputs": [],
   "source": []
  }
 ],
 "metadata": {
  "kernelspec": {
   "display_name": "Python [conda env:base] *",
   "language": "python",
   "name": "conda-base-py"
  },
  "language_info": {
   "codemirror_mode": {
    "name": "ipython",
    "version": 3
   },
   "file_extension": ".py",
   "mimetype": "text/x-python",
   "name": "python",
   "nbconvert_exporter": "python",
   "pygments_lexer": "ipython3",
   "version": "3.12.7"
  }
 },
 "nbformat": 4,
 "nbformat_minor": 5
}
