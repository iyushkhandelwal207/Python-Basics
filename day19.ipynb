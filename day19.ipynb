{
 "cells": [
  {
   "cell_type": "code",
   "execution_count": 1,
   "id": "832a484f-f864-4f0a-a8cc-686e7228fa39",
   "metadata": {},
   "outputs": [],
   "source": [
    "class cafetalk:\n",
    "    def __init__(self):\n",
    "        print(\"cafetalk\")\n",
    "        print(\"lkhjgfdz\")\n",
    "        l=[\"india\",\"austrlia\",\"italian\"]\n",
    "        for k in l:\n",
    "            print(k)\n",
    "    def india(self):\n",
    "        x=[\"dalbati\",\"chaach\"]\n",
    "        fp=[200,190]\n",
    "        india={\"foodname\":x,\"foodprice\":fp}\n",
    "        import pandas as pd\n",
    "        df=pd.DataFrame(india)\n",
    "        print(df)\n",
    "        d=[]\n",
    "        while x:\n",
    "            x==True\n",
    "            a=int(input(\"Enter the post\"))\n",
    "            b=int(input(\"Enter the quantity\"))\n",
    "            s=df[\"foodprice\"][a]\n",
    "            y=s*b\n",
    "            d.append(y)\n",
    "            x=input(\"Do u want to reorder\")\n",
    "            if x==\"No\":\n",
    "                break\n",
    "        t=sum(d)\n",
    "        p=t*0.18\n",
    "        o=t+p\n",
    "        print(o)\n",
    "        \n",
    "            "
   ]
  },
  {
   "cell_type": "code",
   "execution_count": 2,
   "id": "c700431f-7d52-45d4-971d-4e827ebada3c",
   "metadata": {},
   "outputs": [
    {
     "name": "stdout",
     "output_type": "stream",
     "text": [
      "cafetalk\n",
      "lkhjgfdz\n",
      "india\n",
      "austrlia\n",
      "italian\n"
     ]
    }
   ],
   "source": [
    "obj=cafetalk()"
   ]
  },
  {
   "cell_type": "code",
   "execution_count": 3,
   "id": "5196e2c3-98f4-4d78-89c9-95ccda161a4c",
   "metadata": {},
   "outputs": [
    {
     "name": "stdout",
     "output_type": "stream",
     "text": [
      "  foodname  foodprice\n",
      "0  dalbati        200\n",
      "1   chaach        190\n"
     ]
    },
    {
     "name": "stdin",
     "output_type": "stream",
     "text": [
      "Enter the post 0\n",
      "Enter the quantity 4\n",
      "Do u want to reorder No\n"
     ]
    },
    {
     "name": "stdout",
     "output_type": "stream",
     "text": [
      "944.0\n"
     ]
    }
   ],
   "source": [
    "obj.india()"
   ]
  },
  {
   "cell_type": "code",
   "execution_count": 23,
   "id": "61876bd0-2e94-4b4c-ab4d-5bf0eda87071",
   "metadata": {},
   "outputs": [
    {
     "name": "stdout",
     "output_type": "stream",
     "text": [
      "welcome to rsrtc website\n",
      "we have so many buses for different different routes\n"
     ]
    },
    {
     "name": "stdin",
     "output_type": "stream",
     "text": [
      "enter your source destination:  Tonk\n"
     ]
    },
    {
     "name": "stdout",
     "output_type": "stream",
     "text": [
      "available destinations are:\n",
      "Tonk\n",
      "Jaipur\n",
      "bhilwada\n",
      "kota\n",
      "ajmer\n",
      "ringas\n",
      "alwar\n"
     ]
    },
    {
     "name": "stdin",
     "output_type": "stream",
     "text": [
      "enter your destination:  Tonk\n"
     ]
    },
    {
     "name": "stdout",
     "output_type": "stream",
     "text": [
      "\n",
      "Available buses:\n",
      "   bus name  price\n",
      "0   express    120\n",
      "1  ordinary    100\n"
     ]
    },
    {
     "name": "stdin",
     "output_type": "stream",
     "text": [
      "\n",
      "Enter your bus position number (0 or 1):  0\n",
      "enter the number of male passengers:  2\n",
      "enter the number of female passengers:  2\n"
     ]
    },
    {
     "name": "stdout",
     "output_type": "stream",
     "text": [
      "\n",
      "---- Fare Details ----\n",
      "Bus Type: express\n",
      "Price per ticket: 120\n",
      "Total fare for male passengers: 240\n",
      "Total fare for female passengers (40% discount): 144.0\n",
      "Total amount to pay: 384.0\n"
     ]
    },
    {
     "data": {
      "text/plain": [
       "<__main__.rsrtc at 0x174dc225c10>"
      ]
     },
     "execution_count": 23,
     "metadata": {},
     "output_type": "execute_result"
    }
   ],
   "source": [
    "class rsrtc:\n",
    "    def __init__(self):\n",
    "        print(\"welcome to rsrtc website\")\n",
    "        print(\"we have so many buses for different different routes\")\n",
    "\n",
    "        k = input(\"enter your source destination: \")\n",
    "        l = [\"Tonk\", \"Jaipur\", \"bhilwada\", \"kota\", \"ajmer\", \"ringas\", \"alwar\"]\n",
    "        \n",
    "        print(\"available destinations are:\")\n",
    "        for i in l:\n",
    "            print(i)\n",
    "        \n",
    "        m = input(\"enter your destination: \")\n",
    "        if k.capitalize() in l and m.capitalize() in l:\n",
    "            self.Tonk()\n",
    "        else:\n",
    "            print(\"Invalid source or destination entered.\")\n",
    "\n",
    "    def Tonk(self):\n",
    "        import pandas as pd\n",
    "\n",
    "        prices = [120, 100]\n",
    "        typ = [\"express\", \"ordinary\"]\n",
    "        bus = {\"bus name\": typ, \"price\": prices}\n",
    "\n",
    "        print(\"\\nAvailable buses:\")\n",
    "        df = pd.DataFrame(bus)\n",
    "        print(df)\n",
    "\n",
    "        l = int(input(\"\\nEnter your bus position number (0 or 1): \"))\n",
    "        if l < 0 or l >= len(typ):\n",
    "            print(\"Invalid bus position number.\")\n",
    "            return\n",
    "\n",
    "        no = int(input(\"enter the number of male passengers: \"))\n",
    "        no1 = int(input(\"enter the number of female passengers: \"))\n",
    "\n",
    "        rate = df[\"price\"][l]\n",
    "        total_male = no * rate\n",
    "        total_female = no1 * rate * 0.6  # 40% discount\n",
    "\n",
    "        total = total_male + total_female\n",
    "\n",
    "        print(\"\\n---- Fare Details ----\")\n",
    "        print(\"Bus Type:\", df[\"bus name\"][l])\n",
    "        print(\"Price per ticket:\", rate)\n",
    "        print(\"Total fare for male passengers:\", total_male)\n",
    "        print(\"Total fare for female passengers (40% discount):\", total_female)\n",
    "        print(\"Total amount to pay:\", total)\n",
    "\n",
    "\n",
    "# Run the program\n",
    "rsrtc()\n"
   ]
  },
  {
   "cell_type": "code",
   "execution_count": 19,
   "id": "70f77ec9-9bef-4152-9a76-38302dffdd60",
   "metadata": {},
   "outputs": [
    {
     "name": "stdout",
     "output_type": "stream",
     "text": [
      "welcome to rsrtc website\n",
      "we have so many buses for different differnet routes\n"
     ]
    },
    {
     "name": "stdin",
     "output_type": "stream",
     "text": [
      "enter your soucre destination jaipur\n"
     ]
    },
    {
     "name": "stdout",
     "output_type": "stream",
     "text": [
      "['Tonk', 'Jaipur', 'bhilwada', 'kota', 'ajmer', 'ringas', 'alwar']\n",
      "['Tonk', 'Jaipur', 'bhilwada', 'kota', 'ajmer', 'ringas', 'alwar']\n",
      "['Tonk', 'Jaipur', 'bhilwada', 'kota', 'ajmer', 'ringas', 'alwar']\n",
      "['Tonk', 'Jaipur', 'bhilwada', 'kota', 'ajmer', 'ringas', 'alwar']\n",
      "['Tonk', 'Jaipur', 'bhilwada', 'kota', 'ajmer', 'ringas', 'alwar']\n",
      "['Tonk', 'Jaipur', 'bhilwada', 'kota', 'ajmer', 'ringas', 'alwar']\n",
      "['Tonk', 'Jaipur', 'bhilwada', 'kota', 'ajmer', 'ringas', 'alwar']\n"
     ]
    }
   ],
   "source": [
    "obj=rsrtc()"
   ]
  },
  {
   "cell_type": "code",
   "execution_count": 21,
   "id": "3f022468-504e-4c6c-ab7e-3b34b1157738",
   "metadata": {},
   "outputs": [
    {
     "name": "stdin",
     "output_type": "stream",
     "text": [
      "enter your bus position no... 0\n"
     ]
    },
    {
     "ename": "TypeError",
     "evalue": "'set' type is unordered",
     "output_type": "error",
     "traceback": [
      "\u001b[1;31m---------------------------------------------------------------------------\u001b[0m",
      "\u001b[1;31mTypeError\u001b[0m                                 Traceback (most recent call last)",
      "Cell \u001b[1;32mIn[21], line 1\u001b[0m\n\u001b[1;32m----> 1\u001b[0m obj\u001b[38;5;241m.\u001b[39mTonk()\n",
      "Cell \u001b[1;32mIn[17], line 16\u001b[0m, in \u001b[0;36mrsrtc.Tonk\u001b[1;34m(self)\u001b[0m\n\u001b[0;32m     14\u001b[0m l\u001b[38;5;241m=\u001b[39m\u001b[38;5;28mint\u001b[39m(\u001b[38;5;28minput\u001b[39m(\u001b[38;5;124m\"\u001b[39m\u001b[38;5;124menter your bus position no...\u001b[39m\u001b[38;5;124m\"\u001b[39m))\n\u001b[0;32m     15\u001b[0m \u001b[38;5;28;01mimport\u001b[39;00m \u001b[38;5;21;01mpandas\u001b[39;00m \u001b[38;5;28;01mas\u001b[39;00m \u001b[38;5;21;01mpd\u001b[39;00m\n\u001b[1;32m---> 16\u001b[0m df\u001b[38;5;241m=\u001b[39mpd\u001b[38;5;241m.\u001b[39mDataFrame(bus)\n\u001b[0;32m     17\u001b[0m \u001b[38;5;28mprint\u001b[39m(df)\n\u001b[0;32m     18\u001b[0m d\u001b[38;5;241m=\u001b[39m[]\n",
      "File \u001b[1;32m~\\anaconda3\\Lib\\site-packages\\pandas\\core\\frame.py:778\u001b[0m, in \u001b[0;36mDataFrame.__init__\u001b[1;34m(self, data, index, columns, dtype, copy)\u001b[0m\n\u001b[0;32m    772\u001b[0m     mgr \u001b[38;5;241m=\u001b[39m \u001b[38;5;28mself\u001b[39m\u001b[38;5;241m.\u001b[39m_init_mgr(\n\u001b[0;32m    773\u001b[0m         data, axes\u001b[38;5;241m=\u001b[39m{\u001b[38;5;124m\"\u001b[39m\u001b[38;5;124mindex\u001b[39m\u001b[38;5;124m\"\u001b[39m: index, \u001b[38;5;124m\"\u001b[39m\u001b[38;5;124mcolumns\u001b[39m\u001b[38;5;124m\"\u001b[39m: columns}, dtype\u001b[38;5;241m=\u001b[39mdtype, copy\u001b[38;5;241m=\u001b[39mcopy\n\u001b[0;32m    774\u001b[0m     )\n\u001b[0;32m    776\u001b[0m \u001b[38;5;28;01melif\u001b[39;00m \u001b[38;5;28misinstance\u001b[39m(data, \u001b[38;5;28mdict\u001b[39m):\n\u001b[0;32m    777\u001b[0m     \u001b[38;5;66;03m# GH#38939 de facto copy defaults to False only in non-dict cases\u001b[39;00m\n\u001b[1;32m--> 778\u001b[0m     mgr \u001b[38;5;241m=\u001b[39m dict_to_mgr(data, index, columns, dtype\u001b[38;5;241m=\u001b[39mdtype, copy\u001b[38;5;241m=\u001b[39mcopy, typ\u001b[38;5;241m=\u001b[39mmanager)\n\u001b[0;32m    779\u001b[0m \u001b[38;5;28;01melif\u001b[39;00m \u001b[38;5;28misinstance\u001b[39m(data, ma\u001b[38;5;241m.\u001b[39mMaskedArray):\n\u001b[0;32m    780\u001b[0m     \u001b[38;5;28;01mfrom\u001b[39;00m \u001b[38;5;21;01mnumpy\u001b[39;00m\u001b[38;5;21;01m.\u001b[39;00m\u001b[38;5;21;01mma\u001b[39;00m \u001b[38;5;28;01mimport\u001b[39;00m mrecords\n",
      "File \u001b[1;32m~\\anaconda3\\Lib\\site-packages\\pandas\\core\\internals\\construction.py:503\u001b[0m, in \u001b[0;36mdict_to_mgr\u001b[1;34m(data, index, columns, dtype, typ, copy)\u001b[0m\n\u001b[0;32m    499\u001b[0m     \u001b[38;5;28;01melse\u001b[39;00m:\n\u001b[0;32m    500\u001b[0m         \u001b[38;5;66;03m# dtype check to exclude e.g. range objects, scalars\u001b[39;00m\n\u001b[0;32m    501\u001b[0m         arrays \u001b[38;5;241m=\u001b[39m [x\u001b[38;5;241m.\u001b[39mcopy() \u001b[38;5;28;01mif\u001b[39;00m \u001b[38;5;28mhasattr\u001b[39m(x, \u001b[38;5;124m\"\u001b[39m\u001b[38;5;124mdtype\u001b[39m\u001b[38;5;124m\"\u001b[39m) \u001b[38;5;28;01melse\u001b[39;00m x \u001b[38;5;28;01mfor\u001b[39;00m x \u001b[38;5;129;01min\u001b[39;00m arrays]\n\u001b[1;32m--> 503\u001b[0m \u001b[38;5;28;01mreturn\u001b[39;00m arrays_to_mgr(arrays, columns, index, dtype\u001b[38;5;241m=\u001b[39mdtype, typ\u001b[38;5;241m=\u001b[39mtyp, consolidate\u001b[38;5;241m=\u001b[39mcopy)\n",
      "File \u001b[1;32m~\\anaconda3\\Lib\\site-packages\\pandas\\core\\internals\\construction.py:119\u001b[0m, in \u001b[0;36marrays_to_mgr\u001b[1;34m(arrays, columns, index, dtype, verify_integrity, typ, consolidate)\u001b[0m\n\u001b[0;32m    116\u001b[0m         index \u001b[38;5;241m=\u001b[39m ensure_index(index)\n\u001b[0;32m    118\u001b[0m     \u001b[38;5;66;03m# don't force copy because getting jammed in an ndarray anyway\u001b[39;00m\n\u001b[1;32m--> 119\u001b[0m     arrays, refs \u001b[38;5;241m=\u001b[39m _homogenize(arrays, index, dtype)\n\u001b[0;32m    120\u001b[0m     \u001b[38;5;66;03m# _homogenize ensures\u001b[39;00m\n\u001b[0;32m    121\u001b[0m     \u001b[38;5;66;03m#  - all(len(x) == len(index) for x in arrays)\u001b[39;00m\n\u001b[0;32m    122\u001b[0m     \u001b[38;5;66;03m#  - all(x.ndim == 1 for x in arrays)\u001b[39;00m\n\u001b[1;32m   (...)\u001b[0m\n\u001b[0;32m    125\u001b[0m \n\u001b[0;32m    126\u001b[0m \u001b[38;5;28;01melse\u001b[39;00m:\n\u001b[0;32m    127\u001b[0m     index \u001b[38;5;241m=\u001b[39m ensure_index(index)\n",
      "File \u001b[1;32m~\\anaconda3\\Lib\\site-packages\\pandas\\core\\internals\\construction.py:629\u001b[0m, in \u001b[0;36m_homogenize\u001b[1;34m(data, index, dtype)\u001b[0m\n\u001b[0;32m    626\u001b[0m         val \u001b[38;5;241m=\u001b[39m \u001b[38;5;28mdict\u001b[39m(val)\n\u001b[0;32m    627\u001b[0m     val \u001b[38;5;241m=\u001b[39m lib\u001b[38;5;241m.\u001b[39mfast_multiget(val, oindex\u001b[38;5;241m.\u001b[39m_values, default\u001b[38;5;241m=\u001b[39mnp\u001b[38;5;241m.\u001b[39mnan)\n\u001b[1;32m--> 629\u001b[0m val \u001b[38;5;241m=\u001b[39m sanitize_array(val, index, dtype\u001b[38;5;241m=\u001b[39mdtype, copy\u001b[38;5;241m=\u001b[39m\u001b[38;5;28;01mFalse\u001b[39;00m)\n\u001b[0;32m    630\u001b[0m com\u001b[38;5;241m.\u001b[39mrequire_length_match(val, index)\n\u001b[0;32m    631\u001b[0m refs\u001b[38;5;241m.\u001b[39mappend(\u001b[38;5;28;01mNone\u001b[39;00m)\n",
      "File \u001b[1;32m~\\anaconda3\\Lib\\site-packages\\pandas\\core\\construction.py:642\u001b[0m, in \u001b[0;36msanitize_array\u001b[1;34m(data, index, dtype, copy, allow_2d)\u001b[0m\n\u001b[0;32m    633\u001b[0m     \u001b[38;5;28;01mreturn\u001b[39;00m sanitize_array(\n\u001b[0;32m    634\u001b[0m         data,\n\u001b[0;32m    635\u001b[0m         index\u001b[38;5;241m=\u001b[39mindex,\n\u001b[1;32m   (...)\u001b[0m\n\u001b[0;32m    638\u001b[0m         allow_2d\u001b[38;5;241m=\u001b[39mallow_2d,\n\u001b[0;32m    639\u001b[0m     )\n\u001b[0;32m    641\u001b[0m \u001b[38;5;28;01melse\u001b[39;00m:\n\u001b[1;32m--> 642\u001b[0m     _sanitize_non_ordered(data)\n\u001b[0;32m    643\u001b[0m     \u001b[38;5;66;03m# materialize e.g. generators, convert e.g. tuples, abc.ValueView\u001b[39;00m\n\u001b[0;32m    644\u001b[0m     data \u001b[38;5;241m=\u001b[39m \u001b[38;5;28mlist\u001b[39m(data)\n",
      "File \u001b[1;32m~\\anaconda3\\Lib\\site-packages\\pandas\\core\\construction.py:693\u001b[0m, in \u001b[0;36m_sanitize_non_ordered\u001b[1;34m(data)\u001b[0m\n\u001b[0;32m    689\u001b[0m \u001b[38;5;250m\u001b[39m\u001b[38;5;124;03m\"\"\"\u001b[39;00m\n\u001b[0;32m    690\u001b[0m \u001b[38;5;124;03mRaise only for unordered sets, e.g., not for dict_keys\u001b[39;00m\n\u001b[0;32m    691\u001b[0m \u001b[38;5;124;03m\"\"\"\u001b[39;00m\n\u001b[0;32m    692\u001b[0m \u001b[38;5;28;01mif\u001b[39;00m \u001b[38;5;28misinstance\u001b[39m(data, (\u001b[38;5;28mset\u001b[39m, \u001b[38;5;28mfrozenset\u001b[39m)):\n\u001b[1;32m--> 693\u001b[0m     \u001b[38;5;28;01mraise\u001b[39;00m \u001b[38;5;167;01mTypeError\u001b[39;00m(\u001b[38;5;124mf\u001b[39m\u001b[38;5;124m\"\u001b[39m\u001b[38;5;124m'\u001b[39m\u001b[38;5;132;01m{\u001b[39;00m\u001b[38;5;28mtype\u001b[39m(data)\u001b[38;5;241m.\u001b[39m\u001b[38;5;18m__name__\u001b[39m\u001b[38;5;132;01m}\u001b[39;00m\u001b[38;5;124m'\u001b[39m\u001b[38;5;124m type is unordered\u001b[39m\u001b[38;5;124m\"\u001b[39m)\n",
      "\u001b[1;31mTypeError\u001b[0m: 'set' type is unordered"
     ]
    }
   ],
   "source": [
    "obj.Tonk()"
   ]
  },
  {
   "cell_type": "code",
   "execution_count": null,
   "id": "c73280e4-567d-4855-a7c4-b39bf7711164",
   "metadata": {},
   "outputs": [],
   "source": []
  }
 ],
 "metadata": {
  "kernelspec": {
   "display_name": "Python [conda env:base] *",
   "language": "python",
   "name": "conda-base-py"
  },
  "language_info": {
   "codemirror_mode": {
    "name": "ipython",
    "version": 3
   },
   "file_extension": ".py",
   "mimetype": "text/x-python",
   "name": "python",
   "nbconvert_exporter": "python",
   "pygments_lexer": "ipython3",
   "version": "3.12.7"
  }
 },
 "nbformat": 4,
 "nbformat_minor": 5
}
