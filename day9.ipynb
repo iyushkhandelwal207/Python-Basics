{
 "cells": [
  {
   "cell_type": "code",
   "execution_count": 37,
   "id": "970546f2-c59b-4de1-a293-20e802054302",
   "metadata": {},
   "outputs": [],
   "source": [
    "l=[12,45,85,5+10j,\"ram\",56,78,57]"
   ]
  },
  {
   "cell_type": "code",
   "execution_count": 39,
   "id": "e37987c4-d1ef-4c49-9bfe-144d6bd72501",
   "metadata": {},
   "outputs": [
    {
     "name": "stdout",
     "output_type": "stream",
     "text": [
      "[12, 45, 85, (5+10j), 'ram', 56, 78, 57] <class 'list'>\n"
     ]
    }
   ],
   "source": [
    "print(l,type(l))"
   ]
  },
  {
   "cell_type": "code",
   "execution_count": 41,
   "id": "d387663c-3b3e-4cd0-b857-ca6b6049546d",
   "metadata": {},
   "outputs": [
    {
     "data": {
      "text/plain": [
       "45"
      ]
     },
     "execution_count": 41,
     "metadata": {},
     "output_type": "execute_result"
    }
   ],
   "source": [
    "l[1]"
   ]
  },
  {
   "cell_type": "code",
   "execution_count": 43,
   "id": "3fea4631-803a-4897-85e6-ff204e25bd97",
   "metadata": {},
   "outputs": [],
   "source": [
    "l[1]=\"piyush\""
   ]
  },
  {
   "cell_type": "code",
   "execution_count": 45,
   "id": "5f3e76cf-dedc-43dd-a7c0-dff4717a2608",
   "metadata": {},
   "outputs": [
    {
     "data": {
      "text/plain": [
       "[12, 'piyush', 85, (5+10j), 'ram', 56, 78, 57]"
      ]
     },
     "execution_count": 45,
     "metadata": {},
     "output_type": "execute_result"
    }
   ],
   "source": [
    "l"
   ]
  },
  {
   "cell_type": "code",
   "execution_count": 47,
   "id": "9f21bfc0-bf79-49c5-8f64-f050ae9f62ab",
   "metadata": {},
   "outputs": [
    {
     "data": {
      "text/plain": [
       "1947040598528"
      ]
     },
     "execution_count": 47,
     "metadata": {},
     "output_type": "execute_result"
    }
   ],
   "source": [
    "id(l)"
   ]
  },
  {
   "cell_type": "code",
   "execution_count": 49,
   "id": "04885999-6137-4270-8ece-413609a5f996",
   "metadata": {},
   "outputs": [
    {
     "ename": "TypeError",
     "evalue": "can only concatenate list (not \"int\") to list",
     "output_type": "error",
     "traceback": [
      "\u001b[1;31m---------------------------------------------------------------------------\u001b[0m",
      "\u001b[1;31mTypeError\u001b[0m                                 Traceback (most recent call last)",
      "Cell \u001b[1;32mIn[49], line 1\u001b[0m\n\u001b[1;32m----> 1\u001b[0m l\u001b[38;5;241m+\u001b[39m\u001b[38;5;241m5\u001b[39m\n",
      "\u001b[1;31mTypeError\u001b[0m: can only concatenate list (not \"int\") to list"
     ]
    }
   ],
   "source": [
    "l+5"
   ]
  },
  {
   "cell_type": "code",
   "execution_count": 51,
   "id": "28373db1-b1d6-44be-bd26-443ef4f63bfc",
   "metadata": {},
   "outputs": [
    {
     "data": {
      "text/plain": [
       "[12, 'piyush', 85, (5+10j), 'ram', 56, 78, 57, 5]"
      ]
     },
     "execution_count": 51,
     "metadata": {},
     "output_type": "execute_result"
    }
   ],
   "source": [
    "l+[5]"
   ]
  },
  {
   "cell_type": "code",
   "execution_count": 53,
   "id": "15d8cea7-a7b0-49a5-8c44-055484df3086",
   "metadata": {},
   "outputs": [
    {
     "data": {
      "text/plain": [
       "1947040598528"
      ]
     },
     "execution_count": 53,
     "metadata": {},
     "output_type": "execute_result"
    }
   ],
   "source": [
    "id(l)"
   ]
  },
  {
   "cell_type": "code",
   "execution_count": 55,
   "id": "0ef0e1c4-460c-4797-8b89-675ae59a9f99",
   "metadata": {},
   "outputs": [],
   "source": [
    "l.append(\"khanddlwla\")"
   ]
  },
  {
   "cell_type": "code",
   "execution_count": 57,
   "id": "1a907c65-9b84-4999-a406-831455dbae04",
   "metadata": {},
   "outputs": [
    {
     "data": {
      "text/plain": [
       "[12, 'piyush', 85, (5+10j), 'ram', 56, 78, 57, 'khanddlwla']"
      ]
     },
     "execution_count": 57,
     "metadata": {},
     "output_type": "execute_result"
    }
   ],
   "source": [
    "l"
   ]
  },
  {
   "cell_type": "code",
   "execution_count": 59,
   "id": "4e8734a4-7d3a-4464-b2c7-2100252a3077",
   "metadata": {},
   "outputs": [
    {
     "data": {
      "text/plain": [
       "5"
      ]
     },
     "execution_count": 59,
     "metadata": {},
     "output_type": "execute_result"
    }
   ],
   "source": [
    "l.index(56)"
   ]
  },
  {
   "cell_type": "code",
   "execution_count": 63,
   "id": "9aa5fe4f-5515-4b25-8631-42630111079a",
   "metadata": {},
   "outputs": [],
   "source": [
    "l.extend(\"5\")"
   ]
  },
  {
   "cell_type": "code",
   "execution_count": 65,
   "id": "eabd33a1-e1a7-423f-8f77-84e479659144",
   "metadata": {},
   "outputs": [
    {
     "data": {
      "text/plain": [
       "[12, 'piyush', 85, (5+10j), 'ram', 56, 78, 57, 'khanddlwla', '5']"
      ]
     },
     "execution_count": 65,
     "metadata": {},
     "output_type": "execute_result"
    }
   ],
   "source": [
    "l"
   ]
  },
  {
   "cell_type": "code",
   "execution_count": 67,
   "id": "01d9cba6-bbe3-47b1-95d7-ba1fe8204d14",
   "metadata": {},
   "outputs": [
    {
     "data": {
      "text/plain": [
       "10"
      ]
     },
     "execution_count": 67,
     "metadata": {},
     "output_type": "execute_result"
    }
   ],
   "source": [
    "len(l)"
   ]
  },
  {
   "cell_type": "code",
   "execution_count": 69,
   "id": "9626b1e1-35b7-4710-9d1d-854d2d6bf27c",
   "metadata": {},
   "outputs": [
    {
     "name": "stdout",
     "output_type": "stream",
     "text": [
      "12\n",
      "piyush\n",
      "85\n",
      "(5+10j)\n",
      "ram\n",
      "56\n",
      "78\n",
      "57\n",
      "khanddlwla\n",
      "5\n"
     ]
    }
   ],
   "source": [
    "for i in l:\n",
    "    print(i)"
   ]
  },
  {
   "cell_type": "code",
   "execution_count": 75,
   "id": "ef75c44b-c22b-44f2-bcbc-2b02d770e94f",
   "metadata": {},
   "outputs": [
    {
     "name": "stdout",
     "output_type": "stream",
     "text": [
      "0\n",
      "1\n",
      "2\n",
      "3\n",
      "4\n",
      "5\n",
      "6\n",
      "7\n",
      "8\n",
      "9\n"
     ]
    }
   ],
   "source": [
    "for i in range(len(l)):\n",
    "    print(i)"
   ]
  },
  {
   "cell_type": "code",
   "execution_count": 77,
   "id": "5ae0d1d2-82d9-4f70-8f00-e45ac71722ca",
   "metadata": {},
   "outputs": [
    {
     "name": "stdout",
     "output_type": "stream",
     "text": [
      "12\n",
      "piyush\n",
      "85\n",
      "(5+10j)\n",
      "ram\n",
      "56\n",
      "78\n",
      "57\n",
      "khanddlwla\n",
      "5\n"
     ]
    }
   ],
   "source": [
    "for i in range(len(l)):\n",
    "    print(l[i])"
   ]
  },
  {
   "cell_type": "code",
   "execution_count": 81,
   "id": "3e43202d-06ff-4118-aab0-ba6ca59d6454",
   "metadata": {},
   "outputs": [],
   "source": [
    "l1=[10,45,96]\n",
    "l2=[95,45,25]"
   ]
  },
  {
   "cell_type": "code",
   "execution_count": 83,
   "id": "02beada6-5643-442f-99dd-6d46968b3c60",
   "metadata": {},
   "outputs": [
    {
     "data": {
      "text/plain": [
       "False"
      ]
     },
     "execution_count": 83,
     "metadata": {},
     "output_type": "execute_result"
    }
   ],
   "source": [
    "l1>l2"
   ]
  },
  {
   "cell_type": "code",
   "execution_count": 85,
   "id": "bde08591-211e-471a-b2d2-972fa388d954",
   "metadata": {},
   "outputs": [
    {
     "data": {
      "text/plain": [
       "True"
      ]
     },
     "execution_count": 85,
     "metadata": {},
     "output_type": "execute_result"
    }
   ],
   "source": [
    "l1<=l2"
   ]
  },
  {
   "cell_type": "code",
   "execution_count": 87,
   "id": "2f4e6e1b-5689-40b3-8115-b28f74bdc8e0",
   "metadata": {},
   "outputs": [
    {
     "data": {
      "text/plain": [
       "96"
      ]
     },
     "execution_count": 87,
     "metadata": {},
     "output_type": "execute_result"
    }
   ],
   "source": [
    "l1.pop()"
   ]
  },
  {
   "cell_type": "code",
   "execution_count": 89,
   "id": "6b538a2d-ef8b-42cb-ae51-8b15df18eeb0",
   "metadata": {},
   "outputs": [],
   "source": [
    "l2.remove(45)"
   ]
  },
  {
   "cell_type": "code",
   "execution_count": 91,
   "id": "2b308a29-04da-4aaf-abf6-4367e2d5a658",
   "metadata": {},
   "outputs": [
    {
     "data": {
      "text/plain": [
       "[10, 45]"
      ]
     },
     "execution_count": 91,
     "metadata": {},
     "output_type": "execute_result"
    }
   ],
   "source": [
    "l1"
   ]
  },
  {
   "cell_type": "code",
   "execution_count": 93,
   "id": "871e4b39-4fed-47c5-b0fb-be510e55ee78",
   "metadata": {},
   "outputs": [
    {
     "data": {
      "text/plain": [
       "[95, 25]"
      ]
     },
     "execution_count": 93,
     "metadata": {},
     "output_type": "execute_result"
    }
   ],
   "source": [
    "l2"
   ]
  },
  {
   "cell_type": "code",
   "execution_count": 95,
   "id": "20613f60-b2c8-4d6e-bf58-8008894c2c67",
   "metadata": {},
   "outputs": [],
   "source": [
    "l2.insert(5,\"piyush\")"
   ]
  },
  {
   "cell_type": "code",
   "execution_count": 97,
   "id": "3f78b3c5-95cb-433c-a09e-ebb6f4300ad0",
   "metadata": {},
   "outputs": [
    {
     "data": {
      "text/plain": [
       "[95, 25, 'piyush']"
      ]
     },
     "execution_count": 97,
     "metadata": {},
     "output_type": "execute_result"
    }
   ],
   "source": [
    "l2"
   ]
  },
  {
   "cell_type": "code",
   "execution_count": 99,
   "id": "73f7e855-9942-48e3-9c09-8cfa79527091",
   "metadata": {},
   "outputs": [],
   "source": [
    "l2.insert(1,\"khandelwal\")"
   ]
  },
  {
   "cell_type": "code",
   "execution_count": 101,
   "id": "588fbfbc-309c-4291-8804-71849daacd90",
   "metadata": {},
   "outputs": [
    {
     "data": {
      "text/plain": [
       "[95, 'khandelwal', 25, 'piyush']"
      ]
     },
     "execution_count": 101,
     "metadata": {},
     "output_type": "execute_result"
    }
   ],
   "source": [
    "l2"
   ]
  },
  {
   "cell_type": "code",
   "execution_count": 103,
   "id": "a3329ae3-90b3-4ae3-a070-ee26ed48e38b",
   "metadata": {},
   "outputs": [
    {
     "ename": "TypeError",
     "evalue": "'<' not supported between instances of 'str' and 'int'",
     "output_type": "error",
     "traceback": [
      "\u001b[1;31m---------------------------------------------------------------------------\u001b[0m",
      "\u001b[1;31mTypeError\u001b[0m                                 Traceback (most recent call last)",
      "Cell \u001b[1;32mIn[103], line 1\u001b[0m\n\u001b[1;32m----> 1\u001b[0m l2\u001b[38;5;241m.\u001b[39msort()\n",
      "\u001b[1;31mTypeError\u001b[0m: '<' not supported between instances of 'str' and 'int'"
     ]
    }
   ],
   "source": [
    "l2.sort()"
   ]
  },
  {
   "cell_type": "code",
   "execution_count": 105,
   "id": "0898e9b1-57b5-4e9c-9d40-490758e9d5aa",
   "metadata": {},
   "outputs": [],
   "source": [
    "l=[10,2,56,84,78,10,2,1,3,5,6]"
   ]
  },
  {
   "cell_type": "code",
   "execution_count": 107,
   "id": "1638e7b9-53e7-40eb-90c1-1dad3eeaa7d4",
   "metadata": {},
   "outputs": [
    {
     "ename": "NameError",
     "evalue": "name 'sort' is not defined",
     "output_type": "error",
     "traceback": [
      "\u001b[1;31m---------------------------------------------------------------------------\u001b[0m",
      "\u001b[1;31mNameError\u001b[0m                                 Traceback (most recent call last)",
      "Cell \u001b[1;32mIn[107], line 1\u001b[0m\n\u001b[1;32m----> 1\u001b[0m sort(l)\n",
      "\u001b[1;31mNameError\u001b[0m: name 'sort' is not defined"
     ]
    }
   ],
   "source": [
    "sort(l)"
   ]
  },
  {
   "cell_type": "code",
   "execution_count": 109,
   "id": "1d0a7caf-eb4f-434c-a457-111ae0e555f0",
   "metadata": {},
   "outputs": [],
   "source": [
    "l.sort()"
   ]
  },
  {
   "cell_type": "code",
   "execution_count": 111,
   "id": "3e2ee447-ff3f-4f34-b60d-24eeda161cb8",
   "metadata": {},
   "outputs": [
    {
     "data": {
      "text/plain": [
       "[1, 2, 2, 3, 5, 6, 10, 10, 56, 78, 84]"
      ]
     },
     "execution_count": 111,
     "metadata": {},
     "output_type": "execute_result"
    }
   ],
   "source": [
    "l"
   ]
  },
  {
   "cell_type": "code",
   "execution_count": 113,
   "id": "02e51cd1-a95b-4641-9314-96d2ff7e7059",
   "metadata": {},
   "outputs": [],
   "source": [
    "l.sort(reverse=True)"
   ]
  },
  {
   "cell_type": "code",
   "execution_count": 115,
   "id": "b30cb98d-b55d-452f-9826-cdb3f9b90038",
   "metadata": {},
   "outputs": [
    {
     "data": {
      "text/plain": [
       "[84, 78, 56, 10, 10, 6, 5, 3, 2, 2, 1]"
      ]
     },
     "execution_count": 115,
     "metadata": {},
     "output_type": "execute_result"
    }
   ],
   "source": [
    "l"
   ]
  },
  {
   "cell_type": "code",
   "execution_count": 117,
   "id": "4aa0527e-e957-4551-8b0d-6d0a8593820f",
   "metadata": {},
   "outputs": [
    {
     "ename": "AttributeError",
     "evalue": "'list' object has no attribute 'sorted'",
     "output_type": "error",
     "traceback": [
      "\u001b[1;31m---------------------------------------------------------------------------\u001b[0m",
      "\u001b[1;31mAttributeError\u001b[0m                            Traceback (most recent call last)",
      "Cell \u001b[1;32mIn[117], line 1\u001b[0m\n\u001b[1;32m----> 1\u001b[0m l\u001b[38;5;241m.\u001b[39msorted()\n",
      "\u001b[1;31mAttributeError\u001b[0m: 'list' object has no attribute 'sorted'"
     ]
    }
   ],
   "source": [
    "l.sorted()"
   ]
  },
  {
   "cell_type": "code",
   "execution_count": 119,
   "id": "d1cc820b-16b4-4ea5-a26e-56a269ed316d",
   "metadata": {},
   "outputs": [
    {
     "data": {
      "text/plain": [
       "[1, 2, 2, 3, 5, 6, 10, 10, 56, 78, 84]"
      ]
     },
     "execution_count": 119,
     "metadata": {},
     "output_type": "execute_result"
    }
   ],
   "source": [
    "sorted(l)"
   ]
  },
  {
   "cell_type": "code",
   "execution_count": 121,
   "id": "b13fe210-022f-472c-b3a0-d363b9279484",
   "metadata": {},
   "outputs": [
    {
     "data": {
      "text/plain": [
       "[84, 78, 56, 10, 10, 6, 5, 3, 2, 2, 1]"
      ]
     },
     "execution_count": 121,
     "metadata": {},
     "output_type": "execute_result"
    }
   ],
   "source": [
    "sorted(l,reverse=True)"
   ]
  },
  {
   "cell_type": "code",
   "execution_count": 123,
   "id": "d6286e0f-7445-4e3c-8138-72a6212aa6c3",
   "metadata": {},
   "outputs": [],
   "source": [
    "l.clear()"
   ]
  },
  {
   "cell_type": "code",
   "execution_count": 125,
   "id": "e589f24d-da79-4b9a-879a-b79f794d9082",
   "metadata": {},
   "outputs": [
    {
     "data": {
      "text/plain": [
       "[]"
      ]
     },
     "execution_count": 125,
     "metadata": {},
     "output_type": "execute_result"
    }
   ],
   "source": [
    "l\n"
   ]
  },
  {
   "cell_type": "code",
   "execution_count": 127,
   "id": "453e3734-2b49-46ab-b4d8-9a0a25050105",
   "metadata": {},
   "outputs": [],
   "source": [
    "# tuple \n"
   ]
  },
  {
   "cell_type": "code",
   "execution_count": 129,
   "id": "2f657135-1f0a-4499-9bc9-b7624b99ae90",
   "metadata": {},
   "outputs": [],
   "source": [
    "t=(45,2,45,78,71)"
   ]
  },
  {
   "cell_type": "code",
   "execution_count": 131,
   "id": "10b6feb0-a907-4121-9654-771556858cf8",
   "metadata": {},
   "outputs": [
    {
     "data": {
      "text/plain": [
       "(45, 2, 45, 78, 71)"
      ]
     },
     "execution_count": 131,
     "metadata": {},
     "output_type": "execute_result"
    }
   ],
   "source": [
    "t"
   ]
  },
  {
   "cell_type": "code",
   "execution_count": 133,
   "id": "0cb070c5-e061-4b6a-aef9-c24473f48511",
   "metadata": {},
   "outputs": [
    {
     "data": {
      "text/plain": [
       "tuple"
      ]
     },
     "execution_count": 133,
     "metadata": {},
     "output_type": "execute_result"
    }
   ],
   "source": [
    "type(t)"
   ]
  },
  {
   "cell_type": "code",
   "execution_count": 137,
   "id": "707a806b-1e0c-42bb-9ab4-4c5c7bc242a3",
   "metadata": {},
   "outputs": [
    {
     "ename": "AttributeError",
     "evalue": "'tuple' object has no attribute 'append'",
     "output_type": "error",
     "traceback": [
      "\u001b[1;31m---------------------------------------------------------------------------\u001b[0m",
      "\u001b[1;31mAttributeError\u001b[0m                            Traceback (most recent call last)",
      "Cell \u001b[1;32mIn[137], line 1\u001b[0m\n\u001b[1;32m----> 1\u001b[0m t\u001b[38;5;241m.\u001b[39mappend(\u001b[38;5;241m5\u001b[39m)\n",
      "\u001b[1;31mAttributeError\u001b[0m: 'tuple' object has no attribute 'append'"
     ]
    }
   ],
   "source": [
    "t.append(5)"
   ]
  },
  {
   "cell_type": "code",
   "execution_count": 141,
   "id": "76877634-2956-417f-9eeb-e40a46d55a0e",
   "metadata": {},
   "outputs": [
    {
     "data": {
      "text/plain": [
       "0"
      ]
     },
     "execution_count": 141,
     "metadata": {},
     "output_type": "execute_result"
    }
   ],
   "source": [
    "t.index(45)"
   ]
  },
  {
   "cell_type": "code",
   "execution_count": 143,
   "id": "03aa36cd-3a10-4cbe-84f9-36f99ad8ff48",
   "metadata": {},
   "outputs": [
    {
     "ename": "AttributeError",
     "evalue": "'tuple' object has no attribute 'insert'",
     "output_type": "error",
     "traceback": [
      "\u001b[1;31m---------------------------------------------------------------------------\u001b[0m",
      "\u001b[1;31mAttributeError\u001b[0m                            Traceback (most recent call last)",
      "Cell \u001b[1;32mIn[143], line 1\u001b[0m\n\u001b[1;32m----> 1\u001b[0m t\u001b[38;5;241m.\u001b[39minsert(\u001b[38;5;241m1\u001b[39m,\u001b[38;5;241m45\u001b[39m)\n",
      "\u001b[1;31mAttributeError\u001b[0m: 'tuple' object has no attribute 'insert'"
     ]
    }
   ],
   "source": [
    "t.insert(1,45)"
   ]
  },
  {
   "cell_type": "code",
   "execution_count": 145,
   "id": "e5c9dcfe-5d5d-4325-8b01-45fe215c5565",
   "metadata": {},
   "outputs": [
    {
     "data": {
      "text/plain": [
       "5"
      ]
     },
     "execution_count": 145,
     "metadata": {},
     "output_type": "execute_result"
    }
   ],
   "source": [
    "len(t)"
   ]
  },
  {
   "cell_type": "code",
   "execution_count": 147,
   "id": "71161bec-06aa-4a2e-b5ea-557cf6b89f49",
   "metadata": {},
   "outputs": [
    {
     "ename": "AttributeError",
     "evalue": "'tuple' object has no attribute 'remove'",
     "output_type": "error",
     "traceback": [
      "\u001b[1;31m---------------------------------------------------------------------------\u001b[0m",
      "\u001b[1;31mAttributeError\u001b[0m                            Traceback (most recent call last)",
      "Cell \u001b[1;32mIn[147], line 1\u001b[0m\n\u001b[1;32m----> 1\u001b[0m t\u001b[38;5;241m.\u001b[39mremove()\n",
      "\u001b[1;31mAttributeError\u001b[0m: 'tuple' object has no attribute 'remove'"
     ]
    }
   ],
   "source": [
    "t.remove()"
   ]
  },
  {
   "cell_type": "code",
   "execution_count": 149,
   "id": "cf50a1ad-3d77-40a5-837b-26360ac4c61f",
   "metadata": {},
   "outputs": [
    {
     "data": {
      "text/plain": [
       "[]"
      ]
     },
     "execution_count": 149,
     "metadata": {},
     "output_type": "execute_result"
    }
   ],
   "source": [
    "l"
   ]
  },
  {
   "cell_type": "code",
   "execution_count": 151,
   "id": "6724945d-8e00-4972-9f8c-1d1db0eb73be",
   "metadata": {},
   "outputs": [
    {
     "data": {
      "text/plain": [
       "[10, 45]"
      ]
     },
     "execution_count": 151,
     "metadata": {},
     "output_type": "execute_result"
    }
   ],
   "source": [
    "l1"
   ]
  },
  {
   "cell_type": "code",
   "execution_count": 153,
   "id": "b67c2c16-71a9-42b2-8aaf-45cbd6d51b8e",
   "metadata": {},
   "outputs": [],
   "source": [
    "del l1"
   ]
  },
  {
   "cell_type": "code",
   "execution_count": 155,
   "id": "a7b7e2b6-2820-485d-8248-7893f573d913",
   "metadata": {},
   "outputs": [
    {
     "ename": "NameError",
     "evalue": "name 'l1' is not defined",
     "output_type": "error",
     "traceback": [
      "\u001b[1;31m---------------------------------------------------------------------------\u001b[0m",
      "\u001b[1;31mNameError\u001b[0m                                 Traceback (most recent call last)",
      "Cell \u001b[1;32mIn[155], line 1\u001b[0m\n\u001b[1;32m----> 1\u001b[0m l1\n",
      "\u001b[1;31mNameError\u001b[0m: name 'l1' is not defined"
     ]
    }
   ],
   "source": [
    "l1"
   ]
  },
  {
   "cell_type": "code",
   "execution_count": 157,
   "id": "97e3eba0-06df-45eb-9bce-51698b09d294",
   "metadata": {},
   "outputs": [
    {
     "data": {
      "text/plain": [
       "(45, 2, 45, 78, 71)"
      ]
     },
     "execution_count": 157,
     "metadata": {},
     "output_type": "execute_result"
    }
   ],
   "source": [
    "t"
   ]
  },
  {
   "cell_type": "code",
   "execution_count": 159,
   "id": "1dfc39ca-ee71-4110-bc55-796af6327e63",
   "metadata": {},
   "outputs": [
    {
     "data": {
      "text/plain": [
       "(45, 2, 45, 78, 71)"
      ]
     },
     "execution_count": 159,
     "metadata": {},
     "output_type": "execute_result"
    }
   ],
   "source": [
    "t"
   ]
  },
  {
   "cell_type": "code",
   "execution_count": 161,
   "id": "873287ca-24b4-4ae8-a058-a01b8819fb65",
   "metadata": {},
   "outputs": [
    {
     "ename": "TypeError",
     "evalue": "tuple.count() takes exactly one argument (0 given)",
     "output_type": "error",
     "traceback": [
      "\u001b[1;31m---------------------------------------------------------------------------\u001b[0m",
      "\u001b[1;31mTypeError\u001b[0m                                 Traceback (most recent call last)",
      "Cell \u001b[1;32mIn[161], line 1\u001b[0m\n\u001b[1;32m----> 1\u001b[0m t\u001b[38;5;241m.\u001b[39mcount()\n",
      "\u001b[1;31mTypeError\u001b[0m: tuple.count() takes exactly one argument (0 given)"
     ]
    }
   ],
   "source": [
    "t.count()"
   ]
  },
  {
   "cell_type": "code",
   "execution_count": 163,
   "id": "2e962e49-395f-48cc-922a-0ad6a19dcfc0",
   "metadata": {},
   "outputs": [
    {
     "data": {
      "text/plain": [
       "2"
      ]
     },
     "execution_count": 163,
     "metadata": {},
     "output_type": "execute_result"
    }
   ],
   "source": [
    "t.count(45)"
   ]
  },
  {
   "cell_type": "code",
   "execution_count": 165,
   "id": "d6adb3cb-11c3-4e06-98cb-9224e81412fb",
   "metadata": {},
   "outputs": [
    {
     "ename": "AttributeError",
     "evalue": "'tuple' object has no attribute 'sort'",
     "output_type": "error",
     "traceback": [
      "\u001b[1;31m---------------------------------------------------------------------------\u001b[0m",
      "\u001b[1;31mAttributeError\u001b[0m                            Traceback (most recent call last)",
      "Cell \u001b[1;32mIn[165], line 1\u001b[0m\n\u001b[1;32m----> 1\u001b[0m t\u001b[38;5;241m.\u001b[39msort()\n",
      "\u001b[1;31mAttributeError\u001b[0m: 'tuple' object has no attribute 'sort'"
     ]
    }
   ],
   "source": [
    "t.sort()"
   ]
  },
  {
   "cell_type": "code",
   "execution_count": 167,
   "id": "d1099312-0cda-4f3b-a927-4d545e5b6af1",
   "metadata": {},
   "outputs": [
    {
     "data": {
      "text/plain": [
       "[2, 45, 45, 71, 78]"
      ]
     },
     "execution_count": 167,
     "metadata": {},
     "output_type": "execute_result"
    }
   ],
   "source": [
    "sorted(t)"
   ]
  },
  {
   "cell_type": "code",
   "execution_count": 169,
   "id": "f55fe50d-ed2a-4ade-abc2-7cc81d35f02b",
   "metadata": {},
   "outputs": [
    {
     "data": {
      "text/plain": [
       "[78, 71, 45, 45, 2]"
      ]
     },
     "execution_count": 169,
     "metadata": {},
     "output_type": "execute_result"
    }
   ],
   "source": [
    "sorted(t,reverse=True)"
   ]
  },
  {
   "cell_type": "code",
   "execution_count": 177,
   "id": "5ffaef21-dfbc-4f18-b4fe-7d7bd8972792",
   "metadata": {},
   "outputs": [
    {
     "name": "stdout",
     "output_type": "stream",
     "text": [
      "<class 'tuple'>\n",
      "<class 'tuple'>\n"
     ]
    }
   ],
   "source": [
    "t1=(5,)\n",
    "t2=(5,6)\n",
    "print(type(t1))\n",
    "print(type(t2))"
   ]
  },
  {
   "cell_type": "code",
   "execution_count": 179,
   "id": "74e16b3f-b8e2-4573-8643-e1b0e705c8bc",
   "metadata": {},
   "outputs": [
    {
     "data": {
      "text/plain": [
       "False"
      ]
     },
     "execution_count": 179,
     "metadata": {},
     "output_type": "execute_result"
    }
   ],
   "source": [
    "t1>t2"
   ]
  },
  {
   "cell_type": "code",
   "execution_count": 181,
   "id": "d944ba23-24e8-4659-97a4-e3e3c74faf45",
   "metadata": {},
   "outputs": [
    {
     "ename": "TypeError",
     "evalue": "can only concatenate tuple (not \"int\") to tuple",
     "output_type": "error",
     "traceback": [
      "\u001b[1;31m---------------------------------------------------------------------------\u001b[0m",
      "\u001b[1;31mTypeError\u001b[0m                                 Traceback (most recent call last)",
      "Cell \u001b[1;32mIn[181], line 1\u001b[0m\n\u001b[1;32m----> 1\u001b[0m t1\u001b[38;5;241m+\u001b[39m\u001b[38;5;241m5\u001b[39m\n",
      "\u001b[1;31mTypeError\u001b[0m: can only concatenate tuple (not \"int\") to tuple"
     ]
    }
   ],
   "source": [
    "t1+5"
   ]
  },
  {
   "cell_type": "code",
   "execution_count": 183,
   "id": "acf055e8-5b5a-4253-8d1e-314bfeba240c",
   "metadata": {},
   "outputs": [
    {
     "ename": "TypeError",
     "evalue": "can only concatenate tuple (not \"int\") to tuple",
     "output_type": "error",
     "traceback": [
      "\u001b[1;31m---------------------------------------------------------------------------\u001b[0m",
      "\u001b[1;31mTypeError\u001b[0m                                 Traceback (most recent call last)",
      "Cell \u001b[1;32mIn[183], line 1\u001b[0m\n\u001b[1;32m----> 1\u001b[0m t1\u001b[38;5;241m+\u001b[39m(\u001b[38;5;241m5\u001b[39m)\n",
      "\u001b[1;31mTypeError\u001b[0m: can only concatenate tuple (not \"int\") to tuple"
     ]
    }
   ],
   "source": [
    "t1+(5)"
   ]
  },
  {
   "cell_type": "code",
   "execution_count": 185,
   "id": "51f4f51a-0ea1-4734-9008-a3353e5e64db",
   "metadata": {},
   "outputs": [
    {
     "data": {
      "text/plain": [
       "(5, 5)"
      ]
     },
     "execution_count": 185,
     "metadata": {},
     "output_type": "execute_result"
    }
   ],
   "source": [
    "t1+(5,)"
   ]
  },
  {
   "cell_type": "code",
   "execution_count": 187,
   "id": "08c9b273-6365-4c03-ac69-883093852d09",
   "metadata": {},
   "outputs": [
    {
     "ename": "TypeError",
     "evalue": "'tuple' object does not support item assignment",
     "output_type": "error",
     "traceback": [
      "\u001b[1;31m---------------------------------------------------------------------------\u001b[0m",
      "\u001b[1;31mTypeError\u001b[0m                                 Traceback (most recent call last)",
      "Cell \u001b[1;32mIn[187], line 1\u001b[0m\n\u001b[1;32m----> 1\u001b[0m t2[\u001b[38;5;241m1\u001b[39m]\u001b[38;5;241m=\u001b[39m\u001b[38;5;241m45\u001b[39m\n",
      "\u001b[1;31mTypeError\u001b[0m: 'tuple' object does not support item assignment"
     ]
    }
   ],
   "source": [
    "t2[1]=45"
   ]
  },
  {
   "cell_type": "code",
   "execution_count": 197,
   "id": "6b8467b4-8201-4306-a326-8e39282de6e2",
   "metadata": {},
   "outputs": [],
   "source": [
    "t=(10,15,20,2)"
   ]
  },
  {
   "cell_type": "code",
   "execution_count": 199,
   "id": "bcd1e3c8-a788-4801-b851-079d10dc037c",
   "metadata": {},
   "outputs": [
    {
     "data": {
      "text/plain": [
       "(10, 15, 20, 2)"
      ]
     },
     "execution_count": 199,
     "metadata": {},
     "output_type": "execute_result"
    }
   ],
   "source": [
    "t"
   ]
  },
  {
   "cell_type": "code",
   "execution_count": 201,
   "id": "056af02f-738a-4e1d-b059-8467435fea4a",
   "metadata": {},
   "outputs": [
    {
     "data": {
      "text/plain": [
       "tuple"
      ]
     },
     "execution_count": 201,
     "metadata": {},
     "output_type": "execute_result"
    }
   ],
   "source": [
    "type(t)"
   ]
  },
  {
   "cell_type": "code",
   "execution_count": 203,
   "id": "a9eb3513-41da-4926-8fa7-3d910811a806",
   "metadata": {},
   "outputs": [
    {
     "data": {
      "text/plain": [
       "4"
      ]
     },
     "execution_count": 203,
     "metadata": {},
     "output_type": "execute_result"
    }
   ],
   "source": [
    "len(t)"
   ]
  },
  {
   "cell_type": "code",
   "execution_count": 205,
   "id": "b563e189-b45b-4440-9abc-7c09d2622ee0",
   "metadata": {},
   "outputs": [],
   "source": [
    "a,b,c,d=t"
   ]
  },
  {
   "cell_type": "code",
   "execution_count": 207,
   "id": "e19af44e-7b26-4cc4-bff1-14c373c216b9",
   "metadata": {},
   "outputs": [],
   "source": [
    "a=1000"
   ]
  },
  {
   "cell_type": "code",
   "execution_count": 209,
   "id": "fea75108-becd-43d5-908c-d56f9431360a",
   "metadata": {},
   "outputs": [],
   "source": [
    "t=a,b,c,d"
   ]
  },
  {
   "cell_type": "code",
   "execution_count": 211,
   "id": "c965012f-9ec8-4a99-be35-ed6d570fc6c6",
   "metadata": {},
   "outputs": [
    {
     "data": {
      "text/plain": [
       "(1000, 15, 20, 2)"
      ]
     },
     "execution_count": 211,
     "metadata": {},
     "output_type": "execute_result"
    }
   ],
   "source": [
    "t"
   ]
  },
  {
   "cell_type": "code",
   "execution_count": 213,
   "id": "0f648a52-0656-42a3-b36d-c604451c610f",
   "metadata": {},
   "outputs": [],
   "source": [
    "l=list(t)"
   ]
  },
  {
   "cell_type": "code",
   "execution_count": 215,
   "id": "ee95c7c7-2335-438b-b492-7adc6fc0ba02",
   "metadata": {},
   "outputs": [
    {
     "data": {
      "text/plain": [
       "[1000, 15, 20, 2]"
      ]
     },
     "execution_count": 215,
     "metadata": {},
     "output_type": "execute_result"
    }
   ],
   "source": [
    "l"
   ]
  },
  {
   "cell_type": "code",
   "execution_count": 217,
   "id": "c7eec291-5bfe-4c04-a44f-61a3ed4a8e20",
   "metadata": {},
   "outputs": [],
   "source": [
    "l[0]=10"
   ]
  },
  {
   "cell_type": "code",
   "execution_count": 219,
   "id": "5c8e4641-2525-4884-8fcb-e95582e904ea",
   "metadata": {},
   "outputs": [],
   "source": [
    "t=tuple(l)"
   ]
  },
  {
   "cell_type": "code",
   "execution_count": 221,
   "id": "261a1c97-a1d9-4bd4-a2da-f67961406011",
   "metadata": {},
   "outputs": [
    {
     "data": {
      "text/plain": [
       "(10, 15, 20, 2)"
      ]
     },
     "execution_count": 221,
     "metadata": {},
     "output_type": "execute_result"
    }
   ],
   "source": [
    "t"
   ]
  },
  {
   "cell_type": "code",
   "execution_count": 223,
   "id": "1939de22-0ea2-45c0-aaab-ba2686ca2e81",
   "metadata": {},
   "outputs": [
    {
     "name": "stdin",
     "output_type": "stream",
     "text": [
      "enter tuple elements: 5,\n"
     ]
    },
    {
     "name": "stdout",
     "output_type": "stream",
     "text": [
      "(5,) <class 'tuple'>\n"
     ]
    }
   ],
   "source": [
    "t=eval(input(\"enter tuple elements:\"))\n",
    "print(t,type(t))"
   ]
  },
  {
   "cell_type": "code",
   "execution_count": 225,
   "id": "4494dacf-0d11-4fc6-81e6-44898ec5bf5d",
   "metadata": {},
   "outputs": [],
   "source": [
    "d={45,12,78,96,32,54,12}"
   ]
  },
  {
   "cell_type": "code",
   "execution_count": 227,
   "id": "09fb7ae3-446f-4622-b761-6ad1c9cc7688",
   "metadata": {},
   "outputs": [
    {
     "data": {
      "text/plain": [
       "{12, 32, 45, 54, 78, 96}"
      ]
     },
     "execution_count": 227,
     "metadata": {},
     "output_type": "execute_result"
    }
   ],
   "source": [
    "d"
   ]
  },
  {
   "cell_type": "code",
   "execution_count": 229,
   "id": "7fc8a339-7ce7-4c7b-adab-a455b604dcf7",
   "metadata": {},
   "outputs": [
    {
     "data": {
      "text/plain": [
       "set"
      ]
     },
     "execution_count": 229,
     "metadata": {},
     "output_type": "execute_result"
    }
   ],
   "source": [
    "type(d)"
   ]
  },
  {
   "cell_type": "code",
   "execution_count": 231,
   "id": "7724d947-e8b7-46ec-b59f-540e5f4de2e4",
   "metadata": {},
   "outputs": [
    {
     "ename": "TypeError",
     "evalue": "'set' object is not subscriptable",
     "output_type": "error",
     "traceback": [
      "\u001b[1;31m---------------------------------------------------------------------------\u001b[0m",
      "\u001b[1;31mTypeError\u001b[0m                                 Traceback (most recent call last)",
      "Cell \u001b[1;32mIn[231], line 1\u001b[0m\n\u001b[1;32m----> 1\u001b[0m d[\u001b[38;5;241m1\u001b[39m]\n",
      "\u001b[1;31mTypeError\u001b[0m: 'set' object is not subscriptable"
     ]
    }
   ],
   "source": [
    "d[1]"
   ]
  },
  {
   "cell_type": "code",
   "execution_count": 233,
   "id": "a9b88de2-dfaf-461a-8637-ffd1efc0024f",
   "metadata": {},
   "outputs": [
    {
     "data": {
      "text/plain": [
       "4"
      ]
     },
     "execution_count": 233,
     "metadata": {},
     "output_type": "execute_result"
    }
   ],
   "source": [
    "len(l)"
   ]
  },
  {
   "cell_type": "code",
   "execution_count": 235,
   "id": "5cfc1d30-8401-4896-bd9d-5dacd2101421",
   "metadata": {},
   "outputs": [
    {
     "data": {
      "text/plain": [
       "6"
      ]
     },
     "execution_count": 235,
     "metadata": {},
     "output_type": "execute_result"
    }
   ],
   "source": [
    "len(d)"
   ]
  },
  {
   "cell_type": "code",
   "execution_count": 237,
   "id": "c3835375-45fc-49b8-acd1-6fb08232ffc3",
   "metadata": {},
   "outputs": [],
   "source": [
    "di={\"name\":\"piyush\",\"class\":12}"
   ]
  },
  {
   "cell_type": "code",
   "execution_count": 239,
   "id": "50068ced-490b-4a65-a8fb-3e2e76e04165",
   "metadata": {},
   "outputs": [
    {
     "data": {
      "text/plain": [
       "{'name': 'piyush', 'class': 12}"
      ]
     },
     "execution_count": 239,
     "metadata": {},
     "output_type": "execute_result"
    }
   ],
   "source": [
    "di"
   ]
  },
  {
   "cell_type": "code",
   "execution_count": 241,
   "id": "8aabc78d-0476-41f0-88da-18f148fffb94",
   "metadata": {},
   "outputs": [
    {
     "data": {
      "text/plain": [
       "dict"
      ]
     },
     "execution_count": 241,
     "metadata": {},
     "output_type": "execute_result"
    }
   ],
   "source": [
    "type(di)"
   ]
  },
  {
   "cell_type": "code",
   "execution_count": 243,
   "id": "77c70262-fabd-4821-b780-155967410e06",
   "metadata": {},
   "outputs": [
    {
     "data": {
      "text/plain": [
       "dict_keys(['name', 'class'])"
      ]
     },
     "execution_count": 243,
     "metadata": {},
     "output_type": "execute_result"
    }
   ],
   "source": [
    "di.keys()"
   ]
  },
  {
   "cell_type": "code",
   "execution_count": 245,
   "id": "7a2ab9d1-65b0-44a8-820c-ff697b4e0da3",
   "metadata": {},
   "outputs": [
    {
     "name": "stdout",
     "output_type": "stream",
     "text": [
      "name\n",
      "class\n"
     ]
    }
   ],
   "source": [
    "for i in di:\n",
    "    print(i)"
   ]
  },
  {
   "cell_type": "code",
   "execution_count": 247,
   "id": "804076b9-257e-4cbb-b4b3-4625130e9106",
   "metadata": {},
   "outputs": [
    {
     "name": "stdout",
     "output_type": "stream",
     "text": [
      "name ---------> piyush\n",
      "class ---------> 12\n"
     ]
    }
   ],
   "source": [
    "for i in di:\n",
    "    print(i,\"--------->\",di[i])"
   ]
  },
  {
   "cell_type": "code",
   "execution_count": 249,
   "id": "56e3fc8a-201b-4653-a16e-a06b5a64e9dd",
   "metadata": {},
   "outputs": [
    {
     "data": {
      "text/plain": [
       "dict_items([('name', 'piyush'), ('class', 12)])"
      ]
     },
     "execution_count": 249,
     "metadata": {},
     "output_type": "execute_result"
    }
   ],
   "source": [
    "di.items()"
   ]
  },
  {
   "cell_type": "code",
   "execution_count": 251,
   "id": "7b159a5d-fab2-4f77-872a-dc466d99ac98",
   "metadata": {},
   "outputs": [
    {
     "name": "stdout",
     "output_type": "stream",
     "text": [
      "piyush\n",
      "12\n"
     ]
    }
   ],
   "source": [
    "for i in di.keys():\n",
    "    print(di[i])"
   ]
  },
  {
   "cell_type": "code",
   "execution_count": 255,
   "id": "e29df177-52a7-4560-b600-fe5cea3ddf28",
   "metadata": {},
   "outputs": [
    {
     "name": "stdout",
     "output_type": "stream",
     "text": [
      "('name', 'piyush')\n",
      "('class', 12)\n"
     ]
    }
   ],
   "source": [
    "for i in di.items():\n",
    "    print(i)"
   ]
  },
  {
   "cell_type": "code",
   "execution_count": 257,
   "id": "4cf9f42b-96f3-4958-ad18-11c7f53544b3",
   "metadata": {},
   "outputs": [
    {
     "ename": "TypeError",
     "evalue": "get expected at least 1 argument, got 0",
     "output_type": "error",
     "traceback": [
      "\u001b[1;31m---------------------------------------------------------------------------\u001b[0m",
      "\u001b[1;31mTypeError\u001b[0m                                 Traceback (most recent call last)",
      "Cell \u001b[1;32mIn[257], line 1\u001b[0m\n\u001b[1;32m----> 1\u001b[0m di\u001b[38;5;241m.\u001b[39mget()\n",
      "\u001b[1;31mTypeError\u001b[0m: get expected at least 1 argument, got 0"
     ]
    }
   ],
   "source": [
    "di.get()"
   ]
  },
  {
   "cell_type": "code",
   "execution_count": 259,
   "id": "0df9943c-ecaa-46d2-82d3-d19410411335",
   "metadata": {},
   "outputs": [
    {
     "data": {
      "text/plain": [
       "'piyush'"
      ]
     },
     "execution_count": 259,
     "metadata": {},
     "output_type": "execute_result"
    }
   ],
   "source": [
    "di.get(\"name\")"
   ]
  },
  {
   "cell_type": "code",
   "execution_count": 261,
   "id": "de224250-313f-4d57-b23e-a7e33b20206e",
   "metadata": {},
   "outputs": [
    {
     "ename": "TypeError",
     "evalue": "pop expected at least 1 argument, got 0",
     "output_type": "error",
     "traceback": [
      "\u001b[1;31m---------------------------------------------------------------------------\u001b[0m",
      "\u001b[1;31mTypeError\u001b[0m                                 Traceback (most recent call last)",
      "Cell \u001b[1;32mIn[261], line 1\u001b[0m\n\u001b[1;32m----> 1\u001b[0m di\u001b[38;5;241m.\u001b[39mpop()\n",
      "\u001b[1;31mTypeError\u001b[0m: pop expected at least 1 argument, got 0"
     ]
    }
   ],
   "source": [
    "di.pop()"
   ]
  },
  {
   "cell_type": "code",
   "execution_count": 263,
   "id": "0f782df6-d29d-48a4-be1f-4c51b654da1e",
   "metadata": {},
   "outputs": [
    {
     "data": {
      "text/plain": [
       "12"
      ]
     },
     "execution_count": 263,
     "metadata": {},
     "output_type": "execute_result"
    }
   ],
   "source": [
    "di.pop(\"class\")"
   ]
  },
  {
   "cell_type": "code",
   "execution_count": 265,
   "id": "193ba5fc-46e2-48db-9234-4d393dc8bbb7",
   "metadata": {},
   "outputs": [
    {
     "data": {
      "text/plain": [
       "{'name': 'piyush'}"
      ]
     },
     "execution_count": 265,
     "metadata": {},
     "output_type": "execute_result"
    }
   ],
   "source": [
    "di"
   ]
  },
  {
   "cell_type": "code",
   "execution_count": 269,
   "id": "3ddcf07c-1e44-4ba3-a28c-f21f22eec619",
   "metadata": {},
   "outputs": [],
   "source": [
    "di[\"Lab\"]=\"java lab\""
   ]
  },
  {
   "cell_type": "code",
   "execution_count": 271,
   "id": "2a769bf7-518a-49ab-aaa5-19d81fc4266b",
   "metadata": {},
   "outputs": [
    {
     "data": {
      "text/plain": [
       "{'name': 'piyush', 'Lab': 'java lab'}"
      ]
     },
     "execution_count": 271,
     "metadata": {},
     "output_type": "execute_result"
    }
   ],
   "source": [
    "di"
   ]
  },
  {
   "cell_type": "code",
   "execution_count": 273,
   "id": "4b0110f1-836b-47c9-8c04-bdc968997d06",
   "metadata": {},
   "outputs": [
    {
     "ename": "TypeError",
     "evalue": "setdefault expected at least 1 argument, got 0",
     "output_type": "error",
     "traceback": [
      "\u001b[1;31m---------------------------------------------------------------------------\u001b[0m",
      "\u001b[1;31mTypeError\u001b[0m                                 Traceback (most recent call last)",
      "Cell \u001b[1;32mIn[273], line 1\u001b[0m\n\u001b[1;32m----> 1\u001b[0m di\u001b[38;5;241m.\u001b[39msetdefault()\n",
      "\u001b[1;31mTypeError\u001b[0m: setdefault expected at least 1 argument, got 0"
     ]
    }
   ],
   "source": [
    "di.setdefault()"
   ]
  },
  {
   "cell_type": "code",
   "execution_count": 275,
   "id": "978715d1-26da-4e74-8716-f5a3c77c7c46",
   "metadata": {},
   "outputs": [
    {
     "ename": "SyntaxError",
     "evalue": "invalid syntax (3518599876.py, line 1)",
     "output_type": "error",
     "traceback": [
      "\u001b[1;36m  Cell \u001b[1;32mIn[275], line 1\u001b[1;36m\u001b[0m\n\u001b[1;33m    di.update('name':piyush)\u001b[0m\n\u001b[1;37m                    ^\u001b[0m\n\u001b[1;31mSyntaxError\u001b[0m\u001b[1;31m:\u001b[0m invalid syntax\n"
     ]
    }
   ],
   "source": [
    "di.update('name':piyush)"
   ]
  },
  {
   "cell_type": "code",
   "execution_count": 287,
   "id": "6c1bf6ed-40b0-4346-971c-da49ce0f5625",
   "metadata": {},
   "outputs": [],
   "source": [
    "di.clear()"
   ]
  },
  {
   "cell_type": "code",
   "execution_count": 289,
   "id": "d6c7e5e8-bc69-426f-bbf6-45adde42ef3c",
   "metadata": {},
   "outputs": [
    {
     "data": {
      "text/plain": [
       "<function id(obj, /)>"
      ]
     },
     "execution_count": 289,
     "metadata": {},
     "output_type": "execute_result"
    }
   ],
   "source": [
    "id"
   ]
  },
  {
   "cell_type": "code",
   "execution_count": 291,
   "id": "bc6352f0-0820-485f-9324-074afdb3c2fa",
   "metadata": {},
   "outputs": [
    {
     "data": {
      "text/plain": [
       "{}"
      ]
     },
     "execution_count": 291,
     "metadata": {},
     "output_type": "execute_result"
    }
   ],
   "source": [
    "di"
   ]
  },
  {
   "cell_type": "code",
   "execution_count": 295,
   "id": "456aa1aa-b3da-4ca8-8315-2b66a7d89b17",
   "metadata": {},
   "outputs": [
    {
     "name": "stdout",
     "output_type": "stream",
     "text": [
      "[1, 3, 5, 7, 9]\n"
     ]
    }
   ],
   "source": [
    " a=[1,2,3,4,5,6,7,8,9]\n",
    "print(a[::2])\n"
   ]
  },
  {
   "cell_type": "code",
   "execution_count": 297,
   "id": "ee5c80e6-8cad-4103-aa6e-8e36ca4a1a1d",
   "metadata": {},
   "outputs": [
    {
     "ename": "ValueError",
     "evalue": "attempt to assign sequence of size 6 to extended slice of size 5",
     "output_type": "error",
     "traceback": [
      "\u001b[1;31m---------------------------------------------------------------------------\u001b[0m",
      "\u001b[1;31mValueError\u001b[0m                                Traceback (most recent call last)",
      "Cell \u001b[1;32mIn[297], line 2\u001b[0m\n\u001b[0;32m      1\u001b[0m a\u001b[38;5;241m=\u001b[39m[\u001b[38;5;241m1\u001b[39m,\u001b[38;5;241m2\u001b[39m,\u001b[38;5;241m3\u001b[39m,\u001b[38;5;241m4\u001b[39m,\u001b[38;5;241m5\u001b[39m,\u001b[38;5;241m6\u001b[39m,\u001b[38;5;241m7\u001b[39m,\u001b[38;5;241m8\u001b[39m,\u001b[38;5;241m9\u001b[39m]\n\u001b[1;32m----> 2\u001b[0m a[::\u001b[38;5;241m2\u001b[39m]\u001b[38;5;241m=\u001b[39m\u001b[38;5;241m10\u001b[39m,\u001b[38;5;241m20\u001b[39m,\u001b[38;5;241m30\u001b[39m,\u001b[38;5;241m40\u001b[39m,\u001b[38;5;241m50\u001b[39m,\u001b[38;5;241m60\u001b[39m\n\u001b[0;32m      3\u001b[0m \u001b[38;5;28mprint\u001b[39m(a)\n",
      "\u001b[1;31mValueError\u001b[0m: attempt to assign sequence of size 6 to extended slice of size 5"
     ]
    }
   ],
   "source": [
    "a=[1,2,3,4,5,6,7,8,9]\n",
    "a[::2]=10,20,30,40,50,60\n",
    "print(a)"
   ]
  },
  {
   "cell_type": "code",
   "execution_count": 299,
   "id": "4f7c0727-3ae6-4e78-853d-f1415ab9b715",
   "metadata": {},
   "outputs": [
    {
     "name": "stdout",
     "output_type": "stream",
     "text": [
      "[4, 3, 2]\n"
     ]
    }
   ],
   "source": [
    " a=[1,2,3,4,5]\n",
    "print(a[3:0:-1])\n"
   ]
  },
  {
   "cell_type": "code",
   "execution_count": 304,
   "id": "ff324f61-e844-418b-8a6a-9b8f3f4270ec",
   "metadata": {},
   "outputs": [
    {
     "name": "stdout",
     "output_type": "stream",
     "text": [
      "3 44\n"
     ]
    }
   ],
   "source": [
    " def f(value, values):\n",
    "          v = 1\n",
    "          values[0] = 44\n",
    " t = 3\n",
    " v = [1, 2, 3]\n",
    " f(t, v)\n",
    " print(t, v[0])\n"
   ]
  },
  {
   "cell_type": "code",
   "execution_count": 306,
   "id": "460a9786-e603-4d60-baff-d2898faade49",
   "metadata": {},
   "outputs": [],
   "source": [
    "fruit=['apple', 'banana', 'papaya', 'cherry']\n",
    "\n"
   ]
  },
  {
   "cell_type": "code",
   "execution_count": 308,
   "id": "a3096d1f-bf5e-4fc1-ab60-cf1fe445ebee",
   "metadata": {},
   "outputs": [
    {
     "ename": "NameError",
     "evalue": "name 'shuffle' is not defined",
     "output_type": "error",
     "traceback": [
      "\u001b[1;31m---------------------------------------------------------------------------\u001b[0m",
      "\u001b[1;31mNameError\u001b[0m                                 Traceback (most recent call last)",
      "Cell \u001b[1;32mIn[308], line 1\u001b[0m\n\u001b[1;32m----> 1\u001b[0m shuffle\u001b[38;5;241m.\u001b[39mfruit()\n",
      "\u001b[1;31mNameError\u001b[0m: name 'shuffle' is not defined"
     ]
    }
   ],
   "source": [
    "shuffle.fruit()"
   ]
  },
  {
   "cell_type": "code",
   "execution_count": 316,
   "id": "badbf253-3628-40cd-b68e-68d9b11ad9bc",
   "metadata": {},
   "outputs": [
    {
     "ename": "NameError",
     "evalue": "name 'random' is not defined",
     "output_type": "error",
     "traceback": [
      "\u001b[1;31m---------------------------------------------------------------------------\u001b[0m",
      "\u001b[1;31mNameError\u001b[0m                                 Traceback (most recent call last)",
      "Cell \u001b[1;32mIn[316], line 1\u001b[0m\n\u001b[1;32m----> 1\u001b[0m random\u001b[38;5;241m.\u001b[39mshuffle(fruit)\n",
      "\u001b[1;31mNameError\u001b[0m: name 'random' is not defined"
     ]
    }
   ],
   "source": [
    "random.shuffle(fruit)"
   ]
  },
  {
   "cell_type": "code",
   "execution_count": 318,
   "id": "6ca085fd-83e1-4095-b007-397c03e2b729",
   "metadata": {},
   "outputs": [
    {
     "ename": "SyntaxError",
     "evalue": "Did you mean to use 'from ... import ...' instead? (3318351951.py, line 1)",
     "output_type": "error",
     "traceback": [
      "\u001b[1;36m  Cell \u001b[1;32mIn[318], line 1\u001b[1;36m\u001b[0m\n\u001b[1;33m    import random from math\u001b[0m\n\u001b[1;37m    ^\u001b[0m\n\u001b[1;31mSyntaxError\u001b[0m\u001b[1;31m:\u001b[0m Did you mean to use 'from ... import ...' instead?\n"
     ]
    }
   ],
   "source": [
    "import random from math"
   ]
  },
  {
   "cell_type": "code",
   "execution_count": 320,
   "id": "210d574e-52f2-419f-9a63-a719ff0bdb1d",
   "metadata": {},
   "outputs": [],
   "source": [
    "import math"
   ]
  },
  {
   "cell_type": "code",
   "execution_count": 322,
   "id": "19383d8e-f878-4f5e-9dda-07f8b718e963",
   "metadata": {},
   "outputs": [
    {
     "name": "stdout",
     "output_type": "stream",
     "text": [
      "0\n"
     ]
    }
   ],
   "source": [
    "init_tuple = ()\n",
    "print (init_tuple.__len__())"
   ]
  },
  {
   "cell_type": "code",
   "execution_count": 324,
   "id": "c0f0d4d1-edac-49bd-9b3c-9ea7bc392701",
   "metadata": {},
   "outputs": [
    {
     "data": {
      "text/plain": [
       "tuple"
      ]
     },
     "execution_count": 324,
     "metadata": {},
     "output_type": "execute_result"
    }
   ],
   "source": [
    "type(init_tuple)"
   ]
  },
  {
   "cell_type": "code",
   "execution_count": null,
   "id": "4daff9c9-039a-482d-9344-7be8663773a2",
   "metadata": {},
   "outputs": [],
   "source": []
  }
 ],
 "metadata": {
  "kernelspec": {
   "display_name": "Python [conda env:base] *",
   "language": "python",
   "name": "conda-base-py"
  },
  "language_info": {
   "codemirror_mode": {
    "name": "ipython",
    "version": 3
   },
   "file_extension": ".py",
   "mimetype": "text/x-python",
   "name": "python",
   "nbconvert_exporter": "python",
   "pygments_lexer": "ipython3",
   "version": "3.12.7"
  }
 },
 "nbformat": 4,
 "nbformat_minor": 5
}
