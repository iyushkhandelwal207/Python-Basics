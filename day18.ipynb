{
 "cells": [
  {
   "cell_type": "code",
   "execution_count": 1,
   "id": "d86330e5-c38b-47e9-b450-c63dae3cb598",
   "metadata": {},
   "outputs": [],
   "source": [
    "class A:\n",
    "    def __init__(self):\n",
    "        self.__name=\"naveen\"\n",
    "    def getname(self):\n",
    "        return self.__name\n",
    "    def setname(self,name):\n",
    "        self.__name=name\n",
    "        "
   ]
  },
  {
   "cell_type": "code",
   "execution_count": 2,
   "id": "9b228b94-362e-4b72-bf96-1dd88b5869bf",
   "metadata": {},
   "outputs": [
    {
     "data": {
      "text/plain": [
       "'Hritik'"
      ]
     },
     "execution_count": 2,
     "metadata": {},
     "output_type": "execute_result"
    }
   ],
   "source": [
    "obj=A()\n",
    "obj.setname(\"Hritik\")\n",
    "obj.getname()"
   ]
  },
  {
   "cell_type": "code",
   "execution_count": 5,
   "id": "449aa111-e8a7-4747-9142-302d2722c6a1",
   "metadata": {},
   "outputs": [],
   "source": [
    "class opr:\n",
    "    a=10\n",
    "    b=20\n",
    "    def add(self):\n",
    "        add=self.a+self.b\n",
    "        return add"
   ]
  },
  {
   "cell_type": "code",
   "execution_count": 6,
   "id": "fd645bba-400c-4dd5-a022-01ea9b1d8c7a",
   "metadata": {},
   "outputs": [
    {
     "name": "stdout",
     "output_type": "stream",
     "text": [
      "10\n",
      "20\n",
      "30\n"
     ]
    }
   ],
   "source": [
    "obj=opr()\n",
    "print(obj.a)\n",
    "print(obj.b)\n",
    "print(obj.add())"
   ]
  },
  {
   "cell_type": "code",
   "execution_count": 7,
   "id": "054216fd-2952-4d12-ad3a-22567ac9d66e",
   "metadata": {},
   "outputs": [],
   "source": [
    "class opr:\n",
    "    __a=10\n",
    "    __b=20\n",
    "    def add(self):\n",
    "        add=self.__a+self.__b\n",
    "        return add"
   ]
  },
  {
   "cell_type": "code",
   "execution_count": 8,
   "id": "39a90274-3780-4ab6-9798-ba26e17750e9",
   "metadata": {},
   "outputs": [
    {
     "ename": "AttributeError",
     "evalue": "'opr' object has no attribute '__a'",
     "output_type": "error",
     "traceback": [
      "\u001b[1;31m---------------------------------------------------------------------------\u001b[0m",
      "\u001b[1;31mAttributeError\u001b[0m                            Traceback (most recent call last)",
      "Cell \u001b[1;32mIn[8], line 2\u001b[0m\n\u001b[0;32m      1\u001b[0m obj\u001b[38;5;241m=\u001b[39mopr()\n\u001b[1;32m----> 2\u001b[0m obj\u001b[38;5;241m.\u001b[39m__a\n",
      "\u001b[1;31mAttributeError\u001b[0m: 'opr' object has no attribute '__a'"
     ]
    }
   ],
   "source": [
    "obj=opr()\n",
    "obj.__a"
   ]
  },
  {
   "cell_type": "code",
   "execution_count": 9,
   "id": "cb57cfdd-f25c-46bf-b587-0de00a50569b",
   "metadata": {},
   "outputs": [
    {
     "ename": "AttributeError",
     "evalue": "'opr' object has no attribute '__b'",
     "output_type": "error",
     "traceback": [
      "\u001b[1;31m---------------------------------------------------------------------------\u001b[0m",
      "\u001b[1;31mAttributeError\u001b[0m                            Traceback (most recent call last)",
      "Cell \u001b[1;32mIn[9], line 1\u001b[0m\n\u001b[1;32m----> 1\u001b[0m obj\u001b[38;5;241m.\u001b[39m__b\n",
      "\u001b[1;31mAttributeError\u001b[0m: 'opr' object has no attribute '__b'"
     ]
    }
   ],
   "source": [
    "obj.__b"
   ]
  },
  {
   "cell_type": "code",
   "execution_count": 10,
   "id": "572dee55-938b-42dc-bf0c-8dd72b560f84",
   "metadata": {},
   "outputs": [
    {
     "data": {
      "text/plain": [
       "30"
      ]
     },
     "execution_count": 10,
     "metadata": {},
     "output_type": "execute_result"
    }
   ],
   "source": [
    "obj.add()"
   ]
  },
  {
   "cell_type": "code",
   "execution_count": 11,
   "id": "7094aa03-1913-4e02-9d9f-84df30600b69",
   "metadata": {},
   "outputs": [],
   "source": [
    "class opr:\n",
    "    __a=10\n",
    "    __b=50\n",
    "    def __add(self):\n",
    "        add=self.__a+self.__b\n",
    "        return add"
   ]
  },
  {
   "cell_type": "code",
   "execution_count": 12,
   "id": "7df2e883-7ed5-4ad3-a87b-a8b399f12f42",
   "metadata": {},
   "outputs": [
    {
     "ename": "AttributeError",
     "evalue": "'opr' object has no attribute '__a'",
     "output_type": "error",
     "traceback": [
      "\u001b[1;31m---------------------------------------------------------------------------\u001b[0m",
      "\u001b[1;31mAttributeError\u001b[0m                            Traceback (most recent call last)",
      "Cell \u001b[1;32mIn[12], line 2\u001b[0m\n\u001b[0;32m      1\u001b[0m obj\u001b[38;5;241m=\u001b[39mopr()\n\u001b[1;32m----> 2\u001b[0m obj\u001b[38;5;241m.\u001b[39m__a\n",
      "\u001b[1;31mAttributeError\u001b[0m: 'opr' object has no attribute '__a'"
     ]
    }
   ],
   "source": [
    "obj=opr()\n",
    "obj.__a"
   ]
  },
  {
   "cell_type": "code",
   "execution_count": 13,
   "id": "24544bdb-6a13-4aaa-9675-2c681e3686db",
   "metadata": {},
   "outputs": [
    {
     "ename": "AttributeError",
     "evalue": "'opr' object has no attribute '__add'",
     "output_type": "error",
     "traceback": [
      "\u001b[1;31m---------------------------------------------------------------------------\u001b[0m",
      "\u001b[1;31mAttributeError\u001b[0m                            Traceback (most recent call last)",
      "Cell \u001b[1;32mIn[13], line 1\u001b[0m\n\u001b[1;32m----> 1\u001b[0m obj\u001b[38;5;241m.\u001b[39m__add()\n",
      "\u001b[1;31mAttributeError\u001b[0m: 'opr' object has no attribute '__add'"
     ]
    }
   ],
   "source": [
    "obj.__add()"
   ]
  },
  {
   "cell_type": "code",
   "execution_count": 14,
   "id": "40043c42-90ad-424d-ba24-18071a5a92fd",
   "metadata": {},
   "outputs": [],
   "source": [
    "class opr:\n",
    "    __a=10\n",
    "    __b=50\n",
    "    def __add(self):\n",
    "        add=self.__a+self.__b\n",
    "        return add\n",
    "    def sub(self):\n",
    "        print(self.__add())\n",
    "        sub=self.__b-self.__a\n",
    "        return sub"
   ]
  },
  {
   "cell_type": "code",
   "execution_count": 15,
   "id": "d3985d70-0c55-4370-b3e6-0184ce47981f",
   "metadata": {},
   "outputs": [],
   "source": [
    "obj=opr()"
   ]
  },
  {
   "cell_type": "code",
   "execution_count": 16,
   "id": "86de2c8f-1faf-4418-b22f-e17839bddbc2",
   "metadata": {},
   "outputs": [
    {
     "ename": "AttributeError",
     "evalue": "'opr' object has no attribute '__add'",
     "output_type": "error",
     "traceback": [
      "\u001b[1;31m---------------------------------------------------------------------------\u001b[0m",
      "\u001b[1;31mAttributeError\u001b[0m                            Traceback (most recent call last)",
      "Cell \u001b[1;32mIn[16], line 1\u001b[0m\n\u001b[1;32m----> 1\u001b[0m obj\u001b[38;5;241m.\u001b[39m__add()\n",
      "\u001b[1;31mAttributeError\u001b[0m: 'opr' object has no attribute '__add'"
     ]
    }
   ],
   "source": [
    "obj.__add()"
   ]
  },
  {
   "cell_type": "code",
   "execution_count": 17,
   "id": "3e1c5ba4-798a-46ff-b6f5-c343dc5d7719",
   "metadata": {},
   "outputs": [
    {
     "name": "stdout",
     "output_type": "stream",
     "text": [
      "60\n"
     ]
    },
    {
     "data": {
      "text/plain": [
       "40"
      ]
     },
     "execution_count": 17,
     "metadata": {},
     "output_type": "execute_result"
    }
   ],
   "source": [
    "obj.sub()"
   ]
  },
  {
   "cell_type": "code",
   "execution_count": 21,
   "id": "77451b68-9df4-4931-9ea0-d717220e3a1e",
   "metadata": {},
   "outputs": [],
   "source": [
    "class A:\n",
    "    def info(self,name=\" \"):\n",
    "        print(\"Introduction to\",name)"
   ]
  },
  {
   "cell_type": "code",
   "execution_count": 22,
   "id": "3789864f-5ce0-43d8-980d-1502777217ec",
   "metadata": {},
   "outputs": [],
   "source": [
    "obj=A()"
   ]
  },
  {
   "cell_type": "code",
   "execution_count": 23,
   "id": "db91aeef-ae0e-405e-b140-ad7b24799707",
   "metadata": {},
   "outputs": [
    {
     "name": "stdout",
     "output_type": "stream",
     "text": [
      "Introduction to  \n"
     ]
    }
   ],
   "source": [
    "obj.info()"
   ]
  },
  {
   "cell_type": "code",
   "execution_count": 24,
   "id": "8fd4324a-b048-442a-ba7a-b4938379ca9f",
   "metadata": {},
   "outputs": [
    {
     "name": "stdout",
     "output_type": "stream",
     "text": [
      "Introduction to Python\n"
     ]
    }
   ],
   "source": [
    "obj.info(\"Python\")"
   ]
  },
  {
   "cell_type": "code",
   "execution_count": 25,
   "id": "c730e16a-8cf6-4c22-88fd-68abc7781e3c",
   "metadata": {},
   "outputs": [
    {
     "name": "stdout",
     "output_type": "stream",
     "text": [
      "Introduction to Java\n"
     ]
    }
   ],
   "source": [
    "obj.info(\"Java\")"
   ]
  },
  {
   "cell_type": "code",
   "execution_count": 27,
   "id": "bb93a841-36d1-411c-8982-9e4e8ad7e9ff",
   "metadata": {},
   "outputs": [],
   "source": [
    "class calc:\n",
    "    def area(rp,a=None,b=None):\n",
    "        if a!=None and b!=None:\n",
    "            print(\"Area of rectangle:\",a*b)\n",
    "        elif a!=None:\n",
    "            print(\"Area of square:\",a*a)\n",
    "        else:\n",
    "            print(\"Nothing to Find\")"
   ]
  },
  {
   "cell_type": "code",
   "execution_count": 28,
   "id": "92bcbed2-de48-4f79-9960-b8710302a18c",
   "metadata": {},
   "outputs": [
    {
     "name": "stdout",
     "output_type": "stream",
     "text": [
      "Nothing to Find\n"
     ]
    }
   ],
   "source": [
    "obj=calc()\n",
    "obj.area()"
   ]
  },
  {
   "cell_type": "code",
   "execution_count": 29,
   "id": "e0f991d1-3593-45f0-bbb1-9fd0beb090d4",
   "metadata": {},
   "outputs": [
    {
     "name": "stdout",
     "output_type": "stream",
     "text": [
      "Area of rectangle: 6\n"
     ]
    }
   ],
   "source": [
    "obj.area(2,3)"
   ]
  },
  {
   "cell_type": "code",
   "execution_count": 30,
   "id": "aa26a960-bfa2-4771-9612-e1dadd4581d7",
   "metadata": {},
   "outputs": [
    {
     "name": "stdout",
     "output_type": "stream",
     "text": [
      "Area of square: 16\n"
     ]
    }
   ],
   "source": [
    "obj.area(4)"
   ]
  },
  {
   "cell_type": "code",
   "execution_count": 33,
   "id": "b1490ac1-8c47-4842-beed-46219ebd41f1",
   "metadata": {},
   "outputs": [],
   "source": [
    "class A:\n",
    "    def info(self,name=\"Python\"):\n",
    "        print(\"Intro to\",name)\n",
    "\n",
    "class B(A):\n",
    "    def info(self,name=\"java\"):\n",
    "        print(\"Intro to\",name)"
   ]
  },
  {
   "cell_type": "code",
   "execution_count": 34,
   "id": "1870ca61-6d12-4aee-b19e-e28e8ffcdfe7",
   "metadata": {},
   "outputs": [],
   "source": [
    "obj=B()"
   ]
  },
  {
   "cell_type": "code",
   "execution_count": 35,
   "id": "52cf68d4-9bc9-4f8e-8c02-8ba3a744ff90",
   "metadata": {},
   "outputs": [
    {
     "name": "stdout",
     "output_type": "stream",
     "text": [
      "Intro to java\n"
     ]
    }
   ],
   "source": [
    "obj.info()"
   ]
  },
  {
   "cell_type": "code",
   "execution_count": 36,
   "id": "7ae27b2b-2893-42c0-8cb6-abc6314e5e1e",
   "metadata": {},
   "outputs": [],
   "source": [
    "class A:\n",
    "    def info(self,name=\"Python\"):\n",
    "        print(\"Intro to\",name)\n",
    "\n",
    "class B(A):\n",
    "    def info(self,name=\"java\"):\n",
    "        super().info()\n",
    "        print(\"Intro to\",name)"
   ]
  },
  {
   "cell_type": "code",
   "execution_count": 37,
   "id": "07b3667f-de3b-4276-b0fb-60344330506a",
   "metadata": {},
   "outputs": [
    {
     "name": "stdout",
     "output_type": "stream",
     "text": [
      "Intro to Python\n",
      "Intro to java\n"
     ]
    }
   ],
   "source": [
    "obj=B()\n",
    "obj.info()"
   ]
  },
  {
   "cell_type": "code",
   "execution_count": 1,
   "id": "9afe24ea-6c2d-4575-9c91-6f4a8d3c8312",
   "metadata": {},
   "outputs": [],
   "source": [
    "import tkinter\n",
    "from tkinter import *\n",
    "\n",
    "window = tkinter.Tk()\n",
    "window.title(\"C&H CAFE TALK\")\n",
    "window.geometry(\"1080x560\")  ## \"width x height\"\n",
    "window.configure(background=\"yellow\")\n",
    "\n",
    "label1 = tkinter.Label(window, text=\"C&H CAFE TALK\", bg=\"green\", font=(\"Arial Bold\", 30)).pack()\n",
    "label2 = tkinter.Label(window, text=\"Since - 1999\", bg=\"red\", font=(\"Arial Bold\", 15)).pack()\n",
    "label3 = tkinter.Label(window, text=\"WWW.C&HCAFETALK.COM\", bg=\"red\", font=(\"Arial Bold\", 15)).pack()\n",
    "label4 = tkinter.Label(window, text=\"MENU CARD\", bg=\"red\", font=(\"Arial Bold\", 15)).pack()\n",
    "\n",
    "b1 = Button(text=\"Indian\", fg=\"white\", bg=\"black\", font=(\"bold\", 25))\n",
    "b1.pack(side=\"right\")\n",
    "\n",
    "b2 = Button(text=\"German\", fg=\"white\", bg=\"black\", font=(\"bold\", 25))\n",
    "b2.pack(side=\"left\")\n",
    "\n",
    "b3 = Button(text=\"Korean\", fg=\"white\", bg=\"black\", font=(\"bold\", 25))\n",
    "b3.pack(side=\"top\")\n",
    "\n",
    "b4 = Button(text=\"Vietnamese\", fg=\"white\", bg=\"black\", font=(\"bold\", 25))\n",
    "b4.pack(side=\"bottom\")\n",
    "\n",
    "window.mainloop()\n"
   ]
  },
  {
   "cell_type": "code",
   "execution_count": null,
   "id": "8775ea81-48ac-481a-9dc3-5ef85b095cb0",
   "metadata": {},
   "outputs": [],
   "source": []
  }
 ],
 "metadata": {
  "kernelspec": {
   "display_name": "Python [conda env:base] *",
   "language": "python",
   "name": "conda-base-py"
  },
  "language_info": {
   "codemirror_mode": {
    "name": "ipython",
    "version": 3
   },
   "file_extension": ".py",
   "mimetype": "text/x-python",
   "name": "python",
   "nbconvert_exporter": "python",
   "pygments_lexer": "ipython3",
   "version": "3.12.7"
  }
 },
 "nbformat": 4,
 "nbformat_minor": 5
}
