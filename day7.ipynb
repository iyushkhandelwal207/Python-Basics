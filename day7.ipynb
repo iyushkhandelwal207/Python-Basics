{
 "cells": [
  {
   "cell_type": "code",
   "execution_count": 1,
   "id": "8f89efcc-5e52-45f3-95c5-a7ce2c84d36c",
   "metadata": {},
   "outputs": [],
   "source": [
    "l=[78,\"ram\",4.5,7,\"manoh\"]"
   ]
  },
  {
   "cell_type": "code",
   "execution_count": 3,
   "id": "9e0bc138-c994-4af6-b5a8-f6fcbed32eb7",
   "metadata": {},
   "outputs": [
    {
     "name": "stdout",
     "output_type": "stream",
     "text": [
      "[78, 'ram', 4.5, 7, 'manoh'] <class 'list'>\n"
     ]
    }
   ],
   "source": [
    "print(l,type(l))"
   ]
  },
  {
   "cell_type": "code",
   "execution_count": 5,
   "id": "64ce114d-cb1d-4393-bf2f-bc1fdabe9f5c",
   "metadata": {},
   "outputs": [
    {
     "data": {
      "text/plain": [
       "1973697558912"
      ]
     },
     "execution_count": 5,
     "metadata": {},
     "output_type": "execute_result"
    }
   ],
   "source": [
    "id(l)"
   ]
  },
  {
   "cell_type": "code",
   "execution_count": 7,
   "id": "a0fdb358-1cf7-4d29-b2e5-50ad3557165a",
   "metadata": {},
   "outputs": [
    {
     "data": {
      "text/plain": [
       "'ram'"
      ]
     },
     "execution_count": 7,
     "metadata": {},
     "output_type": "execute_result"
    }
   ],
   "source": [
    "l[1]"
   ]
  },
  {
   "cell_type": "code",
   "execution_count": 9,
   "id": "613402fb-0fba-41cd-b147-a4a922c57c7d",
   "metadata": {},
   "outputs": [],
   "source": [
    "l[1]=\"mohan\""
   ]
  },
  {
   "cell_type": "code",
   "execution_count": 11,
   "id": "e1fc455e-c74a-4227-b133-25ff72e8e9d7",
   "metadata": {},
   "outputs": [
    {
     "data": {
      "text/plain": [
       "[78, 'mohan', 4.5, 7, 'manoh']"
      ]
     },
     "execution_count": 11,
     "metadata": {},
     "output_type": "execute_result"
    }
   ],
   "source": [
    "l"
   ]
  },
  {
   "cell_type": "code",
   "execution_count": 13,
   "id": "ea3660fe-398d-4d07-bddd-5bc5f7240713",
   "metadata": {},
   "outputs": [
    {
     "data": {
      "text/plain": [
       "7"
      ]
     },
     "execution_count": 13,
     "metadata": {},
     "output_type": "execute_result"
    }
   ],
   "source": [
    "l[3]"
   ]
  },
  {
   "cell_type": "code",
   "execution_count": 15,
   "id": "a4bc0dc2-0b5f-44a9-91ab-39477cb72dcd",
   "metadata": {},
   "outputs": [
    {
     "data": {
      "text/plain": [
       "7"
      ]
     },
     "execution_count": 15,
     "metadata": {},
     "output_type": "execute_result"
    }
   ],
   "source": [
    "l[-2]"
   ]
  },
  {
   "cell_type": "code",
   "execution_count": 19,
   "id": "926c6294-940a-476a-93a7-a1d9be3b72ec",
   "metadata": {},
   "outputs": [
    {
     "data": {
      "text/plain": [
       "'manoh'"
      ]
     },
     "execution_count": 19,
     "metadata": {},
     "output_type": "execute_result"
    }
   ],
   "source": [
    "l[len(l)-1]"
   ]
  },
  {
   "cell_type": "code",
   "execution_count": 21,
   "id": "dd4923ee-bfe2-41cd-82da-8ba2f1ac9bcb",
   "metadata": {},
   "outputs": [
    {
     "data": {
      "text/plain": [
       "[78, 'mohan', 4.5, 7, 'manoh']"
      ]
     },
     "execution_count": 21,
     "metadata": {},
     "output_type": "execute_result"
    }
   ],
   "source": [
    "l"
   ]
  },
  {
   "cell_type": "code",
   "execution_count": 29,
   "id": "138e4be8-7777-4dcf-805c-4808201417e2",
   "metadata": {},
   "outputs": [
    {
     "name": "stdout",
     "output_type": "stream",
     "text": [
      "78\n",
      "mohan\n",
      "4.5\n",
      "7\n",
      "manoh\n"
     ]
    }
   ],
   "source": [
    "for k in l:\n",
    "    print(k)"
   ]
  },
  {
   "cell_type": "code",
   "execution_count": 31,
   "id": "38ae7fc9-2461-4184-969c-4ed0ff6e904b",
   "metadata": {},
   "outputs": [
    {
     "name": "stdout",
     "output_type": "stream",
     "text": [
      "78 mohan 4.5 7 manoh "
     ]
    }
   ],
   "source": [
    "for k in l:\n",
    "    print(k,end=\" \")"
   ]
  },
  {
   "cell_type": "code",
   "execution_count": 35,
   "id": "3072e738-ba06-4a65-a4f6-d5cc80edc84d",
   "metadata": {},
   "outputs": [
    {
     "name": "stdout",
     "output_type": "stream",
     "text": [
      "78\n",
      "mohan\n",
      "4.5\n",
      "7\n",
      "manoh\n"
     ]
    }
   ],
   "source": [
    "for k in range (len(l)):\n",
    "    print(l[k])"
   ]
  },
  {
   "cell_type": "code",
   "execution_count": 37,
   "id": "51ae32f4-ff96-43b8-8b6e-7153de5d8025",
   "metadata": {},
   "outputs": [],
   "source": [
    "l=[600,300,400,500,200]"
   ]
  },
  {
   "cell_type": "code",
   "execution_count": 39,
   "id": "5f5b5b23-1b78-4759-b4cd-a6db7d3daf14",
   "metadata": {},
   "outputs": [
    {
     "name": "stdout",
     "output_type": "stream",
     "text": [
      "650 350 450 550 250 "
     ]
    }
   ],
   "source": [
    "for k in l:\n",
    "    print(k+50,end=\" \")"
   ]
  },
  {
   "cell_type": "code",
   "execution_count": 41,
   "id": "24c765aa-9fc6-40b0-850d-e0b6a21c90d2",
   "metadata": {},
   "outputs": [
    {
     "data": {
      "text/plain": [
       "[600, 300, 400, 500, 200]"
      ]
     },
     "execution_count": 41,
     "metadata": {},
     "output_type": "execute_result"
    }
   ],
   "source": [
    "l"
   ]
  },
  {
   "cell_type": "code",
   "execution_count": 43,
   "id": "5135b715-deb9-4b47-88bf-36971094d0b1",
   "metadata": {},
   "outputs": [
    {
     "data": {
      "text/plain": [
       "4"
      ]
     },
     "execution_count": 43,
     "metadata": {},
     "output_type": "execute_result"
    }
   ],
   "source": [
    "l.index(200)"
   ]
  },
  {
   "cell_type": "code",
   "execution_count": 45,
   "id": "4637fb25-bda7-4e12-adef-543b4f188100",
   "metadata": {},
   "outputs": [
    {
     "data": {
      "text/plain": [
       "1"
      ]
     },
     "execution_count": 45,
     "metadata": {},
     "output_type": "execute_result"
    }
   ],
   "source": [
    "l.index(300)"
   ]
  },
  {
   "cell_type": "code",
   "execution_count": 47,
   "id": "4b1b5d47-4a02-46e6-a34c-7da5d43f3114",
   "metadata": {},
   "outputs": [
    {
     "data": {
      "text/plain": [
       "True"
      ]
     },
     "execution_count": 47,
     "metadata": {},
     "output_type": "execute_result"
    }
   ],
   "source": [
    "l1=[62,12,45]\n",
    "l2=[2,300,400,600,700]\n",
    "l1>l2"
   ]
  },
  {
   "cell_type": "code",
   "execution_count": 49,
   "id": "674cb3d5-d4ab-4af5-9662-a0a4a5cf33e1",
   "metadata": {},
   "outputs": [
    {
     "data": {
      "text/plain": [
       "False"
      ]
     },
     "execution_count": 49,
     "metadata": {},
     "output_type": "execute_result"
    }
   ],
   "source": [
    "l1=[62,12,45]\n",
    "l2=[62,300,400,600,700]\n",
    "l1>l2"
   ]
  },
  {
   "cell_type": "code",
   "execution_count": 51,
   "id": "3dd14d53-35bd-49a7-b4b9-6445d8a37b60",
   "metadata": {},
   "outputs": [
    {
     "data": {
      "text/plain": [
       "True"
      ]
     },
     "execution_count": 51,
     "metadata": {},
     "output_type": "execute_result"
    }
   ],
   "source": [
    "l1=[\"ram\",\"ajay\",\"mukesh\"]\n",
    "l2=[\"Ram\",\"Ajay\",\"Mukesh\"]\n",
    "l1>l2"
   ]
  },
  {
   "cell_type": "code",
   "execution_count": 53,
   "id": "df136580-02c2-474a-a3e7-fba601c867c8",
   "metadata": {},
   "outputs": [
    {
     "ename": "NameError",
     "evalue": "name 'a' is not defined",
     "output_type": "error",
     "traceback": [
      "\u001b[1;31m---------------------------------------------------------------------------\u001b[0m",
      "\u001b[1;31mNameError\u001b[0m                                 Traceback (most recent call last)",
      "Cell \u001b[1;32mIn[53], line 1\u001b[0m\n\u001b[1;32m----> 1\u001b[0m \u001b[38;5;28mord\u001b[39m(a)\n",
      "\u001b[1;31mNameError\u001b[0m: name 'a' is not defined"
     ]
    }
   ],
   "source": [
    "ord(a)"
   ]
  },
  {
   "cell_type": "code",
   "execution_count": 57,
   "id": "4fcd2f12-b6b5-4178-8169-d2038ea73288",
   "metadata": {},
   "outputs": [
    {
     "name": "stdout",
     "output_type": "stream",
     "text": [
      "65\n"
     ]
    }
   ],
   "source": [
    "print(ord(\"A\"))"
   ]
  },
  {
   "cell_type": "code",
   "execution_count": 59,
   "id": "a43ca0c8-7c8f-4c9b-9410-1449f368a24e",
   "metadata": {},
   "outputs": [
    {
     "name": "stdout",
     "output_type": "stream",
     "text": [
      "64\n"
     ]
    }
   ],
   "source": [
    "print(ord(\"@\"))"
   ]
  },
  {
   "cell_type": "code",
   "execution_count": 61,
   "id": "02a62fe0-cfa5-480b-bb22-ef45118434b5",
   "metadata": {},
   "outputs": [
    {
     "data": {
      "text/plain": [
       "'a'"
      ]
     },
     "execution_count": 61,
     "metadata": {},
     "output_type": "execute_result"
    }
   ],
   "source": [
    "chr(97)"
   ]
  },
  {
   "cell_type": "code",
   "execution_count": 63,
   "id": "a510cfa5-6d16-4a21-af0d-2129844c90c3",
   "metadata": {},
   "outputs": [
    {
     "name": "stdout",
     "output_type": "stream",
     "text": [
      "Help on class list in module builtins:\n",
      "\n",
      "class list(object)\n",
      " |  list(iterable=(), /)\n",
      " |\n",
      " |  Built-in mutable sequence.\n",
      " |\n",
      " |  If no argument is given, the constructor creates a new empty list.\n",
      " |  The argument must be an iterable if specified.\n",
      " |\n",
      " |  Methods defined here:\n",
      " |\n",
      " |  __add__(self, value, /)\n",
      " |      Return self+value.\n",
      " |\n",
      " |  __contains__(self, key, /)\n",
      " |      Return bool(key in self).\n",
      " |\n",
      " |  __delitem__(self, key, /)\n",
      " |      Delete self[key].\n",
      " |\n",
      " |  __eq__(self, value, /)\n",
      " |      Return self==value.\n",
      " |\n",
      " |  __ge__(self, value, /)\n",
      " |      Return self>=value.\n",
      " |\n",
      " |  __getattribute__(self, name, /)\n",
      " |      Return getattr(self, name).\n",
      " |\n",
      " |  __getitem__(self, index, /)\n",
      " |      Return self[index].\n",
      " |\n",
      " |  __gt__(self, value, /)\n",
      " |      Return self>value.\n",
      " |\n",
      " |  __iadd__(self, value, /)\n",
      " |      Implement self+=value.\n",
      " |\n",
      " |  __imul__(self, value, /)\n",
      " |      Implement self*=value.\n",
      " |\n",
      " |  __init__(self, /, *args, **kwargs)\n",
      " |      Initialize self.  See help(type(self)) for accurate signature.\n",
      " |\n",
      " |  __iter__(self, /)\n",
      " |      Implement iter(self).\n",
      " |\n",
      " |  __le__(self, value, /)\n",
      " |      Return self<=value.\n",
      " |\n",
      " |  __len__(self, /)\n",
      " |      Return len(self).\n",
      " |\n",
      " |  __lt__(self, value, /)\n",
      " |      Return self<value.\n",
      " |\n",
      " |  __mul__(self, value, /)\n",
      " |      Return self*value.\n",
      " |\n",
      " |  __ne__(self, value, /)\n",
      " |      Return self!=value.\n",
      " |\n",
      " |  __repr__(self, /)\n",
      " |      Return repr(self).\n",
      " |\n",
      " |  __reversed__(self, /)\n",
      " |      Return a reverse iterator over the list.\n",
      " |\n",
      " |  __rmul__(self, value, /)\n",
      " |      Return value*self.\n",
      " |\n",
      " |  __setitem__(self, key, value, /)\n",
      " |      Set self[key] to value.\n",
      " |\n",
      " |  __sizeof__(self, /)\n",
      " |      Return the size of the list in memory, in bytes.\n",
      " |\n",
      " |  append(self, object, /)\n",
      " |      Append object to the end of the list.\n",
      " |\n",
      " |  clear(self, /)\n",
      " |      Remove all items from list.\n",
      " |\n",
      " |  copy(self, /)\n",
      " |      Return a shallow copy of the list.\n",
      " |\n",
      " |  count(self, value, /)\n",
      " |      Return number of occurrences of value.\n",
      " |\n",
      " |  extend(self, iterable, /)\n",
      " |      Extend list by appending elements from the iterable.\n",
      " |\n",
      " |  index(self, value, start=0, stop=9223372036854775807, /)\n",
      " |      Return first index of value.\n",
      " |\n",
      " |      Raises ValueError if the value is not present.\n",
      " |\n",
      " |  insert(self, index, object, /)\n",
      " |      Insert object before index.\n",
      " |\n",
      " |  pop(self, index=-1, /)\n",
      " |      Remove and return item at index (default last).\n",
      " |\n",
      " |      Raises IndexError if list is empty or index is out of range.\n",
      " |\n",
      " |  remove(self, value, /)\n",
      " |      Remove first occurrence of value.\n",
      " |\n",
      " |      Raises ValueError if the value is not present.\n",
      " |\n",
      " |  reverse(self, /)\n",
      " |      Reverse *IN PLACE*.\n",
      " |\n",
      " |  sort(self, /, *, key=None, reverse=False)\n",
      " |      Sort the list in ascending order and return None.\n",
      " |\n",
      " |      The sort is in-place (i.e. the list itself is modified) and stable (i.e. the\n",
      " |      order of two equal elements is maintained).\n",
      " |\n",
      " |      If a key function is given, apply it once to each list item and sort them,\n",
      " |      ascending or descending, according to their function values.\n",
      " |\n",
      " |      The reverse flag can be set to sort in descending order.\n",
      " |\n",
      " |  ----------------------------------------------------------------------\n",
      " |  Class methods defined here:\n",
      " |\n",
      " |  __class_getitem__(...)\n",
      " |      See PEP 585\n",
      " |\n",
      " |  ----------------------------------------------------------------------\n",
      " |  Static methods defined here:\n",
      " |\n",
      " |  __new__(*args, **kwargs)\n",
      " |      Create and return a new object.  See help(type) for accurate signature.\n",
      " |\n",
      " |  ----------------------------------------------------------------------\n",
      " |  Data and other attributes defined here:\n",
      " |\n",
      " |  __hash__ = None\n",
      "\n"
     ]
    }
   ],
   "source": [
    "help(list)"
   ]
  },
  {
   "cell_type": "code",
   "execution_count": 65,
   "id": "7d649c83-3ce6-4b5e-a337-4a2f3eeb3e4b",
   "metadata": {},
   "outputs": [
    {
     "data": {
      "text/plain": [
       "1973753059456"
      ]
     },
     "execution_count": 65,
     "metadata": {},
     "output_type": "execute_result"
    }
   ],
   "source": [
    "id(l)"
   ]
  },
  {
   "cell_type": "code",
   "execution_count": 68,
   "id": "6e5bbf46-ff36-455c-b2df-d8428f4da1c3",
   "metadata": {},
   "outputs": [
    {
     "data": {
      "text/plain": [
       "[600, 300, 400, 500, 200]"
      ]
     },
     "execution_count": 68,
     "metadata": {},
     "output_type": "execute_result"
    }
   ],
   "source": [
    "l"
   ]
  },
  {
   "cell_type": "code",
   "execution_count": 70,
   "id": "2b5aee4d-49ff-4720-9727-8ffd2208b2ae",
   "metadata": {},
   "outputs": [],
   "source": [
    "l.append(1)"
   ]
  },
  {
   "cell_type": "code",
   "execution_count": 72,
   "id": "3879b4fd-7e9c-427c-910a-6a779fa55ff4",
   "metadata": {},
   "outputs": [
    {
     "data": {
      "text/plain": [
       "[600, 300, 400, 500, 200, 1]"
      ]
     },
     "execution_count": 72,
     "metadata": {},
     "output_type": "execute_result"
    }
   ],
   "source": [
    "l"
   ]
  },
  {
   "cell_type": "code",
   "execution_count": 74,
   "id": "852dec7a-4f88-4106-83cc-029dd5743805",
   "metadata": {},
   "outputs": [
    {
     "ename": "TypeError",
     "evalue": "can only concatenate list (not \"int\") to list",
     "output_type": "error",
     "traceback": [
      "\u001b[1;31m---------------------------------------------------------------------------\u001b[0m",
      "\u001b[1;31mTypeError\u001b[0m                                 Traceback (most recent call last)",
      "Cell \u001b[1;32mIn[74], line 1\u001b[0m\n\u001b[1;32m----> 1\u001b[0m l\u001b[38;5;241m+\u001b[39m\u001b[38;5;241m15\u001b[39m\n",
      "\u001b[1;31mTypeError\u001b[0m: can only concatenate list (not \"int\") to list"
     ]
    }
   ],
   "source": [
    "l+15"
   ]
  },
  {
   "cell_type": "code",
   "execution_count": 76,
   "id": "f823be71-00b7-4aec-b76a-a8cf4c37983a",
   "metadata": {},
   "outputs": [],
   "source": [
    "l1=l1+l2"
   ]
  },
  {
   "cell_type": "code",
   "execution_count": 78,
   "id": "c9da2d59-57a5-45e8-8733-65702190100d",
   "metadata": {},
   "outputs": [
    {
     "data": {
      "text/plain": [
       "['ram', 'ajay', 'mukesh', 'Ram', 'Ajay', 'Mukesh']"
      ]
     },
     "execution_count": 78,
     "metadata": {},
     "output_type": "execute_result"
    }
   ],
   "source": [
    "l1"
   ]
  },
  {
   "cell_type": "code",
   "execution_count": 80,
   "id": "b96e41e1-266b-4c79-929c-d34d6ec5c1f7",
   "metadata": {},
   "outputs": [
    {
     "ename": "TypeError",
     "evalue": "can only concatenate list (not \"int\") to list",
     "output_type": "error",
     "traceback": [
      "\u001b[1;31m---------------------------------------------------------------------------\u001b[0m",
      "\u001b[1;31mTypeError\u001b[0m                                 Traceback (most recent call last)",
      "Cell \u001b[1;32mIn[80], line 1\u001b[0m\n\u001b[1;32m----> 1\u001b[0m l\u001b[38;5;241m=\u001b[39ml\u001b[38;5;241m+\u001b[39m\u001b[38;5;241m15\u001b[39m\n",
      "\u001b[1;31mTypeError\u001b[0m: can only concatenate list (not \"int\") to list"
     ]
    }
   ],
   "source": [
    "l=l+15"
   ]
  },
  {
   "cell_type": "code",
   "execution_count": 82,
   "id": "d9f92a79-2c67-4a06-9bb9-65ce8470c39e",
   "metadata": {},
   "outputs": [
    {
     "data": {
      "text/plain": [
       "[600, 300, 400, 500, 200, 1]"
      ]
     },
     "execution_count": 82,
     "metadata": {},
     "output_type": "execute_result"
    }
   ],
   "source": [
    "l"
   ]
  },
  {
   "cell_type": "code",
   "execution_count": 84,
   "id": "c994bf6e-36b8-46ab-b92a-84a1e8d94290",
   "metadata": {},
   "outputs": [
    {
     "ename": "TypeError",
     "evalue": "can only concatenate list (not \"int\") to list",
     "output_type": "error",
     "traceback": [
      "\u001b[1;31m---------------------------------------------------------------------------\u001b[0m",
      "\u001b[1;31mTypeError\u001b[0m                                 Traceback (most recent call last)",
      "Cell \u001b[1;32mIn[84], line 1\u001b[0m\n\u001b[1;32m----> 1\u001b[0m l\u001b[38;5;241m+\u001b[39m\u001b[38;5;241m5\u001b[39m\n",
      "\u001b[1;31mTypeError\u001b[0m: can only concatenate list (not \"int\") to list"
     ]
    }
   ],
   "source": [
    "l+5"
   ]
  },
  {
   "cell_type": "code",
   "execution_count": 86,
   "id": "24a2da33-4f47-4bc5-955e-3f1c9409b1c7",
   "metadata": {},
   "outputs": [
    {
     "data": {
      "text/plain": [
       "1973753059456"
      ]
     },
     "execution_count": 86,
     "metadata": {},
     "output_type": "execute_result"
    }
   ],
   "source": [
    "id(l)"
   ]
  },
  {
   "cell_type": "code",
   "execution_count": 88,
   "id": "8ba82522-6ddb-4a0a-ae28-7f86f4cf8fea",
   "metadata": {},
   "outputs": [
    {
     "data": {
      "text/plain": [
       "[600, 300, 400, 500, 200, 1, 5]"
      ]
     },
     "execution_count": 88,
     "metadata": {},
     "output_type": "execute_result"
    }
   ],
   "source": [
    "l+[5]"
   ]
  },
  {
   "cell_type": "code",
   "execution_count": 90,
   "id": "a7a8bc4c-3a96-4343-a34c-8c1f0a0268ac",
   "metadata": {},
   "outputs": [
    {
     "data": {
      "text/plain": [
       "[600, 300, 400, 500, 200, 1]"
      ]
     },
     "execution_count": 90,
     "metadata": {},
     "output_type": "execute_result"
    }
   ],
   "source": [
    "l"
   ]
  },
  {
   "cell_type": "code",
   "execution_count": 92,
   "id": "adee490d-fedf-4b76-9d57-4a0481fef147",
   "metadata": {},
   "outputs": [],
   "source": [
    "l=l+[5]"
   ]
  },
  {
   "cell_type": "code",
   "execution_count": 98,
   "id": "055a40f2-443e-44f0-95d0-0cb1d0b2fedd",
   "metadata": {},
   "outputs": [
    {
     "data": {
      "text/plain": [
       "[600, 300, 400, 500, 200, 1, 5]"
      ]
     },
     "execution_count": 98,
     "metadata": {},
     "output_type": "execute_result"
    }
   ],
   "source": [
    "l"
   ]
  },
  {
   "cell_type": "code",
   "execution_count": 100,
   "id": "08f26f8a-b6fd-4020-bebb-2363528dd42b",
   "metadata": {},
   "outputs": [
    {
     "data": {
      "text/plain": [
       "[600, 300, 400, 500, 200, 1, 5, 'piyush']"
      ]
     },
     "execution_count": 100,
     "metadata": {},
     "output_type": "execute_result"
    }
   ],
   "source": [
    "l+[\"piyush\"]"
   ]
  },
  {
   "cell_type": "code",
   "execution_count": 102,
   "id": "b1bb69b4-67ee-471e-96d7-f55d5149175a",
   "metadata": {},
   "outputs": [
    {
     "data": {
      "text/plain": [
       "1973753422720"
      ]
     },
     "execution_count": 102,
     "metadata": {},
     "output_type": "execute_result"
    }
   ],
   "source": [
    "id(l)"
   ]
  },
  {
   "cell_type": "code",
   "execution_count": 104,
   "id": "b5017516-cf85-4355-bdce-a1d02d28ee20",
   "metadata": {},
   "outputs": [],
   "source": [
    "l1=[23,44,55]"
   ]
  },
  {
   "cell_type": "code",
   "execution_count": 106,
   "id": "bd40de96-9716-4183-85f3-418f1ad0771c",
   "metadata": {},
   "outputs": [
    {
     "data": {
      "text/plain": [
       "1973753441856"
      ]
     },
     "execution_count": 106,
     "metadata": {},
     "output_type": "execute_result"
    }
   ],
   "source": [
    "id(l1)"
   ]
  },
  {
   "cell_type": "markdown",
   "id": "579c126d-18d9-4e27-8dc1-a85459541755",
   "metadata": {},
   "source": [
    "# Duplication = List*n"
   ]
  },
  {
   "cell_type": "code",
   "execution_count": 111,
   "id": "dfec5e7b-9a3a-43ea-b94d-d4f9cfe11d1e",
   "metadata": {},
   "outputs": [
    {
     "data": {
      "text/plain": [
       "[23, 44, 55, 23, 44, 55, 23, 44, 55]"
      ]
     },
     "execution_count": 111,
     "metadata": {},
     "output_type": "execute_result"
    }
   ],
   "source": [
    "l1*3"
   ]
  },
  {
   "cell_type": "code",
   "execution_count": 113,
   "id": "2944741d-6077-4bf0-9500-cd58deec2d84",
   "metadata": {},
   "outputs": [
    {
     "data": {
      "text/plain": [
       "[23, 44, 55, '78']"
      ]
     },
     "execution_count": 113,
     "metadata": {},
     "output_type": "execute_result"
    }
   ],
   "source": [
    "l1+[str(78)]"
   ]
  },
  {
   "cell_type": "code",
   "execution_count": 115,
   "id": "51fc52c9-760a-452b-9d3d-e861fbd5262a",
   "metadata": {},
   "outputs": [],
   "source": [
    "l=[34,67,89,\"ajay,90,9.7,4+10j,45,34\"]"
   ]
  },
  {
   "cell_type": "code",
   "execution_count": 117,
   "id": "56f05a41-88ff-410e-9de6-20669edb5592",
   "metadata": {},
   "outputs": [
    {
     "data": {
      "text/plain": [
       "[34, 67, 89, 'ajay,90,9.7,4+10j,45,34']"
      ]
     },
     "execution_count": 117,
     "metadata": {},
     "output_type": "execute_result"
    }
   ],
   "source": [
    "l"
   ]
  },
  {
   "cell_type": "code",
   "execution_count": 119,
   "id": "ee3aeb54-67b5-49b7-9ea1-cd5517ddfe58",
   "metadata": {},
   "outputs": [
    {
     "ename": "TypeError",
     "evalue": "list indices must be integers or slices, not tuple",
     "output_type": "error",
     "traceback": [
      "\u001b[1;31m---------------------------------------------------------------------------\u001b[0m",
      "\u001b[1;31mTypeError\u001b[0m                                 Traceback (most recent call last)",
      "Cell \u001b[1;32mIn[119], line 1\u001b[0m\n\u001b[1;32m----> 1\u001b[0m l[\u001b[38;5;241m3\u001b[39m,\u001b[38;5;241m5\u001b[39m]\n",
      "\u001b[1;31mTypeError\u001b[0m: list indices must be integers or slices, not tuple"
     ]
    }
   ],
   "source": [
    "l[3,5]"
   ]
  },
  {
   "cell_type": "code",
   "execution_count": 121,
   "id": "103d1127-c73d-43e6-8f41-694d7e903757",
   "metadata": {},
   "outputs": [
    {
     "data": {
      "text/plain": [
       "['ajay,90,9.7,4+10j,45,34']"
      ]
     },
     "execution_count": 121,
     "metadata": {},
     "output_type": "execute_result"
    }
   ],
   "source": [
    "l[3::5]"
   ]
  },
  {
   "cell_type": "code",
   "execution_count": 123,
   "id": "24e214eb-d922-4a3c-a4e1-1d4bedb7fbc1",
   "metadata": {},
   "outputs": [
    {
     "ename": "SyntaxError",
     "evalue": "invalid syntax (2346943121.py, line 1)",
     "output_type": "error",
     "traceback": [
      "\u001b[1;36m  Cell \u001b[1;32mIn[123], line 1\u001b[1;36m\u001b[0m\n\u001b[1;33m    l[1::2::1]\u001b[0m\n\u001b[1;37m          ^\u001b[0m\n\u001b[1;31mSyntaxError\u001b[0m\u001b[1;31m:\u001b[0m invalid syntax\n"
     ]
    }
   ],
   "source": [
    "l[1::2::1]"
   ]
  },
  {
   "cell_type": "code",
   "execution_count": 125,
   "id": "4053551f-9f4e-4391-885b-b9577f295269",
   "metadata": {},
   "outputs": [
    {
     "data": {
      "text/plain": [
       "[67]"
      ]
     },
     "execution_count": 125,
     "metadata": {},
     "output_type": "execute_result"
    }
   ],
   "source": [
    "l[1:3:5]"
   ]
  },
  {
   "cell_type": "markdown",
   "id": "7476d925-51d0-4d27-a4f8-aea6aece8742",
   "metadata": {},
   "source": [
    "# l[start:stop:step]"
   ]
  },
  {
   "cell_type": "code",
   "execution_count": 132,
   "id": "fcdf7a8c-5063-4a24-9eaa-70b21e954944",
   "metadata": {},
   "outputs": [
    {
     "data": {
      "text/plain": [
       "[34, 67, 89, 'ajay,90,9.7,4+10j,45,34']"
      ]
     },
     "execution_count": 132,
     "metadata": {},
     "output_type": "execute_result"
    }
   ],
   "source": [
    "l"
   ]
  },
  {
   "cell_type": "code",
   "execution_count": 142,
   "id": "8f28ac17-17cb-4fc2-a0c2-6a12803aa480",
   "metadata": {},
   "outputs": [
    {
     "data": {
      "text/plain": [
       "[34, 89]"
      ]
     },
     "execution_count": 142,
     "metadata": {},
     "output_type": "execute_result"
    }
   ],
   "source": [
    "l[0:6:2]"
   ]
  },
  {
   "cell_type": "code",
   "execution_count": 136,
   "id": "2d8a4150-2d91-48d4-9e5f-8a304e81ade3",
   "metadata": {},
   "outputs": [
    {
     "data": {
      "text/plain": [
       "[34, 67, 89, 'ajay,90,9.7,4+10j,45,34']"
      ]
     },
     "execution_count": 136,
     "metadata": {},
     "output_type": "execute_result"
    }
   ],
   "source": [
    "l"
   ]
  },
  {
   "cell_type": "code",
   "execution_count": 138,
   "id": "00b623cf-4a4f-41d0-87c5-f8d60a28a49a",
   "metadata": {},
   "outputs": [
    {
     "data": {
      "text/plain": [
       "34"
      ]
     },
     "execution_count": 138,
     "metadata": {},
     "output_type": "execute_result"
    }
   ],
   "source": [
    "l[0]"
   ]
  },
  {
   "cell_type": "code",
   "execution_count": 140,
   "id": "4d8431d0-28a5-42fc-9be7-37dba385d7f0",
   "metadata": {},
   "outputs": [
    {
     "data": {
      "text/plain": [
       "[34, 89]"
      ]
     },
     "execution_count": 140,
     "metadata": {},
     "output_type": "execute_result"
    }
   ],
   "source": [
    "l[0:6:2]"
   ]
  },
  {
   "cell_type": "code",
   "execution_count": 144,
   "id": "20125f0e-3171-4b3a-83c6-c972b62f9f60",
   "metadata": {},
   "outputs": [
    {
     "data": {
      "text/plain": [
       "[67]"
      ]
     },
     "execution_count": 144,
     "metadata": {},
     "output_type": "execute_result"
    }
   ],
   "source": [
    "l[1:8:3]"
   ]
  },
  {
   "cell_type": "code",
   "execution_count": 146,
   "id": "f27263d2-3723-4c81-873a-d41ee9c6c916",
   "metadata": {},
   "outputs": [
    {
     "data": {
      "text/plain": [
       "[34, 67, 89, 'ajay,90,9.7,4+10j,45,34']"
      ]
     },
     "execution_count": 146,
     "metadata": {},
     "output_type": "execute_result"
    }
   ],
   "source": [
    "l"
   ]
  },
  {
   "cell_type": "code",
   "execution_count": 150,
   "id": "29fb5eb0-c8b9-45f7-84d7-8b531bc8791c",
   "metadata": {},
   "outputs": [],
   "source": [
    "l=[34,67,89,\"ajay\",90,9.7,66,4+10j,45,34]"
   ]
  },
  {
   "cell_type": "code",
   "execution_count": 152,
   "id": "d890c965-b190-4226-a8b9-21f01c23650f",
   "metadata": {},
   "outputs": [
    {
     "data": {
      "text/plain": [
       "[34, 89, 90]"
      ]
     },
     "execution_count": 152,
     "metadata": {},
     "output_type": "execute_result"
    }
   ],
   "source": [
    "l[0:5:2]"
   ]
  },
  {
   "cell_type": "code",
   "execution_count": 154,
   "id": "541741c5-223d-408f-aa48-23b6b0cea0ce",
   "metadata": {},
   "outputs": [
    {
     "data": {
      "text/plain": [
       "[(4+10j), 9.7, 'ajay']"
      ]
     },
     "execution_count": 154,
     "metadata": {},
     "output_type": "execute_result"
    }
   ],
   "source": [
    "l[-3:-8:-2]"
   ]
  },
  {
   "cell_type": "code",
   "execution_count": 156,
   "id": "3ecd0ca6-6b9b-4357-92e3-4ebb59d39ee2",
   "metadata": {},
   "outputs": [
    {
     "data": {
      "text/plain": [
       "[34, 89, 90, 66, 45]"
      ]
     },
     "execution_count": 156,
     "metadata": {},
     "output_type": "execute_result"
    }
   ],
   "source": [
    "l[0:len(l):2]"
   ]
  },
  {
   "cell_type": "code",
   "execution_count": 158,
   "id": "43083418-cdbd-4da1-9826-b102b804829a",
   "metadata": {},
   "outputs": [
    {
     "data": {
      "text/plain": [
       "[]"
      ]
     },
     "execution_count": 158,
     "metadata": {},
     "output_type": "execute_result"
    }
   ],
   "source": [
    "l[0:len(l):-1]"
   ]
  },
  {
   "cell_type": "code",
   "execution_count": 160,
   "id": "0869b379-0b93-4610-b45a-bc31e7dd5f84",
   "metadata": {},
   "outputs": [
    {
     "data": {
      "text/plain": [
       "[34, 45, (4+10j), 66, 9.7, 90, 'ajay', 89, 67, 34]"
      ]
     },
     "execution_count": 160,
     "metadata": {},
     "output_type": "execute_result"
    }
   ],
   "source": [
    "l[::-1]"
   ]
  },
  {
   "cell_type": "code",
   "execution_count": 162,
   "id": "c706bf71-8e4a-48c5-9117-55dcdc2b4f91",
   "metadata": {},
   "outputs": [
    {
     "data": {
      "text/plain": [
       "[34, 67, 89, 'ajay', 90, 9.7, 66, (4+10j), 45, 34]"
      ]
     },
     "execution_count": 162,
     "metadata": {},
     "output_type": "execute_result"
    }
   ],
   "source": [
    "l"
   ]
  },
  {
   "cell_type": "code",
   "execution_count": 164,
   "id": "971d91df-6651-4a16-b132-2cfebdeb1dcb",
   "metadata": {},
   "outputs": [
    {
     "data": {
      "text/plain": [
       "[34, 67, 89, 'ajay', 90, 9.7, 66, (4+10j), 45, 34]"
      ]
     },
     "execution_count": 164,
     "metadata": {},
     "output_type": "execute_result"
    }
   ],
   "source": [
    "l[::]"
   ]
  },
  {
   "cell_type": "code",
   "execution_count": 166,
   "id": "f4df761c-f9ab-4144-ad50-d3b1bbcaab67",
   "metadata": {},
   "outputs": [
    {
     "data": {
      "text/plain": [
       "[34, 45, (4+10j), 66, 9.7, 90, 'ajay', 89, 67, 34]"
      ]
     },
     "execution_count": 166,
     "metadata": {},
     "output_type": "execute_result"
    }
   ],
   "source": [
    "l[::-1]"
   ]
  },
  {
   "cell_type": "code",
   "execution_count": 168,
   "id": "60c5ce05-a42d-45ab-96e6-6b0647fa3f5e",
   "metadata": {},
   "outputs": [],
   "source": [
    "l=[45,67,[89,90,[800,700]]]"
   ]
  },
  {
   "cell_type": "code",
   "execution_count": 170,
   "id": "6824a699-2b87-4931-a28d-3fed1c0bb9ee",
   "metadata": {},
   "outputs": [
    {
     "data": {
      "text/plain": [
       "800"
      ]
     },
     "execution_count": 170,
     "metadata": {},
     "output_type": "execute_result"
    }
   ],
   "source": [
    "l[2][2][0]"
   ]
  },
  {
   "cell_type": "code",
   "execution_count": 172,
   "id": "8be41d31-df21-42ac-ab18-da3e081052c3",
   "metadata": {},
   "outputs": [
    {
     "data": {
      "text/plain": [
       "[89, 90, [800, 700]]"
      ]
     },
     "execution_count": 172,
     "metadata": {},
     "output_type": "execute_result"
    }
   ],
   "source": [
    "l[2]"
   ]
  },
  {
   "cell_type": "code",
   "execution_count": 176,
   "id": "139f81f4-dc43-4eaf-a788-f4108adc0f00",
   "metadata": {},
   "outputs": [],
   "source": [
    "l=[23,[45,56],[67,[89,900]]]"
   ]
  },
  {
   "cell_type": "code",
   "execution_count": 178,
   "id": "143f5426-0c07-4b7c-bcc7-16ed87bf4157",
   "metadata": {},
   "outputs": [
    {
     "data": {
      "text/plain": [
       "[23, [45, 56], [67, [89, 900]]]"
      ]
     },
     "execution_count": 178,
     "metadata": {},
     "output_type": "execute_result"
    }
   ],
   "source": [
    "l"
   ]
  },
  {
   "cell_type": "code",
   "execution_count": 180,
   "id": "c021426e-084e-4b9e-9015-f0f62bb92f2b",
   "metadata": {},
   "outputs": [
    {
     "data": {
      "text/plain": [
       "67"
      ]
     },
     "execution_count": 180,
     "metadata": {},
     "output_type": "execute_result"
    }
   ],
   "source": [
    "l[2][0]"
   ]
  },
  {
   "cell_type": "code",
   "execution_count": 182,
   "id": "3b8d482f-2bb7-48db-a25f-94799172ed93",
   "metadata": {},
   "outputs": [
    {
     "data": {
      "text/plain": [
       "89"
      ]
     },
     "execution_count": 182,
     "metadata": {},
     "output_type": "execute_result"
    }
   ],
   "source": [
    "l[2][1][0]"
   ]
  },
  {
   "cell_type": "code",
   "execution_count": 184,
   "id": "019757c8-c937-4017-9f29-d22c83c615f3",
   "metadata": {},
   "outputs": [],
   "source": [
    "l=[56,67,78,89,\"ram\",56,789,\"monika\",6.7,78]"
   ]
  },
  {
   "cell_type": "code",
   "execution_count": 186,
   "id": "af03fcc9-dde0-49b6-a5ad-f927685e935b",
   "metadata": {},
   "outputs": [
    {
     "name": "stdout",
     "output_type": "stream",
     "text": [
      "[56, 67, 78, 89, 'ram', 56, 789, 'monika', 6.7, 78]\n"
     ]
    }
   ],
   "source": [
    "print(l)"
   ]
  },
  {
   "cell_type": "code",
   "execution_count": 188,
   "id": "c30f4028-9041-48aa-9068-26f08297f6a1",
   "metadata": {},
   "outputs": [
    {
     "data": {
      "text/plain": [
       "1973753456000"
      ]
     },
     "execution_count": 188,
     "metadata": {},
     "output_type": "execute_result"
    }
   ],
   "source": [
    "id(l)"
   ]
  },
  {
   "cell_type": "code",
   "execution_count": 190,
   "id": "df2a3cd2-4367-411f-9e40-2fc5c7fccfce",
   "metadata": {},
   "outputs": [
    {
     "data": {
      "text/plain": [
       "10"
      ]
     },
     "execution_count": 190,
     "metadata": {},
     "output_type": "execute_result"
    }
   ],
   "source": [
    "len(l)"
   ]
  },
  {
   "cell_type": "code",
   "execution_count": 192,
   "id": "9d6a5f5f-e8e8-46cf-b9ce-dec6896c6046",
   "metadata": {},
   "outputs": [],
   "source": [
    "s='mahesh sharma'"
   ]
  },
  {
   "cell_type": "code",
   "execution_count": 194,
   "id": "ddde56cd-1e6b-4f3b-b264-6898920c57ce",
   "metadata": {},
   "outputs": [],
   "source": [
    "l1=list(s)"
   ]
  },
  {
   "cell_type": "code",
   "execution_count": 196,
   "id": "b3cbc373-7577-4547-9705-ad3970d1db62",
   "metadata": {},
   "outputs": [
    {
     "data": {
      "text/plain": [
       "['m', 'a', 'h', 'e', 's', 'h', ' ', 's', 'h', 'a', 'r', 'm', 'a']"
      ]
     },
     "execution_count": 196,
     "metadata": {},
     "output_type": "execute_result"
    }
   ],
   "source": [
    "l1"
   ]
  },
  {
   "cell_type": "code",
   "execution_count": 198,
   "id": "2e91507a-67da-4aa6-b573-7897e0fbc24c",
   "metadata": {},
   "outputs": [
    {
     "data": {
      "text/plain": [
       "[56, 67, 78, 89, 'ram', 56, 789, 'monika', 6.7, 78]"
      ]
     },
     "execution_count": 198,
     "metadata": {},
     "output_type": "execute_result"
    }
   ],
   "source": [
    "l"
   ]
  },
  {
   "cell_type": "code",
   "execution_count": 200,
   "id": "18e52e4d-d9ed-42ad-86c7-87b7e90379ff",
   "metadata": {},
   "outputs": [
    {
     "data": {
      "text/plain": [
       "4"
      ]
     },
     "execution_count": 200,
     "metadata": {},
     "output_type": "execute_result"
    }
   ],
   "source": [
    "l.index(\"ram\")"
   ]
  },
  {
   "cell_type": "code",
   "execution_count": 202,
   "id": "78e5293a-1689-4434-8c1a-5430c783ad1c",
   "metadata": {},
   "outputs": [
    {
     "data": {
      "text/plain": [
       "0"
      ]
     },
     "execution_count": 202,
     "metadata": {},
     "output_type": "execute_result"
    }
   ],
   "source": [
    "l.index(56)"
   ]
  },
  {
   "cell_type": "code",
   "execution_count": 204,
   "id": "9ec37288-b0e5-4125-b9e4-fe225cb99153",
   "metadata": {},
   "outputs": [
    {
     "data": {
      "text/plain": [
       "5"
      ]
     },
     "execution_count": 204,
     "metadata": {},
     "output_type": "execute_result"
    }
   ],
   "source": [
    "l.index(56,1)"
   ]
  },
  {
   "cell_type": "code",
   "execution_count": 206,
   "id": "848eae69-a29a-44da-a811-b0720015d997",
   "metadata": {},
   "outputs": [],
   "source": [
    "# solve question in which multiple 56 are present so find all postion and values along with soluton\n"
   ]
  },
  {
   "cell_type": "code",
   "execution_count": 208,
   "id": "0330b2a0-52ef-47a9-9d4a-36e71bf3872b",
   "metadata": {},
   "outputs": [],
   "source": [
    "l.append(5)"
   ]
  },
  {
   "cell_type": "code",
   "execution_count": 210,
   "id": "d019ce32-c771-4727-84e6-bad33d3a6314",
   "metadata": {},
   "outputs": [
    {
     "data": {
      "text/plain": [
       "[56, 67, 78, 89, 'ram', 56, 789, 'monika', 6.7, 78, 5]"
      ]
     },
     "execution_count": 210,
     "metadata": {},
     "output_type": "execute_result"
    }
   ],
   "source": [
    "l"
   ]
  },
  {
   "cell_type": "code",
   "execution_count": 218,
   "id": "f41798bb-bac2-4f70-9e59-9f55d61115c1",
   "metadata": {},
   "outputs": [],
   "source": [
    "l.insert(15,5)"
   ]
  },
  {
   "cell_type": "code",
   "execution_count": 220,
   "id": "8019a2b5-8002-42c4-ad96-89adb7d64fa8",
   "metadata": {},
   "outputs": [
    {
     "data": {
      "text/plain": [
       "[56, 67, 78, 89, 'ram', 56, 789, 'monika', 6.7, 78, 5, 5]"
      ]
     },
     "execution_count": 220,
     "metadata": {},
     "output_type": "execute_result"
    }
   ],
   "source": [
    "l"
   ]
  },
  {
   "cell_type": "code",
   "execution_count": 222,
   "id": "b73cbdf2-0b63-40fd-8e5d-7aec88e74bd0",
   "metadata": {},
   "outputs": [],
   "source": [
    "l.append([4,5])"
   ]
  },
  {
   "cell_type": "code",
   "execution_count": 224,
   "id": "d067e26d-36be-4031-9b12-246979230d67",
   "metadata": {},
   "outputs": [
    {
     "data": {
      "text/plain": [
       "[56, 67, 78, 89, 'ram', 56, 789, 'monika', 6.7, 78, 5, 5, [4, 5]]"
      ]
     },
     "execution_count": 224,
     "metadata": {},
     "output_type": "execute_result"
    }
   ],
   "source": [
    "l"
   ]
  },
  {
   "cell_type": "code",
   "execution_count": 226,
   "id": "049506e9-fcc9-4ee3-aaf2-4edbe3f24d27",
   "metadata": {},
   "outputs": [],
   "source": [
    "l.extend([6,7])"
   ]
  },
  {
   "cell_type": "code",
   "execution_count": 228,
   "id": "8a39f4aa-7eb2-41f8-96f1-fe442e4e1579",
   "metadata": {},
   "outputs": [
    {
     "data": {
      "text/plain": [
       "[56, 67, 78, 89, 'ram', 56, 789, 'monika', 6.7, 78, 5, 5, [4, 5], 6, 7]"
      ]
     },
     "execution_count": 228,
     "metadata": {},
     "output_type": "execute_result"
    }
   ],
   "source": [
    "l"
   ]
  },
  {
   "cell_type": "code",
   "execution_count": 232,
   "id": "2ecbcce4-db83-4066-9b9c-9d1f631fb6bb",
   "metadata": {},
   "outputs": [],
   "source": [
    "l.insert(2,100\n",
    "        )"
   ]
  },
  {
   "cell_type": "code",
   "execution_count": 234,
   "id": "6e149dd2-25a6-4837-882f-5bf468e6ea13",
   "metadata": {},
   "outputs": [
    {
     "data": {
      "text/plain": [
       "[56, 67, 100, 78, 89, 'ram', 56, 789, 'monika', 6.7, 78, 5, 5, [4, 5], 6, 7]"
      ]
     },
     "execution_count": 234,
     "metadata": {},
     "output_type": "execute_result"
    }
   ],
   "source": [
    "l"
   ]
  },
  {
   "cell_type": "code",
   "execution_count": 236,
   "id": "261291d5-c246-4499-bdfe-a5bcfdc9acf5",
   "metadata": {},
   "outputs": [],
   "source": [
    "l.insert(3,4)"
   ]
  },
  {
   "cell_type": "code",
   "execution_count": 238,
   "id": "9092aacb-9bf7-4515-aaa5-f05e22cb9b24",
   "metadata": {},
   "outputs": [
    {
     "data": {
      "text/plain": [
       "[56, 67, 100, 4, 78, 89, 'ram', 56, 789, 'monika', 6.7, 78, 5, 5, [4, 5], 6, 7]"
      ]
     },
     "execution_count": 238,
     "metadata": {},
     "output_type": "execute_result"
    }
   ],
   "source": [
    "l"
   ]
  },
  {
   "cell_type": "code",
   "execution_count": 242,
   "id": "8b3d4297-20e2-4034-bd31-6ca1753314a8",
   "metadata": {},
   "outputs": [],
   "source": [
    "l.insert(8,\"piyush khandlwal\")"
   ]
  },
  {
   "cell_type": "code",
   "execution_count": 244,
   "id": "73668a85-fd38-4664-af0f-d60db070f556",
   "metadata": {},
   "outputs": [
    {
     "data": {
      "text/plain": [
       "[56,\n",
       " 67,\n",
       " 100,\n",
       " 4,\n",
       " 78,\n",
       " 89,\n",
       " 'ram',\n",
       " 56,\n",
       " 'piyush khandlwal',\n",
       " 789,\n",
       " 'monika',\n",
       " 6.7,\n",
       " 78,\n",
       " 5,\n",
       " 5,\n",
       " [4, 5],\n",
       " 6,\n",
       " 7]"
      ]
     },
     "execution_count": 244,
     "metadata": {},
     "output_type": "execute_result"
    }
   ],
   "source": [
    "l"
   ]
  },
  {
   "cell_type": "code",
   "execution_count": 246,
   "id": "45689882-fbe4-4d82-a89b-4e378854eb4c",
   "metadata": {},
   "outputs": [],
   "source": [
    "l=[\"ram\",56,\"mohan\",90,56,56,56,\"manoj\",56,56,3.5,56]"
   ]
  },
  {
   "cell_type": "code",
   "execution_count": 248,
   "id": "2a194629-f746-4fbd-a9d6-19a8603571fc",
   "metadata": {},
   "outputs": [
    {
     "data": {
      "text/plain": [
       "['ram', 56, 'mohan', 90, 56, 56, 56, 'manoj', 56, 56, 3.5, 56]"
      ]
     },
     "execution_count": 248,
     "metadata": {},
     "output_type": "execute_result"
    }
   ],
   "source": [
    "l"
   ]
  },
  {
   "cell_type": "code",
   "execution_count": 250,
   "id": "157363ca-8d68-4cd8-bcb3-bbeeb6394b2e",
   "metadata": {},
   "outputs": [
    {
     "data": {
      "text/plain": [
       "1"
      ]
     },
     "execution_count": 250,
     "metadata": {},
     "output_type": "execute_result"
    }
   ],
   "source": [
    "l.index(56)"
   ]
  },
  {
   "cell_type": "code",
   "execution_count": 258,
   "id": "5433536b-7e8a-456d-a6b7-80be3fa5741e",
   "metadata": {},
   "outputs": [
    {
     "name": "stdout",
     "output_type": "stream",
     "text": [
      "1\n",
      "4\n",
      "5\n",
      "6\n",
      "8\n",
      "9\n",
      "11\n"
     ]
    }
   ],
   "source": [
    "i = 0\n",
    "while i < len(l):\n",
    "    if l[i] == 56:\n",
    "        print(i)\n",
    "    i += 1"
   ]
  },
  {
   "cell_type": "code",
   "execution_count": 262,
   "id": "dcce782f-7a79-46b1-9123-dec93f606771",
   "metadata": {},
   "outputs": [
    {
     "name": "stdout",
     "output_type": "stream",
     "text": [
      "1\n",
      "4\n",
      "5\n",
      "6\n",
      "8\n",
      "9\n",
      "11\n"
     ]
    }
   ],
   "source": [
    "\n",
    "i=0\n",
    "while i < len(l):\n",
    "    if 56 in l[i:]:\n",
    "        i = l.index(56, i)\n",
    "        print(i)\n",
    "        i += 1"
   ]
  },
  {
   "cell_type": "code",
   "execution_count": 264,
   "id": "55de9ffd-674a-4065-b494-458c6b1542bc",
   "metadata": {},
   "outputs": [
    {
     "data": {
      "text/plain": [
       "['ram', 56, 'mohan', 90, 56, 56, 56, 'manoj', 56, 56, 3.5, 56]"
      ]
     },
     "execution_count": 264,
     "metadata": {},
     "output_type": "execute_result"
    }
   ],
   "source": [
    "l"
   ]
  },
  {
   "cell_type": "code",
   "execution_count": 266,
   "id": "0118eb8b-5cfb-40d1-97dd-7ccb059ffe83",
   "metadata": {},
   "outputs": [
    {
     "data": {
      "text/plain": [
       "'sita'"
      ]
     },
     "execution_count": 266,
     "metadata": {},
     "output_type": "execute_result"
    }
   ],
   "source": [
    "\"sita\""
   ]
  },
  {
   "cell_type": "code",
   "execution_count": 268,
   "id": "f2dffec9-1b5c-411c-b6e4-232cdb959e43",
   "metadata": {},
   "outputs": [
    {
     "data": {
      "text/plain": [
       "'ram'"
      ]
     },
     "execution_count": 268,
     "metadata": {},
     "output_type": "execute_result"
    }
   ],
   "source": [
    "\"ram\""
   ]
  },
  {
   "cell_type": "code",
   "execution_count": 270,
   "id": "b3f29c5b-d8ef-4416-9845-edfebd2d848f",
   "metadata": {},
   "outputs": [
    {
     "ename": "TypeError",
     "evalue": "can only concatenate str (not \"complex\") to str",
     "output_type": "error",
     "traceback": [
      "\u001b[1;31m---------------------------------------------------------------------------\u001b[0m",
      "\u001b[1;31mTypeError\u001b[0m                                 Traceback (most recent call last)",
      "Cell \u001b[1;32mIn[270], line 1\u001b[0m\n\u001b[1;32m----> 1\u001b[0m s\u001b[38;5;241m+\u001b[39m\u001b[38;5;241m10\u001b[39mj\n",
      "\u001b[1;31mTypeError\u001b[0m: can only concatenate str (not \"complex\") to str"
     ]
    }
   ],
   "source": [
    "s+10j\n"
   ]
  },
  {
   "cell_type": "code",
   "execution_count": 272,
   "id": "d2e1163e-7471-4afd-884f-4c95dd642eca",
   "metadata": {},
   "outputs": [
    {
     "data": {
      "text/plain": [
       "15"
      ]
     },
     "execution_count": 272,
     "metadata": {},
     "output_type": "execute_result"
    }
   ],
   "source": [
    "5+10"
   ]
  },
  {
   "cell_type": "code",
   "execution_count": 274,
   "id": "ce4ec49a-a6e9-42eb-8253-9a2c3a709b32",
   "metadata": {},
   "outputs": [
    {
     "data": {
      "text/plain": [
       "(5+10j)"
      ]
     },
     "execution_count": 274,
     "metadata": {},
     "output_type": "execute_result"
    }
   ],
   "source": [
    "5+10j"
   ]
  },
  {
   "cell_type": "code",
   "execution_count": 276,
   "id": "53236ea3-1505-4334-88eb-98b4c3eb476e",
   "metadata": {},
   "outputs": [
    {
     "data": {
      "text/plain": [
       "(15+25j)"
      ]
     },
     "execution_count": 276,
     "metadata": {},
     "output_type": "execute_result"
    }
   ],
   "source": [
    "(5+10j)+(10+15j)"
   ]
  },
  {
   "cell_type": "code",
   "execution_count": 278,
   "id": "7be02f7a-913b-4945-bfe0-a01b0a54ddec",
   "metadata": {},
   "outputs": [
    {
     "data": {
      "text/plain": [
       "'thanks jupyer'"
      ]
     },
     "execution_count": 278,
     "metadata": {},
     "output_type": "execute_result"
    }
   ],
   "source": [
    "\"thanks jupyer\""
   ]
  },
  {
   "cell_type": "code",
   "execution_count": 280,
   "id": "c314ce77-ee75-4cfb-9594-dd99b913e256",
   "metadata": {},
   "outputs": [
    {
     "data": {
      "text/plain": [
       "'jyada mat bol nhi to peeeeet dunga'"
      ]
     },
     "execution_count": 280,
     "metadata": {},
     "output_type": "execute_result"
    }
   ],
   "source": [
    "\"jyada mat bol nhi to peeeeet dunga\""
   ]
  },
  {
   "cell_type": "code",
   "execution_count": null,
   "id": "62e11f54-4aea-4d0a-8f0f-5bdb97ec4094",
   "metadata": {},
   "outputs": [],
   "source": []
  }
 ],
 "metadata": {
  "kernelspec": {
   "display_name": "Python [conda env:base] *",
   "language": "python",
   "name": "conda-base-py"
  },
  "language_info": {
   "codemirror_mode": {
    "name": "ipython",
    "version": 3
   },
   "file_extension": ".py",
   "mimetype": "text/x-python",
   "name": "python",
   "nbconvert_exporter": "python",
   "pygments_lexer": "ipython3",
   "version": "3.12.7"
  }
 },
 "nbformat": 4,
 "nbformat_minor": 5
}
