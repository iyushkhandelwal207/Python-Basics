{
 "cells": [
  {
   "cell_type": "code",
   "execution_count": 1,
   "id": "6a3b1661-298b-455a-a8b9-9e0a7d475041",
   "metadata": {},
   "outputs": [],
   "source": [
    "import cmath"
   ]
  },
  {
   "cell_type": "code",
   "execution_count": 3,
   "id": "fc73561c-0480-4f3d-8dfa-a9acdc3448e9",
   "metadata": {},
   "outputs": [
    {
     "data": {
      "text/plain": [
       "(5+0j)"
      ]
     },
     "execution_count": 3,
     "metadata": {},
     "output_type": "execute_result"
    }
   ],
   "source": [
    "cmath.sqrt(25)"
   ]
  },
  {
   "cell_type": "code",
   "execution_count": 5,
   "id": "bd11d36f-2322-4d22-9fcf-fbf53385808b",
   "metadata": {},
   "outputs": [
    {
     "name": "stdin",
     "output_type": "stream",
     "text": [
      "enter the value of a 4\n",
      "enter the value of b 5\n",
      "enter value of c: 6\n"
     ]
    },
    {
     "name": "stdout",
     "output_type": "stream",
     "text": [
      "(-0.6249999999999999+1.0532687216470449j)\n",
      "(-0.6250000000000001-1.0532687216470449j)\n"
     ]
    }
   ],
   "source": [
    "a=int(input(\"enter the value of a\"))\n",
    "b=int(input(\"enter the value of b\"))\n",
    "c=int(input(\"enter value of c:\"))\n",
    "d=(b**2)-(4*a*c)\n",
    "d=d**0.5\n",
    "sol=(-b+d)/(2*a)\n",
    "sol1=(-b-d)/(2*a)\n",
    "print(sol)\n",
    "print(sol1)\n"
   ]
  },
  {
   "cell_type": "code",
   "execution_count": 15,
   "id": "4a5bb64b-a02d-4f33-886c-f5a0b2dd4906",
   "metadata": {},
   "outputs": [
    {
     "name": "stdin",
     "output_type": "stream",
     "text": [
      "enter the value of a 4\n",
      "enter the value of b 5\n",
      "enter value of c: 6\n"
     ]
    },
    {
     "name": "stdout",
     "output_type": "stream",
     "text": [
      "9.921567416492215\n"
     ]
    }
   ],
   "source": [
    "a=int(input(\"enter the value of a\"))\n",
    "b=int(input(\"enter the value of b\"))\n",
    "c=int(input(\"enter value of c:\"))\n",
    "s=(a+b+c)/2\n",
    "area=(s*(s-a)*(s-b)*(s-c))**0.5\n",
    "print(area)"
   ]
  },
  {
   "cell_type": "code",
   "execution_count": 13,
   "id": "d6b8379d-8104-4bcd-9052-99323fed02b3",
   "metadata": {},
   "outputs": [
    {
     "name": "stdout",
     "output_type": "stream",
     "text": [
      "a: 50\n",
      "b: 90\n"
     ]
    }
   ],
   "source": [
    "a=90\n",
    "b=50\n",
    "a=a+b\n",
    "b=a-b\n",
    "a=a-b\n",
    "print(\"a:\",a)\n",
    "print(\"b:\",b)"
   ]
  },
  {
   "cell_type": "code",
   "execution_count": 17,
   "id": "e1ea2872-f37c-49b9-a751-b81f0803a52a",
   "metadata": {},
   "outputs": [],
   "source": [
    "import random"
   ]
  },
  {
   "cell_type": "code",
   "execution_count": 25,
   "id": "d0b58d66-06dc-41f4-a884-41c2dc6e7059",
   "metadata": {},
   "outputs": [
    {
     "data": {
      "text/plain": [
       "2"
      ]
     },
     "execution_count": 25,
     "metadata": {},
     "output_type": "execute_result"
    }
   ],
   "source": [
    "random.randint(1,6)"
   ]
  },
  {
   "cell_type": "code",
   "execution_count": 33,
   "id": "0570eb26-9148-41cb-b24e-3f62f5e93801",
   "metadata": {},
   "outputs": [
    {
     "name": "stdout",
     "output_type": "stream",
     "text": [
      "choice: 1\n",
      "you win\n"
     ]
    }
   ],
   "source": [
    "\n",
    "a=random.randint(1,10)\n",
    "print(\"choice:\",a)\n",
    "if(a==1):\n",
    "    print(\"you win\")\n",
    "else:\n",
    "    print(\"you lose\")"
   ]
  },
  {
   "cell_type": "code",
   "execution_count": null,
   "id": "afd98660-8ddc-451c-ba8c-d63bfab52da0",
   "metadata": {},
   "outputs": [],
   "source": [
    "card=input(\"enter the card\")\n",
    "if card==\"ATM CARD\":\n",
    "    print(\"valid card\")\n",
    "    uname=input(\"enter username:\")\n",
    "    "
   ]
  },
  {
   "cell_type": "code",
   "execution_count": 35,
   "id": "4e219960-8079-4a19-b410-3f1a26581147",
   "metadata": {},
   "outputs": [
    {
     "data": {
      "text/plain": [
       "range(0, 5)"
      ]
     },
     "execution_count": 35,
     "metadata": {},
     "output_type": "execute_result"
    }
   ],
   "source": [
    "range(5)\n"
   ]
  },
  {
   "cell_type": "code",
   "execution_count": 45,
   "id": "7633faa7-3e62-4fa3-9d7e-99421787eb54",
   "metadata": {},
   "outputs": [
    {
     "name": "stdout",
     "output_type": "stream",
     "text": [
      "0\n",
      "2\n",
      "4\n",
      "6\n",
      "8\n",
      "10\n",
      "12\n",
      "14\n",
      "16\n",
      "18\n",
      "20\n"
     ]
    }
   ],
   "source": [
    "for i in range(0,21,2):\n",
    "    print(i)"
   ]
  },
  {
   "cell_type": "code",
   "execution_count": 47,
   "id": "01421213-d178-4a14-be3f-144924b9a245",
   "metadata": {},
   "outputs": [
    {
     "name": "stdout",
     "output_type": "stream",
     "text": [
      "1\n",
      "3\n",
      "5\n",
      "7\n",
      "9\n",
      "11\n",
      "13\n",
      "15\n",
      "17\n",
      "19\n"
     ]
    }
   ],
   "source": [
    "for i in range(1,20,2):\n",
    "    print(i)"
   ]
  },
  {
   "cell_type": "code",
   "execution_count": 49,
   "id": "4d6b34ff-8940-4d3c-958b-b78369753613",
   "metadata": {},
   "outputs": [
    {
     "name": "stdin",
     "output_type": "stream",
     "text": [
      "enter a number 5\n"
     ]
    },
    {
     "name": "stdout",
     "output_type": "stream",
     "text": [
      "5 X 1 = 5\n",
      "5 X 2 = 10\n",
      "5 X 3 = 15\n",
      "5 X 4 = 20\n",
      "5 X 5 = 25\n",
      "5 X 6 = 30\n",
      "5 X 7 = 35\n",
      "5 X 8 = 40\n",
      "5 X 9 = 45\n",
      "5 X 10 = 50\n"
     ]
    }
   ],
   "source": [
    "no=int(input(\"enter a number\"))\n",
    "for i in range(1,11):\n",
    "    print(no,\"X\",i,\"=\",no*i)"
   ]
  },
  {
   "cell_type": "code",
   "execution_count": 59,
   "id": "86eaadaa-b90c-4256-93c3-939dfbfb2860",
   "metadata": {},
   "outputs": [
    {
     "name": "stdin",
     "output_type": "stream",
     "text": [
      "enter a number to check prime no of not 17\n"
     ]
    },
    {
     "name": "stdout",
     "output_type": "stream",
     "text": [
      "True\n"
     ]
    }
   ],
   "source": [
    "no=int(input(\"enter a number to check prime no of not\"))\n",
    "pri=True\n",
    "for i in range(2,no):\n",
    "    if no%i==0:\n",
    "        pri=False\n",
    "print(pri)\n",
    "        "
   ]
  },
  {
   "cell_type": "markdown",
   "id": "a6f2c81e-1d73-4f50-aec1-7b341677be6b",
   "metadata": {},
   "source": [
    "# Colorama- Fore, Back,Style\n",
    "we use this for styling and if we want to reset this we use print(Style.RESET_ALL)"
   ]
  },
  {
   "cell_type": "code",
   "execution_count": null,
   "id": "60ba4574-d252-4c07-b4b1-e0b0230a5b01",
   "metadata": {},
   "outputs": [],
   "source": []
  },
  {
   "cell_type": "code",
   "execution_count": null,
   "id": "755292f5-b6b7-485d-9fe1-4560c1916149",
   "metadata": {},
   "outputs": [],
   "source": []
  }
 ],
 "metadata": {
  "kernelspec": {
   "display_name": "Python [conda env:base] *",
   "language": "python",
   "name": "conda-base-py"
  },
  "language_info": {
   "codemirror_mode": {
    "name": "ipython",
    "version": 3
   },
   "file_extension": ".py",
   "mimetype": "text/x-python",
   "name": "python",
   "nbconvert_exporter": "python",
   "pygments_lexer": "ipython3",
   "version": "3.12.7"
  }
 },
 "nbformat": 4,
 "nbformat_minor": 5
}
