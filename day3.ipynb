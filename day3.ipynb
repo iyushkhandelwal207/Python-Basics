{
 "cells": [
  {
   "cell_type": "code",
   "execution_count": 1,
   "id": "22e63c3f-5b78-4957-b0b6-e7902ad7549a",
   "metadata": {},
   "outputs": [],
   "source": [
    "a=60"
   ]
  },
  {
   "cell_type": "code",
   "execution_count": 3,
   "id": "d6633fec-e49d-41e0-9fba-00f06c8209d2",
   "metadata": {},
   "outputs": [
    {
     "data": {
      "text/plain": [
       "140704501346584"
      ]
     },
     "execution_count": 3,
     "metadata": {},
     "output_type": "execute_result"
    }
   ],
   "source": [
    "id(a)"
   ]
  },
  {
   "cell_type": "markdown",
   "id": "7899a30d-9924-4734-af3a-9a4789525f5e",
   "metadata": {},
   "source": [
    "# Identity operator\n",
    "is and is not\n",
    "-> this is only used for memory locations"
   ]
  },
  {
   "cell_type": "code",
   "execution_count": 9,
   "id": "b21f3b6c-867f-4d0f-8503-6c3a687923ed",
   "metadata": {},
   "outputs": [],
   "source": [
    "b=60"
   ]
  },
  {
   "cell_type": "code",
   "execution_count": 11,
   "id": "8ef88b13-1760-45fa-824c-372b2ae78ffd",
   "metadata": {},
   "outputs": [
    {
     "data": {
      "text/plain": [
       "True"
      ]
     },
     "execution_count": 11,
     "metadata": {},
     "output_type": "execute_result"
    }
   ],
   "source": [
    "a is b"
   ]
  },
  {
   "cell_type": "code",
   "execution_count": 13,
   "id": "386700ee-700c-481d-b645-b6471300f59c",
   "metadata": {},
   "outputs": [],
   "source": [
    "a=89"
   ]
  },
  {
   "cell_type": "code",
   "execution_count": 15,
   "id": "861959b6-8272-4274-8cda-7afa3e1ff1ea",
   "metadata": {},
   "outputs": [
    {
     "data": {
      "text/plain": [
       "True"
      ]
     },
     "execution_count": 15,
     "metadata": {},
     "output_type": "execute_result"
    }
   ],
   "source": [
    "a is a"
   ]
  },
  {
   "cell_type": "code",
   "execution_count": 17,
   "id": "f4662d08-661d-41b6-956a-9a90d83fbbb9",
   "metadata": {},
   "outputs": [
    {
     "data": {
      "text/plain": [
       "False"
      ]
     },
     "execution_count": 17,
     "metadata": {},
     "output_type": "execute_result"
    }
   ],
   "source": [
    "a=900\n",
    "b=900\n",
    "a is b"
   ]
  },
  {
   "cell_type": "code",
   "execution_count": 19,
   "id": "b30d26d4-1014-4806-a223-ff4bd879259a",
   "metadata": {},
   "outputs": [],
   "source": [
    "a=\"piyush\""
   ]
  },
  {
   "cell_type": "code",
   "execution_count": 21,
   "id": "3f207c03-4b48-4e4b-a24d-86eb55c883de",
   "metadata": {},
   "outputs": [],
   "source": [
    "b=\"piyush\""
   ]
  },
  {
   "cell_type": "code",
   "execution_count": 23,
   "id": "fd6c540e-cf9e-40a7-9802-9bf438c6c594",
   "metadata": {},
   "outputs": [
    {
     "data": {
      "text/plain": [
       "True"
      ]
     },
     "execution_count": 23,
     "metadata": {},
     "output_type": "execute_result"
    }
   ],
   "source": [
    "a is b"
   ]
  },
  {
   "cell_type": "markdown",
   "id": "7bcb26b6-cff2-4632-840c-6c81fc3f219d",
   "metadata": {},
   "source": [
    "a,b=4.5,4.5"
   ]
  },
  {
   "cell_type": "code",
   "execution_count": 26,
   "id": "3da447ed-057d-416b-898a-090f7d43b36a",
   "metadata": {},
   "outputs": [],
   "source": [
    "a,b=4.5,4.5"
   ]
  },
  {
   "cell_type": "code",
   "execution_count": 28,
   "id": "1a30057e-c99d-447d-8cf7-b4ba22e01e50",
   "metadata": {},
   "outputs": [
    {
     "data": {
      "text/plain": [
       "True"
      ]
     },
     "execution_count": 28,
     "metadata": {},
     "output_type": "execute_result"
    }
   ],
   "source": [
    "\n",
    "a is b"
   ]
  },
  {
   "cell_type": "code",
   "execution_count": 30,
   "id": "6e7de004-1407-4776-8544-77022ca2bac1",
   "metadata": {},
   "outputs": [],
   "source": [
    "a=4.5"
   ]
  },
  {
   "cell_type": "code",
   "execution_count": 32,
   "id": "eafe4579-6c39-4297-a3ae-0f993b9abd89",
   "metadata": {},
   "outputs": [],
   "source": [
    "b=4.5"
   ]
  },
  {
   "cell_type": "code",
   "execution_count": 34,
   "id": "fa021cb3-8977-4b26-9d4b-0bf729d9c9b1",
   "metadata": {},
   "outputs": [
    {
     "data": {
      "text/plain": [
       "False"
      ]
     },
     "execution_count": 34,
     "metadata": {},
     "output_type": "execute_result"
    }
   ],
   "source": [
    "a is b"
   ]
  },
  {
   "cell_type": "code",
   "execution_count": 40,
   "id": "92ffa5c1-4196-493d-9e9f-e691e683ad68",
   "metadata": {},
   "outputs": [
    {
     "name": "stdin",
     "output_type": "stream",
     "text": [
      "enter the coin phase head\n"
     ]
    },
    {
     "name": "stdout",
     "output_type": "stream",
     "text": [
      "win\n"
     ]
    }
   ],
   "source": [
    "coin=input(\"enter the coin phase\");\n",
    "if coin==\"head\" or coin==\"Head\":\n",
    "    print(\"win\")"
   ]
  },
  {
   "cell_type": "code",
   "execution_count": 42,
   "id": "c2a06c6b-1ed0-4184-929a-af2268ce25fe",
   "metadata": {},
   "outputs": [
    {
     "name": "stdin",
     "output_type": "stream",
     "text": [
      "enter the coin phase j\n"
     ]
    },
    {
     "name": "stdout",
     "output_type": "stream",
     "text": [
      "loss\n"
     ]
    }
   ],
   "source": [
    "coin=input(\"enter the coin phase\");\n",
    "if coin==\"head\" or coin==\"Head\":\n",
    "    print(\"win\")\n",
    "else:\n",
    "    print(\"loss\")"
   ]
  },
  {
   "cell_type": "markdown",
   "id": "7510710f-1c9f-4777-936e-397879c5e420",
   "metadata": {},
   "source": [
    "# Assignment - find even odd without using mod "
   ]
  },
  {
   "cell_type": "code",
   "execution_count": 45,
   "id": "a036891d-6b8a-4fc2-9b4e-905538dae4ad",
   "metadata": {},
   "outputs": [
    {
     "name": "stdin",
     "output_type": "stream",
     "text": [
      "enter a number: 67\n"
     ]
    }
   ],
   "source": [
    "a=int(input(\"enter a number:\"))"
   ]
  },
  {
   "cell_type": "code",
   "execution_count": 47,
   "id": "23500e6e-d257-44c2-911c-84d8a56b6beb",
   "metadata": {},
   "outputs": [
    {
     "data": {
      "text/plain": [
       "33.5"
      ]
     },
     "execution_count": 47,
     "metadata": {},
     "output_type": "execute_result"
    }
   ],
   "source": [
    "a/2"
   ]
  },
  {
   "cell_type": "code",
   "execution_count": 51,
   "id": "aae65246-64c7-4d42-91f9-d06267fcd58b",
   "metadata": {},
   "outputs": [
    {
     "name": "stdin",
     "output_type": "stream",
     "text": [
      "enter first value 78\n",
      "enter second value 98\n",
      "enter third value 78\n"
     ]
    },
    {
     "name": "stdout",
     "output_type": "stream",
     "text": [
      "98 is greatest\n"
     ]
    }
   ],
   "source": [
    "a=int(input(\"enter first value\"))\n",
    "b=int(input(\"enter second value\"))\n",
    "c=int(input(\"enter third value\"))\n",
    "if a>=b and a>=c:\n",
    "    print(a,\"is greatest\")\n",
    "elif b>=a and b>=c:\n",
    "    print(b,\"is greatest\")\n",
    "else:\n",
    "    print(c,\" is greatest\")"
   ]
  },
  {
   "cell_type": "code",
   "execution_count": 55,
   "id": "0457e9e9-898f-4ef3-8b26-712925b19656",
   "metadata": {},
   "outputs": [
    {
     "name": "stdin",
     "output_type": "stream",
     "text": [
      "enter the year 2025\n"
     ]
    },
    {
     "name": "stdout",
     "output_type": "stream",
     "text": [
      "not leap year\n"
     ]
    }
   ],
   "source": [
    "year=int(input(\"enter the year\"))\n",
    "if year%400==0 and year%100==0:\n",
    "    print(\"leap year\")\n",
    "elif year%4==0 and year%100!=0:\n",
    "    print(\"leap year\")\n",
    "else:\n",
    "    print(\"not leap year\")"
   ]
  },
  {
   "cell_type": "code",
   "execution_count": 57,
   "id": "22f6ebb9-9add-4968-afce-54695c2a4214",
   "metadata": {},
   "outputs": [
    {
     "name": "stdout",
     "output_type": "stream",
     "text": [
      "\u001b[31m\u001b[42m\u001b[1mpiyush khandelwal\n"
     ]
    }
   ],
   "source": [
    "from colorama import Fore,Back,Style\n",
    "print(Fore.RED+Back.GREEN+Style.BRIGHT+\"piyush khandelwal\")"
   ]
  },
  {
   "cell_type": "code",
   "execution_count": 59,
   "id": "b0dc8346-2210-4e81-84f4-5c3a97c8241f",
   "metadata": {},
   "outputs": [
    {
     "name": "stdout",
     "output_type": "stream",
     "text": [
      "\u001b[31m\u001b[42m\u001b[2mpiyush khandelwal\n"
     ]
    }
   ],
   "source": [
    "from colorama import Fore,Back,Style\n",
    "print(Fore.RED+Back.GREEN+Style.DIM+\"piyush khandelwal\")"
   ]
  },
  {
   "cell_type": "code",
   "execution_count": 99,
   "id": "03dcf681-7978-4496-9fe0-62bd436ecf22",
   "metadata": {},
   "outputs": [
    {
     "name": "stdout",
     "output_type": "stream",
     "text": [
      "\u001b[31m\u001b[42m\u001b[1m78\n",
      "\u001b[0m\n",
      "ram\n"
     ]
    }
   ],
   "source": [
    "from colorama import Fore,Back,Style\n",
    "print(Fore.RED+Back.GREEN+Style.BRIGHT+str(78))\n",
    "print(Style.RESET_ALL)\n",
    "print(\"ram\")"
   ]
  },
  {
   "cell_type": "code",
   "execution_count": 69,
   "id": "01c7bc97-2049-4b9f-a020-98e1331ede81",
   "metadata": {},
   "outputs": [
    {
     "name": "stdout",
     "output_type": "stream",
     "text": [
      "ram\n"
     ]
    }
   ],
   "source": [
    "# assignment - marksheet\n",
    "## income tax calculator\n",
    "#electricity bill\n",
    "\n",
    "  \n",
    "print(\"ram\")"
   ]
  },
  {
   "cell_type": "code",
   "execution_count": 101,
   "id": "517542ba-82ca-4002-a195-1dcb5dcc9334",
   "metadata": {},
   "outputs": [],
   "source": [
    "a=2"
   ]
  },
  {
   "cell_type": "code",
   "execution_count": 103,
   "id": "480ce934-5789-4986-84a2-c5352e766561",
   "metadata": {},
   "outputs": [],
   "source": [
    "b=4"
   ]
  },
  {
   "cell_type": "code",
   "execution_count": 105,
   "id": "6f9d0b31-32b1-4f94-a717-c13f0d20ff3d",
   "metadata": {},
   "outputs": [
    {
     "data": {
      "text/plain": [
       "140704501344728"
      ]
     },
     "execution_count": 105,
     "metadata": {},
     "output_type": "execute_result"
    }
   ],
   "source": [
    "id(a)"
   ]
  },
  {
   "cell_type": "code",
   "execution_count": 107,
   "id": "100cef9e-3ac9-4f61-9693-d2e789e0640b",
   "metadata": {},
   "outputs": [
    {
     "data": {
      "text/plain": [
       "140704501344792"
      ]
     },
     "execution_count": 107,
     "metadata": {},
     "output_type": "execute_result"
    }
   ],
   "source": [
    "id(b)"
   ]
  },
  {
   "cell_type": "code",
   "execution_count": 109,
   "id": "b9b5b19a-b2e3-4647-ac8c-56298d3d7a8b",
   "metadata": {},
   "outputs": [],
   "source": [
    "c=3"
   ]
  },
  {
   "cell_type": "code",
   "execution_count": 111,
   "id": "e85f8884-7d43-4ac3-a4a4-b0d72d68f2d3",
   "metadata": {},
   "outputs": [
    {
     "data": {
      "text/plain": [
       "140704501344760"
      ]
     },
     "execution_count": 111,
     "metadata": {},
     "output_type": "execute_result"
    }
   ],
   "source": [
    "id(3)"
   ]
  },
  {
   "cell_type": "code",
   "execution_count": 113,
   "id": "78545e3e-da83-438e-8133-deb8ad441f49",
   "metadata": {},
   "outputs": [],
   "source": [
    "d=0"
   ]
  },
  {
   "cell_type": "code",
   "execution_count": 121,
   "id": "692a3f75-a5fa-41c7-a440-5242adaa3b4d",
   "metadata": {},
   "outputs": [
    {
     "data": {
      "text/plain": [
       "140704501344728"
      ]
     },
     "execution_count": 121,
     "metadata": {},
     "output_type": "execute_result"
    }
   ],
   "source": [
    "id(0)+32+32"
   ]
  },
  {
   "cell_type": "code",
   "execution_count": 123,
   "id": "449ec246-aeb7-4530-b5b2-15bf0065ad50",
   "metadata": {},
   "outputs": [
    {
     "data": {
      "text/plain": [
       "1"
      ]
     },
     "execution_count": 123,
     "metadata": {},
     "output_type": "execute_result"
    }
   ],
   "source": [
    "5&1"
   ]
  },
  {
   "cell_type": "code",
   "execution_count": 125,
   "id": "6fd773dc-78de-4fa9-b69c-91d7270ceb4f",
   "metadata": {},
   "outputs": [
    {
     "data": {
      "text/plain": [
       "0"
      ]
     },
     "execution_count": 125,
     "metadata": {},
     "output_type": "execute_result"
    }
   ],
   "source": [
    "6&1"
   ]
  },
  {
   "cell_type": "code",
   "execution_count": 135,
   "id": "a2292b64-f4e9-4568-a4b4-cd38646d199a",
   "metadata": {},
   "outputs": [
    {
     "name": "stdin",
     "output_type": "stream",
     "text": [
      "enter a number: 90\n"
     ]
    },
    {
     "name": "stdout",
     "output_type": "stream",
     "text": [
      "even\n"
     ]
    }
   ],
   "source": [
    "a=int(input(\"enter a number:\"))\n",
    "if a&1==0:\n",
    "    print(\"even\")\n",
    "else:\n",
    "    print(\"odd\")"
   ]
  },
  {
   "cell_type": "code",
   "execution_count": null,
   "id": "bef6c731-7b23-4431-84a2-17bc3fe6e35a",
   "metadata": {},
   "outputs": [],
   "source": []
  }
 ],
 "metadata": {
  "kernelspec": {
   "display_name": "Python [conda env:base] *",
   "language": "python",
   "name": "conda-base-py"
  },
  "language_info": {
   "codemirror_mode": {
    "name": "ipython",
    "version": 3
   },
   "file_extension": ".py",
   "mimetype": "text/x-python",
   "name": "python",
   "nbconvert_exporter": "python",
   "pygments_lexer": "ipython3",
   "version": "3.12.7"
  }
 },
 "nbformat": 4,
 "nbformat_minor": 5
}
