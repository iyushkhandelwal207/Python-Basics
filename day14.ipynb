{
 "cells": [
  {
   "cell_type": "code",
   "execution_count": 1,
   "id": "56e41360-2370-40fc-85e0-6dc2183a0589",
   "metadata": {},
   "outputs": [
    {
     "ename": "FileNotFoundError",
     "evalue": "[Errno 2] No such file or directory: 'naresh'",
     "output_type": "error",
     "traceback": [
      "\u001b[1;31m---------------------------------------------------------------------------\u001b[0m",
      "\u001b[1;31mFileNotFoundError\u001b[0m                         Traceback (most recent call last)",
      "Cell \u001b[1;32mIn[1], line 1\u001b[0m\n\u001b[1;32m----> 1\u001b[0m file\u001b[38;5;241m=\u001b[39m\u001b[38;5;28mopen\u001b[39m(\u001b[38;5;124m\"\u001b[39m\u001b[38;5;124mnaresh\u001b[39m\u001b[38;5;124m\"\u001b[39m)\n\u001b[0;32m      2\u001b[0m file\u001b[38;5;241m.\u001b[39mread()\n",
      "File \u001b[1;32m~\\anaconda3\\Lib\\site-packages\\IPython\\core\\interactiveshell.py:324\u001b[0m, in \u001b[0;36m_modified_open\u001b[1;34m(file, *args, **kwargs)\u001b[0m\n\u001b[0;32m    317\u001b[0m \u001b[38;5;28;01mif\u001b[39;00m file \u001b[38;5;129;01min\u001b[39;00m {\u001b[38;5;241m0\u001b[39m, \u001b[38;5;241m1\u001b[39m, \u001b[38;5;241m2\u001b[39m}:\n\u001b[0;32m    318\u001b[0m     \u001b[38;5;28;01mraise\u001b[39;00m \u001b[38;5;167;01mValueError\u001b[39;00m(\n\u001b[0;32m    319\u001b[0m         \u001b[38;5;124mf\u001b[39m\u001b[38;5;124m\"\u001b[39m\u001b[38;5;124mIPython won\u001b[39m\u001b[38;5;124m'\u001b[39m\u001b[38;5;124mt let you open fd=\u001b[39m\u001b[38;5;132;01m{\u001b[39;00mfile\u001b[38;5;132;01m}\u001b[39;00m\u001b[38;5;124m by default \u001b[39m\u001b[38;5;124m\"\u001b[39m\n\u001b[0;32m    320\u001b[0m         \u001b[38;5;124m\"\u001b[39m\u001b[38;5;124mas it is likely to crash IPython. If you know what you are doing, \u001b[39m\u001b[38;5;124m\"\u001b[39m\n\u001b[0;32m    321\u001b[0m         \u001b[38;5;124m\"\u001b[39m\u001b[38;5;124myou can use builtins\u001b[39m\u001b[38;5;124m'\u001b[39m\u001b[38;5;124m open.\u001b[39m\u001b[38;5;124m\"\u001b[39m\n\u001b[0;32m    322\u001b[0m     )\n\u001b[1;32m--> 324\u001b[0m \u001b[38;5;28;01mreturn\u001b[39;00m io_open(file, \u001b[38;5;241m*\u001b[39margs, \u001b[38;5;241m*\u001b[39m\u001b[38;5;241m*\u001b[39mkwargs)\n",
      "\u001b[1;31mFileNotFoundError\u001b[0m: [Errno 2] No such file or directory: 'naresh'"
     ]
    }
   ],
   "source": [
    "file=open(\"naresh\")\n",
    "file.read()"
   ]
  },
  {
   "cell_type": "code",
   "execution_count": 2,
   "id": "e545d832-a661-47a2-a4fd-16fad0509d6a",
   "metadata": {},
   "outputs": [
    {
     "ename": "UnsupportedOperation",
     "evalue": "not readable",
     "output_type": "error",
     "traceback": [
      "\u001b[1;31m---------------------------------------------------------------------------\u001b[0m",
      "\u001b[1;31mUnsupportedOperation\u001b[0m                      Traceback (most recent call last)",
      "Cell \u001b[1;32mIn[2], line 2\u001b[0m\n\u001b[0;32m      1\u001b[0m file\u001b[38;5;241m=\u001b[39m\u001b[38;5;28mopen\u001b[39m(\u001b[38;5;124m\"\u001b[39m\u001b[38;5;124mnaresh\u001b[39m\u001b[38;5;124m\"\u001b[39m,\u001b[38;5;124m\"\u001b[39m\u001b[38;5;124mx\u001b[39m\u001b[38;5;124m\"\u001b[39m)\n\u001b[1;32m----> 2\u001b[0m file\u001b[38;5;241m.\u001b[39mread()\n",
      "\u001b[1;31mUnsupportedOperation\u001b[0m: not readable"
     ]
    }
   ],
   "source": [
    "file=open(\"naresh\",\"x\")\n",
    "file.read()"
   ]
  },
  {
   "cell_type": "code",
   "execution_count": 3,
   "id": "068d4c73-2b23-44a0-84e4-f862d67e641f",
   "metadata": {},
   "outputs": [
    {
     "ename": "FileExistsError",
     "evalue": "[Errno 17] File exists: 'naresh'",
     "output_type": "error",
     "traceback": [
      "\u001b[1;31m---------------------------------------------------------------------------\u001b[0m",
      "\u001b[1;31mFileExistsError\u001b[0m                           Traceback (most recent call last)",
      "Cell \u001b[1;32mIn[3], line 1\u001b[0m\n\u001b[1;32m----> 1\u001b[0m file\u001b[38;5;241m=\u001b[39m\u001b[38;5;28mopen\u001b[39m(\u001b[38;5;124m\"\u001b[39m\u001b[38;5;124mnaresh\u001b[39m\u001b[38;5;124m\"\u001b[39m,\u001b[38;5;124m\"\u001b[39m\u001b[38;5;124mx\u001b[39m\u001b[38;5;124m\"\u001b[39m)\n",
      "File \u001b[1;32m~\\anaconda3\\Lib\\site-packages\\IPython\\core\\interactiveshell.py:324\u001b[0m, in \u001b[0;36m_modified_open\u001b[1;34m(file, *args, **kwargs)\u001b[0m\n\u001b[0;32m    317\u001b[0m \u001b[38;5;28;01mif\u001b[39;00m file \u001b[38;5;129;01min\u001b[39;00m {\u001b[38;5;241m0\u001b[39m, \u001b[38;5;241m1\u001b[39m, \u001b[38;5;241m2\u001b[39m}:\n\u001b[0;32m    318\u001b[0m     \u001b[38;5;28;01mraise\u001b[39;00m \u001b[38;5;167;01mValueError\u001b[39;00m(\n\u001b[0;32m    319\u001b[0m         \u001b[38;5;124mf\u001b[39m\u001b[38;5;124m\"\u001b[39m\u001b[38;5;124mIPython won\u001b[39m\u001b[38;5;124m'\u001b[39m\u001b[38;5;124mt let you open fd=\u001b[39m\u001b[38;5;132;01m{\u001b[39;00mfile\u001b[38;5;132;01m}\u001b[39;00m\u001b[38;5;124m by default \u001b[39m\u001b[38;5;124m\"\u001b[39m\n\u001b[0;32m    320\u001b[0m         \u001b[38;5;124m\"\u001b[39m\u001b[38;5;124mas it is likely to crash IPython. If you know what you are doing, \u001b[39m\u001b[38;5;124m\"\u001b[39m\n\u001b[0;32m    321\u001b[0m         \u001b[38;5;124m\"\u001b[39m\u001b[38;5;124myou can use builtins\u001b[39m\u001b[38;5;124m'\u001b[39m\u001b[38;5;124m open.\u001b[39m\u001b[38;5;124m\"\u001b[39m\n\u001b[0;32m    322\u001b[0m     )\n\u001b[1;32m--> 324\u001b[0m \u001b[38;5;28;01mreturn\u001b[39;00m io_open(file, \u001b[38;5;241m*\u001b[39margs, \u001b[38;5;241m*\u001b[39m\u001b[38;5;241m*\u001b[39mkwargs)\n",
      "\u001b[1;31mFileExistsError\u001b[0m: [Errno 17] File exists: 'naresh'"
     ]
    }
   ],
   "source": [
    "file=open(\"naresh\",\"x\")"
   ]
  },
  {
   "cell_type": "code",
   "execution_count": 4,
   "id": "b5abd87d-ac42-4d49-b961-8cc95f212f54",
   "metadata": {},
   "outputs": [
    {
     "data": {
      "text/plain": [
       "10"
      ]
     },
     "execution_count": 4,
     "metadata": {},
     "output_type": "execute_result"
    }
   ],
   "source": [
    "file=open(\"naresh1\",\"x\")\n",
    "file.write(\"Hello Sean\")"
   ]
  },
  {
   "cell_type": "code",
   "execution_count": 5,
   "id": "3927bf2e-293d-48e6-ac70-623880befd95",
   "metadata": {},
   "outputs": [
    {
     "data": {
      "text/plain": [
       "'Hello Sean'"
      ]
     },
     "execution_count": 5,
     "metadata": {},
     "output_type": "execute_result"
    }
   ],
   "source": [
    "file=open(\"naresh1\",\"r\")\n",
    "file.read()"
   ]
  },
  {
   "cell_type": "code",
   "execution_count": 6,
   "id": "ed57a180-a540-4bd4-a71f-3cefe721bd2f",
   "metadata": {},
   "outputs": [],
   "source": [
    "file=open(\"naresh1\",\"w\")\n",
    "file.write(\"My name is naresh\")\n",
    "file.close()"
   ]
  },
  {
   "cell_type": "code",
   "execution_count": 8,
   "id": "40c505b0-e76a-483e-926b-3763fc319036",
   "metadata": {},
   "outputs": [
    {
     "data": {
      "text/plain": [
       "'My name is naresh'"
      ]
     },
     "execution_count": 8,
     "metadata": {},
     "output_type": "execute_result"
    }
   ],
   "source": [
    "file=open(\"naresh1\")\n",
    "file.read()"
   ]
  },
  {
   "cell_type": "code",
   "execution_count": 9,
   "id": "6a93b01d-f2a4-4847-a36e-a087ef252f04",
   "metadata": {},
   "outputs": [],
   "source": [
    "file=open(\"naresh1\",\"a\")\n",
    "file.write(\"I am from hanumangarh\")\n",
    "file.close()"
   ]
  },
  {
   "cell_type": "code",
   "execution_count": 10,
   "id": "8eaa05f5-250c-46a8-8469-4f8e7801661a",
   "metadata": {},
   "outputs": [
    {
     "data": {
      "text/plain": [
       "'My name is nareshI am from hanumangarh'"
      ]
     },
     "execution_count": 10,
     "metadata": {},
     "output_type": "execute_result"
    }
   ],
   "source": [
    "file=open(\"naresh1\",\"r\")\n",
    "file.read()"
   ]
  },
  {
   "cell_type": "code",
   "execution_count": 11,
   "id": "d7c200a4-282a-4423-bffc-a4af01b75e30",
   "metadata": {},
   "outputs": [],
   "source": [
    "file=open(\"naresh1\",\"a\")\n",
    "file.write(\" Currently pursuing bca from\\nraj university\")\n",
    "file.close()"
   ]
  },
  {
   "cell_type": "code",
   "execution_count": 12,
   "id": "96509861-4f0d-41f7-87dc-211eedd951ca",
   "metadata": {},
   "outputs": [
    {
     "data": {
      "text/plain": [
       "'My name is nareshI am from hanumangarh Currently pursuing bca from\\nraj university'"
      ]
     },
     "execution_count": 12,
     "metadata": {},
     "output_type": "execute_result"
    }
   ],
   "source": [
    "file=open(\"naresh1\")\n",
    "file.read()"
   ]
  },
  {
   "cell_type": "code",
   "execution_count": 13,
   "id": "4abd592d-dca7-4939-8fd1-558b3da4745a",
   "metadata": {},
   "outputs": [
    {
     "name": "stdout",
     "output_type": "stream",
     "text": [
      "My name is nareshI am from hanumangarh Currently pursuing bca from\n",
      "raj university\n"
     ]
    }
   ],
   "source": [
    "file=open(\"naresh1\")\n",
    "print(file.read())"
   ]
  },
  {
   "cell_type": "code",
   "execution_count": 14,
   "id": "c87b5dc4-99fa-452a-87f4-86a8559ee6be",
   "metadata": {},
   "outputs": [
    {
     "name": "stdout",
     "output_type": "stream",
     "text": [
      "nareshI am from hanumangarh Currently pursuing bca from\n",
      "raj university\n"
     ]
    }
   ],
   "source": [
    "file=open(\"naresh1\")\n",
    "file.seek(11)\n",
    "print(file.read())"
   ]
  },
  {
   "cell_type": "code",
   "execution_count": 15,
   "id": "b6806d03-26ac-4c3d-b5a0-0e0254a2b857",
   "metadata": {},
   "outputs": [
    {
     "ename": "TypeError",
     "evalue": "write() argument must be str, not int",
     "output_type": "error",
     "traceback": [
      "\u001b[1;31m---------------------------------------------------------------------------\u001b[0m",
      "\u001b[1;31mTypeError\u001b[0m                                 Traceback (most recent call last)",
      "Cell \u001b[1;32mIn[15], line 2\u001b[0m\n\u001b[0;32m      1\u001b[0m file\u001b[38;5;241m=\u001b[39m\u001b[38;5;28mopen\u001b[39m(\u001b[38;5;124m\"\u001b[39m\u001b[38;5;124mnaresh1\u001b[39m\u001b[38;5;124m\"\u001b[39m,\u001b[38;5;124m\"\u001b[39m\u001b[38;5;124mw\u001b[39m\u001b[38;5;124m\"\u001b[39m)\n\u001b[1;32m----> 2\u001b[0m file\u001b[38;5;241m.\u001b[39mwrite(\u001b[38;5;241m23\u001b[39m)\n\u001b[0;32m      3\u001b[0m file\u001b[38;5;241m.\u001b[39mclose()\n",
      "\u001b[1;31mTypeError\u001b[0m: write() argument must be str, not int"
     ]
    }
   ],
   "source": [
    "file=open(\"naresh1\",\"w\")\n",
    "file.write(23)\n",
    "file.close()"
   ]
  },
  {
   "cell_type": "code",
   "execution_count": 16,
   "id": "d5a72f47-db3d-4768-801a-ba71c5d04272",
   "metadata": {},
   "outputs": [],
   "source": [
    "file=open(\"naresh1\",\"w\")\n",
    "file.write(str(23))\n",
    "file.close()"
   ]
  },
  {
   "cell_type": "code",
   "execution_count": 17,
   "id": "47abd603-0a6a-4b8c-8595-597ad0e5516b",
   "metadata": {},
   "outputs": [
    {
     "data": {
      "text/plain": [
       "'23'"
      ]
     },
     "execution_count": 17,
     "metadata": {},
     "output_type": "execute_result"
    }
   ],
   "source": [
    "file=open(\"naresh1\")\n",
    "file.read()"
   ]
  },
  {
   "cell_type": "code",
   "execution_count": 18,
   "id": "6d27c1b0-5c46-454a-8933-eda91b6f9f57",
   "metadata": {},
   "outputs": [
    {
     "data": {
      "text/html": [
       "<div>\n",
       "<style scoped>\n",
       "    .dataframe tbody tr th:only-of-type {\n",
       "        vertical-align: middle;\n",
       "    }\n",
       "\n",
       "    .dataframe tbody tr th {\n",
       "        vertical-align: top;\n",
       "    }\n",
       "\n",
       "    .dataframe thead th {\n",
       "        text-align: right;\n",
       "    }\n",
       "</style>\n",
       "<table border=\"1\" class=\"dataframe\">\n",
       "  <thead>\n",
       "    <tr style=\"text-align: right;\">\n",
       "      <th></th>\n",
       "      <th>id</th>\n",
       "      <th>Name</th>\n",
       "      <th>Age</th>\n",
       "    </tr>\n",
       "  </thead>\n",
       "  <tbody>\n",
       "    <tr>\n",
       "      <th>0</th>\n",
       "      <td>101</td>\n",
       "      <td>Ramesh</td>\n",
       "      <td>19</td>\n",
       "    </tr>\n",
       "    <tr>\n",
       "      <th>1</th>\n",
       "      <td>102</td>\n",
       "      <td>suresh</td>\n",
       "      <td>20</td>\n",
       "    </tr>\n",
       "    <tr>\n",
       "      <th>2</th>\n",
       "      <td>103</td>\n",
       "      <td>munesh</td>\n",
       "      <td>21</td>\n",
       "    </tr>\n",
       "  </tbody>\n",
       "</table>\n",
       "</div>"
      ],
      "text/plain": [
       "    id    Name  Age\n",
       "0  101  Ramesh   19\n",
       "1  102  suresh   20\n",
       "2  103  munesh   21"
      ]
     },
     "execution_count": 18,
     "metadata": {},
     "output_type": "execute_result"
    }
   ],
   "source": [
    "import pandas as pd\n",
    "data={\"id\":[101,102,103],\"Name\":[\"Ramesh\",\"suresh\",\"munesh\"],\"Age\":[19,20,21]}\n",
    "df=pd.DataFrame(data)\n",
    "df"
   ]
  },
  {
   "cell_type": "code",
   "execution_count": 19,
   "id": "b15a6dfb-3ddd-445f-a33f-918160945518",
   "metadata": {},
   "outputs": [
    {
     "ename": "TypeError",
     "evalue": "write() argument must be str, not DataFrame",
     "output_type": "error",
     "traceback": [
      "\u001b[1;31m---------------------------------------------------------------------------\u001b[0m",
      "\u001b[1;31mTypeError\u001b[0m                                 Traceback (most recent call last)",
      "Cell \u001b[1;32mIn[19], line 2\u001b[0m\n\u001b[0;32m      1\u001b[0m file\u001b[38;5;241m=\u001b[39m\u001b[38;5;28mopen\u001b[39m(\u001b[38;5;124m\"\u001b[39m\u001b[38;5;124mnaresh1\u001b[39m\u001b[38;5;124m\"\u001b[39m,\u001b[38;5;124m\"\u001b[39m\u001b[38;5;124mw\u001b[39m\u001b[38;5;124m\"\u001b[39m)\n\u001b[1;32m----> 2\u001b[0m file\u001b[38;5;241m.\u001b[39mwrite(df)\n\u001b[0;32m      3\u001b[0m file\u001b[38;5;241m.\u001b[39mclose()\n",
      "\u001b[1;31mTypeError\u001b[0m: write() argument must be str, not DataFrame"
     ]
    }
   ],
   "source": [
    "file=open(\"naresh1\",\"w\")\n",
    "file.write(df)\n",
    "file.close()"
   ]
  },
  {
   "cell_type": "code",
   "execution_count": 20,
   "id": "2c9dc2b7-0df7-49a1-b906-e786efb0bdff",
   "metadata": {},
   "outputs": [],
   "source": [
    "file=open(\"naresh1\",\"w\")\n",
    "file.write(str(df))\n",
    "file.close()"
   ]
  },
  {
   "cell_type": "code",
   "execution_count": 21,
   "id": "e60f0e1f-98f8-4d76-82ff-59406bf4a19f",
   "metadata": {},
   "outputs": [
    {
     "data": {
      "text/plain": [
       "'    id    Name  Age\\n0  101  Ramesh   19\\n1  102  suresh   20\\n2  103  munesh   21'"
      ]
     },
     "execution_count": 21,
     "metadata": {},
     "output_type": "execute_result"
    }
   ],
   "source": [
    "file=open(\"naresh1\")\n",
    "file.read()"
   ]
  },
  {
   "cell_type": "code",
   "execution_count": 22,
   "id": "cead8042-1c9f-4e39-8a7e-345e90303ee3",
   "metadata": {},
   "outputs": [
    {
     "name": "stdout",
     "output_type": "stream",
     "text": [
      "    id    Name  Age\n",
      "0  101  Ramesh   19\n",
      "1  102  suresh   20\n",
      "2  103  munesh   21\n"
     ]
    }
   ],
   "source": [
    "file=open(\"naresh1\")\n",
    "print(file.read())"
   ]
  },
  {
   "cell_type": "code",
   "execution_count": 23,
   "id": "647bf077-4559-4a46-83ac-76ccfea77011",
   "metadata": {},
   "outputs": [],
   "source": [
    "file=open(\"tiger\",\"x\")\n",
    "file.write(\"The tiger (Panthera tigris) is a large cat and a member of the genus Panthera native to Asia.\\nIt has a powerful, muscular body with a large head and paws, a long tail and orange fur with black, mostly vertical stripes.\\nIt is traditionally classified into nine recent subspecies,\\nthough some recognise only two subspecies, mainland Asian tigers\\nand the island tigers of the Sunda Islands.\")\n",
    "file.close()\n"
   ]
  },
  {
   "cell_type": "code",
   "execution_count": 24,
   "id": "8c1a26ec-200c-41a9-8d65-d6d35f558746",
   "metadata": {},
   "outputs": [
    {
     "data": {
      "text/plain": [
       "'The tiger (Panthera tigris) is a large cat and a member of the genus Panthera native to Asia.\\nIt has a powerful, muscular body with a large head and paws, a long tail and orange fur with black, mostly vertical stripes.\\nIt is traditionally classified into nine recent subspecies,\\nthough some recognise only two subspecies, mainland Asian tigers\\nand the island tigers of the Sunda Islands.'"
      ]
     },
     "execution_count": 24,
     "metadata": {},
     "output_type": "execute_result"
    }
   ],
   "source": [
    "file=open(\"tiger\",\"r\")\n",
    "file.read()"
   ]
  },
  {
   "cell_type": "code",
   "execution_count": 25,
   "id": "76fea8bc-1394-4894-9fad-c21689ed35c8",
   "metadata": {},
   "outputs": [
    {
     "name": "stdout",
     "output_type": "stream",
     "text": [
      "The tiger (Panthera tigris) is a large cat and a member of the genus Panthera native to Asia.\n",
      "It has a powerful, muscular body with a large head and paws, a long tail and orange fur with black, mostly vertical stripes.\n",
      "It is traditionally classified into nine recent subspecies,\n",
      "though some recognise only two subspecies, mainland Asian tigers\n",
      "and the island tigers of the Sunda Islands.\n"
     ]
    }
   ],
   "source": [
    "file=open(\"tiger\",\"r\")\n",
    "print(file.read())"
   ]
  },
  {
   "cell_type": "code",
   "execution_count": 26,
   "id": "9eaceae4-8fc1-4296-81f5-ccd3b1c42f7f",
   "metadata": {},
   "outputs": [
    {
     "name": "stdout",
     "output_type": "stream",
     "text": [
      "T\n",
      "h\n",
      "e\n",
      " \n",
      "t\n",
      "i\n",
      "g\n",
      "e\n",
      "r\n",
      " \n",
      "(\n",
      "P\n",
      "a\n",
      "n\n",
      "t\n",
      "h\n",
      "e\n",
      "r\n",
      "a\n",
      " \n",
      "t\n",
      "i\n",
      "g\n",
      "r\n",
      "i\n",
      "s\n",
      ")\n",
      " \n",
      "i\n",
      "s\n",
      " \n",
      "a\n",
      " \n",
      "l\n",
      "a\n",
      "r\n",
      "g\n",
      "e\n",
      " \n",
      "c\n",
      "a\n",
      "t\n",
      " \n",
      "a\n",
      "n\n",
      "d\n",
      " \n",
      "a\n",
      " \n",
      "m\n",
      "e\n",
      "m\n",
      "b\n",
      "e\n",
      "r\n",
      " \n",
      "o\n",
      "f\n",
      " \n",
      "t\n",
      "h\n",
      "e\n",
      " \n",
      "g\n",
      "e\n",
      "n\n",
      "u\n",
      "s\n",
      " \n",
      "P\n",
      "a\n",
      "n\n",
      "t\n",
      "h\n",
      "e\n",
      "r\n",
      "a\n",
      " \n",
      "n\n",
      "a\n",
      "t\n",
      "i\n",
      "v\n",
      "e\n",
      " \n",
      "t\n",
      "o\n",
      " \n",
      "A\n",
      "s\n",
      "i\n",
      "a\n",
      ".\n",
      "\n",
      "\n",
      "I\n",
      "t\n",
      " \n",
      "h\n",
      "a\n",
      "s\n",
      " \n",
      "a\n",
      " \n",
      "p\n",
      "o\n",
      "w\n",
      "e\n",
      "r\n",
      "f\n",
      "u\n",
      "l\n",
      ",\n",
      " \n",
      "m\n",
      "u\n",
      "s\n",
      "c\n",
      "u\n",
      "l\n",
      "a\n",
      "r\n",
      " \n",
      "b\n",
      "o\n",
      "d\n",
      "y\n",
      " \n",
      "w\n",
      "i\n",
      "t\n",
      "h\n",
      " \n",
      "a\n",
      " \n",
      "l\n",
      "a\n",
      "r\n",
      "g\n",
      "e\n",
      " \n",
      "h\n",
      "e\n",
      "a\n",
      "d\n",
      " \n",
      "a\n",
      "n\n",
      "d\n",
      " \n",
      "p\n",
      "a\n",
      "w\n",
      "s\n",
      ",\n",
      " \n",
      "a\n",
      " \n",
      "l\n",
      "o\n",
      "n\n",
      "g\n",
      " \n",
      "t\n",
      "a\n",
      "i\n",
      "l\n",
      " \n",
      "a\n",
      "n\n",
      "d\n",
      " \n",
      "o\n",
      "r\n",
      "a\n",
      "n\n",
      "g\n",
      "e\n",
      " \n",
      "f\n",
      "u\n",
      "r\n",
      " \n",
      "w\n",
      "i\n",
      "t\n",
      "h\n",
      " \n",
      "b\n",
      "l\n",
      "a\n",
      "c\n",
      "k\n",
      ",\n",
      " \n",
      "m\n",
      "o\n",
      "s\n",
      "t\n",
      "l\n",
      "y\n",
      " \n",
      "v\n",
      "e\n",
      "r\n",
      "t\n",
      "i\n",
      "c\n",
      "a\n",
      "l\n",
      " \n",
      "s\n",
      "t\n",
      "r\n",
      "i\n",
      "p\n",
      "e\n",
      "s\n",
      ".\n",
      "\n",
      "\n",
      "I\n",
      "t\n",
      " \n",
      "i\n",
      "s\n",
      " \n",
      "t\n",
      "r\n",
      "a\n",
      "d\n",
      "i\n",
      "t\n",
      "i\n",
      "o\n",
      "n\n",
      "a\n",
      "l\n",
      "l\n",
      "y\n",
      " \n",
      "c\n",
      "l\n",
      "a\n",
      "s\n",
      "s\n",
      "i\n",
      "f\n",
      "i\n",
      "e\n",
      "d\n",
      " \n",
      "i\n",
      "n\n",
      "t\n",
      "o\n",
      " \n",
      "n\n",
      "i\n",
      "n\n",
      "e\n",
      " \n",
      "r\n",
      "e\n",
      "c\n",
      "e\n",
      "n\n",
      "t\n",
      " \n",
      "s\n",
      "u\n",
      "b\n",
      "s\n",
      "p\n",
      "e\n",
      "c\n",
      "i\n",
      "e\n",
      "s\n",
      ",\n",
      "\n",
      "\n",
      "t\n",
      "h\n",
      "o\n",
      "u\n",
      "g\n",
      "h\n",
      " \n",
      "s\n",
      "o\n",
      "m\n",
      "e\n",
      " \n",
      "r\n",
      "e\n",
      "c\n",
      "o\n",
      "g\n",
      "n\n",
      "i\n",
      "s\n",
      "e\n",
      " \n",
      "o\n",
      "n\n",
      "l\n",
      "y\n",
      " \n",
      "t\n",
      "w\n",
      "o\n",
      " \n",
      "s\n",
      "u\n",
      "b\n",
      "s\n",
      "p\n",
      "e\n",
      "c\n",
      "i\n",
      "e\n",
      "s\n",
      ",\n",
      " \n",
      "m\n",
      "a\n",
      "i\n",
      "n\n",
      "l\n",
      "a\n",
      "n\n",
      "d\n",
      " \n",
      "A\n",
      "s\n",
      "i\n",
      "a\n",
      "n\n",
      " \n",
      "t\n",
      "i\n",
      "g\n",
      "e\n",
      "r\n",
      "s\n",
      "\n",
      "\n",
      "a\n",
      "n\n",
      "d\n",
      " \n",
      "t\n",
      "h\n",
      "e\n",
      " \n",
      "i\n",
      "s\n",
      "l\n",
      "a\n",
      "n\n",
      "d\n",
      " \n",
      "t\n",
      "i\n",
      "g\n",
      "e\n",
      "r\n",
      "s\n",
      " \n",
      "o\n",
      "f\n",
      " \n",
      "t\n",
      "h\n",
      "e\n",
      " \n",
      "S\n",
      "u\n",
      "n\n",
      "d\n",
      "a\n",
      " \n",
      "I\n",
      "s\n",
      "l\n",
      "a\n",
      "n\n",
      "d\n",
      "s\n",
      ".\n"
     ]
    }
   ],
   "source": [
    "file=open(\"tiger\",\"r\")\n",
    "x=file.read()\n",
    "for k in x:\n",
    "    print(k)"
   ]
  },
  {
   "cell_type": "code",
   "execution_count": 27,
   "id": "656c2176-792c-4d92-8165-72c078fd48e7",
   "metadata": {},
   "outputs": [
    {
     "name": "stdout",
     "output_type": "stream",
     "text": [
      "T\n",
      "h\n",
      "e\n",
      " \n",
      "t\n",
      "i\n",
      "g\n",
      "e\n",
      "r\n",
      " \n",
      "(\n",
      "P\n",
      "a\n",
      "n\n",
      "t\n",
      "h\n",
      "e\n",
      "r\n",
      "a\n",
      " \n",
      "t\n",
      "i\n",
      "g\n",
      "r\n",
      "i\n",
      "s\n",
      ")\n",
      " \n",
      "i\n",
      "s\n",
      " \n",
      "a\n",
      " \n",
      "l\n",
      "a\n",
      "r\n",
      "g\n",
      "e\n",
      " \n",
      "c\n",
      "a\n",
      "t\n",
      " \n",
      "a\n",
      "n\n",
      "d\n",
      " \n",
      "a\n",
      " \n",
      "m\n",
      "e\n",
      "m\n",
      "b\n",
      "e\n",
      "r\n",
      " \n",
      "o\n",
      "f\n",
      " \n",
      "t\n",
      "h\n",
      "e\n",
      " \n",
      "g\n",
      "e\n",
      "n\n",
      "u\n",
      "s\n",
      " \n",
      "P\n",
      "a\n",
      "n\n",
      "t\n",
      "h\n",
      "e\n",
      "r\n",
      "a\n",
      " \n",
      "n\n",
      "a\n",
      "t\n",
      "i\n",
      "v\n",
      "e\n",
      " \n",
      "t\n",
      "o\n",
      " \n",
      "A\n",
      "s\n",
      "i\n",
      "a\n",
      ".\n",
      "\n",
      "\n"
     ]
    }
   ],
   "source": [
    "file=open(\"tiger\",\"r\")\n",
    "x=file.readline()\n",
    "for k in x:\n",
    "    print(k)"
   ]
  },
  {
   "cell_type": "code",
   "execution_count": 28,
   "id": "31ea429c-6b10-4db1-ba52-a278a3349987",
   "metadata": {},
   "outputs": [
    {
     "name": "stdout",
     "output_type": "stream",
     "text": [
      "['The tiger (Panthera tigris) is a large cat and a member of the genus Panthera native to Asia.\\n', 'It has a powerful, muscular body with a large head and paws, a long tail and orange fur with black, mostly vertical stripes.\\n', 'It is traditionally classified into nine recent subspecies,\\n', 'though some recognise only two subspecies, mainland Asian tigers\\n', 'and the island tigers of the Sunda Islands.']\n",
      "The tiger (Panthera tigris) is a large cat and a member of the genus Panthera native to Asia.\n",
      "\n",
      "It has a powerful, muscular body with a large head and paws, a long tail and orange fur with black, mostly vertical stripes.\n",
      "\n",
      "It is traditionally classified into nine recent subspecies,\n",
      "\n",
      "though some recognise only two subspecies, mainland Asian tigers\n",
      "\n",
      "and the island tigers of the Sunda Islands.\n"
     ]
    }
   ],
   "source": [
    "file=open(\"tiger\",\"r\")\n",
    "x=file.readlines()\n",
    "print(x)\n",
    "for k in x:\n",
    "    print(k)"
   ]
  },
  {
   "cell_type": "code",
   "execution_count": 31,
   "id": "1c7713ce-df19-4b0b-9411-333c43f110a5",
   "metadata": {},
   "outputs": [
    {
     "name": "stdout",
     "output_type": "stream",
     "text": [
      "tiger found\n",
      "tiger not found\n",
      "tiger not found\n",
      "tiger found\n",
      "tiger found\n"
     ]
    }
   ],
   "source": [
    "file=open(\"tiger\")\n",
    "x=file.readlines()\n",
    "for k in x:\n",
    "    word=\"tiger\"\n",
    "    if word in k:\n",
    "        print(word,\"found\")\n",
    "    else:\n",
    "        print(word,\"not found\")"
   ]
  },
  {
   "cell_type": "code",
   "execution_count": 32,
   "id": "84891513-8e0c-4b24-9acd-c162a74a0ec0",
   "metadata": {},
   "outputs": [
    {
     "name": "stdout",
     "output_type": "stream",
     "text": [
      "tiger  found\n",
      "tiger  not found\n",
      "tiger  not found\n",
      "tiger  not found\n",
      "tiger  not found\n"
     ]
    }
   ],
   "source": [
    "file=open(\"tiger\")\n",
    "x=file.readlines()\n",
    "for k in x:\n",
    "    word=\"tiger \"\n",
    "    if word in k:\n",
    "        print(word,\"found\")\n",
    "    else:\n",
    "        print(word,\"not found\")"
   ]
  },
  {
   "cell_type": "code",
   "execution_count": 33,
   "id": "18b888d4-f9b5-4ca4-9f58-10f6b6ccc05a",
   "metadata": {},
   "outputs": [
    {
     "name": "stdout",
     "output_type": "stream",
     "text": [
      "4\n"
     ]
    },
    {
     "ename": "ValueError",
     "evalue": "substring not found",
     "output_type": "error",
     "traceback": [
      "\u001b[1;31m---------------------------------------------------------------------------\u001b[0m",
      "\u001b[1;31mValueError\u001b[0m                                Traceback (most recent call last)",
      "Cell \u001b[1;32mIn[33], line 4\u001b[0m\n\u001b[0;32m      2\u001b[0m x\u001b[38;5;241m=\u001b[39mfile\u001b[38;5;241m.\u001b[39mreadlines()\n\u001b[0;32m      3\u001b[0m \u001b[38;5;28;01mfor\u001b[39;00m k \u001b[38;5;129;01min\u001b[39;00m x:\n\u001b[1;32m----> 4\u001b[0m     \u001b[38;5;28mprint\u001b[39m(k\u001b[38;5;241m.\u001b[39mindex(\u001b[38;5;124m\"\u001b[39m\u001b[38;5;124mtiger\u001b[39m\u001b[38;5;124m\"\u001b[39m))\n",
      "\u001b[1;31mValueError\u001b[0m: substring not found"
     ]
    }
   ],
   "source": [
    "file=open(\"tiger\",\"r\")\n",
    "x=file.readlines()\n",
    "for k in x:\n",
    "    print(k.index(\"tiger\"))"
   ]
  },
  {
   "cell_type": "code",
   "execution_count": 34,
   "id": "f154b4ec-b319-428a-9066-827d5fd4c85d",
   "metadata": {},
   "outputs": [
    {
     "name": "stdout",
     "output_type": "stream",
     "text": [
      "4\n",
      "-1\n",
      "-1\n",
      "58\n",
      "15\n"
     ]
    }
   ],
   "source": [
    "file=open(\"tiger\",\"r\")\n",
    "x=file.readlines()\n",
    "for k in x:\n",
    "    print(k.find(\"tiger\"))"
   ]
  },
  {
   "cell_type": "code",
   "execution_count": 35,
   "id": "1ee0fafe-1810-4727-9aa5-73e9eabf78ae",
   "metadata": {},
   "outputs": [
    {
     "name": "stdout",
     "output_type": "stream",
     "text": [
      "The maniramswami (Panthera tigris) is a large cat and a member of the genus Panthera native to Asia.\n",
      "\n",
      "It has a powerful, muscular body with a large head and paws, a long tail and orange fur with black, mostly vertical stripes.\n",
      "\n",
      "It is traditionally classified into nine recent subspecies,\n",
      "\n",
      "though some recognise only two subspecies, mainland Asian maniramswamis\n",
      "\n",
      "and the island maniramswamis of the Sunda Islands.\n"
     ]
    }
   ],
   "source": [
    "file=open(\"tiger\",\"r\")\n",
    "x=file.readlines()\n",
    "for k in x:\n",
    "    print(k.replace(\"tiger\",\"maniramswami\"))"
   ]
  },
  {
   "cell_type": "code",
   "execution_count": 36,
   "id": "064fae90-ce14-4cd8-99dd-08e79ce8011a",
   "metadata": {},
   "outputs": [
    {
     "name": "stdout",
     "output_type": "stream",
     "text": [
      "2\n",
      "0\n",
      "1\n",
      "1\n",
      "1\n"
     ]
    }
   ],
   "source": [
    "file=open(\"tiger\",\"r\")\n",
    "x=file.readlines()\n",
    "for k in x:\n",
    "    print(k.count(\"is\"))"
   ]
  },
  {
   "cell_type": "code",
   "execution_count": 37,
   "id": "c6a1af94-3ef0-454c-a5d0-744ca0c8e635",
   "metadata": {},
   "outputs": [
    {
     "data": {
      "text/plain": [
       "387"
      ]
     },
     "execution_count": 37,
     "metadata": {},
     "output_type": "execute_result"
    }
   ],
   "source": [
    "file=open(\"tiger\")\n",
    "x=file.read()\n",
    "len(x)"
   ]
  },
  {
   "cell_type": "code",
   "execution_count": 39,
   "id": "b54f999f-a4e0-492d-a19b-6431b0c6e0eb",
   "metadata": {},
   "outputs": [
    {
     "data": {
      "text/plain": [
       "5"
      ]
     },
     "execution_count": 39,
     "metadata": {},
     "output_type": "execute_result"
    }
   ],
   "source": [
    "file=open(\"tiger\")\n",
    "x=file.readlines()\n",
    "len(x)"
   ]
  },
  {
   "cell_type": "code",
   "execution_count": 40,
   "id": "80ee03f5-17a9-4cc8-b8cb-c061859d6e9d",
   "metadata": {},
   "outputs": [
    {
     "name": "stdout",
     "output_type": "stream",
     "text": [
      "Collecting opencv-python\n",
      "  Downloading opencv_python-4.11.0.86-cp37-abi3-win_amd64.whl.metadata (20 kB)\n",
      "Requirement already satisfied: numpy>=1.21.2 in c:\\users\\swami\\anaconda3\\lib\\site-packages (from opencv-python) (1.26.4)\n",
      "Downloading opencv_python-4.11.0.86-cp37-abi3-win_amd64.whl (39.5 MB)\n",
      "   ---------------------------------------- 0.0/39.5 MB ? eta -:--:--\n",
      "   --- ------------------------------------ 3.1/39.5 MB 23.1 MB/s eta 0:00:02\n",
      "   -------- ------------------------------- 8.7/39.5 MB 25.6 MB/s eta 0:00:02\n",
      "   ------------------ --------------------- 18.6/39.5 MB 33.5 MB/s eta 0:00:01\n",
      "   --------------------------- ------------ 27.3/39.5 MB 35.3 MB/s eta 0:00:01\n",
      "   --------------------------- ------------ 27.5/39.5 MB 28.2 MB/s eta 0:00:01\n",
      "   ---------------------------- ----------- 28.6/39.5 MB 24.2 MB/s eta 0:00:01\n",
      "   ------------------------------- -------- 30.7/39.5 MB 22.6 MB/s eta 0:00:01\n",
      "   ---------------------------------------  39.3/39.5 MB 25.2 MB/s eta 0:00:01\n",
      "   ---------------------------------------- 39.5/39.5 MB 22.6 MB/s eta 0:00:00\n",
      "Installing collected packages: opencv-python\n",
      "Successfully installed opencv-python-4.11.0.86\n",
      "Note: you may need to restart the kernel to use updated packages.\n"
     ]
    }
   ],
   "source": [
    "pip install opencv-python"
   ]
  },
  {
   "cell_type": "code",
   "execution_count": null,
   "id": "800d40a7-e902-4d2e-9ba2-742e983284e2",
   "metadata": {},
   "outputs": [],
   "source": []
  }
 ],
 "metadata": {
  "kernelspec": {
   "display_name": "Python 3 (ipykernel)",
   "language": "python",
   "name": "python3"
  },
  "language_info": {
   "codemirror_mode": {
    "name": "ipython",
    "version": 3
   },
   "file_extension": ".py",
   "mimetype": "text/x-python",
   "name": "python",
   "nbconvert_exporter": "python",
   "pygments_lexer": "ipython3",
   "version": "3.12.7"
  }
 },
 "nbformat": 4,
 "nbformat_minor": 5
}
