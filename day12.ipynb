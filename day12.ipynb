{
 "cells": [
  {
   "cell_type": "code",
   "execution_count": 1,
   "id": "b4d87a6f-f401-415b-82c2-ca708308d16b",
   "metadata": {},
   "outputs": [],
   "source": [
    "def opr(a=10,b=66,c=6.7,d=1.4,e=2+10j,f=6):\n",
    "    add=a+b\n",
    "    sub=c-d\n",
    "    mul=e*f\n",
    "    yield add\n",
    "    yield sub\n",
    "    yield mul\n",
    "    yield \"sam\"\n",
    "    "
   ]
  },
  {
   "cell_type": "code",
   "execution_count": 2,
   "id": "98f37a1c-5a28-4de9-8e95-ffcf689b5f4b",
   "metadata": {},
   "outputs": [
    {
     "data": {
      "text/plain": [
       "<generator object opr at 0x000002015DC19140>"
      ]
     },
     "execution_count": 2,
     "metadata": {},
     "output_type": "execute_result"
    }
   ],
   "source": [
    "opr()"
   ]
  },
  {
   "cell_type": "code",
   "execution_count": 3,
   "id": "b0d7d318-3614-49e2-9b6c-d6b6547024a3",
   "metadata": {},
   "outputs": [
    {
     "name": "stdout",
     "output_type": "stream",
     "text": [
      "<generator object opr at 0x000002015DC19640>\n"
     ]
    }
   ],
   "source": [
    "print(opr())"
   ]
  },
  {
   "cell_type": "code",
   "execution_count": 4,
   "id": "662b7c6c-5880-4bf5-b74e-cd4d259e8a6c",
   "metadata": {},
   "outputs": [
    {
     "name": "stdout",
     "output_type": "stream",
     "text": [
      "76 ---> <class 'int'>\n",
      "5.300000000000001 ---> <class 'float'>\n",
      "(12+60j) ---> <class 'complex'>\n",
      "sam ---> <class 'str'>\n"
     ]
    }
   ],
   "source": [
    "x=opr()\n",
    "for k in x:\n",
    "    print(k,\"--->\",type(k))"
   ]
  },
  {
   "cell_type": "code",
   "execution_count": 5,
   "id": "16f0a9f1-e3b4-477f-a514-ab2465cb93f5",
   "metadata": {},
   "outputs": [
    {
     "data": {
      "text/plain": [
       "[]"
      ]
     },
     "execution_count": 5,
     "metadata": {},
     "output_type": "execute_result"
    }
   ],
   "source": [
    "list(x)"
   ]
  },
  {
   "cell_type": "code",
   "execution_count": 6,
   "id": "dc47ef07-ec6d-4d26-88fe-42dfae48423a",
   "metadata": {},
   "outputs": [
    {
     "data": {
      "text/plain": [
       "[76, 5.300000000000001, (12+60j), 'sam']"
      ]
     },
     "execution_count": 6,
     "metadata": {},
     "output_type": "execute_result"
    }
   ],
   "source": [
    "x=opr()\n",
    "list(x)"
   ]
  },
  {
   "cell_type": "code",
   "execution_count": 7,
   "id": "e6ba2573-70fa-4556-b4a5-c611e2126747",
   "metadata": {},
   "outputs": [],
   "source": [
    "x=opr()"
   ]
  },
  {
   "cell_type": "code",
   "execution_count": 8,
   "id": "7c99f83e-6d9c-4b69-891b-e84533c4cc79",
   "metadata": {},
   "outputs": [
    {
     "data": {
      "text/plain": [
       "76"
      ]
     },
     "execution_count": 8,
     "metadata": {},
     "output_type": "execute_result"
    }
   ],
   "source": [
    "next(x)"
   ]
  },
  {
   "cell_type": "code",
   "execution_count": 9,
   "id": "c14c20bb-2384-4b0d-a46a-af528195d45e",
   "metadata": {},
   "outputs": [
    {
     "data": {
      "text/plain": [
       "5.300000000000001"
      ]
     },
     "execution_count": 9,
     "metadata": {},
     "output_type": "execute_result"
    }
   ],
   "source": [
    "next(x)"
   ]
  },
  {
   "cell_type": "code",
   "execution_count": 10,
   "id": "1762d849-c7d4-458b-8c91-fdf4f43a5666",
   "metadata": {},
   "outputs": [
    {
     "data": {
      "text/plain": [
       "(12+60j)"
      ]
     },
     "execution_count": 10,
     "metadata": {},
     "output_type": "execute_result"
    }
   ],
   "source": [
    "next(x)"
   ]
  },
  {
   "cell_type": "code",
   "execution_count": 11,
   "id": "5e1abfd9-c700-4d66-995b-dd4938837377",
   "metadata": {},
   "outputs": [
    {
     "data": {
      "text/plain": [
       "'sam'"
      ]
     },
     "execution_count": 11,
     "metadata": {},
     "output_type": "execute_result"
    }
   ],
   "source": [
    "next(x)"
   ]
  },
  {
   "cell_type": "code",
   "execution_count": 12,
   "id": "fb94cd7f-c65a-48ef-a775-afb5c7754399",
   "metadata": {},
   "outputs": [
    {
     "ename": "StopIteration",
     "evalue": "",
     "output_type": "error",
     "traceback": [
      "\u001b[1;31m---------------------------------------------------------------------------\u001b[0m",
      "\u001b[1;31mStopIteration\u001b[0m                             Traceback (most recent call last)",
      "Cell \u001b[1;32mIn[12], line 1\u001b[0m\n\u001b[1;32m----> 1\u001b[0m \u001b[38;5;28mnext\u001b[39m(x)\n",
      "\u001b[1;31mStopIteration\u001b[0m: "
     ]
    }
   ],
   "source": [
    "next(x)"
   ]
  },
  {
   "cell_type": "code",
   "execution_count": 13,
   "id": "57d21b57-7152-497d-ae80-6d99ec73f070",
   "metadata": {},
   "outputs": [],
   "source": [
    "def opr(x,y):\n",
    "    print(\"There are two opr:\")\n",
    "    print(add())\n",
    "    print(sub())"
   ]
  },
  {
   "cell_type": "code",
   "execution_count": 14,
   "id": "2e60e89c-0d9e-42b6-b84a-eb2ebe517351",
   "metadata": {},
   "outputs": [],
   "source": [
    "def add(a=10,b=23):\n",
    "    add=a+b\n",
    "    return add"
   ]
  },
  {
   "cell_type": "code",
   "execution_count": 15,
   "id": "a8d3a769-ee4e-4d36-a892-b4f9fb5bed26",
   "metadata": {},
   "outputs": [],
   "source": [
    "def sub(a=2.3,b=1.2):\n",
    "    sub=a-b\n",
    "    return sub"
   ]
  },
  {
   "cell_type": "code",
   "execution_count": 16,
   "id": "142cbde9-0e12-4db0-a3a3-141bdcd52e0d",
   "metadata": {},
   "outputs": [
    {
     "name": "stdout",
     "output_type": "stream",
     "text": [
      "There are two opr:\n",
      "33\n",
      "1.0999999999999999\n"
     ]
    }
   ],
   "source": [
    "opr(add(),sub())"
   ]
  },
  {
   "cell_type": "code",
   "execution_count": 21,
   "id": "10a5483f-ae2c-4d10-b387-457d38c761df",
   "metadata": {},
   "outputs": [
    {
     "name": "stdout",
     "output_type": "stream",
     "text": [
      "There are two opr:\n",
      "add()\n",
      "sub()\n",
      "14\n"
     ]
    }
   ],
   "source": [
    "def opr():\n",
    "    print(\"There are two opr:\")\n",
    "    print(\"add()\\nsub()\")\n",
    "\n",
    "    def add(a=10,b=4):\n",
    "        add=a+b\n",
    "        print(add)\n",
    "\n",
    "        def sub(c=6.3,d=1.8):\n",
    "            sub=c-d\n",
    "            return sub\n",
    "\n",
    "        sub()\n",
    "    add()\n",
    "opr()"
   ]
  },
  {
   "cell_type": "code",
   "execution_count": 22,
   "id": "e64a2cfa-48d6-442e-a3a1-618440152724",
   "metadata": {},
   "outputs": [
    {
     "name": "stdout",
     "output_type": "stream",
     "text": [
      "There are two opr:\n",
      "add()\n",
      "sub()\n",
      "14\n",
      "4.5\n"
     ]
    }
   ],
   "source": [
    "def opr():\n",
    "    print(\"There are two opr:\")\n",
    "    print(\"add()\\nsub()\")\n",
    "\n",
    "    def add(a=10,b=4):\n",
    "        add=a+b\n",
    "        print(add)\n",
    "\n",
    "        def sub(c=6.3,d=1.8):\n",
    "            sub=c-d\n",
    "            return sub\n",
    "\n",
    "        print(sub())\n",
    "    add()\n",
    "opr()"
   ]
  },
  {
   "cell_type": "code",
   "execution_count": 23,
   "id": "30b2a428-c1fa-475b-a83c-8e063d2534a7",
   "metadata": {},
   "outputs": [
    {
     "data": {
      "text/plain": [
       "<function __main__.<lambda>(a, b)>"
      ]
     },
     "execution_count": 23,
     "metadata": {},
     "output_type": "execute_result"
    }
   ],
   "source": [
    "lambda a,b:a+b"
   ]
  },
  {
   "cell_type": "code",
   "execution_count": 24,
   "id": "58635e1c-2334-4410-95ab-f2cf6563fa01",
   "metadata": {},
   "outputs": [
    {
     "data": {
      "text/plain": [
       "7"
      ]
     },
     "execution_count": 24,
     "metadata": {},
     "output_type": "execute_result"
    }
   ],
   "source": [
    "(lambda a,b:a+b)(3,4)"
   ]
  },
  {
   "cell_type": "code",
   "execution_count": 25,
   "id": "22e72607-0379-49cd-bb99-2d31974a96ac",
   "metadata": {},
   "outputs": [],
   "source": [
    "x=lambda a,b:a+b"
   ]
  },
  {
   "cell_type": "code",
   "execution_count": 26,
   "id": "c23223ba-1719-49ee-81ed-bf7a5ca2bfc9",
   "metadata": {},
   "outputs": [
    {
     "data": {
      "text/plain": [
       "6"
      ]
     },
     "execution_count": 26,
     "metadata": {},
     "output_type": "execute_result"
    }
   ],
   "source": [
    "x(2,4)"
   ]
  },
  {
   "cell_type": "code",
   "execution_count": 27,
   "id": "8482300d-499e-48fe-a4a8-49a808d019b8",
   "metadata": {},
   "outputs": [
    {
     "data": {
      "text/plain": [
       "17"
      ]
     },
     "execution_count": 27,
     "metadata": {},
     "output_type": "execute_result"
    }
   ],
   "source": [
    "x(9,8)"
   ]
  },
  {
   "cell_type": "code",
   "execution_count": 28,
   "id": "9db239a9-74fb-427a-ab84-99f1c3372e61",
   "metadata": {},
   "outputs": [
    {
     "ename": "NameError",
     "evalue": "name 'c' is not defined",
     "output_type": "error",
     "traceback": [
      "\u001b[1;31m---------------------------------------------------------------------------\u001b[0m",
      "\u001b[1;31mNameError\u001b[0m                                 Traceback (most recent call last)",
      "Cell \u001b[1;32mIn[28], line 1\u001b[0m\n\u001b[1;32m----> 1\u001b[0m x\u001b[38;5;241m=\u001b[39m\u001b[38;5;28;01mlambda\u001b[39;00m a,b,c,d:a\u001b[38;5;241m+\u001b[39mb,c\u001b[38;5;241m-\u001b[39md\n",
      "\u001b[1;31mNameError\u001b[0m: name 'c' is not defined"
     ]
    }
   ],
   "source": [
    "x=lambda a,b,c,d:a+b,c-d"
   ]
  },
  {
   "cell_type": "code",
   "execution_count": 29,
   "id": "9def9cd3-26a5-48af-92f5-06626080120b",
   "metadata": {},
   "outputs": [],
   "source": [
    "x=lambda a,b,c,d:a+b*c-d"
   ]
  },
  {
   "cell_type": "code",
   "execution_count": 30,
   "id": "c61cd88f-8c57-4dce-87e1-3058317307c3",
   "metadata": {},
   "outputs": [
    {
     "data": {
      "text/plain": [
       "3"
      ]
     },
     "execution_count": 30,
     "metadata": {},
     "output_type": "execute_result"
    }
   ],
   "source": [
    "x(1,2,3,4)"
   ]
  },
  {
   "cell_type": "code",
   "execution_count": 31,
   "id": "ff89b2d8-fa1e-4d93-9d4a-baf55fe82be1",
   "metadata": {},
   "outputs": [
    {
     "ename": "NameError",
     "evalue": "name 'c' is not defined",
     "output_type": "error",
     "traceback": [
      "\u001b[1;31m---------------------------------------------------------------------------\u001b[0m",
      "\u001b[1;31mNameError\u001b[0m                                 Traceback (most recent call last)",
      "Cell \u001b[1;32mIn[31], line 1\u001b[0m\n\u001b[1;32m----> 1\u001b[0m x\u001b[38;5;241m=\u001b[39m\u001b[38;5;28;01mlambda\u001b[39;00m a,b:\u001b[38;5;28;01mlambda\u001b[39;00m c,d:\u001b[38;5;28;01mlambda\u001b[39;00m e,f:a\u001b[38;5;241m+\u001b[39mb,c\u001b[38;5;241m-\u001b[39md,e\u001b[38;5;241m*\u001b[39mf\n",
      "\u001b[1;31mNameError\u001b[0m: name 'c' is not defined"
     ]
    }
   ],
   "source": [
    "x=lambda a,b:lambda c,d:lambda e,f:a+b,c-d,e*f"
   ]
  },
  {
   "cell_type": "code",
   "execution_count": 32,
   "id": "0d60627b-0785-4717-9efa-f9d905f264e5",
   "metadata": {},
   "outputs": [],
   "source": [
    "x=lambda a,b:lambda c,d:lambda e,f:a+b+c-d*e/f"
   ]
  },
  {
   "cell_type": "code",
   "execution_count": 36,
   "id": "e93c49e9-b263-464a-ba3c-885e256357f7",
   "metadata": {},
   "outputs": [
    {
     "data": {
      "text/plain": [
       "2.6"
      ]
     },
     "execution_count": 36,
     "metadata": {},
     "output_type": "execute_result"
    }
   ],
   "source": [
    "x(1,2)(2,3)(4,5)"
   ]
  },
  {
   "cell_type": "code",
   "execution_count": 37,
   "id": "a265c251-c588-4735-b81b-c5e89abfaeed",
   "metadata": {},
   "outputs": [],
   "source": [
    "x=lambda a,b,c,d,e,f:{\"Add\":a+b,\"Sub\":c-d,\"Mul\":e*f}"
   ]
  },
  {
   "cell_type": "code",
   "execution_count": 38,
   "id": "468a3e0f-f2aa-42a9-9576-947f7d7cf81a",
   "metadata": {},
   "outputs": [
    {
     "data": {
      "text/plain": [
       "{'Add': 3, 'Sub': 3, 'Mul': 12}"
      ]
     },
     "execution_count": 38,
     "metadata": {},
     "output_type": "execute_result"
    }
   ],
   "source": [
    "x(1,2,4,1,6,2)"
   ]
  },
  {
   "cell_type": "code",
   "execution_count": 39,
   "id": "0ee46bb6-1025-41bf-ab5f-b59df6c812d3",
   "metadata": {},
   "outputs": [
    {
     "name": "stdout",
     "output_type": "stream",
     "text": [
      "Add ----> 3\n",
      "Sub ----> 3\n",
      "Mul ----> 12\n"
     ]
    }
   ],
   "source": [
    "y=x(1,2,4,1,6,2)\n",
    "for k in y:\n",
    "    print(k,\"---->\",y[k])"
   ]
  },
  {
   "cell_type": "code",
   "execution_count": 40,
   "id": "3c855de7-67d2-4b9c-9b8f-9edc8f3b8b71",
   "metadata": {},
   "outputs": [
    {
     "name": "stdout",
     "output_type": "stream",
     "text": [
      "Add ----> 3\n",
      "Sub ----> 3\n",
      "Mul ----> 12\n"
     ]
    }
   ],
   "source": [
    "y=x(1,2,4,1,6,2)\n",
    "for k,j in y.items():\n",
    "    print(k,\"---->\",j)"
   ]
  },
  {
   "cell_type": "code",
   "execution_count": 41,
   "id": "c4cde8c0-c1df-4dbc-89b9-6fa0330dffdf",
   "metadata": {},
   "outputs": [
    {
     "name": "stdout",
     "output_type": "stream",
     "text": [
      "0\n",
      "1\n",
      "2\n",
      "3\n",
      "4\n",
      "5\n",
      "6\n",
      "7\n",
      "8\n",
      "9\n",
      "10\n"
     ]
    }
   ],
   "source": [
    "for k in range(11):\n",
    "    print(k)"
   ]
  },
  {
   "cell_type": "code",
   "execution_count": 43,
   "id": "ba567f13-600a-4182-9e91-e4a8ec87db0a",
   "metadata": {},
   "outputs": [
    {
     "name": "stdout",
     "output_type": "stream",
     "text": [
      "[0, 1, 2, 3, 4, 5, 6, 7, 8, 9]\n"
     ]
    }
   ],
   "source": [
    "l=[]\n",
    "for k in range(10):\n",
    "    l.append(k)\n",
    "print(l)"
   ]
  },
  {
   "cell_type": "code",
   "execution_count": 44,
   "id": "cc3ac9b9-7a68-49fd-9215-6f5f4b04df2b",
   "metadata": {},
   "outputs": [
    {
     "data": {
      "text/plain": [
       "[0, 1, 2, 3, 4, 5, 6, 7, 8, 9, 10]"
      ]
     },
     "execution_count": 44,
     "metadata": {},
     "output_type": "execute_result"
    }
   ],
   "source": [
    "[k for k in range(11)]"
   ]
  },
  {
   "cell_type": "code",
   "execution_count": 45,
   "id": "8a4f150c-2441-4ca3-87e7-ab0a5562be9b",
   "metadata": {},
   "outputs": [],
   "source": [
    "even_odd=lambda no:print(no,\"is even no\") if no%2==0 else print(no,\"is odd no\")"
   ]
  },
  {
   "cell_type": "code",
   "execution_count": 46,
   "id": "d4f2912b-3903-47a8-affc-7599971305bb",
   "metadata": {},
   "outputs": [
    {
     "name": "stdout",
     "output_type": "stream",
     "text": [
      "23 is odd no\n"
     ]
    }
   ],
   "source": [
    "even_odd(23)"
   ]
  },
  {
   "cell_type": "code",
   "execution_count": 47,
   "id": "e64fe12b-bdd8-4f88-a5cc-28bd6e480809",
   "metadata": {},
   "outputs": [
    {
     "name": "stdin",
     "output_type": "stream",
     "text": [
      " 23\n",
      " 45\n"
     ]
    }
   ],
   "source": [
    "max_min=lambda a=int(input()),b=int(input()):print(a,\"is max\",b,\"is min\") if a>b else print(a,\"is min\",b,\"is max\")"
   ]
  },
  {
   "cell_type": "code",
   "execution_count": 48,
   "id": "87cfd9bf-aec5-45c0-8497-b57170b0b832",
   "metadata": {},
   "outputs": [
    {
     "name": "stdout",
     "output_type": "stream",
     "text": [
      "23 is min 45 is max\n"
     ]
    }
   ],
   "source": [
    "max_min()"
   ]
  },
  {
   "cell_type": "code",
   "execution_count": 49,
   "id": "94b5f4e5-0448-4b9a-b76a-3ad8365b2dce",
   "metadata": {},
   "outputs": [
    {
     "name": "stdout",
     "output_type": "stream",
     "text": [
      "2 is min 3 is max\n"
     ]
    }
   ],
   "source": [
    "max_min(2,3)"
   ]
  },
  {
   "cell_type": "code",
   "execution_count": 50,
   "id": "96eb8a1a-f92f-40fa-b9e8-1fe3988f3c1b",
   "metadata": {},
   "outputs": [],
   "source": [
    "x=lambda a,b:print(a+b)"
   ]
  },
  {
   "cell_type": "code",
   "execution_count": 51,
   "id": "bcb5a3d1-0132-4022-9878-118be31966aa",
   "metadata": {},
   "outputs": [
    {
     "name": "stdout",
     "output_type": "stream",
     "text": [
      "5\n"
     ]
    }
   ],
   "source": [
    "x(2,3)"
   ]
  },
  {
   "cell_type": "code",
   "execution_count": 52,
   "id": "a19ef23b-a7b5-4845-819d-bcd879a7615e",
   "metadata": {},
   "outputs": [
    {
     "ename": "SyntaxError",
     "evalue": "invalid syntax (3525908719.py, line 1)",
     "output_type": "error",
     "traceback": [
      "\u001b[1;36m  Cell \u001b[1;32mIn[52], line 1\u001b[1;36m\u001b[0m\n\u001b[1;33m    x=lambda a,b:return(a+b)\u001b[0m\n\u001b[1;37m                 ^\u001b[0m\n\u001b[1;31mSyntaxError\u001b[0m\u001b[1;31m:\u001b[0m invalid syntax\n"
     ]
    }
   ],
   "source": [
    "x=lambda a,b:return(a+b)"
   ]
  },
  {
   "cell_type": "code",
   "execution_count": 1,
   "id": "2d50f621-a3c8-4a74-bf96-fd9c8d8231ca",
   "metadata": {},
   "outputs": [],
   "source": [
    "x=lambda a:a*a"
   ]
  },
  {
   "cell_type": "code",
   "execution_count": 3,
   "id": "b8571a5b-818b-4a20-a792-713ff58f6eef",
   "metadata": {},
   "outputs": [
    {
     "data": {
      "text/plain": [
       "16"
      ]
     },
     "execution_count": 3,
     "metadata": {},
     "output_type": "execute_result"
    }
   ],
   "source": [
    "x(4)"
   ]
  },
  {
   "cell_type": "code",
   "execution_count": 13,
   "id": "156e0cbf-061f-4e9f-b787-4a2d1a087b28",
   "metadata": {},
   "outputs": [],
   "source": [
    "x =lambda a:print(\"a is even\") if a&1==0 else print(\"a is odd:\")"
   ]
  },
  {
   "cell_type": "code",
   "execution_count": 15,
   "id": "ac9ca6c8-9116-4300-ade6-b36e4849a992",
   "metadata": {},
   "outputs": [
    {
     "data": {
      "text/plain": [
       "<function __main__.<lambda>(a)>"
      ]
     },
     "execution_count": 15,
     "metadata": {},
     "output_type": "execute_result"
    }
   ],
   "source": [
    "x"
   ]
  },
  {
   "cell_type": "code",
   "execution_count": 17,
   "id": "ac5d137d-1329-41bf-bc7e-65468af7bde2",
   "metadata": {},
   "outputs": [
    {
     "name": "stdout",
     "output_type": "stream",
     "text": [
      "a is odd:\n"
     ]
    }
   ],
   "source": [
    "x(1)"
   ]
  },
  {
   "cell_type": "code",
   "execution_count": 19,
   "id": "8e1d8fac-ed3e-45db-b121-06dba2f35159",
   "metadata": {},
   "outputs": [
    {
     "ename": "NameError",
     "evalue": "name 'n' is not defined",
     "output_type": "error",
     "traceback": [
      "\u001b[1;31m---------------------------------------------------------------------------\u001b[0m",
      "\u001b[1;31mNameError\u001b[0m                                 Traceback (most recent call last)",
      "Cell \u001b[1;32mIn[19], line 1\u001b[0m\n\u001b[1;32m----> 1\u001b[0m n\n",
      "\u001b[1;31mNameError\u001b[0m: name 'n' is not defined"
     ]
    }
   ],
   "source": [
    "n"
   ]
  },
  {
   "cell_type": "code",
   "execution_count": null,
   "id": "c982ea4d-6cda-4f3a-b87c-b278769d0c71",
   "metadata": {},
   "outputs": [],
   "source": []
  }
 ],
 "metadata": {
  "kernelspec": {
   "display_name": "Python [conda env:base] *",
   "language": "python",
   "name": "conda-base-py"
  },
  "language_info": {
   "codemirror_mode": {
    "name": "ipython",
    "version": 3
   },
   "file_extension": ".py",
   "mimetype": "text/x-python",
   "name": "python",
   "nbconvert_exporter": "python",
   "pygments_lexer": "ipython3",
   "version": "3.12.7"
  }
 },
 "nbformat": 4,
 "nbformat_minor": 5
}
