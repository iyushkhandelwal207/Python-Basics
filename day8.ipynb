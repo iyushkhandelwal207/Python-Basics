{
 "cells": [
  {
   "cell_type": "code",
   "execution_count": 1,
   "id": "d3550e70-32b8-41a8-a0b2-a24c10d7bcd0",
   "metadata": {},
   "outputs": [
    {
     "name": "stdout",
     "output_type": "stream",
     "text": [
      "[23, 45, 56, 3.4, 23, 45, 67, 78, 89, 5, 4, 3] <class 'list'>\n"
     ]
    }
   ],
   "source": [
    "l=[23,45,56,3.4,23,45,67,78,89,5,4,3]\n",
    "print(l,type(l))"
   ]
  },
  {
   "cell_type": "code",
   "execution_count": 2,
   "id": "fd322227-06ee-44c5-beb1-7a447fece360",
   "metadata": {},
   "outputs": [
    {
     "data": {
      "text/plain": [
       "2620083028224"
      ]
     },
     "execution_count": 2,
     "metadata": {},
     "output_type": "execute_result"
    }
   ],
   "source": [
    "id(l)"
   ]
  },
  {
   "cell_type": "code",
   "execution_count": 3,
   "id": "89ba8ead-0f4d-4785-b0c6-81b8781cd441",
   "metadata": {},
   "outputs": [
    {
     "data": {
      "text/plain": [
       "3"
      ]
     },
     "execution_count": 3,
     "metadata": {},
     "output_type": "execute_result"
    }
   ],
   "source": [
    "l.pop()"
   ]
  },
  {
   "cell_type": "code",
   "execution_count": 4,
   "id": "cde90ab1-6beb-4301-a2cb-859f717b6ac2",
   "metadata": {},
   "outputs": [
    {
     "data": {
      "text/plain": [
       "[23, 45, 56, 3.4, 23, 45, 67, 78, 89, 5, 4]"
      ]
     },
     "execution_count": 4,
     "metadata": {},
     "output_type": "execute_result"
    }
   ],
   "source": [
    "l"
   ]
  },
  {
   "cell_type": "code",
   "execution_count": 5,
   "id": "37162696-7b77-4395-8455-87e90799d9db",
   "metadata": {},
   "outputs": [
    {
     "data": {
      "text/plain": [
       "2620083028224"
      ]
     },
     "execution_count": 5,
     "metadata": {},
     "output_type": "execute_result"
    }
   ],
   "source": [
    "id(l)"
   ]
  },
  {
   "cell_type": "code",
   "execution_count": 6,
   "id": "1b9f3f90-3318-4978-8a6d-b58fe4b99b34",
   "metadata": {},
   "outputs": [
    {
     "data": {
      "text/plain": [
       "3.4"
      ]
     },
     "execution_count": 6,
     "metadata": {},
     "output_type": "execute_result"
    }
   ],
   "source": [
    "l.pop(3)"
   ]
  },
  {
   "cell_type": "code",
   "execution_count": 7,
   "id": "77c78ad4-4dc5-42a6-9e50-b243e5619e20",
   "metadata": {},
   "outputs": [
    {
     "data": {
      "text/plain": [
       "[23, 45, 56, 23, 45, 67, 78, 89, 5, 4]"
      ]
     },
     "execution_count": 7,
     "metadata": {},
     "output_type": "execute_result"
    }
   ],
   "source": [
    "l"
   ]
  },
  {
   "cell_type": "code",
   "execution_count": 8,
   "id": "06062eed-b3b7-4d78-aa98-f2402cac3803",
   "metadata": {},
   "outputs": [
    {
     "data": {
      "text/plain": [
       "2620083028224"
      ]
     },
     "execution_count": 8,
     "metadata": {},
     "output_type": "execute_result"
    }
   ],
   "source": [
    "id(l)"
   ]
  },
  {
   "cell_type": "code",
   "execution_count": 9,
   "id": "99b55316-eaaa-461f-ba7b-e17e3cbcf71c",
   "metadata": {},
   "outputs": [
    {
     "ename": "IndexError",
     "evalue": "pop index out of range",
     "output_type": "error",
     "traceback": [
      "\u001b[1;31m---------------------------------------------------------------------------\u001b[0m",
      "\u001b[1;31mIndexError\u001b[0m                                Traceback (most recent call last)",
      "Cell \u001b[1;32mIn[9], line 1\u001b[0m\n\u001b[1;32m----> 1\u001b[0m \u001b[43ml\u001b[49m\u001b[38;5;241;43m.\u001b[39;49m\u001b[43mpop\u001b[49m\u001b[43m(\u001b[49m\u001b[38;5;241;43m23\u001b[39;49m\u001b[43m)\u001b[49m\n",
      "\u001b[1;31mIndexError\u001b[0m: pop index out of range"
     ]
    }
   ],
   "source": [
    "l.pop(23)"
   ]
  },
  {
   "cell_type": "code",
   "execution_count": 10,
   "id": "b734c8c6-bc5a-4735-8531-c6091e816f8f",
   "metadata": {},
   "outputs": [
    {
     "ename": "TypeError",
     "evalue": "list.remove() takes exactly one argument (0 given)",
     "output_type": "error",
     "traceback": [
      "\u001b[1;31m---------------------------------------------------------------------------\u001b[0m",
      "\u001b[1;31mTypeError\u001b[0m                                 Traceback (most recent call last)",
      "Cell \u001b[1;32mIn[10], line 1\u001b[0m\n\u001b[1;32m----> 1\u001b[0m \u001b[43ml\u001b[49m\u001b[38;5;241;43m.\u001b[39;49m\u001b[43mremove\u001b[49m\u001b[43m(\u001b[49m\u001b[43m)\u001b[49m\n",
      "\u001b[1;31mTypeError\u001b[0m: list.remove() takes exactly one argument (0 given)"
     ]
    }
   ],
   "source": [
    "l.remove()"
   ]
  },
  {
   "cell_type": "code",
   "execution_count": 11,
   "id": "11dcc9c8-5b89-43af-8437-8f66f0437c59",
   "metadata": {},
   "outputs": [],
   "source": [
    "l.remove(23)"
   ]
  },
  {
   "cell_type": "code",
   "execution_count": 12,
   "id": "17132d97-c12b-4976-9455-d30738de0e7c",
   "metadata": {},
   "outputs": [
    {
     "data": {
      "text/plain": [
       "[45, 56, 23, 45, 67, 78, 89, 5, 4]"
      ]
     },
     "execution_count": 12,
     "metadata": {},
     "output_type": "execute_result"
    }
   ],
   "source": [
    "l"
   ]
  },
  {
   "cell_type": "code",
   "execution_count": 13,
   "id": "067619ea-8599-466b-85c9-1bfbac8b4fe5",
   "metadata": {},
   "outputs": [
    {
     "data": {
      "text/plain": [
       "2620083028224"
      ]
     },
     "execution_count": 13,
     "metadata": {},
     "output_type": "execute_result"
    }
   ],
   "source": [
    "id(l)"
   ]
  },
  {
   "cell_type": "code",
   "execution_count": 14,
   "id": "95319640-87b9-4717-b876-8e8ab34e4ea7",
   "metadata": {},
   "outputs": [
    {
     "ename": "ValueError",
     "evalue": "list.remove(x): x not in list",
     "output_type": "error",
     "traceback": [
      "\u001b[1;31m---------------------------------------------------------------------------\u001b[0m",
      "\u001b[1;31mValueError\u001b[0m                                Traceback (most recent call last)",
      "Cell \u001b[1;32mIn[14], line 1\u001b[0m\n\u001b[1;32m----> 1\u001b[0m \u001b[43ml\u001b[49m\u001b[38;5;241;43m.\u001b[39;49m\u001b[43mremove\u001b[49m\u001b[43m(\u001b[49m\u001b[38;5;241;43m600\u001b[39;49m\u001b[43m)\u001b[49m\n",
      "\u001b[1;31mValueError\u001b[0m: list.remove(x): x not in list"
     ]
    }
   ],
   "source": [
    "l.remove(600)"
   ]
  },
  {
   "cell_type": "code",
   "execution_count": 15,
   "id": "03b0d5b5-3961-4a86-8c01-9c41918cad6d",
   "metadata": {},
   "outputs": [
    {
     "data": {
      "text/plain": [
       "[45, 56, 23, 45, 67, 78, 89, 5, 4]"
      ]
     },
     "execution_count": 15,
     "metadata": {},
     "output_type": "execute_result"
    }
   ],
   "source": [
    "l"
   ]
  },
  {
   "cell_type": "code",
   "execution_count": 16,
   "id": "45b6dcc3-9c8f-428c-b75e-4014538862eb",
   "metadata": {},
   "outputs": [],
   "source": [
    "del l[0:5:2]"
   ]
  },
  {
   "cell_type": "code",
   "execution_count": 17,
   "id": "3464ac85-988b-4629-92bc-7b1527598f22",
   "metadata": {},
   "outputs": [
    {
     "data": {
      "text/plain": [
       "[56, 45, 78, 89, 5, 4]"
      ]
     },
     "execution_count": 17,
     "metadata": {},
     "output_type": "execute_result"
    }
   ],
   "source": [
    "l"
   ]
  },
  {
   "cell_type": "code",
   "execution_count": 18,
   "id": "c07002e7-5c00-4535-951e-4d58177ef95f",
   "metadata": {},
   "outputs": [
    {
     "data": {
      "text/plain": [
       "2620083028224"
      ]
     },
     "execution_count": 18,
     "metadata": {},
     "output_type": "execute_result"
    }
   ],
   "source": [
    "id(l)"
   ]
  },
  {
   "cell_type": "code",
   "execution_count": 19,
   "id": "6613da9f-c96a-44c7-90e0-6690a6830828",
   "metadata": {},
   "outputs": [
    {
     "data": {
      "text/plain": [
       "[56, 45, 78, 89, 5, 4]"
      ]
     },
     "execution_count": 19,
     "metadata": {},
     "output_type": "execute_result"
    }
   ],
   "source": [
    "l"
   ]
  },
  {
   "cell_type": "code",
   "execution_count": 20,
   "id": "850c75a8-72e0-4cbf-bf84-01e0dec2d552",
   "metadata": {},
   "outputs": [],
   "source": [
    "l.extend([56,78,22,89,67,56,34,2,1])"
   ]
  },
  {
   "cell_type": "code",
   "execution_count": 21,
   "id": "67a05a51-fca4-4adb-8835-974a21499381",
   "metadata": {},
   "outputs": [
    {
     "data": {
      "text/plain": [
       "[56, 45, 78, 89, 5, 4, 56, 78, 22, 89, 67, 56, 34, 2, 1]"
      ]
     },
     "execution_count": 21,
     "metadata": {},
     "output_type": "execute_result"
    }
   ],
   "source": [
    "l"
   ]
  },
  {
   "cell_type": "code",
   "execution_count": 22,
   "id": "ae237b1e-ff3f-46a5-ad1e-a8fcdf6d17e0",
   "metadata": {},
   "outputs": [
    {
     "data": {
      "text/plain": [
       "2620083028224"
      ]
     },
     "execution_count": 22,
     "metadata": {},
     "output_type": "execute_result"
    }
   ],
   "source": [
    "id(l)"
   ]
  },
  {
   "cell_type": "code",
   "execution_count": 23,
   "id": "fd58e2ac-bfc7-46f5-bee5-66c022b4c5b1",
   "metadata": {},
   "outputs": [],
   "source": [
    "l.clear()"
   ]
  },
  {
   "cell_type": "code",
   "execution_count": 24,
   "id": "c8ca03cc-fd5b-47da-9688-926a637f371d",
   "metadata": {},
   "outputs": [
    {
     "data": {
      "text/plain": [
       "[]"
      ]
     },
     "execution_count": 24,
     "metadata": {},
     "output_type": "execute_result"
    }
   ],
   "source": [
    "l"
   ]
  },
  {
   "cell_type": "code",
   "execution_count": 25,
   "id": "f3fca275-9976-4248-83ab-52c3f845d9f7",
   "metadata": {},
   "outputs": [
    {
     "data": {
      "text/plain": [
       "2620083028224"
      ]
     },
     "execution_count": 25,
     "metadata": {},
     "output_type": "execute_result"
    }
   ],
   "source": [
    "id(l)"
   ]
  },
  {
   "cell_type": "code",
   "execution_count": 26,
   "id": "49a88b02-6a95-4b62-8306-3dc9586e51a3",
   "metadata": {},
   "outputs": [],
   "source": [
    "del l"
   ]
  },
  {
   "cell_type": "code",
   "execution_count": 27,
   "id": "1fdbf92d-5a23-4258-a1e6-672db2c55c87",
   "metadata": {},
   "outputs": [
    {
     "ename": "NameError",
     "evalue": "name 'l' is not defined",
     "output_type": "error",
     "traceback": [
      "\u001b[1;31m---------------------------------------------------------------------------\u001b[0m",
      "\u001b[1;31mNameError\u001b[0m                                 Traceback (most recent call last)",
      "Cell \u001b[1;32mIn[27], line 1\u001b[0m\n\u001b[1;32m----> 1\u001b[0m \u001b[43ml\u001b[49m\n",
      "\u001b[1;31mNameError\u001b[0m: name 'l' is not defined"
     ]
    }
   ],
   "source": [
    "l"
   ]
  },
  {
   "cell_type": "code",
   "execution_count": 28,
   "id": "465b62d1-29d6-448a-b22c-8ced772fc1f2",
   "metadata": {},
   "outputs": [
    {
     "name": "stdout",
     "output_type": "stream",
     "text": [
      "[56, 45, 78, 89, 5, 4, 56, 78, 22, 89, 67, 56, 34, 2, 1] <class 'list'>\n"
     ]
    }
   ],
   "source": [
    "l=[56, 45, 78, 89, 5, 4, 56, 78, 22, 89, 67, 56, 34, 2, 1]\n",
    "print(l,type(l))"
   ]
  },
  {
   "cell_type": "code",
   "execution_count": 29,
   "id": "3189ef64-0af7-4a1f-9328-5f5c8fd7f1a5",
   "metadata": {},
   "outputs": [
    {
     "data": {
      "text/plain": [
       "3"
      ]
     },
     "execution_count": 29,
     "metadata": {},
     "output_type": "execute_result"
    }
   ],
   "source": [
    "l.count(56)"
   ]
  },
  {
   "cell_type": "code",
   "execution_count": 30,
   "id": "4bcb112c-585e-4bc3-8319-0a29b20d7e0d",
   "metadata": {},
   "outputs": [
    {
     "data": {
      "text/plain": [
       "0"
      ]
     },
     "execution_count": 30,
     "metadata": {},
     "output_type": "execute_result"
    }
   ],
   "source": [
    "l.count(900)"
   ]
  },
  {
   "cell_type": "code",
   "execution_count": 31,
   "id": "347e8541-a482-4730-9dbf-0a06b76e9ba3",
   "metadata": {},
   "outputs": [],
   "source": [
    "l.reverse()"
   ]
  },
  {
   "cell_type": "code",
   "execution_count": 32,
   "id": "c705c8dd-515c-4f87-aced-ec5d79c55864",
   "metadata": {},
   "outputs": [
    {
     "data": {
      "text/plain": [
       "[1, 2, 34, 56, 67, 89, 22, 78, 56, 4, 5, 89, 78, 45, 56]"
      ]
     },
     "execution_count": 32,
     "metadata": {},
     "output_type": "execute_result"
    }
   ],
   "source": [
    "l"
   ]
  },
  {
   "cell_type": "code",
   "execution_count": 33,
   "id": "94baeea2-7020-406f-9ffa-4138e266d868",
   "metadata": {},
   "outputs": [
    {
     "data": {
      "text/plain": [
       "2620111240960"
      ]
     },
     "execution_count": 33,
     "metadata": {},
     "output_type": "execute_result"
    }
   ],
   "source": [
    "id(l)"
   ]
  },
  {
   "cell_type": "code",
   "execution_count": 34,
   "id": "1e6e49b0-59f9-4536-9e53-44d3393a177a",
   "metadata": {},
   "outputs": [],
   "source": [
    "l.sort()"
   ]
  },
  {
   "cell_type": "code",
   "execution_count": 35,
   "id": "059ea603-4623-41a7-ae2d-94da33bc51d9",
   "metadata": {},
   "outputs": [
    {
     "data": {
      "text/plain": [
       "[1, 2, 4, 5, 22, 34, 45, 56, 56, 56, 67, 78, 78, 89, 89]"
      ]
     },
     "execution_count": 35,
     "metadata": {},
     "output_type": "execute_result"
    }
   ],
   "source": [
    "l"
   ]
  },
  {
   "cell_type": "code",
   "execution_count": 36,
   "id": "f21e4a06-a8b9-40e1-9d76-46596dbac817",
   "metadata": {},
   "outputs": [
    {
     "data": {
      "text/plain": [
       "2620111240960"
      ]
     },
     "execution_count": 36,
     "metadata": {},
     "output_type": "execute_result"
    }
   ],
   "source": [
    "id(l)"
   ]
  },
  {
   "cell_type": "code",
   "execution_count": 37,
   "id": "695edd8b-a2c9-46ab-b66a-2be94fd399b7",
   "metadata": {},
   "outputs": [],
   "source": [
    "l.sort(reverse=True)"
   ]
  },
  {
   "cell_type": "code",
   "execution_count": 38,
   "id": "d0dbdc85-1002-4efa-a735-19f3e6fc0fbc",
   "metadata": {},
   "outputs": [
    {
     "data": {
      "text/plain": [
       "[89, 89, 78, 78, 67, 56, 56, 56, 45, 34, 22, 5, 4, 2, 1]"
      ]
     },
     "execution_count": 38,
     "metadata": {},
     "output_type": "execute_result"
    }
   ],
   "source": [
    "l"
   ]
  },
  {
   "cell_type": "code",
   "execution_count": 39,
   "id": "2c7c57f7-276d-4dba-953a-89fae286b4c5",
   "metadata": {},
   "outputs": [
    {
     "data": {
      "text/plain": [
       "2620111240960"
      ]
     },
     "execution_count": 39,
     "metadata": {},
     "output_type": "execute_result"
    }
   ],
   "source": [
    "id(l)"
   ]
  },
  {
   "cell_type": "code",
   "execution_count": 40,
   "id": "f1d6bdb8-c96c-473e-ba05-7c77518b535a",
   "metadata": {},
   "outputs": [],
   "source": [
    "l=[56, 45, 78, 89, 5, 4, 56, 78, 22, 89, 67, 56, 34, 2, 1]"
   ]
  },
  {
   "cell_type": "code",
   "execution_count": 41,
   "id": "d7326966-b504-4333-a8b3-1cde4b5a64d1",
   "metadata": {},
   "outputs": [
    {
     "data": {
      "text/plain": [
       "2620111258944"
      ]
     },
     "execution_count": 41,
     "metadata": {},
     "output_type": "execute_result"
    }
   ],
   "source": [
    "id(l)"
   ]
  },
  {
   "cell_type": "code",
   "execution_count": 42,
   "id": "a550d42d-9b14-41b9-b9c2-4d883ebac103",
   "metadata": {},
   "outputs": [
    {
     "data": {
      "text/plain": [
       "[1, 2, 4, 5, 22, 34, 45, 56, 56, 56, 67, 78, 78, 89, 89]"
      ]
     },
     "execution_count": 42,
     "metadata": {},
     "output_type": "execute_result"
    }
   ],
   "source": [
    "sorted(l)"
   ]
  },
  {
   "cell_type": "code",
   "execution_count": 43,
   "id": "de50ea57-7f71-474e-a635-05f8d16f6c82",
   "metadata": {},
   "outputs": [
    {
     "data": {
      "text/plain": [
       "[56, 45, 78, 89, 5, 4, 56, 78, 22, 89, 67, 56, 34, 2, 1]"
      ]
     },
     "execution_count": 43,
     "metadata": {},
     "output_type": "execute_result"
    }
   ],
   "source": [
    "l"
   ]
  },
  {
   "cell_type": "code",
   "execution_count": 44,
   "id": "c80c9346-0568-4908-8e80-3d6148135504",
   "metadata": {},
   "outputs": [
    {
     "data": {
      "text/plain": [
       "[1, 2, 4, 5, 22, 34, 45, 56, 56, 56, 67, 78, 78, 89, 89]"
      ]
     },
     "execution_count": 44,
     "metadata": {},
     "output_type": "execute_result"
    }
   ],
   "source": [
    "l=sorted(l)\n",
    "l"
   ]
  },
  {
   "cell_type": "code",
   "execution_count": 45,
   "id": "0c869059-ee58-444b-a6fc-e49ed4445074",
   "metadata": {},
   "outputs": [
    {
     "data": {
      "text/plain": [
       "2620111115136"
      ]
     },
     "execution_count": 45,
     "metadata": {},
     "output_type": "execute_result"
    }
   ],
   "source": [
    "id(l)"
   ]
  },
  {
   "cell_type": "code",
   "execution_count": 46,
   "id": "b7b8156a-8956-4b76-8ab5-ec4cd092526d",
   "metadata": {},
   "outputs": [],
   "source": [
    "l=sorted(l,reverse=True)"
   ]
  },
  {
   "cell_type": "code",
   "execution_count": 47,
   "id": "a414194b-5b43-4307-872f-c0225bfe914c",
   "metadata": {},
   "outputs": [
    {
     "data": {
      "text/plain": [
       "[89, 89, 78, 78, 67, 56, 56, 56, 45, 34, 22, 5, 4, 2, 1]"
      ]
     },
     "execution_count": 47,
     "metadata": {},
     "output_type": "execute_result"
    }
   ],
   "source": [
    "l"
   ]
  },
  {
   "cell_type": "code",
   "execution_count": 48,
   "id": "4d26e359-15c8-4b5c-8466-cb9af929ebeb",
   "metadata": {},
   "outputs": [
    {
     "data": {
      "text/plain": [
       "2620111123712"
      ]
     },
     "execution_count": 48,
     "metadata": {},
     "output_type": "execute_result"
    }
   ],
   "source": [
    "id(l)"
   ]
  },
  {
   "cell_type": "code",
   "execution_count": 49,
   "id": "998daac2-488e-4997-8495-61ceb32ef443",
   "metadata": {},
   "outputs": [
    {
     "data": {
      "text/plain": [
       "[89, 89, 78, 78, 67, 56, 56, 56, 45, 34, 22, 5, 4, 2, 1]"
      ]
     },
     "execution_count": 49,
     "metadata": {},
     "output_type": "execute_result"
    }
   ],
   "source": [
    "l"
   ]
  },
  {
   "cell_type": "code",
   "execution_count": 50,
   "id": "20e44cff-df2e-4abd-85e3-7f0e1d07b912",
   "metadata": {},
   "outputs": [
    {
     "data": {
      "text/plain": [
       "89"
      ]
     },
     "execution_count": 50,
     "metadata": {},
     "output_type": "execute_result"
    }
   ],
   "source": [
    "max(l)"
   ]
  },
  {
   "cell_type": "code",
   "execution_count": 51,
   "id": "51279684-4169-44fd-bc51-385b5ec720f7",
   "metadata": {},
   "outputs": [
    {
     "data": {
      "text/plain": [
       "1"
      ]
     },
     "execution_count": 51,
     "metadata": {},
     "output_type": "execute_result"
    }
   ],
   "source": [
    "min(l)"
   ]
  },
  {
   "cell_type": "code",
   "execution_count": 52,
   "id": "217c56a9-8a3d-4b27-82b5-ad755a451ba5",
   "metadata": {},
   "outputs": [
    {
     "data": {
      "text/plain": [
       "682"
      ]
     },
     "execution_count": 52,
     "metadata": {},
     "output_type": "execute_result"
    }
   ],
   "source": [
    "sum(l)"
   ]
  },
  {
   "cell_type": "code",
   "execution_count": 53,
   "id": "32a9c042-7123-4cd1-8fc3-0ad2f5c2ee97",
   "metadata": {},
   "outputs": [
    {
     "name": "stdin",
     "output_type": "stream",
     "text": [
      "Enter the value of a: 45\n",
      "Enter the value of b: 190\n",
      "Enter the value of c: 1\n"
     ]
    },
    {
     "name": "stdout",
     "output_type": "stream",
     "text": [
      "1st greatest: 190\n",
      "2nd greatest: 45\n",
      "3rd greatest: 1\n"
     ]
    }
   ],
   "source": [
    "a=int(input(\"Enter the value of a:\"))\n",
    "b=int(input(\"Enter the value of b:\"))\n",
    "c=int(input(\"Enter the value of c:\"))\n",
    "l=[a,b,c]\n",
    "l.sort()\n",
    "print(\"1st greatest:\",l[-1])\n",
    "print(\"2nd greatest:\",l[-2])\n",
    "print(\"3rd greatest:\",l[-3])"
   ]
  },
  {
   "cell_type": "code",
   "execution_count": 54,
   "id": "a3accf8e-137c-4367-995e-e17045561cb9",
   "metadata": {},
   "outputs": [
    {
     "data": {
      "text/plain": [
       "2620111240384"
      ]
     },
     "execution_count": 54,
     "metadata": {},
     "output_type": "execute_result"
    }
   ],
   "source": [
    "l=[34,45,56,67,45,34,34,90,34]\n",
    "id(l)"
   ]
  },
  {
   "cell_type": "code",
   "execution_count": 55,
   "id": "b21dfe2c-3cc8-4e7b-9cbc-bcafd3be1597",
   "metadata": {},
   "outputs": [
    {
     "data": {
      "text/plain": [
       "0"
      ]
     },
     "execution_count": 55,
     "metadata": {},
     "output_type": "execute_result"
    }
   ],
   "source": [
    "l.index(34)"
   ]
  },
  {
   "cell_type": "code",
   "execution_count": 56,
   "id": "786a41f7-91b2-4c00-9eaa-659f4656f1d7",
   "metadata": {},
   "outputs": [
    {
     "data": {
      "text/plain": [
       "5"
      ]
     },
     "execution_count": 56,
     "metadata": {},
     "output_type": "execute_result"
    }
   ],
   "source": [
    "l.index(34,1)"
   ]
  },
  {
   "cell_type": "code",
   "execution_count": 57,
   "id": "b78ea41f-f5f5-4806-a01b-87cf2304ce62",
   "metadata": {},
   "outputs": [
    {
     "name": "stdout",
     "output_type": "stream",
     "text": [
      "0\n",
      "5\n",
      "6\n",
      "8\n"
     ]
    }
   ],
   "source": [
    "c=0\n",
    "for k in l:\n",
    "    if k==34:\n",
    "        print(l.index(k,c))\n",
    "    c+=1"
   ]
  },
  {
   "cell_type": "code",
   "execution_count": 58,
   "id": "12806e7a-ba73-49c5-a8d3-ab8b85c3f1dd",
   "metadata": {},
   "outputs": [
    {
     "data": {
      "text/plain": [
       "[34, 45, 56, 67, 45, 34, 34, 90, 34]"
      ]
     },
     "execution_count": 58,
     "metadata": {},
     "output_type": "execute_result"
    }
   ],
   "source": [
    "l"
   ]
  },
  {
   "cell_type": "code",
   "execution_count": 59,
   "id": "e792a787-c793-468a-86f6-24e8f6c9fbdd",
   "metadata": {},
   "outputs": [
    {
     "name": "stdout",
     "output_type": "stream",
     "text": [
      "(34, 67, 8.9, 90, 67, 100, (5+8j), 'ramesh', 'kuldeep') <class 'tuple'>\n"
     ]
    }
   ],
   "source": [
    "t=(34,67,8.9,90,67,100,5+8j,\"ramesh\",\"kuldeep\")\n",
    "print(t,type(t))"
   ]
  },
  {
   "cell_type": "code",
   "execution_count": 61,
   "id": "2bd5dc93-2457-4d95-ac55-9713ae4cc9fa",
   "metadata": {},
   "outputs": [
    {
     "data": {
      "text/plain": [
       "(34, 67, 8.9, 90, 67, 100, (5+8j), 'ramesh', 'kuldeep')"
      ]
     },
     "execution_count": 61,
     "metadata": {},
     "output_type": "execute_result"
    }
   ],
   "source": [
    "t"
   ]
  },
  {
   "cell_type": "code",
   "execution_count": 62,
   "id": "e819d15e-1ab3-4aeb-9ff4-6cfb89473b42",
   "metadata": {},
   "outputs": [
    {
     "data": {
      "text/plain": [
       "67"
      ]
     },
     "execution_count": 62,
     "metadata": {},
     "output_type": "execute_result"
    }
   ],
   "source": [
    "t[1]"
   ]
  },
  {
   "cell_type": "code",
   "execution_count": 63,
   "id": "6e80216b-4188-4b5f-87f7-69989b3242e1",
   "metadata": {},
   "outputs": [
    {
     "ename": "TypeError",
     "evalue": "'tuple' object does not support item assignment",
     "output_type": "error",
     "traceback": [
      "\u001b[1;31m---------------------------------------------------------------------------\u001b[0m",
      "\u001b[1;31mTypeError\u001b[0m                                 Traceback (most recent call last)",
      "Cell \u001b[1;32mIn[63], line 1\u001b[0m\n\u001b[1;32m----> 1\u001b[0m \u001b[43mt\u001b[49m\u001b[43m[\u001b[49m\u001b[38;5;241;43m1\u001b[39;49m\u001b[43m]\u001b[49m\u001b[38;5;241m=\u001b[39m\u001b[38;5;241m89\u001b[39m\n",
      "\u001b[1;31mTypeError\u001b[0m: 'tuple' object does not support item assignment"
     ]
    }
   ],
   "source": [
    "t[1]=89"
   ]
  },
  {
   "cell_type": "code",
   "execution_count": 64,
   "id": "0f878a03-0257-49db-af36-568e18f8d43c",
   "metadata": {},
   "outputs": [
    {
     "data": {
      "text/plain": [
       "(34, 67, 8.9, 90, 67, 100, (5+8j), 'ramesh', 'kuldeep')"
      ]
     },
     "execution_count": 64,
     "metadata": {},
     "output_type": "execute_result"
    }
   ],
   "source": [
    "t"
   ]
  },
  {
   "cell_type": "code",
   "execution_count": 65,
   "id": "d043a6bd-6f76-4062-921c-2468d0c6686f",
   "metadata": {},
   "outputs": [
    {
     "data": {
      "text/plain": [
       "90"
      ]
     },
     "execution_count": 65,
     "metadata": {},
     "output_type": "execute_result"
    }
   ],
   "source": [
    "t[3]"
   ]
  },
  {
   "cell_type": "code",
   "execution_count": 66,
   "id": "d6f8be96-4e7e-4d0b-a784-0b97dc6daac0",
   "metadata": {},
   "outputs": [
    {
     "data": {
      "text/plain": [
       "90"
      ]
     },
     "execution_count": 66,
     "metadata": {},
     "output_type": "execute_result"
    }
   ],
   "source": [
    "t[-6]"
   ]
  },
  {
   "cell_type": "code",
   "execution_count": 67,
   "id": "2ceda5c8-c412-41b6-b376-a41c4f9b58be",
   "metadata": {},
   "outputs": [
    {
     "data": {
      "text/plain": [
       "'kuldeep'"
      ]
     },
     "execution_count": 67,
     "metadata": {},
     "output_type": "execute_result"
    }
   ],
   "source": [
    "t[len(t)-1]"
   ]
  },
  {
   "cell_type": "code",
   "execution_count": 68,
   "id": "6fbe32e8-8dfa-4a5e-a503-e398ab97a268",
   "metadata": {},
   "outputs": [
    {
     "data": {
      "text/plain": [
       "(34, 67, 8.9, 90, 67, 100, (5+8j), 'ramesh', 'kuldeep')"
      ]
     },
     "execution_count": 68,
     "metadata": {},
     "output_type": "execute_result"
    }
   ],
   "source": [
    "t"
   ]
  },
  {
   "cell_type": "code",
   "execution_count": 69,
   "id": "f0399ad7-0f10-418c-9816-d81364f3f32e",
   "metadata": {},
   "outputs": [
    {
     "name": "stdout",
     "output_type": "stream",
     "text": [
      "34\n",
      "67\n",
      "8.9\n",
      "90\n",
      "67\n",
      "100\n",
      "(5+8j)\n",
      "ramesh\n",
      "kuldeep\n"
     ]
    }
   ],
   "source": [
    "for k in t:\n",
    "    print(k)"
   ]
  },
  {
   "cell_type": "code",
   "execution_count": 70,
   "id": "1570ae52-4e17-440c-a97c-7a8b865d871d",
   "metadata": {},
   "outputs": [
    {
     "name": "stdout",
     "output_type": "stream",
     "text": [
      "34 67 8.9 90 67 100 (5+8j) ramesh kuldeep "
     ]
    }
   ],
   "source": [
    "for k in t:\n",
    "    print(k,end=\" \")"
   ]
  },
  {
   "cell_type": "code",
   "execution_count": 71,
   "id": "ad78bdb0-fab5-44ec-ada4-2b717a0b2766",
   "metadata": {},
   "outputs": [
    {
     "name": "stdout",
     "output_type": "stream",
     "text": [
      "0\n",
      "1\n",
      "2\n",
      "3\n",
      "4\n",
      "5\n",
      "6\n",
      "7\n",
      "8\n"
     ]
    }
   ],
   "source": [
    "for k in range(len(t)):\n",
    "    print(k)"
   ]
  },
  {
   "cell_type": "code",
   "execution_count": 72,
   "id": "9756ec04-6307-48e5-a764-ad04ba32a982",
   "metadata": {},
   "outputs": [
    {
     "name": "stdout",
     "output_type": "stream",
     "text": [
      "34\n",
      "67\n",
      "8.9\n",
      "90\n",
      "67\n",
      "100\n",
      "(5+8j)\n",
      "ramesh\n",
      "kuldeep\n"
     ]
    }
   ],
   "source": [
    "for k in range(len(t)):\n",
    "    print(t[k])"
   ]
  },
  {
   "cell_type": "code",
   "execution_count": 73,
   "id": "6f2522e2-e3d0-4cba-a5b8-7f7c588c1971",
   "metadata": {},
   "outputs": [],
   "source": [
    "t1=(34,67,89)\n",
    "t2=(1,790,890,670,7654)"
   ]
  },
  {
   "cell_type": "code",
   "execution_count": 74,
   "id": "31f56108-a904-40a6-ae03-0d8ddb98296b",
   "metadata": {},
   "outputs": [
    {
     "data": {
      "text/plain": [
       "True"
      ]
     },
     "execution_count": 74,
     "metadata": {},
     "output_type": "execute_result"
    }
   ],
   "source": [
    "t1>t2"
   ]
  },
  {
   "cell_type": "code",
   "execution_count": 75,
   "id": "387daa42-28b1-47d3-b3c7-795ac2dc7ea7",
   "metadata": {},
   "outputs": [
    {
     "data": {
      "text/plain": [
       "(34, 67, 89)"
      ]
     },
     "execution_count": 75,
     "metadata": {},
     "output_type": "execute_result"
    }
   ],
   "source": [
    "t1"
   ]
  },
  {
   "cell_type": "code",
   "execution_count": 76,
   "id": "719fe077-4a8c-4cbc-a621-694da751a721",
   "metadata": {},
   "outputs": [
    {
     "data": {
      "text/plain": [
       "2620111475200"
      ]
     },
     "execution_count": 76,
     "metadata": {},
     "output_type": "execute_result"
    }
   ],
   "source": [
    "id(t1)"
   ]
  },
  {
   "cell_type": "code",
   "execution_count": 77,
   "id": "d454625e-a6cd-411d-b74c-0abfde95391f",
   "metadata": {},
   "outputs": [
    {
     "ename": "TypeError",
     "evalue": "can only concatenate tuple (not \"int\") to tuple",
     "output_type": "error",
     "traceback": [
      "\u001b[1;31m---------------------------------------------------------------------------\u001b[0m",
      "\u001b[1;31mTypeError\u001b[0m                                 Traceback (most recent call last)",
      "Cell \u001b[1;32mIn[77], line 1\u001b[0m\n\u001b[1;32m----> 1\u001b[0m \u001b[43mt1\u001b[49m\u001b[38;5;241;43m+\u001b[39;49m\u001b[38;5;241;43m5\u001b[39;49m\n",
      "\u001b[1;31mTypeError\u001b[0m: can only concatenate tuple (not \"int\") to tuple"
     ]
    }
   ],
   "source": [
    "t1+5"
   ]
  },
  {
   "cell_type": "code",
   "execution_count": 78,
   "id": "ed1a5489-cac5-4611-b79c-ae2d9b900331",
   "metadata": {},
   "outputs": [
    {
     "ename": "TypeError",
     "evalue": "can only concatenate tuple (not \"int\") to tuple",
     "output_type": "error",
     "traceback": [
      "\u001b[1;31m---------------------------------------------------------------------------\u001b[0m",
      "\u001b[1;31mTypeError\u001b[0m                                 Traceback (most recent call last)",
      "Cell \u001b[1;32mIn[78], line 1\u001b[0m\n\u001b[1;32m----> 1\u001b[0m \u001b[43mt1\u001b[49m\u001b[38;5;241;43m+\u001b[39;49m\u001b[43m(\u001b[49m\u001b[38;5;241;43m5\u001b[39;49m\u001b[43m)\u001b[49m\n",
      "\u001b[1;31mTypeError\u001b[0m: can only concatenate tuple (not \"int\") to tuple"
     ]
    }
   ],
   "source": [
    "t1+(5)"
   ]
  },
  {
   "cell_type": "code",
   "execution_count": 79,
   "id": "c4a3e29c-3384-4032-ad44-f2fc0832a52a",
   "metadata": {},
   "outputs": [
    {
     "ename": "TypeError",
     "evalue": "can only concatenate tuple (not \"int\") to tuple",
     "output_type": "error",
     "traceback": [
      "\u001b[1;31m---------------------------------------------------------------------------\u001b[0m",
      "\u001b[1;31mTypeError\u001b[0m                                 Traceback (most recent call last)",
      "Cell \u001b[1;32mIn[79], line 2\u001b[0m\n\u001b[0;32m      1\u001b[0m t2\u001b[38;5;241m=\u001b[39m(\u001b[38;5;241m5\u001b[39m)\n\u001b[1;32m----> 2\u001b[0m \u001b[43mt1\u001b[49m\u001b[38;5;241;43m+\u001b[39;49m\u001b[43mt2\u001b[49m\n",
      "\u001b[1;31mTypeError\u001b[0m: can only concatenate tuple (not \"int\") to tuple"
     ]
    }
   ],
   "source": [
    "t2=(5)\n",
    "t1+t2"
   ]
  },
  {
   "cell_type": "code",
   "execution_count": 80,
   "id": "4abdcaa3-1274-4b7a-bc80-47a7f4c5a6f2",
   "metadata": {},
   "outputs": [
    {
     "name": "stdout",
     "output_type": "stream",
     "text": [
      "9 <class 'int'>\n"
     ]
    }
   ],
   "source": [
    "a=9\n",
    "print(a,type(a))"
   ]
  },
  {
   "cell_type": "code",
   "execution_count": 81,
   "id": "194d7466-2af7-4186-996f-fcb542e52125",
   "metadata": {},
   "outputs": [
    {
     "name": "stdout",
     "output_type": "stream",
     "text": [
      "9 <class 'int'>\n"
     ]
    }
   ],
   "source": [
    "a=(9)\n",
    "print(a,type(a))"
   ]
  },
  {
   "cell_type": "code",
   "execution_count": 82,
   "id": "8fd6c4d4-cc0a-42d1-b6b3-be2fad5193b4",
   "metadata": {},
   "outputs": [
    {
     "name": "stdout",
     "output_type": "stream",
     "text": [
      "(9,) <class 'tuple'>\n"
     ]
    }
   ],
   "source": [
    "a=(9,)\n",
    "print(a,type(a))"
   ]
  },
  {
   "cell_type": "code",
   "execution_count": 83,
   "id": "ee9119bb-1caa-42d5-987c-5a5cd6f6a465",
   "metadata": {},
   "outputs": [
    {
     "name": "stdout",
     "output_type": "stream",
     "text": [
      "(9,) <class 'tuple'>\n"
     ]
    }
   ],
   "source": [
    "a=9,\n",
    "print(a,type(a))"
   ]
  },
  {
   "cell_type": "code",
   "execution_count": 84,
   "id": "30600a6e-22cf-4009-9ed6-6511ea663577",
   "metadata": {},
   "outputs": [
    {
     "data": {
      "text/plain": [
       "(34, 67, 89)"
      ]
     },
     "execution_count": 84,
     "metadata": {},
     "output_type": "execute_result"
    }
   ],
   "source": [
    "t1"
   ]
  },
  {
   "cell_type": "code",
   "execution_count": 85,
   "id": "c49c301b-d870-4546-aec2-98c139515161",
   "metadata": {},
   "outputs": [
    {
     "data": {
      "text/plain": [
       "2620111475200"
      ]
     },
     "execution_count": 85,
     "metadata": {},
     "output_type": "execute_result"
    }
   ],
   "source": [
    "id(t1)"
   ]
  },
  {
   "cell_type": "code",
   "execution_count": 86,
   "id": "c04e7f7e-bb52-431b-8740-96b0edf7bb0c",
   "metadata": {},
   "outputs": [
    {
     "data": {
      "text/plain": [
       "(34, 67, 89, 5)"
      ]
     },
     "execution_count": 86,
     "metadata": {},
     "output_type": "execute_result"
    }
   ],
   "source": [
    "t1+(5,)"
   ]
  },
  {
   "cell_type": "code",
   "execution_count": 87,
   "id": "44107bae-89fe-4f04-9d14-c44b8ac33a4a",
   "metadata": {},
   "outputs": [
    {
     "data": {
      "text/plain": [
       "(34, 67, 89)"
      ]
     },
     "execution_count": 87,
     "metadata": {},
     "output_type": "execute_result"
    }
   ],
   "source": [
    "t1"
   ]
  },
  {
   "cell_type": "code",
   "execution_count": 88,
   "id": "4fc86acd-e7dd-4a78-90f2-a5c5f09e64df",
   "metadata": {},
   "outputs": [],
   "source": [
    "t1=t1+(5,)"
   ]
  },
  {
   "cell_type": "code",
   "execution_count": 89,
   "id": "16e4d810-61b3-4dc4-bf91-4b6dedd149d5",
   "metadata": {},
   "outputs": [
    {
     "data": {
      "text/plain": [
       "(34, 67, 89, 5)"
      ]
     },
     "execution_count": 89,
     "metadata": {},
     "output_type": "execute_result"
    }
   ],
   "source": [
    "t1"
   ]
  },
  {
   "cell_type": "code",
   "execution_count": 90,
   "id": "a0d056b7-2529-4ef6-a735-f07668dbb411",
   "metadata": {},
   "outputs": [
    {
     "data": {
      "text/plain": [
       "2620110951168"
      ]
     },
     "execution_count": 90,
     "metadata": {},
     "output_type": "execute_result"
    }
   ],
   "source": [
    "id(t1)"
   ]
  },
  {
   "cell_type": "code",
   "execution_count": 91,
   "id": "19a379c2-e9aa-4db3-8cbd-e6b381757a32",
   "metadata": {},
   "outputs": [
    {
     "data": {
      "text/plain": [
       "(34, 67, 89, 5, 34, 67, 89, 5, 34, 67, 89, 5)"
      ]
     },
     "execution_count": 91,
     "metadata": {},
     "output_type": "execute_result"
    }
   ],
   "source": [
    "t1*3"
   ]
  },
  {
   "cell_type": "code",
   "execution_count": 92,
   "id": "e2163796-1f80-4b8b-9a04-6be6d8ccfda1",
   "metadata": {},
   "outputs": [
    {
     "data": {
      "text/plain": [
       "(34, 67, 89, 5)"
      ]
     },
     "execution_count": 92,
     "metadata": {},
     "output_type": "execute_result"
    }
   ],
   "source": [
    "t1"
   ]
  },
  {
   "cell_type": "code",
   "execution_count": 93,
   "id": "87338e01-e1eb-450b-ba13-59a863d7ea77",
   "metadata": {},
   "outputs": [],
   "source": [
    "t1=t1*3"
   ]
  },
  {
   "cell_type": "code",
   "execution_count": 94,
   "id": "eb754fc4-b35c-4808-88dc-ff00d29243d6",
   "metadata": {},
   "outputs": [
    {
     "data": {
      "text/plain": [
       "(34, 67, 89, 5, 34, 67, 89, 5, 34, 67, 89, 5)"
      ]
     },
     "execution_count": 94,
     "metadata": {},
     "output_type": "execute_result"
    }
   ],
   "source": [
    "t1"
   ]
  },
  {
   "cell_type": "code",
   "execution_count": 95,
   "id": "0fb7d731-c7d2-49d9-a82c-77a603d85ab3",
   "metadata": {},
   "outputs": [
    {
     "data": {
      "text/plain": [
       "2620111592544"
      ]
     },
     "execution_count": 95,
     "metadata": {},
     "output_type": "execute_result"
    }
   ],
   "source": [
    "id(t1)"
   ]
  },
  {
   "cell_type": "code",
   "execution_count": 96,
   "id": "040e9432-b4f2-43f2-bf73-666a836964e7",
   "metadata": {},
   "outputs": [
    {
     "data": {
      "text/plain": [
       "(34, 67, 8.9, 90, 67, 100, (5+8j), 'ramesh', 'kuldeep')"
      ]
     },
     "execution_count": 96,
     "metadata": {},
     "output_type": "execute_result"
    }
   ],
   "source": [
    "t"
   ]
  },
  {
   "cell_type": "code",
   "execution_count": 97,
   "id": "9e992467-e3fa-4108-a80d-b47f5b72cc10",
   "metadata": {},
   "outputs": [
    {
     "data": {
      "text/plain": [
       "(8.9, 100)"
      ]
     },
     "execution_count": 97,
     "metadata": {},
     "output_type": "execute_result"
    }
   ],
   "source": [
    "t[2:6:3]"
   ]
  },
  {
   "cell_type": "code",
   "execution_count": 98,
   "id": "0c70912c-758d-4881-a850-89a334caf955",
   "metadata": {},
   "outputs": [
    {
     "data": {
      "text/plain": [
       "('kuldeep', 'ramesh', (5+8j), 100, 67, 90, 8.9, 67, 34)"
      ]
     },
     "execution_count": 98,
     "metadata": {},
     "output_type": "execute_result"
    }
   ],
   "source": [
    "t[::-1]"
   ]
  },
  {
   "cell_type": "code",
   "execution_count": 99,
   "id": "2c84d09c-3494-4733-8750-f4f38a79d789",
   "metadata": {},
   "outputs": [
    {
     "data": {
      "text/plain": [
       "('ramesh', 100)"
      ]
     },
     "execution_count": 99,
     "metadata": {},
     "output_type": "execute_result"
    }
   ],
   "source": [
    "t[-2:-5:-2]"
   ]
  },
  {
   "cell_type": "code",
   "execution_count": 101,
   "id": "437fcd7b-ee53-4c49-9ea3-670fc8b592a3",
   "metadata": {},
   "outputs": [],
   "source": [
    "t1=(56,78,89,(100,101),(12,90,(12)))"
   ]
  },
  {
   "cell_type": "markdown",
   "id": "c005a39d-3688-446b-a222-8ec42d9904e3",
   "metadata": {},
   "source": [
    "# "
   ]
  },
  {
   "cell_type": "code",
   "execution_count": 103,
   "id": "857d0f5f-c8d2-4cad-bf3b-672cb14582d0",
   "metadata": {},
   "outputs": [
    {
     "data": {
      "text/plain": [
       "12"
      ]
     },
     "execution_count": 103,
     "metadata": {},
     "output_type": "execute_result"
    }
   ],
   "source": [
    "t1[4][2]"
   ]
  },
  {
   "cell_type": "code",
   "execution_count": 105,
   "id": "f0120b8a-36f1-40f9-8b2d-870979cd4bfc",
   "metadata": {},
   "outputs": [
    {
     "data": {
      "text/plain": [
       "(12, 90, 12)"
      ]
     },
     "execution_count": 105,
     "metadata": {},
     "output_type": "execute_result"
    }
   ],
   "source": [
    "t1[4]"
   ]
  },
  {
   "cell_type": "code",
   "execution_count": 106,
   "id": "242d615d-b314-47d4-aaa6-60a4a5aa0179",
   "metadata": {},
   "outputs": [],
   "source": [
    "t1=(56,78,89,(100,101),(12,90,(12,)))"
   ]
  },
  {
   "cell_type": "code",
   "execution_count": 109,
   "id": "d984fb61-552f-45c3-b781-3e0c924e7c63",
   "metadata": {},
   "outputs": [
    {
     "data": {
      "text/plain": [
       "12"
      ]
     },
     "execution_count": 109,
     "metadata": {},
     "output_type": "execute_result"
    }
   ],
   "source": [
    "t1[4][2][0]"
   ]
  },
  {
   "cell_type": "code",
   "execution_count": 110,
   "id": "c15fb8d1-b9ce-4dc0-b258-da3843ad4286",
   "metadata": {},
   "outputs": [
    {
     "data": {
      "text/plain": [
       "(12, 90, (12,))"
      ]
     },
     "execution_count": 110,
     "metadata": {},
     "output_type": "execute_result"
    }
   ],
   "source": [
    "t1[4]"
   ]
  },
  {
   "cell_type": "code",
   "execution_count": 111,
   "id": "82b04240-e021-4bd5-9b8b-e3c3be8802e9",
   "metadata": {},
   "outputs": [
    {
     "data": {
      "text/plain": [
       "(12,)"
      ]
     },
     "execution_count": 111,
     "metadata": {},
     "output_type": "execute_result"
    }
   ],
   "source": [
    "t1[4][2]"
   ]
  },
  {
   "cell_type": "code",
   "execution_count": 112,
   "id": "d410723b-e8de-4122-b806-ef190524432b",
   "metadata": {},
   "outputs": [
    {
     "data": {
      "text/plain": [
       "12"
      ]
     },
     "execution_count": 112,
     "metadata": {},
     "output_type": "execute_result"
    }
   ],
   "source": [
    "t1[4][2][0]"
   ]
  },
  {
   "cell_type": "code",
   "execution_count": 113,
   "id": "89994683-73d7-4548-9768-af4a103c3652",
   "metadata": {},
   "outputs": [
    {
     "data": {
      "text/plain": [
       "(34, 67, 8.9, 90, 67, 100, (5+8j), 'ramesh', 'kuldeep')"
      ]
     },
     "execution_count": 113,
     "metadata": {},
     "output_type": "execute_result"
    }
   ],
   "source": [
    "t"
   ]
  },
  {
   "cell_type": "code",
   "execution_count": 115,
   "id": "24e24a6d-9e28-44e8-96ff-8eb102aeb424",
   "metadata": {},
   "outputs": [
    {
     "data": {
      "text/plain": [
       "9"
      ]
     },
     "execution_count": 115,
     "metadata": {},
     "output_type": "execute_result"
    }
   ],
   "source": [
    "len(t)"
   ]
  },
  {
   "cell_type": "code",
   "execution_count": 116,
   "id": "8c300a57-1574-4a1e-af93-2725559c263b",
   "metadata": {},
   "outputs": [
    {
     "data": {
      "text/plain": [
       "[34, 45, 56, 67, 45, 34, 34, 90, 34]"
      ]
     },
     "execution_count": 116,
     "metadata": {},
     "output_type": "execute_result"
    }
   ],
   "source": [
    "l"
   ]
  },
  {
   "cell_type": "code",
   "execution_count": 117,
   "id": "b50bc568-ebc5-4799-80b1-4d9b1ed10636",
   "metadata": {},
   "outputs": [
    {
     "data": {
      "text/plain": [
       "(34, 45, 56, 67, 45, 34, 34, 90, 34)"
      ]
     },
     "execution_count": 117,
     "metadata": {},
     "output_type": "execute_result"
    }
   ],
   "source": [
    "t1=tuple(l)\n",
    "t1"
   ]
  },
  {
   "cell_type": "code",
   "execution_count": 118,
   "id": "09ce2871-ac3a-41ac-861b-fbed7c360aef",
   "metadata": {},
   "outputs": [
    {
     "data": {
      "text/plain": [
       "(34, 67, 8.9, 90, 67, 100, (5+8j), 'ramesh', 'kuldeep')"
      ]
     },
     "execution_count": 118,
     "metadata": {},
     "output_type": "execute_result"
    }
   ],
   "source": [
    "t"
   ]
  },
  {
   "cell_type": "code",
   "execution_count": 119,
   "id": "4bd68a86-5364-48dc-9398-fc41fb4358a1",
   "metadata": {},
   "outputs": [
    {
     "data": {
      "text/plain": [
       "1"
      ]
     },
     "execution_count": 119,
     "metadata": {},
     "output_type": "execute_result"
    }
   ],
   "source": [
    "t.index(67)"
   ]
  },
  {
   "cell_type": "code",
   "execution_count": 121,
   "id": "2d210609-6692-4578-93e9-61e8c238b7ce",
   "metadata": {},
   "outputs": [
    {
     "data": {
      "text/plain": [
       "4"
      ]
     },
     "execution_count": 121,
     "metadata": {},
     "output_type": "execute_result"
    }
   ],
   "source": [
    "t.index(67,2)"
   ]
  },
  {
   "cell_type": "code",
   "execution_count": 122,
   "id": "3dd533c3-0fd3-4e62-bde1-e6bedade11e4",
   "metadata": {},
   "outputs": [
    {
     "data": {
      "text/plain": [
       "(34, 67, 8.9, 90, 67, 100, (5+8j), 'ramesh', 'kuldeep')"
      ]
     },
     "execution_count": 122,
     "metadata": {},
     "output_type": "execute_result"
    }
   ],
   "source": [
    "t"
   ]
  },
  {
   "cell_type": "code",
   "execution_count": 123,
   "id": "ec8c7b92-2639-4014-847d-0c324307ec92",
   "metadata": {},
   "outputs": [
    {
     "data": {
      "text/plain": [
       "7"
      ]
     },
     "execution_count": 123,
     "metadata": {},
     "output_type": "execute_result"
    }
   ],
   "source": [
    "t.index(\"ramesh\")"
   ]
  },
  {
   "cell_type": "code",
   "execution_count": 124,
   "id": "deeea4b9-842a-46c9-a0e1-44c809d8c3aa",
   "metadata": {},
   "outputs": [
    {
     "ename": "ValueError",
     "evalue": "tuple.index(x): x not in tuple",
     "output_type": "error",
     "traceback": [
      "\u001b[1;31m---------------------------------------------------------------------------\u001b[0m",
      "\u001b[1;31mValueError\u001b[0m                                Traceback (most recent call last)",
      "Cell \u001b[1;32mIn[124], line 1\u001b[0m\n\u001b[1;32m----> 1\u001b[0m \u001b[43mt\u001b[49m\u001b[38;5;241;43m.\u001b[39;49m\u001b[43mindex\u001b[49m\u001b[43m(\u001b[49m\u001b[38;5;241;43m789\u001b[39;49m\u001b[43m)\u001b[49m\n",
      "\u001b[1;31mValueError\u001b[0m: tuple.index(x): x not in tuple"
     ]
    }
   ],
   "source": [
    "t.index(789)"
   ]
  },
  {
   "cell_type": "code",
   "execution_count": 125,
   "id": "0253aeed-fbe8-4716-877c-adf2df07ba66",
   "metadata": {},
   "outputs": [
    {
     "ename": "AttributeError",
     "evalue": "'tuple' object has no attribute 'append'",
     "output_type": "error",
     "traceback": [
      "\u001b[1;31m---------------------------------------------------------------------------\u001b[0m",
      "\u001b[1;31mAttributeError\u001b[0m                            Traceback (most recent call last)",
      "Cell \u001b[1;32mIn[125], line 1\u001b[0m\n\u001b[1;32m----> 1\u001b[0m \u001b[43mt\u001b[49m\u001b[38;5;241;43m.\u001b[39;49m\u001b[43mappend\u001b[49m(\u001b[38;5;241m90\u001b[39m)\n",
      "\u001b[1;31mAttributeError\u001b[0m: 'tuple' object has no attribute 'append'"
     ]
    }
   ],
   "source": [
    "t.append(90)"
   ]
  },
  {
   "cell_type": "code",
   "execution_count": 126,
   "id": "0c14fa29-fdd5-4d3b-9f0f-0b0162510664",
   "metadata": {},
   "outputs": [
    {
     "ename": "AttributeError",
     "evalue": "'tuple' object has no attribute 'clear'",
     "output_type": "error",
     "traceback": [
      "\u001b[1;31m---------------------------------------------------------------------------\u001b[0m",
      "\u001b[1;31mAttributeError\u001b[0m                            Traceback (most recent call last)",
      "Cell \u001b[1;32mIn[126], line 1\u001b[0m\n\u001b[1;32m----> 1\u001b[0m \u001b[43mt\u001b[49m\u001b[38;5;241;43m.\u001b[39;49m\u001b[43mclear\u001b[49m()\n",
      "\u001b[1;31mAttributeError\u001b[0m: 'tuple' object has no attribute 'clear'"
     ]
    }
   ],
   "source": [
    "t.clear()"
   ]
  },
  {
   "cell_type": "code",
   "execution_count": 127,
   "id": "581e91af-6fa4-4e88-958a-adfceb80b1e9",
   "metadata": {},
   "outputs": [
    {
     "data": {
      "text/plain": [
       "(34, 67, 8.9, 90, 67, 100, (5+8j), 'ramesh', 'kuldeep')"
      ]
     },
     "execution_count": 127,
     "metadata": {},
     "output_type": "execute_result"
    }
   ],
   "source": [
    "t"
   ]
  },
  {
   "cell_type": "code",
   "execution_count": 128,
   "id": "fadd5812-e377-49da-b353-c2a2719ba130",
   "metadata": {},
   "outputs": [
    {
     "data": {
      "text/plain": [
       "1"
      ]
     },
     "execution_count": 128,
     "metadata": {},
     "output_type": "execute_result"
    }
   ],
   "source": [
    "t.count(34)"
   ]
  },
  {
   "cell_type": "code",
   "execution_count": 129,
   "id": "af7889bc-89af-499b-9703-c447bebde135",
   "metadata": {},
   "outputs": [
    {
     "ename": "AttributeError",
     "evalue": "'tuple' object has no attribute 'sort'",
     "output_type": "error",
     "traceback": [
      "\u001b[1;31m---------------------------------------------------------------------------\u001b[0m",
      "\u001b[1;31mAttributeError\u001b[0m                            Traceback (most recent call last)",
      "Cell \u001b[1;32mIn[129], line 1\u001b[0m\n\u001b[1;32m----> 1\u001b[0m \u001b[43mt\u001b[49m\u001b[38;5;241;43m.\u001b[39;49m\u001b[43msort\u001b[49m()\n",
      "\u001b[1;31mAttributeError\u001b[0m: 'tuple' object has no attribute 'sort'"
     ]
    }
   ],
   "source": [
    "t.sort()"
   ]
  },
  {
   "cell_type": "code",
   "execution_count": 130,
   "id": "339fb8d7-ddaa-4d92-8761-bba676e613eb",
   "metadata": {},
   "outputs": [
    {
     "ename": "TypeError",
     "evalue": "'<' not supported between instances of 'complex' and 'int'",
     "output_type": "error",
     "traceback": [
      "\u001b[1;31m---------------------------------------------------------------------------\u001b[0m",
      "\u001b[1;31mTypeError\u001b[0m                                 Traceback (most recent call last)",
      "Cell \u001b[1;32mIn[130], line 1\u001b[0m\n\u001b[1;32m----> 1\u001b[0m \u001b[38;5;28;43msorted\u001b[39;49m\u001b[43m(\u001b[49m\u001b[43mt\u001b[49m\u001b[43m)\u001b[49m\n",
      "\u001b[1;31mTypeError\u001b[0m: '<' not supported between instances of 'complex' and 'int'"
     ]
    }
   ],
   "source": [
    "sorted(t)"
   ]
  },
  {
   "cell_type": "code",
   "execution_count": 131,
   "id": "2c041950-cd8a-487e-814a-26703bcfebf9",
   "metadata": {},
   "outputs": [
    {
     "data": {
      "text/plain": [
       "(34, 45, 56, 67, 45, 34, 34, 90, 34)"
      ]
     },
     "execution_count": 131,
     "metadata": {},
     "output_type": "execute_result"
    }
   ],
   "source": [
    "t1"
   ]
  },
  {
   "cell_type": "code",
   "execution_count": 133,
   "id": "ec37bfad-aa0c-46b1-9ad2-24a6475f9da8",
   "metadata": {},
   "outputs": [
    {
     "data": {
      "text/plain": [
       "[34, 34, 34, 34, 45, 45, 56, 67, 90]"
      ]
     },
     "execution_count": 133,
     "metadata": {},
     "output_type": "execute_result"
    }
   ],
   "source": [
    "sorted(t1)"
   ]
  },
  {
   "cell_type": "code",
   "execution_count": 134,
   "id": "4cdcb4bc-2641-4fca-ad00-da330520d578",
   "metadata": {},
   "outputs": [
    {
     "data": {
      "text/plain": [
       "90"
      ]
     },
     "execution_count": 134,
     "metadata": {},
     "output_type": "execute_result"
    }
   ],
   "source": [
    "max(t1)"
   ]
  },
  {
   "cell_type": "code",
   "execution_count": 135,
   "id": "e12b7c34-6208-4da0-864e-d0f6eb174915",
   "metadata": {},
   "outputs": [
    {
     "data": {
      "text/plain": [
       "34"
      ]
     },
     "execution_count": 135,
     "metadata": {},
     "output_type": "execute_result"
    }
   ],
   "source": [
    "min(t1)"
   ]
  },
  {
   "cell_type": "code",
   "execution_count": 136,
   "id": "cec58cc7-d4b3-4614-8457-ae09ea70580c",
   "metadata": {},
   "outputs": [
    {
     "data": {
      "text/plain": [
       "439"
      ]
     },
     "execution_count": 136,
     "metadata": {},
     "output_type": "execute_result"
    }
   ],
   "source": [
    "sum(t1)"
   ]
  },
  {
   "cell_type": "code",
   "execution_count": null,
   "id": "f9b62a15-01c6-4283-9c43-05f33eeaa745",
   "metadata": {},
   "outputs": [],
   "source": []
  }
 ],
 "metadata": {
  "kernelspec": {
   "display_name": "Python 3 (ipykernel)",
   "language": "python",
   "name": "python3"
  },
  "language_info": {
   "codemirror_mode": {
    "name": "ipython",
    "version": 3
   },
   "file_extension": ".py",
   "mimetype": "text/x-python",
   "name": "python",
   "nbconvert_exporter": "python",
   "pygments_lexer": "ipython3",
   "version": "3.12.4"
  }
 },
 "nbformat": 4,
 "nbformat_minor": 5
}
