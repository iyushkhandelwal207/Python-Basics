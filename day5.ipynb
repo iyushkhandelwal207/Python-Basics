{
 "cells": [
  {
   "cell_type": "code",
   "execution_count": 9,
   "id": "179ed452-374e-4808-8e72-20f3abbdaa19",
   "metadata": {},
   "outputs": [
    {
     "name": "stdout",
     "output_type": "stream",
     "text": [
      "0\n",
      "1\n",
      "2\n",
      "3\n",
      "4\n"
     ]
    }
   ],
   "source": [
    "i=0\n",
    "while i<5:\n",
    "    print(i)\n",
    "    i+=1"
   ]
  },
  {
   "cell_type": "code",
   "execution_count": 11,
   "id": "341bb944-680c-47ee-a80d-eaa744d4dfd5",
   "metadata": {},
   "outputs": [
    {
     "name": "stdout",
     "output_type": "stream",
     "text": [
      "0\n",
      "2\n",
      "4\n",
      "6\n",
      "8\n",
      "10\n",
      "12\n",
      "14\n",
      "16\n",
      "18\n",
      "20\n"
     ]
    }
   ],
   "source": [
    "i=0\n",
    "while i<=20:\n",
    "    print(i)\n",
    "    i+=2"
   ]
  },
  {
   "cell_type": "code",
   "execution_count": 13,
   "id": "04b714c7-7ad0-48fd-9ad1-beca097cdd99",
   "metadata": {},
   "outputs": [
    {
     "name": "stdin",
     "output_type": "stream",
     "text": [
      "enter the number 15\n"
     ]
    },
    {
     "name": "stdout",
     "output_type": "stream",
     "text": [
      "15 X 1 = 15\n",
      "15 X 2 = 30\n",
      "15 X 3 = 45\n",
      "15 X 4 = 60\n",
      "15 X 5 = 75\n",
      "15 X 6 = 90\n",
      "15 X 7 = 105\n",
      "15 X 8 = 120\n",
      "15 X 9 = 135\n",
      "15 X 10 = 150\n"
     ]
    }
   ],
   "source": [
    "no=int(input(\"enter the number\"))\n",
    "i=1\n",
    "while i<=10:\n",
    "    print(no,\"X\",i,\"=\",no*i)\n",
    "    i+=1"
   ]
  },
  {
   "cell_type": "code",
   "execution_count": 24,
   "id": "653f0893-09d8-4cf7-b139-8f6855680b9e",
   "metadata": {},
   "outputs": [
    {
     "name": "stdin",
     "output_type": "stream",
     "text": [
      "enter a number 5\n"
     ]
    },
    {
     "name": "stdout",
     "output_type": "stream",
     "text": [
      "factorial: 120\n"
     ]
    }
   ],
   "source": [
    "no=int(input(\"enter a number\"))\n",
    "fact=1\n",
    "while no>0:\n",
    "    fact*=no\n",
    "    no=no-1\n",
    "print(\"factorial:\",fact)\n",
    "    "
   ]
  },
  {
   "cell_type": "code",
   "execution_count": 40,
   "id": "2700e6a9-1737-4aec-9614-ad6ebe2f0d11",
   "metadata": {},
   "outputs": [
    {
     "name": "stdin",
     "output_type": "stream",
     "text": [
      "enter the number 789\n"
     ]
    },
    {
     "name": "stdout",
     "output_type": "stream",
     "text": [
      "not prime number\n"
     ]
    }
   ],
   "source": [
    "no=int(input(\"enter the number\"))\n",
    "prime=True\n",
    "for i in range(2,no):\n",
    "    if no%i==0:\n",
    "        prime=False\n",
    "if prime==True:\n",
    "    print(\"prime number:\")\n",
    "else:\n",
    "    print(\"not prime number\")\n"
   ]
  },
  {
   "cell_type": "code",
   "execution_count": 7,
   "id": "69fe6d98-7243-42a4-b4e0-2f6cb113429a",
   "metadata": {},
   "outputs": [
    {
     "name": "stdin",
     "output_type": "stream",
     "text": [
      "enter a number 154\n"
     ]
    },
    {
     "name": "stdout",
     "output_type": "stream",
     "text": [
      "not armstrong:\n"
     ]
    }
   ],
   "source": [
    "no=int(input(\"enter a number\"))\n",
    "no1=no;\n",
    "y=len(str(no))\n",
    "# print(y)\n",
    "sum=0\n",
    "while no1>0:\n",
    "    remainder=no1%10\n",
    "    sum=sum+(remainder**y)\n",
    "    no1=no1//10\n",
    "if sum==no:\n",
    "    print(\"armstrong\")\n",
    "else:\n",
    "    print(\"not armstrong:\")\n",
    "\n"
   ]
  },
  {
   "cell_type": "markdown",
   "id": "b11839ce-354b-4315-b0a7-f6a71fb622a2",
   "metadata": {},
   "source": [
    "no=int(input(\"enter a number\"))\n"
   ]
  },
  {
   "cell_type": "code",
   "execution_count": 1,
   "id": "c2af5bd8-2c0e-439f-878d-a24af5096971",
   "metadata": {},
   "outputs": [
    {
     "name": "stdin",
     "output_type": "stream",
     "text": [
      "enter a number 121\n"
     ]
    },
    {
     "name": "stdout",
     "output_type": "stream",
     "text": [
      "palindrome\n"
     ]
    }
   ],
   "source": [
    "no=int(input(\"enter a number\"))\n",
    "no1=no\n",
    "reverse=0;\n",
    "while no1>0:\n",
    "    remainder=no1%10\n",
    "    reverse=reverse*10+remainder\n",
    "    no1=no1//10\n",
    "if reverse==no:\n",
    "    print(\"palindrome\")\n",
    "else:\n",
    "    print(\"not palindrome\")\n",
    "    "
   ]
  },
  {
   "cell_type": "code",
   "execution_count": 5,
   "id": "0709d8aa-2e43-428d-8c0e-e7af3edab7b2",
   "metadata": {},
   "outputs": [
    {
     "name": "stdin",
     "output_type": "stream",
     "text": [
      "enter a number: 5\n"
     ]
    },
    {
     "name": "stdout",
     "output_type": "stream",
     "text": [
      "sum of  5 natural number 15\n"
     ]
    }
   ],
   "source": [
    "no=int(input(\"enter a number:\"))\n",
    "sum=0\n",
    "for i in range(1,no+1):\n",
    "    sum+=i\n",
    "    i+=1\n",
    "print(\"sum of \",no,\"natural number\",sum)\n",
    "# sum of n natural numbers\n",
    "# fibbonacci series (sum of some terms )"
   ]
  },
  {
   "cell_type": "code",
   "execution_count": null,
   "id": "96e87ea7-6d57-427f-bf5f-91a6080fe801",
   "metadata": {},
   "outputs": [],
   "source": [
    "# fibbonacci numbers\n",
    "no=int(input(\"enter the number))\n",
    "\n",
    "             # collection of elements with same data type- homogenius\n",
    "             # ordered sequence of itesms whether it is same type or differnt type and it is defined in squire bracket\n",
    "             # list me changes ho sakte hain \n",
    "             # assign karte hi id change ho jayegi\n",
    "             "
   ]
  },
  {
   "cell_type": "code",
   "execution_count": null,
   "id": "99fecd60-aba6-4b8a-b690-35e81bbe04d4",
   "metadata": {},
   "outputs": [],
   "source": [
    "\n"
   ]
  }
 ],
 "metadata": {
  "kernelspec": {
   "display_name": "Python [conda env:base] *",
   "language": "python",
   "name": "conda-base-py"
  },
  "language_info": {
   "codemirror_mode": {
    "name": "ipython",
    "version": 3
   },
   "file_extension": ".py",
   "mimetype": "text/x-python",
   "name": "python",
   "nbconvert_exporter": "python",
   "pygments_lexer": "ipython3",
   "version": "3.12.7"
  }
 },
 "nbformat": 4,
 "nbformat_minor": 5
}
