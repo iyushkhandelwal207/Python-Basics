{
 "cells": [
  {
   "cell_type": "code",
   "execution_count": 3,
   "id": "90e8b5e3-392a-47c4-a2d2-a9ecca673d9e",
   "metadata": {},
   "outputs": [],
   "source": [
    "def factorial(n):\n",
    "    if(n==1):\n",
    "        return 1\n",
    "    return n*factorial(n-1)\n",
    "    "
   ]
  },
  {
   "cell_type": "code",
   "execution_count": 5,
   "id": "bdbd61e9-1b8c-440c-bb57-8fb75dd054a0",
   "metadata": {},
   "outputs": [
    {
     "data": {
      "text/plain": [
       "120"
      ]
     },
     "execution_count": 5,
     "metadata": {},
     "output_type": "execute_result"
    }
   ],
   "source": [
    "factorial(5)"
   ]
  },
  {
   "cell_type": "code",
   "execution_count": 7,
   "id": "bb9b3ece-df61-4067-929a-5eee571c53b4",
   "metadata": {},
   "outputs": [],
   "source": [
    "def school():\n",
    "    name=\"sam\"\n",
    "    age=78\n",
    "    print(\"my name is \",name,\"age:\",age)"
   ]
  },
  {
   "cell_type": "code",
   "execution_count": 9,
   "id": "8e6e7a10-a980-4532-a4a8-e7ba4ed004fc",
   "metadata": {},
   "outputs": [
    {
     "name": "stdout",
     "output_type": "stream",
     "text": [
      "my name is  sam age: 78\n"
     ]
    }
   ],
   "source": [
    "school()"
   ]
  },
  {
   "cell_type": "code",
   "execution_count": 11,
   "id": "5663a255-d8b4-4394-900a-3cd56205c91e",
   "metadata": {},
   "outputs": [],
   "source": [
    "def school(name,age):\n",
    "    # name=\"sam\"\n",
    "    # age=78\n",
    "    print(\"my name is \",name,\"age:\",age)"
   ]
  },
  {
   "cell_type": "code",
   "execution_count": 13,
   "id": "259a9362-e355-4353-8843-08ac604a647a",
   "metadata": {},
   "outputs": [
    {
     "name": "stdout",
     "output_type": "stream",
     "text": [
      "my name is  piyush age: 19\n"
     ]
    }
   ],
   "source": [
    "school(\"piyush\",19)"
   ]
  },
  {
   "cell_type": "code",
   "execution_count": 21,
   "id": "0ea6146e-dec6-498e-a963-c2dcc6838b63",
   "metadata": {},
   "outputs": [],
   "source": [
    "def reversecheck(n):\n",
    "    m=n\n",
    "    sum=0\n",
    "    while(n!=0):\n",
    "        rem=n%10\n",
    "        sum=sum*10+rem\n",
    "        n=n//10\n",
    "    # print(sum)\n",
    "    if(sum==m):\n",
    "        print(\"palindrome number\")\n",
    "    else:\n",
    "        print(\"not palindrome number\")\n",
    "    "
   ]
  },
  {
   "cell_type": "code",
   "execution_count": 25,
   "id": "2f7954d4-66af-4c01-8866-09cd4ca9570f",
   "metadata": {},
   "outputs": [
    {
     "name": "stdout",
     "output_type": "stream",
     "text": [
      "not palindrome number\n"
     ]
    }
   ],
   "source": [
    "reversecheck(122)"
   ]
  },
  {
   "cell_type": "code",
   "execution_count": 27,
   "id": "32edc440-24b9-449d-a6d4-5f14bc063ccf",
   "metadata": {},
   "outputs": [
    {
     "ename": "TypeError",
     "evalue": "object of type 'int' has no len()",
     "output_type": "error",
     "traceback": [
      "\u001b[1;31m---------------------------------------------------------------------------\u001b[0m",
      "\u001b[1;31mTypeError\u001b[0m                                 Traceback (most recent call last)",
      "Cell \u001b[1;32mIn[27], line 1\u001b[0m\n\u001b[1;32m----> 1\u001b[0m \u001b[38;5;28mlen\u001b[39m(\u001b[38;5;241m122\u001b[39m)\n",
      "\u001b[1;31mTypeError\u001b[0m: object of type 'int' has no len()"
     ]
    }
   ],
   "source": [
    "len(122)    "
   ]
  },
  {
   "cell_type": "code",
   "execution_count": 43,
   "id": "48358265-1345-4cf1-b48c-16cb6b932276",
   "metadata": {},
   "outputs": [],
   "source": [
    "def armstrong(n):\n",
    "    m=n\n",
    "    p=m\n",
    "    sum=0\n",
    "    count=0\n",
    "    while(n!=0):\n",
    "        n=n//10\n",
    "        count+=1\n",
    "    while(m!=0):\n",
    "        remainder=m%10\n",
    "        sum=sum+(remainder**count)\n",
    "        m=m//10\n",
    "    if(sum==p):\n",
    "        print(\"armstrong number\")\n",
    "    else:\n",
    "        print(\"not armstrong number\")"
   ]
  },
  {
   "cell_type": "code",
   "execution_count": 45,
   "id": "cb555d7b-0eb1-489d-b373-8af299765126",
   "metadata": {},
   "outputs": [
    {
     "name": "stdout",
     "output_type": "stream",
     "text": [
      "armstrong number\n"
     ]
    }
   ],
   "source": [
    "armstrong(153\n",
    "         )"
   ]
  },
  {
   "cell_type": "code",
   "execution_count": 47,
   "id": "640eac87-c22e-4607-ae8d-83267ac663db",
   "metadata": {},
   "outputs": [],
   "source": [
    "l=[12,10,13,15,17,18,19,10,45,16,31,82,6,1,8,15,7]"
   ]
  },
  {
   "cell_type": "code",
   "execution_count": 69,
   "id": "dd827dc7-9dd5-411d-9bf2-1c5a5a27f9be",
   "metadata": {},
   "outputs": [],
   "source": [
    "def even_odd(l):\n",
    "    even=[]\n",
    "    odd=[]\n",
    "    for i in l:\n",
    "        if(i&1==0):\n",
    "            even.append(i)            \n",
    "        else:\n",
    "            odd.append(i)\n",
    "    print(\"even:\",even)\n",
    "    print(\"odd:\",odd)"
   ]
  },
  {
   "cell_type": "code",
   "execution_count": 71,
   "id": "833ac44a-839d-401b-8646-fcc9f384f7b7",
   "metadata": {},
   "outputs": [
    {
     "name": "stdout",
     "output_type": "stream",
     "text": [
      "even: [12, 10, 18, 10, 16, 82, 6, 8]\n",
      "odd: [13, 15, 17, 19, 45, 31, 1, 15, 7]\n"
     ]
    }
   ],
   "source": [
    "even_odd(l)"
   ]
  },
  {
   "cell_type": "code",
   "execution_count": 77,
   "id": "6006aa6a-ea3c-4dda-a315-bcc844d1e689",
   "metadata": {},
   "outputs": [],
   "source": [
    "def prime(l):\n",
    "    prime_list = []\n",
    "    for no in l:\n",
    "        if no > 1:\n",
    "            for i in range(2, no):\n",
    "                if no % i == 0:\n",
    "                    break\n",
    "            else:\n",
    "                prime_list.append(no)\n",
    "    print(\"Prime numbers are:\", prime_list)\n"
   ]
  },
  {
   "cell_type": "code",
   "execution_count": 79,
   "id": "b1da66b1-7431-4171-af1e-d8698896f506",
   "metadata": {},
   "outputs": [
    {
     "name": "stdout",
     "output_type": "stream",
     "text": [
      "Prime numbers are: [13, 17, 19, 31, 7]\n"
     ]
    }
   ],
   "source": [
    "prime(l)"
   ]
  },
  {
   "cell_type": "code",
   "execution_count": 1,
   "id": "8e77aaf6-c805-4ac3-b1f3-1b3076862743",
   "metadata": {},
   "outputs": [],
   "source": [
    "def arm(l,u):\n",
    "    arm=[]\n",
    "    for no in range(l,u+1):\n",
    "        y=len(str(no))\n",
    "        digit=no\n",
    "        sum=0\n",
    "        while digit>0:\n",
    "            t=digit%10\n",
    "            sum=sum+t**y\n",
    "            digit=digit//10\n",
    "        if(sum==no):\n",
    "            arm.append(no)\n",
    "        else:\n",
    "            pass\n",
    "    print(\"armstrong number:\",arm)"
   ]
  },
  {
   "cell_type": "code",
   "execution_count": 3,
   "id": "3fc54c00-304f-41e3-8e93-98653457e14b",
   "metadata": {},
   "outputs": [
    {
     "name": "stdout",
     "output_type": "stream",
     "text": [
      "armstrong number: [153, 370, 371, 407, 1634]\n"
     ]
    }
   ],
   "source": [
    "arm(100,2000)"
   ]
  },
  {
   "cell_type": "code",
   "execution_count": 7,
   "id": "841bbbd2-5200-4a79-8951-a9a01c9f45b9",
   "metadata": {},
   "outputs": [],
   "source": [
    "def add(a=10,b=20):\n",
    "    return a+b"
   ]
  },
  {
   "cell_type": "code",
   "execution_count": 11,
   "id": "c3fd030b-6e68-45cc-99d6-3f0686d00b55",
   "metadata": {},
   "outputs": [
    {
     "name": "stdout",
     "output_type": "stream",
     "text": [
      "30\n"
     ]
    }
   ],
   "source": [
    "print(add())"
   ]
  },
  {
   "cell_type": "code",
   "execution_count": 13,
   "id": "d3056f5d-3414-4ae6-950b-7810ac4d6b55",
   "metadata": {},
   "outputs": [
    {
     "data": {
      "text/plain": [
       "int"
      ]
     },
     "execution_count": 13,
     "metadata": {},
     "output_type": "execute_result"
    }
   ],
   "source": [
    "type(add())"
   ]
  },
  {
   "cell_type": "code",
   "execution_count": 15,
   "id": "9720f572-0728-4200-a43a-fd1b2db1c7eb",
   "metadata": {},
   "outputs": [],
   "source": [
    "a={1,2,3}"
   ]
  },
  {
   "cell_type": "code",
   "execution_count": 17,
   "id": "50ddd7ad-73fd-44e3-93fe-6662deb2764a",
   "metadata": {},
   "outputs": [
    {
     "data": {
      "text/plain": [
       "set"
      ]
     },
     "execution_count": 17,
     "metadata": {},
     "output_type": "execute_result"
    }
   ],
   "source": [
    "type(a)"
   ]
  },
  {
   "cell_type": "code",
   "execution_count": 19,
   "id": "6e50a358-35fd-4686-8b72-886748c9e6b9",
   "metadata": {},
   "outputs": [],
   "source": [
    "b={2,8,9}"
   ]
  },
  {
   "cell_type": "code",
   "execution_count": 27,
   "id": "608a60fd-f38b-4725-bd43-aef0dea83ecf",
   "metadata": {},
   "outputs": [
    {
     "data": {
      "text/plain": [
       "{1, 2, 3, 8, 9}"
      ]
     },
     "execution_count": 27,
     "metadata": {},
     "output_type": "execute_result"
    }
   ],
   "source": [
    "a.union(b)"
   ]
  },
  {
   "cell_type": "code",
   "execution_count": 29,
   "id": "75a374a5-732a-4dfc-999c-513db4df2fbe",
   "metadata": {},
   "outputs": [
    {
     "data": {
      "text/plain": [
       "{2}"
      ]
     },
     "execution_count": 29,
     "metadata": {},
     "output_type": "execute_result"
    }
   ],
   "source": [
    "a.intersection(b)"
   ]
  },
  {
   "cell_type": "code",
   "execution_count": null,
   "id": "e4bf7468-d972-4233-b039-05654be14131",
   "metadata": {},
   "outputs": [],
   "source": [
    "def()"
   ]
  }
 ],
 "metadata": {
  "kernelspec": {
   "display_name": "Python [conda env:base] *",
   "language": "python",
   "name": "conda-base-py"
  },
  "language_info": {
   "codemirror_mode": {
    "name": "ipython",
    "version": 3
   },
   "file_extension": ".py",
   "mimetype": "text/x-python",
   "name": "python",
   "nbconvert_exporter": "python",
   "pygments_lexer": "ipython3",
   "version": "3.12.7"
  }
 },
 "nbformat": 4,
 "nbformat_minor": 5
}
